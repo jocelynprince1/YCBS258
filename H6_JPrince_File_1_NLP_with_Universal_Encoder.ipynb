{
  "nbformat": 4,
  "nbformat_minor": 0,
  "metadata": {
    "kernelspec": {
      "name": "python3",
      "display_name": "Python 3"
    },
    "language_info": {
      "codemirror_mode": {
        "name": "ipython",
        "version": 3
      },
      "file_extension": ".py",
      "mimetype": "text/x-python",
      "name": "python",
      "nbconvert_exporter": "python",
      "pygments_lexer": "ipython3",
      "version": "3.5.3"
    },
    "colab": {
      "name": "H6 JPrince File 1 - NLP with Universal Encoder.ipynb",
      "provenance": [],
      "collapsed_sections": [
        "J70XJplDwVUB",
        "Wbj6HAAhwVUE",
        "K7QgHPaYwVUP",
        "5nSXSaiXwVUQ",
        "W9olGf-QwVUQ",
        "ZZWDiPKMwVUQ",
        "Jvw6Jr9ZwVUR"
      ],
      "toc_visible": true,
      "include_colab_link": true
    },
    "accelerator": "GPU"
  },
  "cells": [
    {
      "cell_type": "markdown",
      "metadata": {
        "id": "view-in-github",
        "colab_type": "text"
      },
      "source": [
        "<a href=\"https://colab.research.google.com/github/jocelynprince1/YCBS258/blob/master/H6_JPrince_File_1_NLP_with_Universal_Encoder.ipynb\" target=\"_parent\"><img src=\"https://colab.research.google.com/assets/colab-badge.svg\" alt=\"Open In Colab\"/></a>"
      ]
    },
    {
      "cell_type": "markdown",
      "metadata": {
        "id": "zJPvEnC3wVR8",
        "colab_type": "text"
      },
      "source": [
        "# Final Project - Homework #6 - Experimenting with NLP Tensorflow Hub modules (File 1 of 2)\n",
        "\n",
        "* File 1: Notebook that creates the models and save the model on the GCP AI platform\n",
        "* File 2: Notebook that is calling the services on GCP AI platform\n",
        "\n",
        "#### Submitted by Jocelyn Prince (2019/12/_--------------___________)\n",
        "---"
      ]
    },
    {
      "cell_type": "markdown",
      "metadata": {
        "id": "2n8AOQB19ZaV",
        "colab_type": "text"
      },
      "source": [
        "# TODO !!!!!!!!!!!!!!!!!!!!!!!!\n",
        "\n",
        "Check other Text Modules \n",
        "* Test with larger dataset"
      ]
    },
    {
      "cell_type": "markdown",
      "metadata": {
        "id": "j3PXQr6jwVR_",
        "colab_type": "text"
      },
      "source": [
        "## Sentiment Analysis Project - Post to medium\n",
        "#### NLP with the following Modules from Tensorflow Hub\n",
        "* tf2-preview/nnlm-en-dim128 Module\n",
        "* Universal Sentence Encoder\n",
        "\n",
        "\n",
        "### Description\n",
        "Deploying a model on Google's AI-Platform (also called ML Engine) and demonstrate the model returning a prediction.\n",
        "\n",
        "1. Use the free tier of GCP: https://cloud.google.com/free/\n",
        "2. Train a model using any dataset you want using keras, tensorflow, XGBoost or scikit-learn. You can do the training locally (or on colab)\n",
        "3. Deploy the model on GCP's AI-Platform\n",
        "4. Send a request to the AI-Platform and print out the prediction (File 2)\n",
        "\n",
        "---------------\n",
        "\n",
        "Details:\n",
        "* Dataset for training: Sentiment140 (source: http://help.sentiment140.com/for-students/)\n",
        "\n",
        "References:\n",
        "\n",
        "https://www.analyticsvidhya.com/blog/2019/03/learn-to-use-elmo-to-extract-features-from-text/\n",
        "\n",
        "https://arxiv.org/pdf/1802.05365.pdf\n",
        "\n",
        "https://colab.research.google.com/github/tensorflow/hub/blob/master/examples/colab/tf2_text_classification.ipynb#scrollTo=Eg62Pmz3o83v\n",
        "\n",
        "Aurélien Géron's book\n",
        "-----"
      ]
    },
    {
      "cell_type": "code",
      "metadata": {
        "id": "2SdkIyLkwvS5",
        "colab_type": "code",
        "colab": {}
      },
      "source": [
        "#!pip install --upgrade tensorflow"
      ],
      "execution_count": 0,
      "outputs": []
    },
    {
      "cell_type": "code",
      "metadata": {
        "id": "j3jSYsq3xivL",
        "colab_type": "code",
        "colab": {}
      },
      "source": [
        "#!pip install --upgrade scikit-learn"
      ],
      "execution_count": 0,
      "outputs": []
    },
    {
      "cell_type": "code",
      "metadata": {
        "id": "ebK2jkUSy2tD",
        "colab_type": "code",
        "outputId": "86f35d01-d6d3-4091-c2e3-93725b3fed28",
        "colab": {
          "base_uri": "https://localhost:8080/",
          "height": 139
        }
      },
      "source": [
        "from google.colab import drive\n",
        "drive.mount('/content/drive')"
      ],
      "execution_count": 12,
      "outputs": [
        {
          "output_type": "stream",
          "text": [
            "Go to this URL in a browser: https://accounts.google.com/o/oauth2/auth?client_id=947318989803-6bn6qk8qdgf4n4g3pfee6491hc0brc4i.apps.googleusercontent.com&redirect_uri=urn%3aietf%3awg%3aoauth%3a2.0%3aoob&response_type=code&scope=email%20https%3a%2f%2fwww.googleapis.com%2fauth%2fdocs.test%20https%3a%2f%2fwww.googleapis.com%2fauth%2fdrive%20https%3a%2f%2fwww.googleapis.com%2fauth%2fdrive.photos.readonly%20https%3a%2f%2fwww.googleapis.com%2fauth%2fpeopleapi.readonly\n",
            "\n",
            "Enter your authorization code:\n",
            "··········\n",
            "Mounted at /content/drive\n",
            "Drive already mounted at /content/drive; to attempt to forcibly remount, call drive.mount(\"/content/drive\", force_remount=True).\n"
          ],
          "name": "stdout"
        }
      ]
    },
    {
      "cell_type": "markdown",
      "metadata": {
        "id": "RWWK_HdOwVSA",
        "colab_type": "text"
      },
      "source": [
        "# Import Libraries"
      ]
    },
    {
      "cell_type": "code",
      "metadata": {
        "id": "plokcj6CwVSB",
        "colab_type": "code",
        "outputId": "fd1ccc97-31fc-4aca-a4e0-207a674a5ff8",
        "colab": {
          "base_uri": "https://localhost:8080/",
          "height": 34
        }
      },
      "source": [
        "# This Notebook needs to be executed under Python ≥3.5 and TensorFlow >= 2.0\n",
        "import sys\n",
        "assert sys.version_info >= (3, 5)\n",
        "import tensorflow as tf\n",
        "from tensorflow import keras\n",
        "assert tf.__version__ >= \"2.0\"\n",
        "\n",
        "# Minimum Requirement for Scikit-Learn ≥0.20 is required\n",
        "import sklearn\n",
        "assert sklearn.__version__ >= \"0.20\"\n",
        "\n",
        "try:\n",
        "    # %tensorflow_version only exists in Colab.\n",
        "    %tensorflow_version 2.x\n",
        "    !pip install -q -U tensorflow-addons\n",
        "    IS_COLAB = True\n",
        "except Exception:\n",
        "    IS_COLAB = False\n",
        "\n",
        "if not tf.test.is_gpu_available():\n",
        "    print(\"No GPU was detected. This code can be very slow without a GPU.\")\n",
        "    if IS_COLAB:\n",
        "        print(\"Go to Runtime > Change runtime and select a GPU hardware accelerator.\")\n",
        "\n",
        "# Common imports\n",
        "import time\n",
        "import pandas as pd\n",
        "import numpy as np\n",
        "import os\n",
        "\n",
        "# to make this notebook's output stable across runs\n",
        "np.random.seed(20)\n",
        "tf.random.set_seed(20)\n",
        "\n",
        "# To plot pretty figures\n",
        "%matplotlib inline\n",
        "import matplotlib as mpl\n",
        "import matplotlib.pyplot as plt\n",
        "mpl.rc('axes', labelsize=14)\n",
        "mpl.rc('xtick', labelsize=12)\n",
        "mpl.rc('ytick', labelsize=12)\n",
        "mpl.rcParams['figure.figsize'] = (8, 6)\n",
        "mpl.rcParams['axes.grid'] = False\n",
        "\n",
        "# Where to save the figures\n",
        "PROJECT_ROOT_DIR = \".\"\n",
        "FOLDER= \"rnn\"\n",
        "IMAGES_PATH = os.path.join(PROJECT_ROOT_DIR, \"images\", FOLDER)\n",
        "os.makedirs(IMAGES_PATH, exist_ok=True)\n",
        "\n",
        "def save_fig(fig_id, tight_layout=True, fig_extension=\"png\", resolution=300):\n",
        "    path = os.path.join(IMAGES_PATH, fig_id + \".\" + fig_extension)\n",
        "    print(\"Saving figure\", fig_id)\n",
        "    if tight_layout:\n",
        "        plt.tight_layout()\n",
        "    plt.savefig(path, format=fig_extension, dpi=resolution)"
      ],
      "execution_count": 0,
      "outputs": [
        {
          "output_type": "stream",
          "text": [
            "TensorFlow is already loaded. Please restart the runtime to change versions.\n"
          ],
          "name": "stdout"
        }
      ]
    },
    {
      "cell_type": "code",
      "metadata": {
        "id": "IYhwnfGNwVSE",
        "colab_type": "code",
        "outputId": "edc06145-d4de-4a6b-f626-9d524304a554",
        "colab": {
          "base_uri": "https://localhost:8080/",
          "height": 34
        }
      },
      "source": [
        "tf.__version__"
      ],
      "execution_count": 0,
      "outputs": [
        {
          "output_type": "execute_result",
          "data": {
            "text/plain": [
              "'2.0.0'"
            ]
          },
          "metadata": {
            "tags": []
          },
          "execution_count": 2
        }
      ]
    },
    {
      "cell_type": "code",
      "metadata": {
        "id": "o6_s80j-wVSH",
        "colab_type": "code",
        "outputId": "d0b51070-7cce-4f0a-ff26-8f79646e94a5",
        "colab": {
          "base_uri": "https://localhost:8080/",
          "height": 34
        }
      },
      "source": [
        "tf.test.is_gpu_available()"
      ],
      "execution_count": 0,
      "outputs": [
        {
          "output_type": "execute_result",
          "data": {
            "text/plain": [
              "True"
            ]
          },
          "metadata": {
            "tags": []
          },
          "execution_count": 3
        }
      ]
    },
    {
      "cell_type": "code",
      "metadata": {
        "id": "5HFJ0kmewVSJ",
        "colab_type": "code",
        "colab": {}
      },
      "source": [
        "# Tensorflow Imports\n",
        "import tensorflow_hub as hub\n",
        "from tensorflow import keras\n",
        "from tensorflow.keras import layers\n",
        "from tensorflow.keras.layers import Dense, Dropout\n",
        "from tensorflow.keras import optimizers"
      ],
      "execution_count": 0,
      "outputs": []
    },
    {
      "cell_type": "code",
      "metadata": {
        "id": "nOWr4QJtwVSL",
        "colab_type": "code",
        "outputId": "ae022658-9e56-44a7-fbd0-8c0e32a3760c",
        "colab": {
          "base_uri": "https://localhost:8080/",
          "height": 289
        }
      },
      "source": [
        "# The spacy module needs to be installed\n",
        "!pip install spacy --user"
      ],
      "execution_count": 0,
      "outputs": [
        {
          "output_type": "stream",
          "text": [
            "Requirement already satisfied: spacy in /usr/local/lib/python3.6/dist-packages (2.1.9)\n",
            "Requirement already satisfied: blis<0.3.0,>=0.2.2 in /usr/local/lib/python3.6/dist-packages (from spacy) (0.2.4)\n",
            "Requirement already satisfied: plac<1.0.0,>=0.9.6 in /usr/local/lib/python3.6/dist-packages (from spacy) (0.9.6)\n",
            "Requirement already satisfied: numpy>=1.15.0 in /usr/local/lib/python3.6/dist-packages (from spacy) (1.17.4)\n",
            "Requirement already satisfied: cymem<2.1.0,>=2.0.2 in /usr/local/lib/python3.6/dist-packages (from spacy) (2.0.3)\n",
            "Requirement already satisfied: preshed<2.1.0,>=2.0.1 in /usr/local/lib/python3.6/dist-packages (from spacy) (2.0.1)\n",
            "Requirement already satisfied: thinc<7.1.0,>=7.0.8 in /usr/local/lib/python3.6/dist-packages (from spacy) (7.0.8)\n",
            "Requirement already satisfied: srsly<1.1.0,>=0.0.6 in /usr/local/lib/python3.6/dist-packages (from spacy) (0.2.0)\n",
            "Requirement already satisfied: wasabi<1.1.0,>=0.2.0 in /usr/local/lib/python3.6/dist-packages (from spacy) (0.4.2)\n",
            "Requirement already satisfied: requests<3.0.0,>=2.13.0 in /usr/local/lib/python3.6/dist-packages (from spacy) (2.21.0)\n",
            "Requirement already satisfied: murmurhash<1.1.0,>=0.28.0 in /usr/local/lib/python3.6/dist-packages (from spacy) (1.0.2)\n",
            "Requirement already satisfied: tqdm<5.0.0,>=4.10.0 in /usr/local/lib/python3.6/dist-packages (from thinc<7.1.0,>=7.0.8->spacy) (4.28.1)\n",
            "Requirement already satisfied: certifi>=2017.4.17 in /usr/local/lib/python3.6/dist-packages (from requests<3.0.0,>=2.13.0->spacy) (2019.11.28)\n",
            "Requirement already satisfied: chardet<3.1.0,>=3.0.2 in /usr/local/lib/python3.6/dist-packages (from requests<3.0.0,>=2.13.0->spacy) (3.0.4)\n",
            "Requirement already satisfied: urllib3<1.25,>=1.21.1 in /usr/local/lib/python3.6/dist-packages (from requests<3.0.0,>=2.13.0->spacy) (1.24.3)\n",
            "Requirement already satisfied: idna<2.9,>=2.5 in /usr/local/lib/python3.6/dist-packages (from requests<3.0.0,>=2.13.0->spacy) (2.8)\n"
          ],
          "name": "stdout"
        }
      ]
    },
    {
      "cell_type": "code",
      "metadata": {
        "id": "522eqWzmwVSN",
        "colab_type": "code",
        "outputId": "317fbb1d-aff7-4d25-ee18-16d06ae08652",
        "colab": {
          "base_uri": "https://localhost:8080/",
          "height": 156
        }
      },
      "source": [
        "# The english module needs to be downloaded if not already\n",
        "!python3 -m spacy download en --user\n"
      ],
      "execution_count": 0,
      "outputs": [
        {
          "output_type": "stream",
          "text": [
            "Requirement already satisfied: en_core_web_sm==2.1.0 from https://github.com/explosion/spacy-models/releases/download/en_core_web_sm-2.1.0/en_core_web_sm-2.1.0.tar.gz#egg=en_core_web_sm==2.1.0 in /usr/local/lib/python3.6/dist-packages (2.1.0)\n",
            "\u001b[38;5;2m✔ Download and installation successful\u001b[0m\n",
            "You can now load the model via spacy.load('en_core_web_sm')\n",
            "\u001b[38;5;2m✔ Linking successful\u001b[0m\n",
            "/usr/local/lib/python3.6/dist-packages/en_core_web_sm -->\n",
            "/usr/local/lib/python3.6/dist-packages/spacy/data/en\n",
            "You can now load the model via spacy.load('en')\n"
          ],
          "name": "stdout"
        }
      ]
    },
    {
      "cell_type": "code",
      "metadata": {
        "id": "fsPPJ7GSwVSP",
        "colab_type": "code",
        "colab": {}
      },
      "source": [
        "# Import other common libraries\n",
        "from sklearn.preprocessing import MinMaxScaler\n",
        "from sklearn.model_selection import train_test_split\n",
        "from sklearn.preprocessing import LabelEncoder\n",
        "from sklearn.metrics import confusion_matrix\n",
        "from sklearn.metrics import accuracy_score \n",
        "import itertools\n",
        "import re\n",
        "import spacy"
      ],
      "execution_count": 0,
      "outputs": []
    },
    {
      "cell_type": "markdown",
      "metadata": {
        "id": "PnhiKv3swVSQ",
        "colab_type": "text"
      },
      "source": [
        "# Import Dataset: Sentiment140 Tweets\n"
      ]
    },
    {
      "cell_type": "code",
      "metadata": {
        "id": "X0pOwuJ50YQ4",
        "colab_type": "code",
        "colab": {}
      },
      "source": [
        "file = \"/content/drive/My Drive/Colab Notebooks/Final_Project/data/training.1600000.processed.noemoticon.csv\""
      ],
      "execution_count": 0,
      "outputs": []
    },
    {
      "cell_type": "code",
      "metadata": {
        "id": "-2zIJ-SewVSR",
        "colab_type": "code",
        "outputId": "82b3eddd-2d0e-40fd-b347-a3dbdd70252d",
        "colab": {
          "base_uri": "https://localhost:8080/",
          "height": 34
        }
      },
      "source": [
        "# Import data set\n",
        "\n",
        "columns = ['polarity','id','date','query_string','twitter_user','tweet']\n",
        "df = pd.read_csv(file,\n",
        "                 header=None, \n",
        "                 names=columns, \n",
        "                 encoding='latin-1')\n",
        "df.shape"
      ],
      "execution_count": 13,
      "outputs": [
        {
          "output_type": "execute_result",
          "data": {
            "text/plain": [
              "(1600000, 6)"
            ]
          },
          "metadata": {
            "tags": []
          },
          "execution_count": 13
        }
      ]
    },
    {
      "cell_type": "markdown",
      "metadata": {
        "id": "ODIGKgr2wVST",
        "colab_type": "text"
      },
      "source": [
        "# Explore Data"
      ]
    },
    {
      "cell_type": "code",
      "metadata": {
        "id": "nkXheD3IwVSU",
        "colab_type": "code",
        "outputId": "20148a12-c88b-4c08-ca34-5f92be7ce8bb",
        "colab": {
          "base_uri": "https://localhost:8080/",
          "height": 204
        }
      },
      "source": [
        "df.info()"
      ],
      "execution_count": 14,
      "outputs": [
        {
          "output_type": "stream",
          "text": [
            "<class 'pandas.core.frame.DataFrame'>\n",
            "RangeIndex: 1600000 entries, 0 to 1599999\n",
            "Data columns (total 6 columns):\n",
            "polarity        1600000 non-null int64\n",
            "id              1600000 non-null int64\n",
            "date            1600000 non-null object\n",
            "query_string    1600000 non-null object\n",
            "twitter_user    1600000 non-null object\n",
            "tweet           1600000 non-null object\n",
            "dtypes: int64(2), object(4)\n",
            "memory usage: 73.2+ MB\n"
          ],
          "name": "stdout"
        }
      ]
    },
    {
      "cell_type": "code",
      "metadata": {
        "id": "oSW3RcbYwVSW",
        "colab_type": "code",
        "outputId": "cde32a71-f8a1-45b5-a204-19c076931c65",
        "colab": {
          "base_uri": "https://localhost:8080/",
          "height": 297
        }
      },
      "source": [
        "df.describe()"
      ],
      "execution_count": 15,
      "outputs": [
        {
          "output_type": "execute_result",
          "data": {
            "text/html": [
              "<div>\n",
              "<style scoped>\n",
              "    .dataframe tbody tr th:only-of-type {\n",
              "        vertical-align: middle;\n",
              "    }\n",
              "\n",
              "    .dataframe tbody tr th {\n",
              "        vertical-align: top;\n",
              "    }\n",
              "\n",
              "    .dataframe thead th {\n",
              "        text-align: right;\n",
              "    }\n",
              "</style>\n",
              "<table border=\"1\" class=\"dataframe\">\n",
              "  <thead>\n",
              "    <tr style=\"text-align: right;\">\n",
              "      <th></th>\n",
              "      <th>polarity</th>\n",
              "      <th>id</th>\n",
              "    </tr>\n",
              "  </thead>\n",
              "  <tbody>\n",
              "    <tr>\n",
              "      <th>count</th>\n",
              "      <td>1.600000e+06</td>\n",
              "      <td>1.600000e+06</td>\n",
              "    </tr>\n",
              "    <tr>\n",
              "      <th>mean</th>\n",
              "      <td>2.000000e+00</td>\n",
              "      <td>1.998818e+09</td>\n",
              "    </tr>\n",
              "    <tr>\n",
              "      <th>std</th>\n",
              "      <td>2.000001e+00</td>\n",
              "      <td>1.935761e+08</td>\n",
              "    </tr>\n",
              "    <tr>\n",
              "      <th>min</th>\n",
              "      <td>0.000000e+00</td>\n",
              "      <td>1.467810e+09</td>\n",
              "    </tr>\n",
              "    <tr>\n",
              "      <th>25%</th>\n",
              "      <td>0.000000e+00</td>\n",
              "      <td>1.956916e+09</td>\n",
              "    </tr>\n",
              "    <tr>\n",
              "      <th>50%</th>\n",
              "      <td>2.000000e+00</td>\n",
              "      <td>2.002102e+09</td>\n",
              "    </tr>\n",
              "    <tr>\n",
              "      <th>75%</th>\n",
              "      <td>4.000000e+00</td>\n",
              "      <td>2.177059e+09</td>\n",
              "    </tr>\n",
              "    <tr>\n",
              "      <th>max</th>\n",
              "      <td>4.000000e+00</td>\n",
              "      <td>2.329206e+09</td>\n",
              "    </tr>\n",
              "  </tbody>\n",
              "</table>\n",
              "</div>"
            ],
            "text/plain": [
              "           polarity            id\n",
              "count  1.600000e+06  1.600000e+06\n",
              "mean   2.000000e+00  1.998818e+09\n",
              "std    2.000001e+00  1.935761e+08\n",
              "min    0.000000e+00  1.467810e+09\n",
              "25%    0.000000e+00  1.956916e+09\n",
              "50%    2.000000e+00  2.002102e+09\n",
              "75%    4.000000e+00  2.177059e+09\n",
              "max    4.000000e+00  2.329206e+09"
            ]
          },
          "metadata": {
            "tags": []
          },
          "execution_count": 15
        }
      ]
    },
    {
      "cell_type": "code",
      "metadata": {
        "id": "SaB9On80wVSX",
        "colab_type": "code",
        "outputId": "4e223124-4031-4d2f-b3f7-d3247a14642c",
        "colab": {
          "base_uri": "https://localhost:8080/",
          "height": 204
        }
      },
      "source": [
        "df.head()"
      ],
      "execution_count": 0,
      "outputs": [
        {
          "output_type": "execute_result",
          "data": {
            "text/html": [
              "<div>\n",
              "<style scoped>\n",
              "    .dataframe tbody tr th:only-of-type {\n",
              "        vertical-align: middle;\n",
              "    }\n",
              "\n",
              "    .dataframe tbody tr th {\n",
              "        vertical-align: top;\n",
              "    }\n",
              "\n",
              "    .dataframe thead th {\n",
              "        text-align: right;\n",
              "    }\n",
              "</style>\n",
              "<table border=\"1\" class=\"dataframe\">\n",
              "  <thead>\n",
              "    <tr style=\"text-align: right;\">\n",
              "      <th></th>\n",
              "      <th>polarity</th>\n",
              "      <th>id</th>\n",
              "      <th>date</th>\n",
              "      <th>query_string</th>\n",
              "      <th>twitter_user</th>\n",
              "      <th>tweet</th>\n",
              "    </tr>\n",
              "  </thead>\n",
              "  <tbody>\n",
              "    <tr>\n",
              "      <th>0</th>\n",
              "      <td>0</td>\n",
              "      <td>1467810369</td>\n",
              "      <td>Mon Apr 06 22:19:45 PDT 2009</td>\n",
              "      <td>NO_QUERY</td>\n",
              "      <td>_TheSpecialOne_</td>\n",
              "      <td>@switchfoot http://twitpic.com/2y1zl - Awww, t...</td>\n",
              "    </tr>\n",
              "    <tr>\n",
              "      <th>1</th>\n",
              "      <td>0</td>\n",
              "      <td>1467810672</td>\n",
              "      <td>Mon Apr 06 22:19:49 PDT 2009</td>\n",
              "      <td>NO_QUERY</td>\n",
              "      <td>scotthamilton</td>\n",
              "      <td>is upset that he can't update his Facebook by ...</td>\n",
              "    </tr>\n",
              "    <tr>\n",
              "      <th>2</th>\n",
              "      <td>0</td>\n",
              "      <td>1467810917</td>\n",
              "      <td>Mon Apr 06 22:19:53 PDT 2009</td>\n",
              "      <td>NO_QUERY</td>\n",
              "      <td>mattycus</td>\n",
              "      <td>@Kenichan I dived many times for the ball. Man...</td>\n",
              "    </tr>\n",
              "    <tr>\n",
              "      <th>3</th>\n",
              "      <td>0</td>\n",
              "      <td>1467811184</td>\n",
              "      <td>Mon Apr 06 22:19:57 PDT 2009</td>\n",
              "      <td>NO_QUERY</td>\n",
              "      <td>ElleCTF</td>\n",
              "      <td>my whole body feels itchy and like its on fire</td>\n",
              "    </tr>\n",
              "    <tr>\n",
              "      <th>4</th>\n",
              "      <td>0</td>\n",
              "      <td>1467811193</td>\n",
              "      <td>Mon Apr 06 22:19:57 PDT 2009</td>\n",
              "      <td>NO_QUERY</td>\n",
              "      <td>Karoli</td>\n",
              "      <td>@nationwideclass no, it's not behaving at all....</td>\n",
              "    </tr>\n",
              "  </tbody>\n",
              "</table>\n",
              "</div>"
            ],
            "text/plain": [
              "   polarity  ...                                              tweet\n",
              "0         0  ...  @switchfoot http://twitpic.com/2y1zl - Awww, t...\n",
              "1         0  ...  is upset that he can't update his Facebook by ...\n",
              "2         0  ...  @Kenichan I dived many times for the ball. Man...\n",
              "3         0  ...    my whole body feels itchy and like its on fire \n",
              "4         0  ...  @nationwideclass no, it's not behaving at all....\n",
              "\n",
              "[5 rows x 6 columns]"
            ]
          },
          "metadata": {
            "tags": []
          },
          "execution_count": 14
        }
      ]
    },
    {
      "cell_type": "code",
      "metadata": {
        "id": "sNm8JcOGwVSZ",
        "colab_type": "code",
        "outputId": "c68fe411-85fc-4021-d04f-b41bfdc79fa3",
        "colab": {
          "base_uri": "https://localhost:8080/",
          "height": 204
        }
      },
      "source": [
        "df.tweet[0:10]"
      ],
      "execution_count": 0,
      "outputs": [
        {
          "output_type": "execute_result",
          "data": {
            "text/plain": [
              "0    @switchfoot http://twitpic.com/2y1zl - Awww, t...\n",
              "1    is upset that he can't update his Facebook by ...\n",
              "2    @Kenichan I dived many times for the ball. Man...\n",
              "3      my whole body feels itchy and like its on fire \n",
              "4    @nationwideclass no, it's not behaving at all....\n",
              "5                        @Kwesidei not the whole crew \n",
              "6                                          Need a hug \n",
              "7    @LOLTrish hey  long time no see! Yes.. Rains a...\n",
              "8                 @Tatiana_K nope they didn't have it \n",
              "9                            @twittera que me muera ? \n",
              "Name: tweet, dtype: object"
            ]
          },
          "metadata": {
            "tags": []
          },
          "execution_count": 15
        }
      ]
    },
    {
      "cell_type": "markdown",
      "metadata": {
        "id": "0AvKcNexwVSb",
        "colab_type": "text"
      },
      "source": [
        "# Prepare X_train, y_train, X_test, y_test\n"
      ]
    },
    {
      "cell_type": "code",
      "metadata": {
        "id": "ZjmhCyNDwVSb",
        "colab_type": "code",
        "colab": {}
      },
      "source": [
        "train_set, test_set = train_test_split(df[[\"id\", \"tweet\", \"polarity\"]], test_size=0.2, random_state=20)\n"
      ],
      "execution_count": 0,
      "outputs": []
    },
    {
      "cell_type": "code",
      "metadata": {
        "id": "ZadysRC3wVSd",
        "colab_type": "code",
        "colab": {}
      },
      "source": [
        "X_train = train_set.drop(\"polarity\", axis=1) # drop labels for training set\n",
        "y_train = train_set[\"polarity\"].copy()"
      ],
      "execution_count": 0,
      "outputs": []
    },
    {
      "cell_type": "code",
      "metadata": {
        "id": "MgfiqQt9wVSe",
        "colab_type": "code",
        "colab": {}
      },
      "source": [
        "X_test = test_set.drop(\"polarity\", axis=1) # drop labels for testing datasset\n",
        "y_test = test_set[\"polarity\"].copy()"
      ],
      "execution_count": 0,
      "outputs": []
    },
    {
      "cell_type": "code",
      "metadata": {
        "id": "q4kaEa5SwVSg",
        "colab_type": "code",
        "colab": {}
      },
      "source": [
        "# take the first num records for development purposes\n",
        "NUMTRAIN = 10000\n",
        "NUMTEST = 2000\n",
        "X_train = X_train[:NUMTRAIN]\n",
        "X_test = X_test[:NUMTEST]\n",
        "y_train = y_train[:NUMTRAIN]\n",
        "y_test = y_test[:NUMTEST]"
      ],
      "execution_count": 0,
      "outputs": []
    },
    {
      "cell_type": "code",
      "metadata": {
        "id": "Se92l7Q-wVSh",
        "colab_type": "code",
        "outputId": "2bcc801e-6890-45db-eb33-90a6f64d6e68",
        "colab": {
          "base_uri": "https://localhost:8080/",
          "height": 85
        }
      },
      "source": [
        "print(\"X_train: \" + str(X_train.shape) + str(type(X_train)))\n",
        "print(\"X_test: \"+ str(X_test.shape))\n",
        "print(\"y_train: \"+ str(y_train.shape))\n",
        "print(\"y_test: \"+ str(y_test.shape))"
      ],
      "execution_count": 20,
      "outputs": [
        {
          "output_type": "stream",
          "text": [
            "X_train: (10000, 2)<class 'pandas.core.frame.DataFrame'>\n",
            "X_test: (2000, 2)\n",
            "y_train: (10000,)\n",
            "y_test: (2000,)\n"
          ],
          "name": "stdout"
        }
      ]
    },
    {
      "cell_type": "code",
      "metadata": {
        "id": "B5WSgSc2wVSj",
        "colab_type": "code",
        "outputId": "7a6ecaa4-455e-4d84-d890-7305a80a291e",
        "colab": {
          "base_uri": "https://localhost:8080/",
          "height": 238
        }
      },
      "source": [
        "print(type(y_train))\n",
        "print(y_train.describe)"
      ],
      "execution_count": 21,
      "outputs": [
        {
          "output_type": "stream",
          "text": [
            "<class 'pandas.core.series.Series'>\n",
            "<bound method NDFrame.describe of 519968     0\n",
            "387493     0\n",
            "208291     0\n",
            "945933     4\n",
            "1328534    4\n",
            "          ..\n",
            "923662     4\n",
            "214655     0\n",
            "1385214    4\n",
            "713652     0\n",
            "1521338    4\n",
            "Name: polarity, Length: 10000, dtype: int64>\n"
          ],
          "name": "stdout"
        }
      ]
    },
    {
      "cell_type": "code",
      "metadata": {
        "id": "6AIFHAJEwVSm",
        "colab_type": "code",
        "outputId": "c5868bf3-bed1-4835-ef7b-4de975e2d92b",
        "colab": {
          "base_uri": "https://localhost:8080/",
          "height": 803
        }
      },
      "source": [
        "train_set.hist([\"polarity\"])\n",
        "test_set.hist([\"polarity\"])"
      ],
      "execution_count": 22,
      "outputs": [
        {
          "output_type": "execute_result",
          "data": {
            "text/plain": [
              "array([[<matplotlib.axes._subplots.AxesSubplot object at 0x7f7d3ba28be0>]],\n",
              "      dtype=object)"
            ]
          },
          "metadata": {
            "tags": []
          },
          "execution_count": 22
        },
        {
          "output_type": "display_data",
          "data": {
            "image/png": "[encoded data removed]",
            "text/plain": [
              "<Figure size 576x432 with 1 Axes>"
            ]
          },
          "metadata": {
            "tags": []
          }
        },
        {
          "output_type": "display_data",
          "data": {
            "image/png": "[encoded data removed]",
            "text/plain": [
              "<Figure size 576x432 with 1 Axes>"
            ]
          },
          "metadata": {
            "tags": []
          }
        }
      ]
    },
    {
      "cell_type": "code",
      "metadata": {
        "id": "HuTudlIewVSo",
        "colab_type": "code",
        "outputId": "08106488-17f4-4fa0-8045-dbeac42c6ca8",
        "colab": {
          "base_uri": "https://localhost:8080/",
          "height": 68
        }
      },
      "source": [
        "label_encoder = LabelEncoder()\n",
        "y_train = label_encoder.fit_transform(y_train)\n",
        "y_test = label_encoder.fit_transform(y_test)                     \n",
        "y_train[:50]"
      ],
      "execution_count": 23,
      "outputs": [
        {
          "output_type": "execute_result",
          "data": {
            "text/plain": [
              "array([0, 0, 0, 1, 1, 1, 0, 1, 1, 1, 1, 1, 0, 0, 0, 0, 0, 0, 0, 0, 0, 1,\n",
              "       1, 1, 1, 1, 0, 0, 1, 1, 1, 1, 1, 0, 1, 0, 1, 0, 0, 1, 0, 1, 1, 1,\n",
              "       0, 1, 0, 0, 1, 0])"
            ]
          },
          "metadata": {
            "tags": []
          },
          "execution_count": 23
        }
      ]
    },
    {
      "cell_type": "code",
      "metadata": {
        "id": "OkLtyT19wVSq",
        "colab_type": "code",
        "colab": {}
      },
      "source": [
        "y_train = keras.utils.to_categorical(y_train)"
      ],
      "execution_count": 0,
      "outputs": []
    },
    {
      "cell_type": "code",
      "metadata": {
        "id": "DLu9IpLLwVSs",
        "colab_type": "code",
        "colab": {}
      },
      "source": [
        "y_test = keras.utils.to_categorical(y_test)"
      ],
      "execution_count": 0,
      "outputs": []
    },
    {
      "cell_type": "code",
      "metadata": {
        "id": "MBo-eAZ-wVSt",
        "colab_type": "code",
        "outputId": "7e64cbc5-9e80-4829-a7af-7f45fcc99318",
        "colab": {
          "base_uri": "https://localhost:8080/",
          "height": 102
        }
      },
      "source": [
        "y_train[0:5]"
      ],
      "execution_count": 26,
      "outputs": [
        {
          "output_type": "execute_result",
          "data": {
            "text/plain": [
              "array([[1., 0.],\n",
              "       [1., 0.],\n",
              "       [1., 0.],\n",
              "       [0., 1.],\n",
              "       [0., 1.]], dtype=float32)"
            ]
          },
          "metadata": {
            "tags": []
          },
          "execution_count": 26
        }
      ]
    },
    {
      "cell_type": "markdown",
      "metadata": {
        "id": "kCSa84enwVSz",
        "colab_type": "text"
      },
      "source": [
        "# Data Preprocessing"
      ]
    },
    {
      "cell_type": "markdown",
      "metadata": {
        "id": "vkFr3P3pwVS0",
        "colab_type": "text"
      },
      "source": [
        "### Function : Lemmatize (Normalize) Tweets"
      ]
    },
    {
      "cell_type": "code",
      "metadata": {
        "id": "rDKgcBS3wVS0",
        "colab_type": "code",
        "colab": {}
      },
      "source": [
        "# import spaCy's language model\n",
        "nlp = spacy.load('en', disable=['parser', 'ner'])\n",
        "\n",
        "# function to lemmatize text\n",
        "def lemmatization(texts):\n",
        "    output = []\n",
        "    for i in texts:\n",
        "        s = [token.lemma_ for token in nlp(i)]\n",
        "        output.append(' '.join(s))\n",
        "    return output"
      ],
      "execution_count": 0,
      "outputs": []
    },
    {
      "cell_type": "code",
      "metadata": {
        "id": "Sa1T1oCwwVS1",
        "colab_type": "code",
        "colab": {}
      },
      "source": [
        "def text_processing(tweet):\n",
        "    \n",
        "    # remove https links\n",
        "    clean_tweet = re.sub(r'http\\S+', '', tweet)\n",
        "    # remove punctuation marks\n",
        "    punctuation = '!\"#$%&()*+-/:;<=>?@[\\\\]^_`{|}~'\n",
        "    clean_tweet = ''.join(ch for ch in clean_tweet if ch not in set(punctuation))\n",
        "    # convert text to lowercase\n",
        "    clean_tweet = clean_tweet.lower()\n",
        "    # remove numbers\n",
        "    clean_tweet = re.sub('\\d', ' ', clean_tweet)\n",
        "    # remove whitespaces\n",
        "    clean_tweet = ' '.join(clean_tweet.split())\n",
        "    return clean_tweet"
      ],
      "execution_count": 0,
      "outputs": []
    },
    {
      "cell_type": "code",
      "metadata": {
        "id": "LKegVQatwVS3",
        "colab_type": "code",
        "colab": {}
      },
      "source": [
        "X_train['clean_tweet'] = X_train['tweet'].apply(lambda x: text_processing(x))\n",
        "X_test['clean_tweet'] = X_test['tweet'].apply(lambda x: text_processing(x))"
      ],
      "execution_count": 0,
      "outputs": []
    },
    {
      "cell_type": "code",
      "metadata": {
        "id": "s6vLJWUTwVS5",
        "colab_type": "code",
        "outputId": "f0ce415b-308a-48d6-a517-3c9ac573aadf",
        "colab": {
          "base_uri": "https://localhost:8080/",
          "height": 359
        }
      },
      "source": [
        "X_train.sample(10)"
      ],
      "execution_count": 30,
      "outputs": [
        {
          "output_type": "execute_result",
          "data": {
            "text/html": [
              "<div>\n",
              "<style scoped>\n",
              "    .dataframe tbody tr th:only-of-type {\n",
              "        vertical-align: middle;\n",
              "    }\n",
              "\n",
              "    .dataframe tbody tr th {\n",
              "        vertical-align: top;\n",
              "    }\n",
              "\n",
              "    .dataframe thead th {\n",
              "        text-align: right;\n",
              "    }\n",
              "</style>\n",
              "<table border=\"1\" class=\"dataframe\">\n",
              "  <thead>\n",
              "    <tr style=\"text-align: right;\">\n",
              "      <th></th>\n",
              "      <th>id</th>\n",
              "      <th>tweet</th>\n",
              "      <th>clean_tweet</th>\n",
              "    </tr>\n",
              "  </thead>\n",
              "  <tbody>\n",
              "    <tr>\n",
              "      <th>253417</th>\n",
              "      <td>1983982010</td>\n",
              "      <td>@bunnirific online im storage is full again!!</td>\n",
              "      <td>bunnirific online im storage is full again</td>\n",
              "    </tr>\n",
              "    <tr>\n",
              "      <th>1021648</th>\n",
              "      <td>1882619189</td>\n",
              "      <td>@goange Why so Sick?  Party too much last nite?</td>\n",
              "      <td>goange why so sick party too much last nite</td>\n",
              "    </tr>\n",
              "    <tr>\n",
              "      <th>756185</th>\n",
              "      <td>2288635230</td>\n",
              "      <td>I can't watch that show any more....</td>\n",
              "      <td>i can't watch that show any more....</td>\n",
              "    </tr>\n",
              "    <tr>\n",
              "      <th>1453955</th>\n",
              "      <td>2063279902</td>\n",
              "      <td>I am liking this wakeup twice a morning thing</td>\n",
              "      <td>i am liking this wakeup twice a morning thing</td>\n",
              "    </tr>\n",
              "    <tr>\n",
              "      <th>571373</th>\n",
              "      <td>2208806399</td>\n",
              "      <td>At the dr's office for an NST...</td>\n",
              "      <td>at the dr's office for an nst...</td>\n",
              "    </tr>\n",
              "    <tr>\n",
              "      <th>1131078</th>\n",
              "      <td>1975801751</td>\n",
              "      <td>heading to a fundraiser before the movie...sti...</td>\n",
              "      <td>heading to a fundraiser before the movie...sti...</td>\n",
              "    </tr>\n",
              "    <tr>\n",
              "      <th>932880</th>\n",
              "      <td>1771211724</td>\n",
              "      <td>I am thankful for the physio I'm going to toda...</td>\n",
              "      <td>i am thankful for the physio i'm going to toda...</td>\n",
              "    </tr>\n",
              "    <tr>\n",
              "      <th>415967</th>\n",
              "      <td>2061193534</td>\n",
              "      <td>@spahkleprincess NO! REALLY! When? and YAY!!!!...</td>\n",
              "      <td>spahkleprincess no really when and yay all my ...</td>\n",
              "    </tr>\n",
              "    <tr>\n",
              "      <th>140597</th>\n",
              "      <td>1881069045</td>\n",
              "      <td>doing dishes</td>\n",
              "      <td>doing dishes</td>\n",
              "    </tr>\n",
              "    <tr>\n",
              "      <th>72654</th>\n",
              "      <td>1694291069</td>\n",
              "      <td>@Joelsk_ Haha, if there was an mtub at my work...</td>\n",
              "      <td>joelsk haha, if there was an mtub at my work i...</td>\n",
              "    </tr>\n",
              "  </tbody>\n",
              "</table>\n",
              "</div>"
            ],
            "text/plain": [
              "                 id  ...                                        clean_tweet\n",
              "253417   1983982010  ...         bunnirific online im storage is full again\n",
              "1021648  1882619189  ...        goange why so sick party too much last nite\n",
              "756185   2288635230  ...               i can't watch that show any more....\n",
              "1453955  2063279902  ...      i am liking this wakeup twice a morning thing\n",
              "571373   2208806399  ...                   at the dr's office for an nst...\n",
              "1131078  1975801751  ...  heading to a fundraiser before the movie...sti...\n",
              "932880   1771211724  ...  i am thankful for the physio i'm going to toda...\n",
              "415967   2061193534  ...  spahkleprincess no really when and yay all my ...\n",
              "140597   1881069045  ...                                       doing dishes\n",
              "72654    1694291069  ...  joelsk haha, if there was an mtub at my work i...\n",
              "\n",
              "[10 rows x 3 columns]"
            ]
          },
          "metadata": {
            "tags": []
          },
          "execution_count": 30
        }
      ]
    },
    {
      "cell_type": "code",
      "metadata": {
        "id": "MJIdyuXLwVS6",
        "colab_type": "code",
        "outputId": "c858f5cb-7eb8-4d67-f461-f110469e4153",
        "colab": {
          "base_uri": "https://localhost:8080/",
          "height": 51
        }
      },
      "source": [
        "%%time\n",
        "X_train[\"clean_tweet\"] = lemmatization(X_train[\"clean_tweet\"])\n",
        "X_test['clean_tweet'] = lemmatization(X_test['clean_tweet'])"
      ],
      "execution_count": 31,
      "outputs": [
        {
          "output_type": "stream",
          "text": [
            "CPU times: user 40.3 s, sys: 60.9 ms, total: 40.4 s\n",
            "Wall time: 40.5 s\n"
          ],
          "name": "stdout"
        }
      ]
    },
    {
      "cell_type": "code",
      "metadata": {
        "id": "MgsbjpHQwVS8",
        "colab_type": "code",
        "outputId": "ce61818f-ccd1-449b-befd-881c1870838c",
        "colab": {
          "base_uri": "https://localhost:8080/",
          "height": 204
        }
      },
      "source": [
        "X_train.sample(5)"
      ],
      "execution_count": 32,
      "outputs": [
        {
          "output_type": "execute_result",
          "data": {
            "text/html": [
              "<div>\n",
              "<style scoped>\n",
              "    .dataframe tbody tr th:only-of-type {\n",
              "        vertical-align: middle;\n",
              "    }\n",
              "\n",
              "    .dataframe tbody tr th {\n",
              "        vertical-align: top;\n",
              "    }\n",
              "\n",
              "    .dataframe thead th {\n",
              "        text-align: right;\n",
              "    }\n",
              "</style>\n",
              "<table border=\"1\" class=\"dataframe\">\n",
              "  <thead>\n",
              "    <tr style=\"text-align: right;\">\n",
              "      <th></th>\n",
              "      <th>id</th>\n",
              "      <th>tweet</th>\n",
              "      <th>clean_tweet</th>\n",
              "    </tr>\n",
              "  </thead>\n",
              "  <tbody>\n",
              "    <tr>\n",
              "      <th>475152</th>\n",
              "      <td>2177519036</td>\n",
              "      <td>Gah, why does she want me to go in for four ho...</td>\n",
              "      <td>gah , why do -PRON- want -PRON- to go in for f...</td>\n",
              "    </tr>\n",
              "    <tr>\n",
              "      <th>1463417</th>\n",
              "      <td>2064128598</td>\n",
              "      <td>I'm mapping my feeds and cross-feeds in what c...</td>\n",
              "      <td>-PRON- be map -PRON- feed and crossfeed in wha...</td>\n",
              "    </tr>\n",
              "    <tr>\n",
              "      <th>562385</th>\n",
              "      <td>2205645615</td>\n",
              "      <td>@seratonation cant help but think he's upset a...</td>\n",
              "      <td>seratonation can not help but think -PRON- be ...</td>\n",
              "    </tr>\n",
              "    <tr>\n",
              "      <th>832168</th>\n",
              "      <td>1557554460</td>\n",
              "      <td>@Saffiter Nope, in a money tin.  I'm saving al...</td>\n",
              "      <td>saffiter nope , in a money tin . -PRON- be sav...</td>\n",
              "    </tr>\n",
              "    <tr>\n",
              "      <th>1057924</th>\n",
              "      <td>1962817997</td>\n",
              "      <td>@thatBTCH  yea do it or go honey blond like me</td>\n",
              "      <td>thatbtch yea do -PRON- or go honey blond like ...</td>\n",
              "    </tr>\n",
              "  </tbody>\n",
              "</table>\n",
              "</div>"
            ],
            "text/plain": [
              "                 id  ...                                        clean_tweet\n",
              "475152   2177519036  ...  gah , why do -PRON- want -PRON- to go in for f...\n",
              "1463417  2064128598  ...  -PRON- be map -PRON- feed and crossfeed in wha...\n",
              "562385   2205645615  ...  seratonation can not help but think -PRON- be ...\n",
              "832168   1557554460  ...  saffiter nope , in a money tin . -PRON- be sav...\n",
              "1057924  1962817997  ...  thatbtch yea do -PRON- or go honey blond like ...\n",
              "\n",
              "[5 rows x 3 columns]"
            ]
          },
          "metadata": {
            "tags": []
          },
          "execution_count": 32
        }
      ]
    },
    {
      "cell_type": "code",
      "metadata": {
        "id": "5Gr-Z20_wVS9",
        "colab_type": "code",
        "outputId": "378ad0cb-9250-41b4-e211-d0e5544a1eca",
        "colab": {
          "base_uri": "https://localhost:8080/",
          "height": 204
        }
      },
      "source": [
        "X_test.sample(5)"
      ],
      "execution_count": 33,
      "outputs": [
        {
          "output_type": "execute_result",
          "data": {
            "text/html": [
              "<div>\n",
              "<style scoped>\n",
              "    .dataframe tbody tr th:only-of-type {\n",
              "        vertical-align: middle;\n",
              "    }\n",
              "\n",
              "    .dataframe tbody tr th {\n",
              "        vertical-align: top;\n",
              "    }\n",
              "\n",
              "    .dataframe thead th {\n",
              "        text-align: right;\n",
              "    }\n",
              "</style>\n",
              "<table border=\"1\" class=\"dataframe\">\n",
              "  <thead>\n",
              "    <tr style=\"text-align: right;\">\n",
              "      <th></th>\n",
              "      <th>id</th>\n",
              "      <th>tweet</th>\n",
              "      <th>clean_tweet</th>\n",
              "    </tr>\n",
              "  </thead>\n",
              "  <tbody>\n",
              "    <tr>\n",
              "      <th>182634</th>\n",
              "      <td>1967196903</td>\n",
              "      <td>@JonathanRKnight Awww, poor Jon  What a longgg...</td>\n",
              "      <td>jonathanrknight awww , poor jon what a longggg...</td>\n",
              "    </tr>\n",
              "    <tr>\n",
              "      <th>1091603</th>\n",
              "      <td>1969900304</td>\n",
              "      <td>There should be a national twitter day where t...</td>\n",
              "      <td>there should be a national twitt day where -PR...</td>\n",
              "    </tr>\n",
              "    <tr>\n",
              "      <th>22242</th>\n",
              "      <td>1557444150</td>\n",
              "      <td>I should be out in the sunshine, but I'm insid...</td>\n",
              "      <td>i should be out in the sunshine , but -PRON- b...</td>\n",
              "    </tr>\n",
              "    <tr>\n",
              "      <th>876813</th>\n",
              "      <td>1684821211</td>\n",
              "      <td>i might go to ypsi</td>\n",
              "      <td>i may go to ypsi</td>\n",
              "    </tr>\n",
              "    <tr>\n",
              "      <th>218528</th>\n",
              "      <td>1976191369</td>\n",
              "      <td>@siltoso Can You See My PIc?? I Cant See it</td>\n",
              "      <td>siltoso can -PRON- see -PRON- pic i can not se...</td>\n",
              "    </tr>\n",
              "  </tbody>\n",
              "</table>\n",
              "</div>"
            ],
            "text/plain": [
              "                 id  ...                                        clean_tweet\n",
              "182634   1967196903  ...  jonathanrknight awww , poor jon what a longggg...\n",
              "1091603  1969900304  ...  there should be a national twitt day where -PR...\n",
              "22242    1557444150  ...  i should be out in the sunshine , but -PRON- b...\n",
              "876813   1684821211  ...                                   i may go to ypsi\n",
              "218528   1976191369  ...  siltoso can -PRON- see -PRON- pic i can not se...\n",
              "\n",
              "[5 rows x 3 columns]"
            ]
          },
          "metadata": {
            "tags": []
          },
          "execution_count": 33
        }
      ]
    },
    {
      "cell_type": "code",
      "metadata": {
        "id": "2eZHjXvhwVS_",
        "colab_type": "code",
        "colab": {}
      },
      "source": [
        "X_train = X_train[\"clean_tweet\"].values\n",
        "X_test = X_test[\"clean_tweet\"].values"
      ],
      "execution_count": 0,
      "outputs": []
    },
    {
      "cell_type": "code",
      "metadata": {
        "id": "qrB11P2PwVTB",
        "colab_type": "code",
        "outputId": "35bd1b11-c441-4da8-ffce-f7b19d6d749a",
        "colab": {
          "base_uri": "https://localhost:8080/",
          "height": 207
        }
      },
      "source": [
        "print(X_train[0:10])"
      ],
      "execution_count": 35,
      "outputs": [
        {
          "output_type": "stream",
          "text": [
            "['iluvshinything no be not -PRON- . i be wear a pink tank top , black pant and big teal sunglass . close though ha'\n",
            " \"-PRON- year old nephew just email -PRON- ask join -PRON- play mini golf , too bad i have breakfast amp meet amp greet in tyson 's so cute\"\n",
            " 'jscrinc -PRON- do not mess up'\n",
            " 'jennny -PRON- be go to be jealous of -PRON- new iphone theme'\n",
            " 'billharper yes , -PRON- be there be nothing like fresh fruit for lunch'\n",
            " 'back from church , soooooo cold outside even though -PRON- look lovely and warm , instal manga studio now'\n",
            " 'youngq yesterday be ice cream day .. awww'\n",
            " 'i love jamie camille antonio happy year and month'\n",
            " 'iremember ... gun n rose . omg -PRON- be the shit especially slash'\n",
            " 'still rain , and there be a torrent of water from the roof right outside -PRON- bedroom window sound like an elephant have a pee']\n"
          ],
          "name": "stdout"
        }
      ]
    },
    {
      "cell_type": "markdown",
      "metadata": {
        "id": "mzWKbfihwVTC",
        "colab_type": "text"
      },
      "source": [
        "# Create Model using tf.hub: nnlm-en-dim128"
      ]
    },
    {
      "cell_type": "code",
      "metadata": {
        "id": "th0drHQrwVTC",
        "colab_type": "code",
        "outputId": "ead7e573-c747-4f6b-a734-8ca4f2c0a628",
        "colab": {
          "base_uri": "https://localhost:8080/",
          "height": 289
        }
      },
      "source": [
        "hub_layer1 = hub.KerasLayer(\"https://tfhub.dev/google/nnlm-en-dim128/2\", output_shape=[128], \n",
        "                           input_shape=[], \n",
        "                           dtype=tf.string\n",
        "                          )\n",
        "model = keras.Sequential()\n",
        "model.add(hub_layer1)\n",
        "model.add(keras.layers.Dense(32, activation='relu'))\n",
        "model.add(keras.layers.Dropout(0.5))\n",
        "model.add(keras.layers.Dense(2, activation='softmax'))\n",
        "\n",
        "model.summary()"
      ],
      "execution_count": 78,
      "outputs": [
        {
          "output_type": "stream",
          "text": [
            "Model: \"sequential_2\"\n",
            "_________________________________________________________________\n",
            "Layer (type)                 Output Shape              Param #   \n",
            "=================================================================\n",
            "keras_layer_2 (KerasLayer)   (None, 128)               124642688 \n",
            "_________________________________________________________________\n",
            "dense_4 (Dense)              (None, 32)                4128      \n",
            "_________________________________________________________________\n",
            "dropout_2 (Dropout)          (None, 32)                0         \n",
            "_________________________________________________________________\n",
            "dense_5 (Dense)              (None, 2)                 66        \n",
            "=================================================================\n",
            "Total params: 124,646,882\n",
            "Trainable params: 4,194\n",
            "Non-trainable params: 124,642,688\n",
            "_________________________________________________________________\n"
          ],
          "name": "stdout"
        }
      ]
    },
    {
      "cell_type": "code",
      "metadata": {
        "id": "tjVitF9_wVTE",
        "colab_type": "code",
        "colab": {}
      },
      "source": [
        "model.compile(loss='categorical_crossentropy', optimizer='adam', metrics=['accuracy'])"
      ],
      "execution_count": 0,
      "outputs": []
    },
    {
      "cell_type": "code",
      "metadata": {
        "id": "bxPDNeKxwVTG",
        "colab_type": "code",
        "outputId": "bec89f31-7c84-41e6-f230-51aca3726055",
        "colab": {
          "base_uri": "https://localhost:8080/",
          "height": 176
        }
      },
      "source": [
        "keras.utils.plot_model(model, \n",
        "                       #to_file='model.png',\n",
        "                      show_shapes=True, show_layer_names=True, rankdir='LR', expand_nested=False, dpi=128)"
      ],
      "execution_count": 0,
      "outputs": [
        {
          "output_type": "execute_result",
          "data": {
            "image/png": "[encoded data removed]",
            "text/plain": [
              "<IPython.core.display.Image object>"
            ]
          },
          "metadata": {
            "tags": []
          },
          "execution_count": 39
        }
      ]
    },
    {
      "cell_type": "markdown",
      "metadata": {
        "id": "SvDqk7O9wVTH",
        "colab_type": "text"
      },
      "source": [
        "# Execute Model"
      ]
    },
    {
      "cell_type": "code",
      "metadata": {
        "id": "Bz6ZbkvcwVTH",
        "colab_type": "code",
        "outputId": "541097aa-2a2f-48c4-dbae-30c65433cf4d",
        "colab": {
          "base_uri": "https://localhost:8080/",
          "height": 1000
        }
      },
      "source": [
        "%%time\n",
        "hist = model.fit(X_train, \n",
        "                 y_train, \n",
        "                 epochs=70, \n",
        "                 batch_size=32, \n",
        "                 # callbacks=callbacks, \n",
        "                 # validation_split=0.1, \n",
        "                 verbose = 1)"
      ],
      "execution_count": 80,
      "outputs": [
        {
          "output_type": "stream",
          "text": [
            "Train on 10000 samples\n",
            "Epoch 1/70\n",
            "10000/10000 [==============================] - 2s 224us/sample - loss: 0.6568 - accuracy: 0.6009\n",
            "Epoch 2/70\n",
            "10000/10000 [==============================] - 2s 174us/sample - loss: 0.5972 - accuracy: 0.6869\n",
            "Epoch 3/70\n",
            "10000/10000 [==============================] - 2s 179us/sample - loss: 0.5789 - accuracy: 0.7014\n",
            "Epoch 4/70\n",
            "10000/10000 [==============================] - 2s 177us/sample - loss: 0.5673 - accuracy: 0.7117\n",
            "Epoch 5/70\n",
            "10000/10000 [==============================] - 2s 175us/sample - loss: 0.5604 - accuracy: 0.7133\n",
            "Epoch 6/70\n",
            "10000/10000 [==============================] - 2s 175us/sample - loss: 0.5581 - accuracy: 0.7157\n",
            "Epoch 7/70\n",
            "10000/10000 [==============================] - 2s 174us/sample - loss: 0.5509 - accuracy: 0.7196\n",
            "Epoch 8/70\n",
            "10000/10000 [==============================] - 2s 174us/sample - loss: 0.5475 - accuracy: 0.7218\n",
            "Epoch 9/70\n",
            "10000/10000 [==============================] - 2s 176us/sample - loss: 0.5447 - accuracy: 0.7275\n",
            "Epoch 10/70\n",
            "10000/10000 [==============================] - 2s 174us/sample - loss: 0.5403 - accuracy: 0.7293\n",
            "Epoch 11/70\n",
            "10000/10000 [==============================] - 2s 179us/sample - loss: 0.5385 - accuracy: 0.7288\n",
            "Epoch 12/70\n",
            "10000/10000 [==============================] - 2s 178us/sample - loss: 0.5403 - accuracy: 0.7228\n",
            "Epoch 13/70\n",
            "10000/10000 [==============================] - 2s 175us/sample - loss: 0.5359 - accuracy: 0.7337\n",
            "Epoch 14/70\n",
            "10000/10000 [==============================] - 2s 175us/sample - loss: 0.5371 - accuracy: 0.7303\n",
            "Epoch 15/70\n",
            "10000/10000 [==============================] - 2s 177us/sample - loss: 0.5330 - accuracy: 0.7345\n",
            "Epoch 16/70\n",
            "10000/10000 [==============================] - 2s 174us/sample - loss: 0.5307 - accuracy: 0.7370\n",
            "Epoch 17/70\n",
            "10000/10000 [==============================] - 2s 172us/sample - loss: 0.5344 - accuracy: 0.7326\n",
            "Epoch 18/70\n",
            "10000/10000 [==============================] - 2s 173us/sample - loss: 0.5305 - accuracy: 0.7368\n",
            "Epoch 19/70\n",
            "10000/10000 [==============================] - 2s 179us/sample - loss: 0.5303 - accuracy: 0.7376\n",
            "Epoch 20/70\n",
            "10000/10000 [==============================] - 2s 173us/sample - loss: 0.5249 - accuracy: 0.7393\n",
            "Epoch 21/70\n",
            "10000/10000 [==============================] - 2s 176us/sample - loss: 0.5238 - accuracy: 0.7449\n",
            "Epoch 22/70\n",
            "10000/10000 [==============================] - 2s 175us/sample - loss: 0.5248 - accuracy: 0.7426\n",
            "Epoch 23/70\n",
            "10000/10000 [==============================] - 2s 172us/sample - loss: 0.5232 - accuracy: 0.7440\n",
            "Epoch 24/70\n",
            "10000/10000 [==============================] - 2s 173us/sample - loss: 0.5223 - accuracy: 0.7416\n",
            "Epoch 25/70\n",
            "10000/10000 [==============================] - 2s 176us/sample - loss: 0.5202 - accuracy: 0.7400\n",
            "Epoch 26/70\n",
            "10000/10000 [==============================] - 2s 174us/sample - loss: 0.5192 - accuracy: 0.7426\n",
            "Epoch 27/70\n",
            "10000/10000 [==============================] - 2s 179us/sample - loss: 0.5149 - accuracy: 0.7494\n",
            "Epoch 28/70\n",
            "10000/10000 [==============================] - 2s 175us/sample - loss: 0.5208 - accuracy: 0.7449\n",
            "Epoch 29/70\n",
            "10000/10000 [==============================] - 2s 176us/sample - loss: 0.5158 - accuracy: 0.7507\n",
            "Epoch 30/70\n",
            "10000/10000 [==============================] - 2s 175us/sample - loss: 0.5071 - accuracy: 0.7528\n",
            "Epoch 31/70\n",
            "10000/10000 [==============================] - 2s 175us/sample - loss: 0.5132 - accuracy: 0.7485\n",
            "Epoch 32/70\n",
            "10000/10000 [==============================] - 2s 174us/sample - loss: 0.5140 - accuracy: 0.7493\n",
            "Epoch 33/70\n",
            "10000/10000 [==============================] - 2s 176us/sample - loss: 0.5062 - accuracy: 0.7541\n",
            "Epoch 34/70\n",
            "10000/10000 [==============================] - 2s 175us/sample - loss: 0.5076 - accuracy: 0.7552\n",
            "Epoch 35/70\n",
            "10000/10000 [==============================] - 2s 173us/sample - loss: 0.5091 - accuracy: 0.7524\n",
            "Epoch 36/70\n",
            "10000/10000 [==============================] - 2s 174us/sample - loss: 0.5077 - accuracy: 0.7544\n",
            "Epoch 37/70\n",
            "10000/10000 [==============================] - 2s 176us/sample - loss: 0.5041 - accuracy: 0.7560\n",
            "Epoch 38/70\n",
            "10000/10000 [==============================] - 2s 174us/sample - loss: 0.5033 - accuracy: 0.7518\n",
            "Epoch 39/70\n",
            "10000/10000 [==============================] - 2s 177us/sample - loss: 0.5035 - accuracy: 0.7530\n",
            "Epoch 40/70\n",
            "10000/10000 [==============================] - 2s 173us/sample - loss: 0.5043 - accuracy: 0.7566\n",
            "Epoch 41/70\n",
            "10000/10000 [==============================] - 2s 174us/sample - loss: 0.5059 - accuracy: 0.7559\n",
            "Epoch 42/70\n",
            "10000/10000 [==============================] - 2s 175us/sample - loss: 0.4973 - accuracy: 0.7555\n",
            "Epoch 43/70\n",
            "10000/10000 [==============================] - 2s 174us/sample - loss: 0.5018 - accuracy: 0.7518\n",
            "Epoch 44/70\n",
            "10000/10000 [==============================] - 2s 177us/sample - loss: 0.4993 - accuracy: 0.7552\n",
            "Epoch 45/70\n",
            "10000/10000 [==============================] - 2s 180us/sample - loss: 0.5015 - accuracy: 0.7599\n",
            "Epoch 46/70\n",
            "10000/10000 [==============================] - 2s 176us/sample - loss: 0.4946 - accuracy: 0.7623\n",
            "Epoch 47/70\n",
            "10000/10000 [==============================] - 2s 172us/sample - loss: 0.4980 - accuracy: 0.7593\n",
            "Epoch 48/70\n",
            "10000/10000 [==============================] - 2s 173us/sample - loss: 0.4977 - accuracy: 0.7559\n",
            "Epoch 49/70\n",
            "10000/10000 [==============================] - 2s 169us/sample - loss: 0.4950 - accuracy: 0.7634\n",
            "Epoch 50/70\n",
            "10000/10000 [==============================] - 2s 173us/sample - loss: 0.4895 - accuracy: 0.7672\n",
            "Epoch 51/70\n",
            "10000/10000 [==============================] - 2s 175us/sample - loss: 0.4932 - accuracy: 0.7617\n",
            "Epoch 52/70\n",
            "10000/10000 [==============================] - 2s 172us/sample - loss: 0.4909 - accuracy: 0.7639\n",
            "Epoch 53/70\n",
            "10000/10000 [==============================] - 2s 173us/sample - loss: 0.4898 - accuracy: 0.7588\n",
            "Epoch 54/70\n",
            "10000/10000 [==============================] - 2s 176us/sample - loss: 0.4917 - accuracy: 0.7675\n",
            "Epoch 55/70\n",
            "10000/10000 [==============================] - 2s 172us/sample - loss: 0.4897 - accuracy: 0.7622\n",
            "Epoch 56/70\n",
            "10000/10000 [==============================] - 2s 174us/sample - loss: 0.4841 - accuracy: 0.7690\n",
            "Epoch 57/70\n",
            "10000/10000 [==============================] - 2s 178us/sample - loss: 0.4905 - accuracy: 0.7631\n",
            "Epoch 58/70\n",
            "10000/10000 [==============================] - 2s 175us/sample - loss: 0.4827 - accuracy: 0.7662\n",
            "Epoch 59/70\n",
            "10000/10000 [==============================] - 2s 173us/sample - loss: 0.4860 - accuracy: 0.7640\n",
            "Epoch 60/70\n",
            "10000/10000 [==============================] - 2s 171us/sample - loss: 0.4828 - accuracy: 0.7627\n",
            "Epoch 61/70\n",
            "10000/10000 [==============================] - 2s 174us/sample - loss: 0.4860 - accuracy: 0.7666\n",
            "Epoch 62/70\n",
            "10000/10000 [==============================] - 2s 171us/sample - loss: 0.4841 - accuracy: 0.7696\n",
            "Epoch 63/70\n",
            "10000/10000 [==============================] - 2s 178us/sample - loss: 0.4815 - accuracy: 0.7665\n",
            "Epoch 64/70\n",
            "10000/10000 [==============================] - 2s 171us/sample - loss: 0.4784 - accuracy: 0.7678\n",
            "Epoch 65/70\n",
            "10000/10000 [==============================] - 2s 174us/sample - loss: 0.4796 - accuracy: 0.7669\n",
            "Epoch 66/70\n",
            "10000/10000 [==============================] - 2s 175us/sample - loss: 0.4789 - accuracy: 0.7664\n",
            "Epoch 67/70\n",
            "10000/10000 [==============================] - 2s 172us/sample - loss: 0.4799 - accuracy: 0.7672\n",
            "Epoch 68/70\n",
            "10000/10000 [==============================] - 2s 174us/sample - loss: 0.4774 - accuracy: 0.7659\n",
            "Epoch 69/70\n",
            "10000/10000 [==============================] - 2s 179us/sample - loss: 0.4804 - accuracy: 0.7665\n",
            "Epoch 70/70\n",
            "10000/10000 [==============================] - 2s 173us/sample - loss: 0.4751 - accuracy: 0.7736\n",
            "CPU times: user 2min 30s, sys: 17.6 s, total: 2min 48s\n",
            "Wall time: 2min 2s\n"
          ],
          "name": "stdout"
        }
      ]
    },
    {
      "cell_type": "code",
      "metadata": {
        "id": "N7ntRSvVwVTI",
        "colab_type": "code",
        "outputId": "95b8641e-fba0-453e-fa38-081a15551a60",
        "colab": {
          "base_uri": "https://localhost:8080/",
          "height": 612
        }
      },
      "source": [
        "pd.DataFrame(hist.history).plot(figsize=(10,10))\n",
        "plt.grid(True)\n",
        "plt.show"
      ],
      "execution_count": 81,
      "outputs": [
        {
          "output_type": "execute_result",
          "data": {
            "text/plain": [
              "<function matplotlib.pyplot.show>"
            ]
          },
          "metadata": {
            "tags": []
          },
          "execution_count": 81
        },
        {
          "output_type": "display_data",
          "data": {
            "image/png": "[encoded data removed]",
            "text/plain": [
              "<Figure size 720x720 with 1 Axes>"
            ]
          },
          "metadata": {
            "tags": []
          }
        }
      ]
    },
    {
      "cell_type": "markdown",
      "metadata": {
        "id": "tBxcEWI0wVTK",
        "colab_type": "text"
      },
      "source": [
        "# Evaluate Model"
      ]
    },
    {
      "cell_type": "code",
      "metadata": {
        "id": "CkCDpk9UwVTK",
        "colab_type": "code",
        "outputId": "844811c3-396b-4766-afac-e4908c330fd7",
        "colab": {
          "base_uri": "https://localhost:8080/",
          "height": 51
        }
      },
      "source": [
        "accuracy_test = model.evaluate(X_test, y_test, verbose=2)\n",
        "print(accuracy_test)"
      ],
      "execution_count": 82,
      "outputs": [
        {
          "output_type": "stream",
          "text": [
            "2000/1 - 0s - loss: 0.7273 - accuracy: 0.7335\n",
            "[0.552195641040802, 0.7335]\n"
          ],
          "name": "stdout"
        }
      ]
    },
    {
      "cell_type": "code",
      "metadata": {
        "id": "9Z-cB2bFwVTL",
        "colab_type": "code",
        "colab": {}
      },
      "source": [
        "print(X_train[0:10])"
      ],
      "execution_count": 0,
      "outputs": []
    },
    {
      "cell_type": "code",
      "metadata": {
        "id": "XEuBNR25wVTM",
        "colab_type": "code",
        "outputId": "b84d581c-0bf5-4fc6-8648-7adf0f48d8af",
        "colab": {
          "base_uri": "https://localhost:8080/",
          "height": 187
        }
      },
      "source": [
        "predictions = model.predict(X_train[:10], batch_size=None, verbose=0)\n",
        "print(predictions.round(0))"
      ],
      "execution_count": 84,
      "outputs": [
        {
          "output_type": "stream",
          "text": [
            "[[1. 0.]\n",
            " [0. 1.]\n",
            " [1. 0.]\n",
            " [0. 1.]\n",
            " [0. 1.]\n",
            " [0. 1.]\n",
            " [0. 1.]\n",
            " [0. 1.]\n",
            " [1. 0.]\n",
            " [0. 1.]]\n"
          ],
          "name": "stdout"
        }
      ]
    },
    {
      "cell_type": "code",
      "metadata": {
        "id": "3uQbWTA6wVTO",
        "colab_type": "code",
        "outputId": "79d9b607-45e5-4a13-eb9d-d3fa8a82ebff",
        "colab": {
          "base_uri": "https://localhost:8080/",
          "height": 187
        }
      },
      "source": [
        "print(y_train[:10])"
      ],
      "execution_count": 85,
      "outputs": [
        {
          "output_type": "stream",
          "text": [
            "[[1. 0.]\n",
            " [1. 0.]\n",
            " [1. 0.]\n",
            " [0. 1.]\n",
            " [0. 1.]\n",
            " [0. 1.]\n",
            " [1. 0.]\n",
            " [0. 1.]\n",
            " [0. 1.]\n",
            " [0. 1.]]\n"
          ],
          "name": "stdout"
        }
      ]
    },
    {
      "cell_type": "markdown",
      "metadata": {
        "id": "j2ESaAjdwVTQ",
        "colab_type": "text"
      },
      "source": [
        "# Confusion Matrix"
      ]
    },
    {
      "cell_type": "code",
      "metadata": {
        "id": "Zq8q6kxYwVTQ",
        "colab_type": "code",
        "colab": {}
      },
      "source": [
        "def plot_confusion_matrix(cm, \n",
        "                          classes, \n",
        "                          normalize=False,\n",
        "                          title='Confusion matrix', \n",
        "                          cmap=plt.cm.Blues):\n",
        "# This function prints and plots the confusion matrix. Normalization can be applied by setting `normalize=True`\n",
        "\n",
        "    if normalize:\n",
        "        cm = cm.astype('float') / cm.sum(axis=1)[:, np.newaxis]\n",
        "        # print(\"Normalized confusion matrix\") # print(cm)\n",
        "\n",
        "    plt.imshow(cm, interpolation='nearest', cmap=cmap) \n",
        "    plt.title(title)\n",
        "    plt.colorbar()\n",
        "\n",
        "    tick_marks = np.arange(len(classes)) \n",
        "    plt.xticks(tick_marks, classes, rotation=45) \n",
        "    plt.yticks(tick_marks, classes)\n",
        "\n",
        "    fmt = '.2f' if normalize else 'd'\n",
        "    thresh = cm.max() / 2.\n",
        "    for i, j in itertools.product(range(cm.shape[0]), range(cm.shape[1])):\n",
        "        plt.text(j, i, format(cm[i, j], fmt), \n",
        "                 horizontalalignment=\"center\",\n",
        "                 color=\"white\" if cm[i, j] > thresh else \"black\")\n",
        "        plt.tight_layout() \n",
        "        plt.ylabel('True label') \n",
        "        plt.xlabel('Predicted label')"
      ],
      "execution_count": 0,
      "outputs": []
    },
    {
      "cell_type": "code",
      "metadata": {
        "id": "Bo1pj-tewVTS",
        "colab_type": "code",
        "colab": {}
      },
      "source": [
        "# np.argmax Returns the indices of the maximum values along an axis. \n",
        "y_test_rounded = np.argmax(y_test, axis=1)\n",
        "y_train_rounded = np.argmax(y_train, axis=1)"
      ],
      "execution_count": 0,
      "outputs": []
    },
    {
      "cell_type": "code",
      "metadata": {
        "id": "AZqJ1ZgKwVTT",
        "colab_type": "code",
        "colab": {}
      },
      "source": [
        "y_pred = model.predict(X_train)\n",
        "y_pred_rounded = np.argmax(y_pred, axis=1)"
      ],
      "execution_count": 0,
      "outputs": []
    },
    {
      "cell_type": "code",
      "metadata": {
        "id": "t1VSl2LEwVTV",
        "colab_type": "code",
        "colab": {}
      },
      "source": [
        "cmResults = confusion_matrix(y_train_rounded, y_pred_rounded)\n",
        "accuracy = accuracy_score(y_train_rounded, y_pred_rounded)"
      ],
      "execution_count": 0,
      "outputs": []
    },
    {
      "cell_type": "code",
      "metadata": {
        "id": "UWc_zkA9wVTW",
        "colab_type": "code",
        "outputId": "840d0b7e-13c2-42ba-f49e-eb38920506c3",
        "colab": {
          "base_uri": "https://localhost:8080/",
          "height": 513
        }
      },
      "source": [
        "# Plot non-normalized confusion matrix \n",
        "class_names = ['Negative', 'Positive']\n",
        "plt.figure(figsize=(7,7));\n",
        "plot_confusion_matrix(cmResults, classes=class_names, title='Confusion matrix (Train Data).' + \" Accuracy: \" + str(accuracy.round(3)*100) + \"%\" );"
      ],
      "execution_count": 89,
      "outputs": [
        {
          "output_type": "display_data",
          "data": {
            "image/png": "[encoded data removed]",
            "text/plain": [
              "<Figure size 504x504 with 2 Axes>"
            ]
          },
          "metadata": {
            "tags": []
          }
        }
      ]
    },
    {
      "cell_type": "code",
      "metadata": {
        "id": "m1cbFmOSwVTX",
        "colab_type": "code",
        "colab": {}
      },
      "source": [
        "y_pred = model.predict(X_test)\n",
        "y_pred_rounded = np.argmax(y_pred, axis=1)\n",
        "cmResults = confusion_matrix(y_test_rounded, y_pred_rounded)\n",
        "accuracy = accuracy_score(y_test_rounded, y_pred_rounded)"
      ],
      "execution_count": 0,
      "outputs": []
    },
    {
      "cell_type": "code",
      "metadata": {
        "id": "j__4lgy1wVTY",
        "colab_type": "code",
        "outputId": "659bb2b8-35e2-4e26-c951-69421b2aa97f",
        "colab": {
          "base_uri": "https://localhost:8080/",
          "height": 513
        }
      },
      "source": [
        "# Plot non-normalized confusion matrix \n",
        "plt.figure(figsize=(7,7));\n",
        "plot_confusion_matrix(cmResults, classes=class_names, title='Confusion matrix (Test Data).' + \" Accuracy: \" + str(accuracy.round(3)*100) + \"%\" );"
      ],
      "execution_count": 91,
      "outputs": [
        {
          "output_type": "display_data",
          "data": {
            "image/png": "[encoded data removed]",
            "text/plain": [
              "<Figure size 504x504 with 2 Axes>"
            ]
          },
          "metadata": {
            "tags": []
          }
        }
      ]
    },
    {
      "cell_type": "markdown",
      "metadata": {
        "id": "8YECZ6SbwVTa",
        "colab_type": "text"
      },
      "source": [
        "# Test the Model with some sentences"
      ]
    },
    {
      "cell_type": "code",
      "metadata": {
        "id": "tiKcBX81wVTa",
        "colab_type": "code",
        "colab": {}
      },
      "source": [
        "# Create input tweets for testing the sentiment model \n",
        "tweets = {'tweet':['The seat was comfortable! and the bathroom was clean and food was great...',\n",
        "                    'The flight attendant was nice ### but the temperature was cold ---',\n",
        "                    'The movie was not funny at all and the drinks were very bad...',\n",
        "                    'huh uhgyrt jjkoj . g red jgh kh kj k',\n",
        "                    'I was told that the flight would be bad but actually it was very good, thanks US Ailine',\n",
        "                    'I was told that the flight would be good but actually it was very bad, thanks US Ailine',\n",
        "                    'It would be nice if the weather was better in Montreal *&&%&*&##!1',\n",
        "                    'The Montreal hockey team is working very hard to be in the playoffs'\n",
        "                   ],\n",
        "          'sentiments':['positive',\n",
        "                       'positive',\n",
        "                       'negative',\n",
        "                       'negative',\n",
        "                       'positive',\n",
        "                       'negative',\n",
        "                       'negative',\n",
        "                       'positive'\n",
        "                      ]\n",
        "         } \n",
        "  \n",
        "# Create DataFrame \n",
        "df_test = pd.DataFrame(tweets)"
      ],
      "execution_count": 0,
      "outputs": []
    },
    {
      "cell_type": "code",
      "metadata": {
        "id": "J085ZWQIwVTc",
        "colab_type": "code",
        "colab": {}
      },
      "source": [
        "df_test['clean_tweet'] = df_test['tweet'].apply(lambda x: text_processing(x))"
      ],
      "execution_count": 0,
      "outputs": []
    },
    {
      "cell_type": "code",
      "metadata": {
        "id": "0NtrQdUawVTc",
        "colab_type": "code",
        "colab": {}
      },
      "source": [
        "df_test[\"clean_tweet\"] = lemmatization(df_test[\"clean_tweet\"])"
      ],
      "execution_count": 0,
      "outputs": []
    },
    {
      "cell_type": "code",
      "metadata": {
        "id": "m5KV_aL4wVTd",
        "colab_type": "code",
        "outputId": "f29b0df8-272f-4f7c-a1fe-7b137ca2f0ba",
        "colab": {
          "base_uri": "https://localhost:8080/",
          "height": 297
        }
      },
      "source": [
        "df_test"
      ],
      "execution_count": 95,
      "outputs": [
        {
          "output_type": "execute_result",
          "data": {
            "text/html": [
              "<div>\n",
              "<style scoped>\n",
              "    .dataframe tbody tr th:only-of-type {\n",
              "        vertical-align: middle;\n",
              "    }\n",
              "\n",
              "    .dataframe tbody tr th {\n",
              "        vertical-align: top;\n",
              "    }\n",
              "\n",
              "    .dataframe thead th {\n",
              "        text-align: right;\n",
              "    }\n",
              "</style>\n",
              "<table border=\"1\" class=\"dataframe\">\n",
              "  <thead>\n",
              "    <tr style=\"text-align: right;\">\n",
              "      <th></th>\n",
              "      <th>tweet</th>\n",
              "      <th>sentiments</th>\n",
              "      <th>clean_tweet</th>\n",
              "    </tr>\n",
              "  </thead>\n",
              "  <tbody>\n",
              "    <tr>\n",
              "      <th>0</th>\n",
              "      <td>The seat was comfortable! and the bathroom was...</td>\n",
              "      <td>positive</td>\n",
              "      <td>the seat be comfortable and the bathroom be cl...</td>\n",
              "    </tr>\n",
              "    <tr>\n",
              "      <th>1</th>\n",
              "      <td>The flight attendant was nice ### but the temp...</td>\n",
              "      <td>positive</td>\n",
              "      <td>the flight attendant be nice but the temperatu...</td>\n",
              "    </tr>\n",
              "    <tr>\n",
              "      <th>2</th>\n",
              "      <td>The movie was not funny at all and the drinks ...</td>\n",
              "      <td>negative</td>\n",
              "      <td>the movie be not funny at all and the drink be...</td>\n",
              "    </tr>\n",
              "    <tr>\n",
              "      <th>3</th>\n",
              "      <td>huh uhgyrt jjkoj . g red jgh kh kj k</td>\n",
              "      <td>negative</td>\n",
              "      <td>huh uhgyrt jjkoj . g red jgh kh kj k</td>\n",
              "    </tr>\n",
              "    <tr>\n",
              "      <th>4</th>\n",
              "      <td>I was told that the flight would be bad but ac...</td>\n",
              "      <td>positive</td>\n",
              "      <td>i be tell that the flight would be bad but act...</td>\n",
              "    </tr>\n",
              "    <tr>\n",
              "      <th>5</th>\n",
              "      <td>I was told that the flight would be good but a...</td>\n",
              "      <td>negative</td>\n",
              "      <td>i be tell that the flight would be good but ac...</td>\n",
              "    </tr>\n",
              "    <tr>\n",
              "      <th>6</th>\n",
              "      <td>It would be nice if the weather was better in ...</td>\n",
              "      <td>negative</td>\n",
              "      <td>-PRON- would be nice if the weather be well in...</td>\n",
              "    </tr>\n",
              "    <tr>\n",
              "      <th>7</th>\n",
              "      <td>The Montreal hockey team is working very hard ...</td>\n",
              "      <td>positive</td>\n",
              "      <td>the montreal hockey team be work very hard to ...</td>\n",
              "    </tr>\n",
              "  </tbody>\n",
              "</table>\n",
              "</div>"
            ],
            "text/plain": [
              "                                               tweet  ...                                        clean_tweet\n",
              "0  The seat was comfortable! and the bathroom was...  ...  the seat be comfortable and the bathroom be cl...\n",
              "1  The flight attendant was nice ### but the temp...  ...  the flight attendant be nice but the temperatu...\n",
              "2  The movie was not funny at all and the drinks ...  ...  the movie be not funny at all and the drink be...\n",
              "3               huh uhgyrt jjkoj . g red jgh kh kj k  ...               huh uhgyrt jjkoj . g red jgh kh kj k\n",
              "4  I was told that the flight would be bad but ac...  ...  i be tell that the flight would be bad but act...\n",
              "5  I was told that the flight would be good but a...  ...  i be tell that the flight would be good but ac...\n",
              "6  It would be nice if the weather was better in ...  ...  -PRON- would be nice if the weather be well in...\n",
              "7  The Montreal hockey team is working very hard ...  ...  the montreal hockey team be work very hard to ...\n",
              "\n",
              "[8 rows x 3 columns]"
            ]
          },
          "metadata": {
            "tags": []
          },
          "execution_count": 95
        }
      ]
    },
    {
      "cell_type": "code",
      "metadata": {
        "id": "44ZxvVVswVTe",
        "colab_type": "code",
        "outputId": "e3f1bb38-5a49-447d-84b5-aba9419a6523",
        "colab": {
          "base_uri": "https://localhost:8080/",
          "height": 119
        }
      },
      "source": [
        "sentiments = df_test[\"sentiments\"].copy()\n",
        "label_encoder = LabelEncoder()\n",
        "sentiments = label_encoder.fit_transform(sentiments)\n",
        "sentiments = keras.utils.to_categorical(sentiments)\n",
        "sentiments[:6]"
      ],
      "execution_count": 96,
      "outputs": [
        {
          "output_type": "execute_result",
          "data": {
            "text/plain": [
              "array([[0., 1.],\n",
              "       [0., 1.],\n",
              "       [1., 0.],\n",
              "       [1., 0.],\n",
              "       [0., 1.],\n",
              "       [1., 0.]], dtype=float32)"
            ]
          },
          "metadata": {
            "tags": []
          },
          "execution_count": 96
        }
      ]
    },
    {
      "cell_type": "code",
      "metadata": {
        "id": "q_bCfTOewVTf",
        "colab_type": "code",
        "colab": {}
      },
      "source": [
        "X_input = df_test[\"clean_tweet\"].values"
      ],
      "execution_count": 0,
      "outputs": []
    },
    {
      "cell_type": "code",
      "metadata": {
        "id": "_PXVPhPzwVTg",
        "colab_type": "code",
        "outputId": "e9d61663-4eee-479b-a161-576376b76527",
        "colab": {
          "base_uri": "https://localhost:8080/",
          "height": 153
        }
      },
      "source": [
        "print(model.predict(X_input).round(0))"
      ],
      "execution_count": 98,
      "outputs": [
        {
          "output_type": "stream",
          "text": [
            "[[0. 1.]\n",
            " [1. 0.]\n",
            " [1. 0.]\n",
            " [0. 1.]\n",
            " [1. 0.]\n",
            " [1. 0.]\n",
            " [0. 1.]\n",
            " [1. 0.]]\n"
          ],
          "name": "stdout"
        }
      ]
    },
    {
      "cell_type": "code",
      "metadata": {
        "id": "QtvJ2563wVTh",
        "colab_type": "code",
        "outputId": "ea9907d4-725e-4230-af18-afe4df9a2d97",
        "colab": {
          "base_uri": "https://localhost:8080/",
          "height": 153
        }
      },
      "source": [
        "print(sentiments)"
      ],
      "execution_count": 99,
      "outputs": [
        {
          "output_type": "stream",
          "text": [
            "[[0. 1.]\n",
            " [0. 1.]\n",
            " [1. 0.]\n",
            " [1. 0.]\n",
            " [0. 1.]\n",
            " [1. 0.]\n",
            " [1. 0.]\n",
            " [0. 1.]]\n"
          ],
          "name": "stdout"
        }
      ]
    },
    {
      "cell_type": "markdown",
      "metadata": {
        "id": "EHRuGMHMwVTj",
        "colab_type": "text"
      },
      "source": [
        "# Universal Sentence Encoder\n",
        "\n"
      ]
    },
    {
      "cell_type": "markdown",
      "metadata": {
        "id": "HDTMDRHr24Ix",
        "colab_type": "text"
      },
      "source": [
        "## Create Model"
      ]
    },
    {
      "cell_type": "code",
      "metadata": {
        "id": "-l4YwXqGwVTk",
        "colab_type": "code",
        "outputId": "5165c159-9424-4b91-b0c5-52dca4e636ae",
        "colab": {
          "base_uri": "https://localhost:8080/",
          "height": 289
        }
      },
      "source": [
        "hub_layer2 = hub.KerasLayer(\"https://tfhub.dev/google/universal-sentence-encoder/4\", \n",
        "                           output_shape=[512], \n",
        "                           input_shape=[], \n",
        "                           dtype=tf.string\n",
        "                          )\n",
        "model = keras.Sequential()\n",
        "model.add(hub_layer2)\n",
        "model.add(keras.layers.Dense(32, activation='relu'))\n",
        "model.add(keras.layers.Dropout(0.5))\n",
        "model.add(keras.layers.Dense(2, activation='softmax'))\n",
        "\n",
        "model.summary()"
      ],
      "execution_count": 102,
      "outputs": [
        {
          "output_type": "stream",
          "text": [
            "Model: \"sequential_5\"\n",
            "_________________________________________________________________\n",
            "Layer (type)                 Output Shape              Param #   \n",
            "=================================================================\n",
            "keras_layer_5 (KerasLayer)   (None, 512)               256797824 \n",
            "_________________________________________________________________\n",
            "dense_8 (Dense)              (None, 32)                16416     \n",
            "_________________________________________________________________\n",
            "dropout_4 (Dropout)          (None, 32)                0         \n",
            "_________________________________________________________________\n",
            "dense_9 (Dense)              (None, 2)                 66        \n",
            "=================================================================\n",
            "Total params: 256,814,306\n",
            "Trainable params: 16,482\n",
            "Non-trainable params: 256,797,824\n",
            "_________________________________________________________________\n"
          ],
          "name": "stdout"
        }
      ]
    },
    {
      "cell_type": "code",
      "metadata": {
        "id": "JoAp8MhnwVTm",
        "colab_type": "code",
        "colab": {}
      },
      "source": [
        "model.compile(loss='categorical_crossentropy', optimizer='adam', metrics=['accuracy'])"
      ],
      "execution_count": 0,
      "outputs": []
    },
    {
      "cell_type": "code",
      "metadata": {
        "id": "JMAyz11pwVTn",
        "colab_type": "code",
        "outputId": "f974c7e5-fd42-4643-a8cd-4daa489384ab",
        "colab": {
          "base_uri": "https://localhost:8080/",
          "height": 176
        }
      },
      "source": [
        "keras.utils.plot_model(model, \n",
        "                       #to_file='model.png',\n",
        "                       show_shapes=True, show_layer_names=True, rankdir='LR', expand_nested=False, dpi=128)"
      ],
      "execution_count": 0,
      "outputs": [
        {
          "output_type": "execute_result",
          "data": {
            "image/png": "[encoded data removed]",
            "text/plain": [
              "<IPython.core.display.Image object>"
            ]
          },
          "metadata": {
            "tags": []
          },
          "execution_count": 63
        }
      ]
    },
    {
      "cell_type": "markdown",
      "metadata": {
        "id": "EKnzwyoQwVTo",
        "colab_type": "text"
      },
      "source": [
        "## Execute Model"
      ]
    },
    {
      "cell_type": "code",
      "metadata": {
        "id": "Zj38BoZ5wVTo",
        "colab_type": "code",
        "outputId": "dbe05697-2117-463b-a513-971ef61e6624",
        "colab": {
          "base_uri": "https://localhost:8080/",
          "height": 748
        }
      },
      "source": [
        "%%time\n",
        "hist = model.fit(X_train, \n",
        "                 y_train, \n",
        "                 epochs=20, \n",
        "                 batch_size=32, \n",
        "                 # callbacks=callbacks, \n",
        "                 # validation_split=0.1, \n",
        "                 verbose = 1)"
      ],
      "execution_count": 104,
      "outputs": [
        {
          "output_type": "stream",
          "text": [
            "Train on 10000 samples\n",
            "Epoch 1/20\n",
            "10000/10000 [==============================] - 7s 658us/sample - loss: 0.5860 - accuracy: 0.6965\n",
            "Epoch 2/20\n",
            "10000/10000 [==============================] - 5s 501us/sample - loss: 0.5208 - accuracy: 0.7464\n",
            "Epoch 3/20\n",
            "10000/10000 [==============================] - 5s 503us/sample - loss: 0.5089 - accuracy: 0.7517\n",
            "Epoch 4/20\n",
            "10000/10000 [==============================] - 5s 510us/sample - loss: 0.5015 - accuracy: 0.7594\n",
            "Epoch 5/20\n",
            "10000/10000 [==============================] - 5s 500us/sample - loss: 0.4960 - accuracy: 0.7603\n",
            "Epoch 6/20\n",
            "10000/10000 [==============================] - 5s 500us/sample - loss: 0.4882 - accuracy: 0.7593\n",
            "Epoch 7/20\n",
            "10000/10000 [==============================] - 5s 496us/sample - loss: 0.4864 - accuracy: 0.7619\n",
            "Epoch 8/20\n",
            "10000/10000 [==============================] - 5s 497us/sample - loss: 0.4792 - accuracy: 0.7695\n",
            "Epoch 9/20\n",
            "10000/10000 [==============================] - 5s 499us/sample - loss: 0.4777 - accuracy: 0.7683\n",
            "Epoch 10/20\n",
            "10000/10000 [==============================] - 5s 499us/sample - loss: 0.4747 - accuracy: 0.7734\n",
            "Epoch 11/20\n",
            "10000/10000 [==============================] - 5s 496us/sample - loss: 0.4739 - accuracy: 0.7724\n",
            "Epoch 12/20\n",
            "10000/10000 [==============================] - 5s 505us/sample - loss: 0.4693 - accuracy: 0.7753\n",
            "Epoch 13/20\n",
            "10000/10000 [==============================] - 5s 492us/sample - loss: 0.4664 - accuracy: 0.7826\n",
            "Epoch 14/20\n",
            "10000/10000 [==============================] - 5s 492us/sample - loss: 0.4625 - accuracy: 0.7806\n",
            "Epoch 15/20\n",
            "10000/10000 [==============================] - 5s 499us/sample - loss: 0.4585 - accuracy: 0.7867\n",
            "Epoch 16/20\n",
            "10000/10000 [==============================] - 5s 498us/sample - loss: 0.4553 - accuracy: 0.7870\n",
            "Epoch 17/20\n",
            "10000/10000 [==============================] - 5s 499us/sample - loss: 0.4531 - accuracy: 0.7917\n",
            "Epoch 18/20\n",
            "10000/10000 [==============================] - 5s 500us/sample - loss: 0.4443 - accuracy: 0.7937\n",
            "Epoch 19/20\n",
            "10000/10000 [==============================] - 5s 497us/sample - loss: 0.4424 - accuracy: 0.7946\n",
            "Epoch 20/20\n",
            "10000/10000 [==============================] - 5s 493us/sample - loss: 0.4408 - accuracy: 0.8016\n",
            "CPU times: user 2min 14s, sys: 13.8 s, total: 2min 28s\n",
            "Wall time: 1min 41s\n"
          ],
          "name": "stdout"
        }
      ]
    },
    {
      "cell_type": "code",
      "metadata": {
        "id": "XyxfWSFHwVTp",
        "colab_type": "code",
        "outputId": "690ae290-1ba8-4cf2-820e-15446ae14c19",
        "colab": {
          "base_uri": "https://localhost:8080/",
          "height": 612
        }
      },
      "source": [
        "pd.DataFrame(hist.history).plot(figsize=(10,10))\n",
        "plt.grid(True)\n",
        "plt.show"
      ],
      "execution_count": 105,
      "outputs": [
        {
          "output_type": "execute_result",
          "data": {
            "text/plain": [
              "<function matplotlib.pyplot.show>"
            ]
          },
          "metadata": {
            "tags": []
          },
          "execution_count": 105
        },
        {
          "output_type": "display_data",
          "data": {
            "image/png": "[encoded data removed]",
            "text/plain": [
              "<Figure size 720x720 with 1 Axes>"
            ]
          },
          "metadata": {
            "tags": []
          }
        }
      ]
    },
    {
      "cell_type": "markdown",
      "metadata": {
        "id": "RnBTXA2NwVTq",
        "colab_type": "text"
      },
      "source": [
        "# Evaluate Model Universal Sentence Encoder"
      ]
    },
    {
      "cell_type": "code",
      "metadata": {
        "id": "2pbRjk8zwVTq",
        "colab_type": "code",
        "outputId": "ad5e77e3-3a7b-4612-d034-904c1b28cfec",
        "colab": {
          "base_uri": "https://localhost:8080/",
          "height": 51
        }
      },
      "source": [
        "accuracy_test = model.evaluate(X_test, y_test, verbose=2)\n",
        "print(accuracy_test)"
      ],
      "execution_count": 106,
      "outputs": [
        {
          "output_type": "stream",
          "text": [
            "2000/1 - 1s - loss: 0.5722 - accuracy: 0.7715\n",
            "[0.48606407594680784, 0.7715]\n"
          ],
          "name": "stdout"
        }
      ]
    },
    {
      "cell_type": "code",
      "metadata": {
        "id": "jROGDIqxwVTr",
        "colab_type": "code",
        "outputId": "bb6ed412-d088-4caf-a9ec-9f91423078ca",
        "colab": {
          "base_uri": "https://localhost:8080/",
          "height": 207
        }
      },
      "source": [
        "print(X_train[0:10])"
      ],
      "execution_count": 107,
      "outputs": [
        {
          "output_type": "stream",
          "text": [
            "['iluvshinything no be not -PRON- . i be wear a pink tank top , black pant and big teal sunglass . close though ha'\n",
            " \"-PRON- year old nephew just email -PRON- ask join -PRON- play mini golf , too bad i have breakfast amp meet amp greet in tyson 's so cute\"\n",
            " 'jscrinc -PRON- do not mess up'\n",
            " 'jennny -PRON- be go to be jealous of -PRON- new iphone theme'\n",
            " 'billharper yes , -PRON- be there be nothing like fresh fruit for lunch'\n",
            " 'back from church , soooooo cold outside even though -PRON- look lovely and warm , instal manga studio now'\n",
            " 'youngq yesterday be ice cream day .. awww'\n",
            " 'i love jamie camille antonio happy year and month'\n",
            " 'iremember ... gun n rose . omg -PRON- be the shit especially slash'\n",
            " 'still rain , and there be a torrent of water from the roof right outside -PRON- bedroom window sound like an elephant have a pee']\n"
          ],
          "name": "stdout"
        }
      ]
    },
    {
      "cell_type": "code",
      "metadata": {
        "id": "C_Ai3OhtwVTu",
        "colab_type": "code",
        "outputId": "d9025500-b1c5-4674-b3bd-dd6eb78d136e",
        "colab": {
          "base_uri": "https://localhost:8080/",
          "height": 187
        }
      },
      "source": [
        "predictions = model.predict(X_train[:10], batch_size=None, verbose=0)\n",
        "print(predictions.round(0))"
      ],
      "execution_count": 109,
      "outputs": [
        {
          "output_type": "stream",
          "text": [
            "[[0. 1.]\n",
            " [0. 1.]\n",
            " [1. 0.]\n",
            " [1. 0.]\n",
            " [0. 1.]\n",
            " [0. 1.]\n",
            " [0. 1.]\n",
            " [0. 1.]\n",
            " [0. 1.]\n",
            " [1. 0.]]\n"
          ],
          "name": "stdout"
        }
      ]
    },
    {
      "cell_type": "code",
      "metadata": {
        "id": "lIruo6CmwVTv",
        "colab_type": "code",
        "outputId": "8f3c9f9b-2ddd-4113-acea-b79eac0db5d4",
        "colab": {
          "base_uri": "https://localhost:8080/",
          "height": 187
        }
      },
      "source": [
        "y_train[:10]"
      ],
      "execution_count": 110,
      "outputs": [
        {
          "output_type": "execute_result",
          "data": {
            "text/plain": [
              "array([[1., 0.],\n",
              "       [1., 0.],\n",
              "       [1., 0.],\n",
              "       [0., 1.],\n",
              "       [0., 1.],\n",
              "       [0., 1.],\n",
              "       [1., 0.],\n",
              "       [0., 1.],\n",
              "       [0., 1.],\n",
              "       [0., 1.]], dtype=float32)"
            ]
          },
          "metadata": {
            "tags": []
          },
          "execution_count": 110
        }
      ]
    },
    {
      "cell_type": "markdown",
      "metadata": {
        "id": "E2GeFPxdwVTw",
        "colab_type": "text"
      },
      "source": [
        "# Confusion Matrix"
      ]
    },
    {
      "cell_type": "code",
      "metadata": {
        "id": "ZP0LixJSwVTx",
        "colab_type": "code",
        "colab": {}
      },
      "source": [
        "# np.argmax Returns the indices of the maximum values along an axis. \n",
        "y_test_rounded = np.argmax(y_test, axis=1)\n",
        "y_train_rounded = np.argmax(y_train, axis=1)"
      ],
      "execution_count": 0,
      "outputs": []
    },
    {
      "cell_type": "code",
      "metadata": {
        "id": "xssbLrSUwVTy",
        "colab_type": "code",
        "colab": {}
      },
      "source": [
        "y_pred = model.predict(X_train)\n",
        "y_pred_rounded = np.argmax(y_pred, axis=1)"
      ],
      "execution_count": 0,
      "outputs": []
    },
    {
      "cell_type": "code",
      "metadata": {
        "id": "JqeV6GmbwVTz",
        "colab_type": "code",
        "colab": {}
      },
      "source": [
        "cmResults = confusion_matrix(y_train_rounded, y_pred_rounded)\n",
        "accuracy = accuracy_score(y_train_rounded, y_pred_rounded)"
      ],
      "execution_count": 0,
      "outputs": []
    },
    {
      "cell_type": "code",
      "metadata": {
        "id": "ta9T2r9cwVT0",
        "colab_type": "code",
        "outputId": "8e9c3111-bf84-4a18-8b60-d12adb3e8a86",
        "colab": {
          "base_uri": "https://localhost:8080/",
          "height": 513
        }
      },
      "source": [
        "# Plot non-normalized confusion matrix \n",
        "class_names = ['Negative', 'Positive']\n",
        "plt.figure(figsize=(7,7));\n",
        "plot_confusion_matrix(cmResults, classes=class_names, title='Confusion matrix (Train Data).' + \" Accuracy: \" + str(accuracy.round(3)*100) + \"%\" );"
      ],
      "execution_count": 114,
      "outputs": [
        {
          "output_type": "display_data",
          "data": {
            "image/png": "[encoded data removed]",
            "text/plain": [
              "<Figure size 504x504 with 2 Axes>"
            ]
          },
          "metadata": {
            "tags": []
          }
        }
      ]
    },
    {
      "cell_type": "code",
      "metadata": {
        "id": "BOfpg65gwVT1",
        "colab_type": "code",
        "colab": {}
      },
      "source": [
        "y_pred = model.predict(X_test)\n",
        "y_pred_rounded = np.argmax(y_pred, axis=1)\n",
        "cmResults = confusion_matrix(y_test_rounded, y_pred_rounded)\n",
        "accuracy = accuracy_score(y_test_rounded, y_pred_rounded)"
      ],
      "execution_count": 0,
      "outputs": []
    },
    {
      "cell_type": "code",
      "metadata": {
        "id": "_2o0dI_twVT2",
        "colab_type": "code",
        "outputId": "7d1c986c-99be-4ace-d200-6dadb844f874",
        "colab": {
          "base_uri": "https://localhost:8080/",
          "height": 513
        }
      },
      "source": [
        "# Plot non-normalized confusion matrix \n",
        "plt.figure(figsize=(7,7));\n",
        "plot_confusion_matrix(cmResults, classes=class_names, title='Confusion matrix (Test Data).' + \" Accuracy: \" + str(accuracy.round(3)*100) + \"%\" );"
      ],
      "execution_count": 116,
      "outputs": [
        {
          "output_type": "display_data",
          "data": {
            "image/png": "[encoded data removed]",
            "text/plain": [
              "<Figure size 504x504 with 2 Axes>"
            ]
          },
          "metadata": {
            "tags": []
          }
        }
      ]
    },
    {
      "cell_type": "markdown",
      "metadata": {
        "id": "TsAOmDKmwVT3",
        "colab_type": "text"
      },
      "source": [
        "# Test the Model with some sentences"
      ]
    },
    {
      "cell_type": "code",
      "metadata": {
        "id": "9jsUOcSkwVT4",
        "colab_type": "code",
        "outputId": "0ae0e0b4-d820-49fd-ab1f-d4ac3909cad5",
        "colab": {
          "base_uri": "https://localhost:8080/",
          "height": 153
        }
      },
      "source": [
        "print(model.predict(X_input).round(0))"
      ],
      "execution_count": 118,
      "outputs": [
        {
          "output_type": "stream",
          "text": [
            "[[0. 1.]\n",
            " [0. 1.]\n",
            " [1. 0.]\n",
            " [0. 1.]\n",
            " [1. 0.]\n",
            " [1. 0.]\n",
            " [1. 0.]\n",
            " [1. 0.]]\n"
          ],
          "name": "stdout"
        }
      ]
    },
    {
      "cell_type": "code",
      "metadata": {
        "id": "vPicFHLFwVT5",
        "colab_type": "code",
        "outputId": "090ad0d6-f9a1-4c4c-c53b-c656dd0331fc",
        "colab": {
          "base_uri": "https://localhost:8080/",
          "height": 153
        }
      },
      "source": [
        "print(sentiments)"
      ],
      "execution_count": 119,
      "outputs": [
        {
          "output_type": "stream",
          "text": [
            "[[0. 1.]\n",
            " [0. 1.]\n",
            " [1. 0.]\n",
            " [1. 0.]\n",
            " [0. 1.]\n",
            " [1. 0.]\n",
            " [1. 0.]\n",
            " [0. 1.]]\n"
          ],
          "name": "stdout"
        }
      ]
    },
    {
      "cell_type": "markdown",
      "metadata": {
        "id": "ZTERun3KwVT6",
        "colab_type": "text"
      },
      "source": [
        "# Save Keras Model"
      ]
    },
    {
      "cell_type": "code",
      "metadata": {
        "id": "Zy3jsEnGwVT7",
        "colab_type": "code",
        "outputId": "a62988fe-cd6a-4e0f-c3de-9cc6484e0a79",
        "colab": {}
      },
      "source": [
        "# save model and architecture to single file\n",
        "model_version = \"0002\"\n",
        "model_name = \"JP_sentiment_analysis_service\"\n",
        "model_path = os.path.join(model_name, model_version)\n",
        "tf.saved_model.save(model, model_path)\n",
        "print(\"Saved model to disk\")"
      ],
      "execution_count": 0,
      "outputs": [
        {
          "output_type": "stream",
          "text": [
            "WARNING:tensorflow:From /home/jupyter/.local/lib/python3.5/site-packages/tensorflow_core/python/ops/resource_variable_ops.py:1781: calling BaseResourceVariable.__init__ (from tensorflow.python.ops.resource_variable_ops) with constraint is deprecated and will be removed in a future version.\n",
            "Instructions for updating:\n",
            "If using Keras pass *_constraint arguments to layers.\n"
          ],
          "name": "stdout"
        },
        {
          "output_type": "stream",
          "text": [
            "WARNING:tensorflow:From /home/jupyter/.local/lib/python3.5/site-packages/tensorflow_core/python/ops/resource_variable_ops.py:1781: calling BaseResourceVariable.__init__ (from tensorflow.python.ops.resource_variable_ops) with constraint is deprecated and will be removed in a future version.\n",
            "Instructions for updating:\n",
            "If using Keras pass *_constraint arguments to layers.\n"
          ],
          "name": "stderr"
        },
        {
          "output_type": "stream",
          "text": [
            "INFO:tensorflow:Assets written to: JP_sentiment_analysis_service/0002/assets\n"
          ],
          "name": "stdout"
        },
        {
          "output_type": "stream",
          "text": [
            "INFO:tensorflow:Assets written to: JP_sentiment_analysis_service/0002/assets\n"
          ],
          "name": "stderr"
        },
        {
          "output_type": "stream",
          "text": [
            "Saved model to disk\n"
          ],
          "name": "stdout"
        }
      ]
    },
    {
      "cell_type": "code",
      "metadata": {
        "id": "2gA2ZkdAwVT8",
        "colab_type": "code",
        "outputId": "b9cb8701-536b-452d-c790-f8583ed9d2bb",
        "colab": {}
      },
      "source": [
        "!saved_model_cli show --dir {model_path}"
      ],
      "execution_count": 0,
      "outputs": [
        {
          "output_type": "stream",
          "text": [
            "2019-12-09 21:12:34.251754: I tensorflow/stream_executor/platform/default/dso_loader.cc:44] Successfully opened dynamic library libcudart.so.10.0\n",
            "The given SavedModel contains the following tag-sets:\n",
            "serve\n"
          ],
          "name": "stdout"
        }
      ]
    },
    {
      "cell_type": "code",
      "metadata": {
        "id": "PZ0Ad5yWwVT9",
        "colab_type": "code",
        "outputId": "5634a32f-25b7-423f-d17d-0689546b2b69",
        "colab": {}
      },
      "source": [
        "!saved_model_cli show --dir {model_path} --tag_set serve"
      ],
      "execution_count": 0,
      "outputs": [
        {
          "output_type": "stream",
          "text": [
            "2019-12-09 21:12:39.705170: I tensorflow/stream_executor/platform/default/dso_loader.cc:44] Successfully opened dynamic library libcudart.so.10.0\n",
            "The given SavedModel MetaGraphDef contains SignatureDefs with the following keys:\n",
            "SignatureDef key: \"__saved_model_init_op\"\n",
            "SignatureDef key: \"serving_default\"\n"
          ],
          "name": "stdout"
        }
      ]
    },
    {
      "cell_type": "code",
      "metadata": {
        "id": "78epyp--wVT_",
        "colab_type": "code",
        "outputId": "8d7013f0-553e-4393-de91-3f51076737b9",
        "colab": {}
      },
      "source": [
        "!saved_model_cli show --dir {model_path} --tag_set serve \\\n",
        "                      --signature_def serving_default"
      ],
      "execution_count": 0,
      "outputs": [
        {
          "output_type": "stream",
          "text": [
            "2019-12-09 21:12:48.232252: I tensorflow/stream_executor/platform/default/dso_loader.cc:44] Successfully opened dynamic library libcudart.so.10.0\n",
            "The given SavedModel SignatureDef contains the following input(s):\n",
            "  inputs['keras_layer_input'] tensor_info:\n",
            "      dtype: DT_STRING\n",
            "      shape: (-1)\n",
            "      name: serving_default_keras_layer_input:0\n",
            "The given SavedModel SignatureDef contains the following output(s):\n",
            "  outputs['dense_1'] tensor_info:\n",
            "      dtype: DT_FLOAT\n",
            "      shape: (-1, 3)\n",
            "      name: StatefulPartitionedCall_2:0\n",
            "Method name is: tensorflow/serving/predict\n"
          ],
          "name": "stdout"
        }
      ]
    },
    {
      "cell_type": "code",
      "metadata": {
        "id": "7iqZcvzrwVUA",
        "colab_type": "code",
        "outputId": "b5c91958-3134-4dbb-c5eb-662eaae209c8",
        "colab": {}
      },
      "source": [
        "!saved_model_cli show --dir {model_path} --all"
      ],
      "execution_count": 0,
      "outputs": [
        {
          "output_type": "stream",
          "text": [
            "2019-12-09 21:12:53.370525: I tensorflow/stream_executor/platform/default/dso_loader.cc:44] Successfully opened dynamic library libcudart.so.10.0\n",
            "\n",
            "MetaGraphDef with tag-set: 'serve' contains the following SignatureDefs:\n",
            "\n",
            "signature_def['__saved_model_init_op']:\n",
            "  The given SavedModel SignatureDef contains the following input(s):\n",
            "  The given SavedModel SignatureDef contains the following output(s):\n",
            "    outputs['__saved_model_init_op'] tensor_info:\n",
            "        dtype: DT_INVALID\n",
            "        shape: unknown_rank\n",
            "        name: NoOp\n",
            "  Method name is: \n",
            "\n",
            "signature_def['serving_default']:\n",
            "  The given SavedModel SignatureDef contains the following input(s):\n",
            "    inputs['keras_layer_input'] tensor_info:\n",
            "        dtype: DT_STRING\n",
            "        shape: (-1)\n",
            "        name: serving_default_keras_layer_input:0\n",
            "  The given SavedModel SignatureDef contains the following output(s):\n",
            "    outputs['dense_1'] tensor_info:\n",
            "        dtype: DT_FLOAT\n",
            "        shape: (-1, 3)\n",
            "        name: StatefulPartitionedCall_2:0\n",
            "  Method name is: tensorflow/serving/predict\n"
          ],
          "name": "stdout"
        }
      ]
    },
    {
      "cell_type": "markdown",
      "metadata": {
        "id": "J70XJplDwVUB",
        "colab_type": "text"
      },
      "source": [
        "-------- \n",
        "### Comments\n",
        "A savedModel contains one or more metagraphs.\n",
        "\n",
        "A metagraph contains:\n",
        "* Input names\n",
        "* Output names\n",
        "* Types\n",
        "* Shapes\n",
        "\n",
        "Tags like \"train\", \"gpu and the default: \"serve\"\n",
        "Below we test the savedModel with a numpy input. This is just for local testing.\n",
        "\n",
        "---------\n",
        "\n",
        "\n",
        "\n"
      ]
    },
    {
      "cell_type": "code",
      "metadata": {
        "id": "wASBAz26wVUC",
        "colab_type": "code",
        "colab": {}
      },
      "source": [
        "X_new = X_test[0:3]\n",
        "np.save(\"my_sentiment_analysis_tests.npy\", X_new)"
      ],
      "execution_count": 0,
      "outputs": []
    },
    {
      "cell_type": "code",
      "metadata": {
        "id": "atF1ZM1kwVUC",
        "colab_type": "code",
        "outputId": "17224622-3a42-4532-816a-d413b767fe47",
        "colab": {}
      },
      "source": [
        "input_name = model.input_names[0]\n",
        "input_name"
      ],
      "execution_count": 0,
      "outputs": [
        {
          "output_type": "execute_result",
          "data": {
            "text/plain": [
              "'keras_layer_input'"
            ]
          },
          "metadata": {
            "tags": []
          },
          "execution_count": 64
        }
      ]
    },
    {
      "cell_type": "markdown",
      "metadata": {
        "id": "M_bRp_86wVUD",
        "colab_type": "raw"
      },
      "source": [
        "!saved_model_cli run --dir {model_path} --tag_set serve \\\n",
        "                     --signature_def serving_default    \\\n",
        "                     --inputs {input_name}=my_sentiment_analysis_tests.npy"
      ]
    },
    {
      "cell_type": "markdown",
      "metadata": {
        "id": "Wbj6HAAhwVUE",
        "colab_type": "text"
      },
      "source": [
        "# Copy Model to Google Storage (Bucket)"
      ]
    },
    {
      "cell_type": "code",
      "metadata": {
        "id": "broxbvYDwVUE",
        "colab_type": "code",
        "outputId": "e0ad1d54-feee-4106-d0be-0c09a4e3a95c",
        "colab": {}
      },
      "source": [
        "import sys\n",
        "\n",
        "if 'google.colab' in sys.modules:\n",
        "  from google.colab import auth as google_auth\n",
        "  google_auth.authenticate_user()\n",
        "else:\n",
        "  %env GOOGLE_APPLICATION_CREDENTIALS ''"
      ],
      "execution_count": 0,
      "outputs": [
        {
          "output_type": "stream",
          "text": [
            "env: GOOGLE_APPLICATION_CREDENTIALS=''\n"
          ],
          "name": "stdout"
        }
      ]
    },
    {
      "cell_type": "code",
      "metadata": {
        "id": "LrsFpD37wVUF",
        "colab_type": "code",
        "outputId": "7c6a9266-d135-4197-9734-c821f5ba5273",
        "colab": {}
      },
      "source": [
        "PROJECT_ID = \"utopian-rush-255612\" #@param {type:\"string\"}\n",
        "\n",
        "# This must absolutely be a GLOBALLY UNIQUE name\n",
        "BUCKET_NAME = \"utopian-rush-255612-bucket_ml\" #@param {type:\"string\"}\n",
        "REGION = \"us-east1\" #@param {type:\"string\"}\n",
        "\n",
        "! gcloud config set project $PROJECT_ID\n",
        "! echo $PROJECT_ID"
      ],
      "execution_count": 0,
      "outputs": [
        {
          "output_type": "error",
          "ename": "OSError",
          "evalue": "[Errno 12] Cannot allocate memory",
          "traceback": [
            "\u001b[0;31m---------------------------------------------------------------------------\u001b[0m",
            "\u001b[0;31mOSError\u001b[0m                                   Traceback (most recent call last)",
            "\u001b[0;32m<ipython-input-90-ef6e6df571e4>\u001b[0m in \u001b[0;36m<module>\u001b[0;34m\u001b[0m\n\u001b[1;32m      5\u001b[0m \u001b[0mREGION\u001b[0m \u001b[0;34m=\u001b[0m \u001b[0;34m\"us-east1\"\u001b[0m \u001b[0;31m#@param {type:\"string\"}\u001b[0m\u001b[0;34m\u001b[0m\u001b[0m\n\u001b[1;32m      6\u001b[0m \u001b[0;34m\u001b[0m\u001b[0m\n\u001b[0;32m----> 7\u001b[0;31m \u001b[0mget_ipython\u001b[0m\u001b[0;34m(\u001b[0m\u001b[0;34m)\u001b[0m\u001b[0;34m.\u001b[0m\u001b[0msystem\u001b[0m\u001b[0;34m(\u001b[0m\u001b[0;34m' gcloud config set project $PROJECT_ID'\u001b[0m\u001b[0;34m)\u001b[0m\u001b[0;34m\u001b[0m\u001b[0m\n\u001b[0m\u001b[1;32m      8\u001b[0m \u001b[0mget_ipython\u001b[0m\u001b[0;34m(\u001b[0m\u001b[0;34m)\u001b[0m\u001b[0;34m.\u001b[0m\u001b[0msystem\u001b[0m\u001b[0;34m(\u001b[0m\u001b[0;34m' echo $PROJECT_ID'\u001b[0m\u001b[0;34m)\u001b[0m\u001b[0;34m\u001b[0m\u001b[0m\n",
            "\u001b[0;32m/usr/local/lib/python3.5/dist-packages/IPython/core/interactiveshell.py\u001b[0m in \u001b[0;36msystem_piped\u001b[0;34m(self, cmd)\u001b[0m\n\u001b[1;32m   2451\u001b[0m         \u001b[0;31m# a non-None value would trigger :func:`sys.displayhook` calls.\u001b[0m\u001b[0;34m\u001b[0m\u001b[0;34m\u001b[0m\u001b[0m\n\u001b[1;32m   2452\u001b[0m         \u001b[0;31m# Instead, we store the exit_code in user_ns.\u001b[0m\u001b[0;34m\u001b[0m\u001b[0;34m\u001b[0m\u001b[0m\n\u001b[0;32m-> 2453\u001b[0;31m         \u001b[0mself\u001b[0m\u001b[0;34m.\u001b[0m\u001b[0muser_ns\u001b[0m\u001b[0;34m[\u001b[0m\u001b[0;34m'_exit_code'\u001b[0m\u001b[0;34m]\u001b[0m \u001b[0;34m=\u001b[0m \u001b[0msystem\u001b[0m\u001b[0;34m(\u001b[0m\u001b[0mself\u001b[0m\u001b[0;34m.\u001b[0m\u001b[0mvar_expand\u001b[0m\u001b[0;34m(\u001b[0m\u001b[0mcmd\u001b[0m\u001b[0;34m,\u001b[0m \u001b[0mdepth\u001b[0m\u001b[0;34m=\u001b[0m\u001b[0;36m1\u001b[0m\u001b[0;34m)\u001b[0m\u001b[0;34m)\u001b[0m\u001b[0;34m\u001b[0m\u001b[0m\n\u001b[0m\u001b[1;32m   2454\u001b[0m \u001b[0;34m\u001b[0m\u001b[0m\n\u001b[1;32m   2455\u001b[0m     \u001b[0;32mdef\u001b[0m \u001b[0msystem_raw\u001b[0m\u001b[0;34m(\u001b[0m\u001b[0mself\u001b[0m\u001b[0;34m,\u001b[0m \u001b[0mcmd\u001b[0m\u001b[0;34m)\u001b[0m\u001b[0;34m:\u001b[0m\u001b[0;34m\u001b[0m\u001b[0m\n",
            "\u001b[0;32m/usr/local/lib/python3.5/dist-packages/IPython/utils/_process_posix.py\u001b[0m in \u001b[0;36msystem\u001b[0;34m(self, cmd)\u001b[0m\n\u001b[1;32m    154\u001b[0m                 \u001b[0mchild\u001b[0m \u001b[0;34m=\u001b[0m \u001b[0mpexpect\u001b[0m\u001b[0;34m.\u001b[0m\u001b[0mspawnb\u001b[0m\u001b[0;34m(\u001b[0m\u001b[0mself\u001b[0m\u001b[0;34m.\u001b[0m\u001b[0msh\u001b[0m\u001b[0;34m,\u001b[0m \u001b[0margs\u001b[0m\u001b[0;34m=\u001b[0m\u001b[0;34m[\u001b[0m\u001b[0;34m'-c'\u001b[0m\u001b[0;34m,\u001b[0m \u001b[0mcmd\u001b[0m\u001b[0;34m]\u001b[0m\u001b[0;34m)\u001b[0m \u001b[0;31m# Pexpect-U\u001b[0m\u001b[0;34m\u001b[0m\u001b[0m\n\u001b[1;32m    155\u001b[0m             \u001b[0;32melse\u001b[0m\u001b[0;34m:\u001b[0m\u001b[0;34m\u001b[0m\u001b[0m\n\u001b[0;32m--> 156\u001b[0;31m                 \u001b[0mchild\u001b[0m \u001b[0;34m=\u001b[0m \u001b[0mpexpect\u001b[0m\u001b[0;34m.\u001b[0m\u001b[0mspawn\u001b[0m\u001b[0;34m(\u001b[0m\u001b[0mself\u001b[0m\u001b[0;34m.\u001b[0m\u001b[0msh\u001b[0m\u001b[0;34m,\u001b[0m \u001b[0margs\u001b[0m\u001b[0;34m=\u001b[0m\u001b[0;34m[\u001b[0m\u001b[0;34m'-c'\u001b[0m\u001b[0;34m,\u001b[0m \u001b[0mcmd\u001b[0m\u001b[0;34m]\u001b[0m\u001b[0;34m)\u001b[0m  \u001b[0;31m# Vanilla Pexpect\u001b[0m\u001b[0;34m\u001b[0m\u001b[0m\n\u001b[0m\u001b[1;32m    157\u001b[0m             \u001b[0mflush\u001b[0m \u001b[0;34m=\u001b[0m \u001b[0msys\u001b[0m\u001b[0;34m.\u001b[0m\u001b[0mstdout\u001b[0m\u001b[0;34m.\u001b[0m\u001b[0mflush\u001b[0m\u001b[0;34m\u001b[0m\u001b[0m\n\u001b[1;32m    158\u001b[0m             \u001b[0;32mwhile\u001b[0m \u001b[0;32mTrue\u001b[0m\u001b[0;34m:\u001b[0m\u001b[0;34m\u001b[0m\u001b[0m\n",
            "\u001b[0;32m/usr/local/lib/python3.5/dist-packages/pexpect/pty_spawn.py\u001b[0m in \u001b[0;36m__init__\u001b[0;34m(self, command, args, timeout, maxread, searchwindowsize, logfile, cwd, env, ignore_sighup, echo, preexec_fn, encoding, codec_errors, dimensions, use_poll)\u001b[0m\n\u001b[1;32m    202\u001b[0m             \u001b[0mself\u001b[0m\u001b[0;34m.\u001b[0m\u001b[0mname\u001b[0m \u001b[0;34m=\u001b[0m \u001b[0;34m'<pexpect factory incomplete>'\u001b[0m\u001b[0;34m\u001b[0m\u001b[0m\n\u001b[1;32m    203\u001b[0m         \u001b[0;32melse\u001b[0m\u001b[0;34m:\u001b[0m\u001b[0;34m\u001b[0m\u001b[0m\n\u001b[0;32m--> 204\u001b[0;31m             \u001b[0mself\u001b[0m\u001b[0;34m.\u001b[0m\u001b[0m_spawn\u001b[0m\u001b[0;34m(\u001b[0m\u001b[0mcommand\u001b[0m\u001b[0;34m,\u001b[0m \u001b[0margs\u001b[0m\u001b[0;34m,\u001b[0m \u001b[0mpreexec_fn\u001b[0m\u001b[0;34m,\u001b[0m \u001b[0mdimensions\u001b[0m\u001b[0;34m)\u001b[0m\u001b[0;34m\u001b[0m\u001b[0m\n\u001b[0m\u001b[1;32m    205\u001b[0m         \u001b[0mself\u001b[0m\u001b[0;34m.\u001b[0m\u001b[0muse_poll\u001b[0m \u001b[0;34m=\u001b[0m \u001b[0muse_poll\u001b[0m\u001b[0;34m\u001b[0m\u001b[0m\n\u001b[1;32m    206\u001b[0m \u001b[0;34m\u001b[0m\u001b[0m\n",
            "\u001b[0;32m/usr/local/lib/python3.5/dist-packages/pexpect/pty_spawn.py\u001b[0m in \u001b[0;36m_spawn\u001b[0;34m(self, command, args, preexec_fn, dimensions)\u001b[0m\n\u001b[1;32m    301\u001b[0m \u001b[0;34m\u001b[0m\u001b[0m\n\u001b[1;32m    302\u001b[0m         self.ptyproc = self._spawnpty(self.args, env=self.env,\n\u001b[0;32m--> 303\u001b[0;31m                                      cwd=self.cwd, **kwargs)\n\u001b[0m\u001b[1;32m    304\u001b[0m \u001b[0;34m\u001b[0m\u001b[0m\n\u001b[1;32m    305\u001b[0m         \u001b[0mself\u001b[0m\u001b[0;34m.\u001b[0m\u001b[0mpid\u001b[0m \u001b[0;34m=\u001b[0m \u001b[0mself\u001b[0m\u001b[0;34m.\u001b[0m\u001b[0mptyproc\u001b[0m\u001b[0;34m.\u001b[0m\u001b[0mpid\u001b[0m\u001b[0;34m\u001b[0m\u001b[0m\n",
            "\u001b[0;32m/usr/local/lib/python3.5/dist-packages/pexpect/pty_spawn.py\u001b[0m in \u001b[0;36m_spawnpty\u001b[0;34m(self, args, **kwargs)\u001b[0m\n\u001b[1;32m    312\u001b[0m     \u001b[0;32mdef\u001b[0m \u001b[0m_spawnpty\u001b[0m\u001b[0;34m(\u001b[0m\u001b[0mself\u001b[0m\u001b[0;34m,\u001b[0m \u001b[0margs\u001b[0m\u001b[0;34m,\u001b[0m \u001b[0;34m**\u001b[0m\u001b[0mkwargs\u001b[0m\u001b[0;34m)\u001b[0m\u001b[0;34m:\u001b[0m\u001b[0;34m\u001b[0m\u001b[0m\n\u001b[1;32m    313\u001b[0m         \u001b[0;34m'''Spawn a pty and return an instance of PtyProcess.'''\u001b[0m\u001b[0;34m\u001b[0m\u001b[0m\n\u001b[0;32m--> 314\u001b[0;31m         \u001b[0;32mreturn\u001b[0m \u001b[0mptyprocess\u001b[0m\u001b[0;34m.\u001b[0m\u001b[0mPtyProcess\u001b[0m\u001b[0;34m.\u001b[0m\u001b[0mspawn\u001b[0m\u001b[0;34m(\u001b[0m\u001b[0margs\u001b[0m\u001b[0;34m,\u001b[0m \u001b[0;34m**\u001b[0m\u001b[0mkwargs\u001b[0m\u001b[0;34m)\u001b[0m\u001b[0;34m\u001b[0m\u001b[0m\n\u001b[0m\u001b[1;32m    315\u001b[0m \u001b[0;34m\u001b[0m\u001b[0m\n\u001b[1;32m    316\u001b[0m     \u001b[0;32mdef\u001b[0m \u001b[0mclose\u001b[0m\u001b[0;34m(\u001b[0m\u001b[0mself\u001b[0m\u001b[0;34m,\u001b[0m \u001b[0mforce\u001b[0m\u001b[0;34m=\u001b[0m\u001b[0;32mTrue\u001b[0m\u001b[0;34m)\u001b[0m\u001b[0;34m:\u001b[0m\u001b[0;34m\u001b[0m\u001b[0m\n",
            "\u001b[0;32m/usr/local/lib/python3.5/dist-packages/ptyprocess/ptyprocess.py\u001b[0m in \u001b[0;36mspawn\u001b[0;34m(cls, argv, cwd, env, echo, preexec_fn, dimensions)\u001b[0m\n\u001b[1;32m    224\u001b[0m \u001b[0;34m\u001b[0m\u001b[0m\n\u001b[1;32m    225\u001b[0m         \u001b[0;32mif\u001b[0m \u001b[0muse_native_pty_fork\u001b[0m\u001b[0;34m:\u001b[0m\u001b[0;34m\u001b[0m\u001b[0m\n\u001b[0;32m--> 226\u001b[0;31m             \u001b[0mpid\u001b[0m\u001b[0;34m,\u001b[0m \u001b[0mfd\u001b[0m \u001b[0;34m=\u001b[0m \u001b[0mpty\u001b[0m\u001b[0;34m.\u001b[0m\u001b[0mfork\u001b[0m\u001b[0;34m(\u001b[0m\u001b[0;34m)\u001b[0m\u001b[0;34m\u001b[0m\u001b[0m\n\u001b[0m\u001b[1;32m    227\u001b[0m         \u001b[0;32melse\u001b[0m\u001b[0;34m:\u001b[0m\u001b[0;34m\u001b[0m\u001b[0m\n\u001b[1;32m    228\u001b[0m             \u001b[0;31m# Use internal fork_pty, for Solaris\u001b[0m\u001b[0;34m\u001b[0m\u001b[0;34m\u001b[0m\u001b[0m\n",
            "\u001b[0;32m/usr/lib/python3.5/pty.py\u001b[0m in \u001b[0;36mfork\u001b[0;34m()\u001b[0m\n\u001b[1;32m     95\u001b[0m \u001b[0;34m\u001b[0m\u001b[0m\n\u001b[1;32m     96\u001b[0m     \u001b[0mmaster_fd\u001b[0m\u001b[0;34m,\u001b[0m \u001b[0mslave_fd\u001b[0m \u001b[0;34m=\u001b[0m \u001b[0mopenpty\u001b[0m\u001b[0;34m(\u001b[0m\u001b[0;34m)\u001b[0m\u001b[0;34m\u001b[0m\u001b[0m\n\u001b[0;32m---> 97\u001b[0;31m     \u001b[0mpid\u001b[0m \u001b[0;34m=\u001b[0m \u001b[0mos\u001b[0m\u001b[0;34m.\u001b[0m\u001b[0mfork\u001b[0m\u001b[0;34m(\u001b[0m\u001b[0;34m)\u001b[0m\u001b[0;34m\u001b[0m\u001b[0m\n\u001b[0m\u001b[1;32m     98\u001b[0m     \u001b[0;32mif\u001b[0m \u001b[0mpid\u001b[0m \u001b[0;34m==\u001b[0m \u001b[0mCHILD\u001b[0m\u001b[0;34m:\u001b[0m\u001b[0;34m\u001b[0m\u001b[0m\n\u001b[1;32m     99\u001b[0m         \u001b[0;31m# Establish a new session.\u001b[0m\u001b[0;34m\u001b[0m\u001b[0;34m\u001b[0m\u001b[0m\n",
            "\u001b[0;31mOSError\u001b[0m: [Errno 12] Cannot allocate memory"
          ]
        }
      ]
    },
    {
      "cell_type": "code",
      "metadata": {
        "id": "nt_w-t7twVUG",
        "colab_type": "code",
        "outputId": "53fa6b66-b92b-4dc8-d6e4-8fa6b9175484",
        "colab": {}
      },
      "source": [
        "# Create Bucket\n",
        "\n",
        "# ! gsutil mb -p $PROJECT_ID -l $REGION gs://$BUCKET_NAME\n",
        "# Display what is in the bucket\n",
        "!gsutil ls -al gs://$BUCKET_NAME"
      ],
      "execution_count": 0,
      "outputs": [
        {
          "output_type": "error",
          "ename": "OSError",
          "evalue": "[Errno 12] Cannot allocate memory",
          "traceback": [
            "\u001b[0;31m---------------------------------------------------------------------------\u001b[0m",
            "\u001b[0;31mOSError\u001b[0m                                   Traceback (most recent call last)",
            "\u001b[0;32m<ipython-input-91-ac6079410798>\u001b[0m in \u001b[0;36m<module>\u001b[0;34m\u001b[0m\n\u001b[1;32m      3\u001b[0m \u001b[0;31m# ! gsutil mb -p $PROJECT_ID -l $REGION gs://$BUCKET_NAME\u001b[0m\u001b[0;34m\u001b[0m\u001b[0;34m\u001b[0m\u001b[0m\n\u001b[1;32m      4\u001b[0m \u001b[0;31m# Display what is in the bucket\u001b[0m\u001b[0;34m\u001b[0m\u001b[0;34m\u001b[0m\u001b[0m\n\u001b[0;32m----> 5\u001b[0;31m \u001b[0mget_ipython\u001b[0m\u001b[0;34m(\u001b[0m\u001b[0;34m)\u001b[0m\u001b[0;34m.\u001b[0m\u001b[0msystem\u001b[0m\u001b[0;34m(\u001b[0m\u001b[0;34m'gsutil ls -al gs://$BUCKET_NAME'\u001b[0m\u001b[0;34m)\u001b[0m\u001b[0;34m\u001b[0m\u001b[0m\n\u001b[0m",
            "\u001b[0;32m/usr/local/lib/python3.5/dist-packages/IPython/core/interactiveshell.py\u001b[0m in \u001b[0;36msystem_piped\u001b[0;34m(self, cmd)\u001b[0m\n\u001b[1;32m   2451\u001b[0m         \u001b[0;31m# a non-None value would trigger :func:`sys.displayhook` calls.\u001b[0m\u001b[0;34m\u001b[0m\u001b[0;34m\u001b[0m\u001b[0m\n\u001b[1;32m   2452\u001b[0m         \u001b[0;31m# Instead, we store the exit_code in user_ns.\u001b[0m\u001b[0;34m\u001b[0m\u001b[0;34m\u001b[0m\u001b[0m\n\u001b[0;32m-> 2453\u001b[0;31m         \u001b[0mself\u001b[0m\u001b[0;34m.\u001b[0m\u001b[0muser_ns\u001b[0m\u001b[0;34m[\u001b[0m\u001b[0;34m'_exit_code'\u001b[0m\u001b[0;34m]\u001b[0m \u001b[0;34m=\u001b[0m \u001b[0msystem\u001b[0m\u001b[0;34m(\u001b[0m\u001b[0mself\u001b[0m\u001b[0;34m.\u001b[0m\u001b[0mvar_expand\u001b[0m\u001b[0;34m(\u001b[0m\u001b[0mcmd\u001b[0m\u001b[0;34m,\u001b[0m \u001b[0mdepth\u001b[0m\u001b[0;34m=\u001b[0m\u001b[0;36m1\u001b[0m\u001b[0;34m)\u001b[0m\u001b[0;34m)\u001b[0m\u001b[0;34m\u001b[0m\u001b[0m\n\u001b[0m\u001b[1;32m   2454\u001b[0m \u001b[0;34m\u001b[0m\u001b[0m\n\u001b[1;32m   2455\u001b[0m     \u001b[0;32mdef\u001b[0m \u001b[0msystem_raw\u001b[0m\u001b[0;34m(\u001b[0m\u001b[0mself\u001b[0m\u001b[0;34m,\u001b[0m \u001b[0mcmd\u001b[0m\u001b[0;34m)\u001b[0m\u001b[0;34m:\u001b[0m\u001b[0;34m\u001b[0m\u001b[0m\n",
            "\u001b[0;32m/usr/local/lib/python3.5/dist-packages/IPython/utils/_process_posix.py\u001b[0m in \u001b[0;36msystem\u001b[0;34m(self, cmd)\u001b[0m\n\u001b[1;32m    154\u001b[0m                 \u001b[0mchild\u001b[0m \u001b[0;34m=\u001b[0m \u001b[0mpexpect\u001b[0m\u001b[0;34m.\u001b[0m\u001b[0mspawnb\u001b[0m\u001b[0;34m(\u001b[0m\u001b[0mself\u001b[0m\u001b[0;34m.\u001b[0m\u001b[0msh\u001b[0m\u001b[0;34m,\u001b[0m \u001b[0margs\u001b[0m\u001b[0;34m=\u001b[0m\u001b[0;34m[\u001b[0m\u001b[0;34m'-c'\u001b[0m\u001b[0;34m,\u001b[0m \u001b[0mcmd\u001b[0m\u001b[0;34m]\u001b[0m\u001b[0;34m)\u001b[0m \u001b[0;31m# Pexpect-U\u001b[0m\u001b[0;34m\u001b[0m\u001b[0m\n\u001b[1;32m    155\u001b[0m             \u001b[0;32melse\u001b[0m\u001b[0;34m:\u001b[0m\u001b[0;34m\u001b[0m\u001b[0m\n\u001b[0;32m--> 156\u001b[0;31m                 \u001b[0mchild\u001b[0m \u001b[0;34m=\u001b[0m \u001b[0mpexpect\u001b[0m\u001b[0;34m.\u001b[0m\u001b[0mspawn\u001b[0m\u001b[0;34m(\u001b[0m\u001b[0mself\u001b[0m\u001b[0;34m.\u001b[0m\u001b[0msh\u001b[0m\u001b[0;34m,\u001b[0m \u001b[0margs\u001b[0m\u001b[0;34m=\u001b[0m\u001b[0;34m[\u001b[0m\u001b[0;34m'-c'\u001b[0m\u001b[0;34m,\u001b[0m \u001b[0mcmd\u001b[0m\u001b[0;34m]\u001b[0m\u001b[0;34m)\u001b[0m  \u001b[0;31m# Vanilla Pexpect\u001b[0m\u001b[0;34m\u001b[0m\u001b[0m\n\u001b[0m\u001b[1;32m    157\u001b[0m             \u001b[0mflush\u001b[0m \u001b[0;34m=\u001b[0m \u001b[0msys\u001b[0m\u001b[0;34m.\u001b[0m\u001b[0mstdout\u001b[0m\u001b[0;34m.\u001b[0m\u001b[0mflush\u001b[0m\u001b[0;34m\u001b[0m\u001b[0m\n\u001b[1;32m    158\u001b[0m             \u001b[0;32mwhile\u001b[0m \u001b[0;32mTrue\u001b[0m\u001b[0;34m:\u001b[0m\u001b[0;34m\u001b[0m\u001b[0m\n",
            "\u001b[0;32m/usr/local/lib/python3.5/dist-packages/pexpect/pty_spawn.py\u001b[0m in \u001b[0;36m__init__\u001b[0;34m(self, command, args, timeout, maxread, searchwindowsize, logfile, cwd, env, ignore_sighup, echo, preexec_fn, encoding, codec_errors, dimensions, use_poll)\u001b[0m\n\u001b[1;32m    202\u001b[0m             \u001b[0mself\u001b[0m\u001b[0;34m.\u001b[0m\u001b[0mname\u001b[0m \u001b[0;34m=\u001b[0m \u001b[0;34m'<pexpect factory incomplete>'\u001b[0m\u001b[0;34m\u001b[0m\u001b[0m\n\u001b[1;32m    203\u001b[0m         \u001b[0;32melse\u001b[0m\u001b[0;34m:\u001b[0m\u001b[0;34m\u001b[0m\u001b[0m\n\u001b[0;32m--> 204\u001b[0;31m             \u001b[0mself\u001b[0m\u001b[0;34m.\u001b[0m\u001b[0m_spawn\u001b[0m\u001b[0;34m(\u001b[0m\u001b[0mcommand\u001b[0m\u001b[0;34m,\u001b[0m \u001b[0margs\u001b[0m\u001b[0;34m,\u001b[0m \u001b[0mpreexec_fn\u001b[0m\u001b[0;34m,\u001b[0m \u001b[0mdimensions\u001b[0m\u001b[0;34m)\u001b[0m\u001b[0;34m\u001b[0m\u001b[0m\n\u001b[0m\u001b[1;32m    205\u001b[0m         \u001b[0mself\u001b[0m\u001b[0;34m.\u001b[0m\u001b[0muse_poll\u001b[0m \u001b[0;34m=\u001b[0m \u001b[0muse_poll\u001b[0m\u001b[0;34m\u001b[0m\u001b[0m\n\u001b[1;32m    206\u001b[0m \u001b[0;34m\u001b[0m\u001b[0m\n",
            "\u001b[0;32m/usr/local/lib/python3.5/dist-packages/pexpect/pty_spawn.py\u001b[0m in \u001b[0;36m_spawn\u001b[0;34m(self, command, args, preexec_fn, dimensions)\u001b[0m\n\u001b[1;32m    301\u001b[0m \u001b[0;34m\u001b[0m\u001b[0m\n\u001b[1;32m    302\u001b[0m         self.ptyproc = self._spawnpty(self.args, env=self.env,\n\u001b[0;32m--> 303\u001b[0;31m                                      cwd=self.cwd, **kwargs)\n\u001b[0m\u001b[1;32m    304\u001b[0m \u001b[0;34m\u001b[0m\u001b[0m\n\u001b[1;32m    305\u001b[0m         \u001b[0mself\u001b[0m\u001b[0;34m.\u001b[0m\u001b[0mpid\u001b[0m \u001b[0;34m=\u001b[0m \u001b[0mself\u001b[0m\u001b[0;34m.\u001b[0m\u001b[0mptyproc\u001b[0m\u001b[0;34m.\u001b[0m\u001b[0mpid\u001b[0m\u001b[0;34m\u001b[0m\u001b[0m\n",
            "\u001b[0;32m/usr/local/lib/python3.5/dist-packages/pexpect/pty_spawn.py\u001b[0m in \u001b[0;36m_spawnpty\u001b[0;34m(self, args, **kwargs)\u001b[0m\n\u001b[1;32m    312\u001b[0m     \u001b[0;32mdef\u001b[0m \u001b[0m_spawnpty\u001b[0m\u001b[0;34m(\u001b[0m\u001b[0mself\u001b[0m\u001b[0;34m,\u001b[0m \u001b[0margs\u001b[0m\u001b[0;34m,\u001b[0m \u001b[0;34m**\u001b[0m\u001b[0mkwargs\u001b[0m\u001b[0;34m)\u001b[0m\u001b[0;34m:\u001b[0m\u001b[0;34m\u001b[0m\u001b[0m\n\u001b[1;32m    313\u001b[0m         \u001b[0;34m'''Spawn a pty and return an instance of PtyProcess.'''\u001b[0m\u001b[0;34m\u001b[0m\u001b[0m\n\u001b[0;32m--> 314\u001b[0;31m         \u001b[0;32mreturn\u001b[0m \u001b[0mptyprocess\u001b[0m\u001b[0;34m.\u001b[0m\u001b[0mPtyProcess\u001b[0m\u001b[0;34m.\u001b[0m\u001b[0mspawn\u001b[0m\u001b[0;34m(\u001b[0m\u001b[0margs\u001b[0m\u001b[0;34m,\u001b[0m \u001b[0;34m**\u001b[0m\u001b[0mkwargs\u001b[0m\u001b[0;34m)\u001b[0m\u001b[0;34m\u001b[0m\u001b[0m\n\u001b[0m\u001b[1;32m    315\u001b[0m \u001b[0;34m\u001b[0m\u001b[0m\n\u001b[1;32m    316\u001b[0m     \u001b[0;32mdef\u001b[0m \u001b[0mclose\u001b[0m\u001b[0;34m(\u001b[0m\u001b[0mself\u001b[0m\u001b[0;34m,\u001b[0m \u001b[0mforce\u001b[0m\u001b[0;34m=\u001b[0m\u001b[0;32mTrue\u001b[0m\u001b[0;34m)\u001b[0m\u001b[0;34m:\u001b[0m\u001b[0;34m\u001b[0m\u001b[0m\n",
            "\u001b[0;32m/usr/local/lib/python3.5/dist-packages/ptyprocess/ptyprocess.py\u001b[0m in \u001b[0;36mspawn\u001b[0;34m(cls, argv, cwd, env, echo, preexec_fn, dimensions)\u001b[0m\n\u001b[1;32m    224\u001b[0m \u001b[0;34m\u001b[0m\u001b[0m\n\u001b[1;32m    225\u001b[0m         \u001b[0;32mif\u001b[0m \u001b[0muse_native_pty_fork\u001b[0m\u001b[0;34m:\u001b[0m\u001b[0;34m\u001b[0m\u001b[0m\n\u001b[0;32m--> 226\u001b[0;31m             \u001b[0mpid\u001b[0m\u001b[0;34m,\u001b[0m \u001b[0mfd\u001b[0m \u001b[0;34m=\u001b[0m \u001b[0mpty\u001b[0m\u001b[0;34m.\u001b[0m\u001b[0mfork\u001b[0m\u001b[0;34m(\u001b[0m\u001b[0;34m)\u001b[0m\u001b[0;34m\u001b[0m\u001b[0m\n\u001b[0m\u001b[1;32m    227\u001b[0m         \u001b[0;32melse\u001b[0m\u001b[0;34m:\u001b[0m\u001b[0;34m\u001b[0m\u001b[0m\n\u001b[1;32m    228\u001b[0m             \u001b[0;31m# Use internal fork_pty, for Solaris\u001b[0m\u001b[0;34m\u001b[0m\u001b[0;34m\u001b[0m\u001b[0m\n",
            "\u001b[0;32m/usr/lib/python3.5/pty.py\u001b[0m in \u001b[0;36mfork\u001b[0;34m()\u001b[0m\n\u001b[1;32m     95\u001b[0m \u001b[0;34m\u001b[0m\u001b[0m\n\u001b[1;32m     96\u001b[0m     \u001b[0mmaster_fd\u001b[0m\u001b[0;34m,\u001b[0m \u001b[0mslave_fd\u001b[0m \u001b[0;34m=\u001b[0m \u001b[0mopenpty\u001b[0m\u001b[0;34m(\u001b[0m\u001b[0;34m)\u001b[0m\u001b[0;34m\u001b[0m\u001b[0m\n\u001b[0;32m---> 97\u001b[0;31m     \u001b[0mpid\u001b[0m \u001b[0;34m=\u001b[0m \u001b[0mos\u001b[0m\u001b[0;34m.\u001b[0m\u001b[0mfork\u001b[0m\u001b[0;34m(\u001b[0m\u001b[0;34m)\u001b[0m\u001b[0;34m\u001b[0m\u001b[0m\n\u001b[0m\u001b[1;32m     98\u001b[0m     \u001b[0;32mif\u001b[0m \u001b[0mpid\u001b[0m \u001b[0;34m==\u001b[0m \u001b[0mCHILD\u001b[0m\u001b[0;34m:\u001b[0m\u001b[0;34m\u001b[0m\u001b[0m\n\u001b[1;32m     99\u001b[0m         \u001b[0;31m# Establish a new session.\u001b[0m\u001b[0;34m\u001b[0m\u001b[0;34m\u001b[0m\u001b[0m\n",
            "\u001b[0;31mOSError\u001b[0m: [Errno 12] Cannot allocate memory"
          ]
        }
      ]
    },
    {
      "cell_type": "code",
      "metadata": {
        "id": "1Mvp5It7wVUH",
        "colab_type": "code",
        "colab": {}
      },
      "source": [
        "JOB_DIR = 'gs://' + BUCKET_NAME + '/my_sentiment_analysis_model'"
      ],
      "execution_count": 0,
      "outputs": []
    },
    {
      "cell_type": "code",
      "metadata": {
        "id": "voqIjnDtwVUK",
        "colab_type": "code",
        "colab": {}
      },
      "source": [
        "# Export the model to a local SavedModel directory \n",
        "# export_path = tf.contrib.saved_model.save_keras_model(model, 'keras_export')\n",
        "# print(\"Model exported to: \", export_path)\n",
        "\n",
        "# Export the model to a SavedModel directory in Cloud Storage\n",
        "export_path = tf.saved_model.save(model, JOB_DIR + '/0002')\n",
        "# print(\"Model exported to: \", export_path)"
      ],
      "execution_count": 0,
      "outputs": []
    },
    {
      "cell_type": "markdown",
      "metadata": {
        "id": "K7QgHPaYwVUP",
        "colab_type": "text"
      },
      "source": [
        "# Create the Model in the AI Platform"
      ]
    },
    {
      "cell_type": "code",
      "metadata": {
        "id": "fkqC3Yj7wVUP",
        "colab_type": "code",
        "outputId": "b8922455-7921-4915-b84d-b6eb07d57fbf",
        "colab": {}
      },
      "source": [
        "MODEL_NAME = \"my_sentiment_analysis\"\n",
        "\n",
        "! gcloud ai-platform models create $MODEL_NAME --regions $REGION"
      ],
      "execution_count": 0,
      "outputs": [
        {
          "output_type": "stream",
          "text": [
            "\u001b[1;31mERROR:\u001b[0m (gcloud.ai-platform.models.create) Resource in project [utopian-rush-255612] is the subject of a conflict: Field: model.name Error: A model with the same name already exists.\n",
            "- '@type': type.googleapis.com/google.rpc.BadRequest\n",
            "  fieldViolations:\n",
            "  - description: A model with the same name already exists.\n",
            "    field: model.name\n"
          ],
          "name": "stdout"
        }
      ]
    },
    {
      "cell_type": "markdown",
      "metadata": {
        "id": "5nSXSaiXwVUQ",
        "colab_type": "text"
      },
      "source": [
        "# Create the Version of the Model in AI Platform\n",
        "## Note: I created the version directly in the GUI"
      ]
    },
    {
      "cell_type": "markdown",
      "metadata": {
        "id": "W9olGf-QwVUQ",
        "colab_type": "raw"
      },
      "source": [
        "MODEL_VERSION = \"v1\"\n",
        "\n",
        "# Get a list of directories in the `keras_export` parent directory\n",
        "KERAS_EXPORT_DIRS = ! gsutil ls $JOB_DIR/0001/\n",
        "\n",
        "# Pick the directory with the latest timestamp, in case you've trained\n",
        "# multiple times\n",
        "SAVED_MODEL_PATH = KERAS_EXPORT_DIRS[-1]\n",
        "\n",
        "# Create model version based on that SavedModel directory\n",
        "! gcloud ai-platform versions create $MODEL_VERSION \\\n",
        "  --model $MODEL_NAME \\\n",
        "  --runtime-version 1.13 \\\n",
        "  --python-version 3.5 \\\n",
        "  --framework tensorflow \\\n",
        "  --origin $SAVED_MODEL_PATH"
      ]
    },
    {
      "cell_type": "markdown",
      "metadata": {
        "id": "7RQ1p2HCwVUQ",
        "colab_type": "text"
      },
      "source": [
        "# Create Service Account to Access the Service in a Secure Fashion"
      ]
    },
    {
      "cell_type": "markdown",
      "metadata": {
        "id": "ZZWDiPKMwVUQ",
        "colab_type": "text"
      },
      "source": [
        "### I created the service account directly in the GUI"
      ]
    },
    {
      "cell_type": "markdown",
      "metadata": {
        "id": "Jvw6Jr9ZwVUR",
        "colab_type": "text"
      },
      "source": [
        "### I downloaded the secure key (json file) in my jupyter space to be used later by another notebook\n"
      ]
    }
  ]
}