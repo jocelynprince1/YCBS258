{
  "nbformat": 4,
  "nbformat_minor": 0,
  "metadata": {
    "kernelspec": {
      "name": "python3",
      "display_name": "Python 3"
    },
    "language_info": {
      "codemirror_mode": {
        "name": "ipython",
        "version": 3
      },
      "file_extension": ".py",
      "mimetype": "text/x-python",
      "name": "python",
      "nbconvert_exporter": "python",
      "pygments_lexer": "ipython3",
      "version": "3.5.3"
    },
    "colab": {
      "name": "H6 JPrince File 1 - NLP with Universal Encoder.ipynb",
      "provenance": [],
      "collapsed_sections": [],
      "toc_visible": true,
      "include_colab_link": true
    },
    "accelerator": "GPU"
  },
  "cells": [
    {
      "cell_type": "markdown",
      "metadata": {
        "id": "view-in-github",
        "colab_type": "text"
      },
      "source": [
        "<a href=\"https://colab.research.google.com/github/jocelynprince1/YCBS258/blob/master/H6_JPrince_File_1_NLP_with_Universal_Encoder.ipynb\" target=\"_parent\"><img src=\"https://colab.research.google.com/assets/colab-badge.svg\" alt=\"Open In Colab\"/></a>"
      ]
    },
    {
      "cell_type": "markdown",
      "metadata": {
        "id": "zJPvEnC3wVR8",
        "colab_type": "text"
      },
      "source": [
        "# Final Project - YCBS258 - Experimenting with NLP Tensorflow Hub modules\n",
        "\n",
        "#### Submitted by Jocelyn Prince (2019/12/18)\n",
        "---"
      ]
    },
    {
      "cell_type": "markdown",
      "metadata": {
        "id": "j3PXQr6jwVR_",
        "colab_type": "text"
      },
      "source": [
        "## Sentiment Analysis Project - Post to Medium\n",
        "#### NLP with the following Modules from Tensorflow Hub\n",
        "* nnlm-en-dim128\n",
        "* Universal Sentence Encoder\n",
        "\n",
        "\n",
        "### Description\n",
        "Use some modules available in Tensorflow Hub to experiment NLP tasks.  Deploy a model on Google's AI-Platform (also called ML Engine) and demonstrate the model returning a prediction.\n",
        "\n",
        "Details:\n",
        "* Dataset for training: Sentiment140 (source: http://help.sentiment140.com/for-students/)\n",
        "\n",
        "References:\n",
        "\n",
        "* Prateek Joshi and his post: https://www.analyticsvidhya.com/blog/2019/03/learn-to-use-elmo-to-extract-features-from-text/\n",
        "\n",
        "* https://arxiv.org/pdf/1802.05365.pdf\n",
        "\n",
        "* https://colab.research.google.com/github/tensorflow/hub/blob/master/examples/colab/tf2_text_classification.ipynb#scrollTo=Eg62Pmz3o83v\n",
        "\n",
        "* Aurélien Géron’s Book: hands-on Machine Learning with Scikit-Learn, Keras and Tensorflow, O’Reilly Media Inc.\n",
        "-----"
      ]
    },
    {
      "cell_type": "code",
      "metadata": {
        "id": "2SdkIyLkwvS5",
        "colab_type": "code",
        "colab": {}
      },
      "source": [
        "!pip install --upgrade tensorflow"
      ],
      "execution_count": 0,
      "outputs": []
    },
    {
      "cell_type": "code",
      "metadata": {
        "id": "j3jSYsq3xivL",
        "colab_type": "code",
        "colab": {}
      },
      "source": [
        "!pip install --upgrade scikit-learn"
      ],
      "execution_count": 0,
      "outputs": []
    },
    {
      "cell_type": "code",
      "metadata": {
        "id": "ebK2jkUSy2tD",
        "colab_type": "code",
        "colab": {}
      },
      "source": [
        "from google.colab import drive\n",
        "drive.mount('/content/drive')"
      ],
      "execution_count": 0,
      "outputs": []
    },
    {
      "cell_type": "markdown",
      "metadata": {
        "id": "RWWK_HdOwVSA",
        "colab_type": "text"
      },
      "source": [
        "# Import Libraries"
      ]
    },
    {
      "cell_type": "code",
      "metadata": {
        "id": "plokcj6CwVSB",
        "colab_type": "code",
        "outputId": "efa97258-09d3-451c-b87b-ef6d1f761447",
        "colab": {
          "base_uri": "https://localhost:8080/",
          "height": 34
        }
      },
      "source": [
        "# This Notebook needs to be executed under Python ≥3.5 and TensorFlow >= 2.0\n",
        "import sys\n",
        "assert sys.version_info >= (3, 5)\n",
        "import tensorflow as tf\n",
        "from tensorflow import keras\n",
        "from tensorflow.keras import layers\n",
        "from tensorflow.keras.layers import Dense, Dropout\n",
        "from tensorflow.keras import optimizers\n",
        "import tensorflow_hub as hub\n",
        "assert tf.__version__ >= \"2.0\"\n",
        "\n",
        "# Minimum Requirement for Scikit-Learn ≥0.20 is required\n",
        "import sklearn\n",
        "assert sklearn.__version__ >= \"0.20\"\n",
        "\n",
        "try:\n",
        "    # %tensorflow_version only exists in Colab.\n",
        "    %tensorflow_version 2.x\n",
        "    !pip install -q -U tensorflow-addons\n",
        "    IS_COLAB = True\n",
        "except Exception:\n",
        "    IS_COLAB = False\n",
        "\n",
        "if not tf.test.is_gpu_available():\n",
        "    print(\"No GPU was detected. This code can be very slow without a GPU.\")\n",
        "    if IS_COLAB:\n",
        "        print(\"Go to Runtime > Change runtime and select a GPU hardware accelerator.\")\n",
        "\n",
        "# Common imports\n",
        "import time\n",
        "import pandas as pd\n",
        "import numpy as np\n",
        "import os\n",
        "\n",
        "# to make this notebook's output stable across runs\n",
        "np.random.seed(20)\n",
        "tf.random.set_seed(20)\n",
        "\n",
        "# To plot pretty figures\n",
        "# %matplotlib inline\n",
        "# import matplotlib as mpl\n",
        "# import matplotlib.pyplot as plt\n",
        "# mpl.rc('axes', labelsize=14)\n",
        "# mpl.rc('xtick', labelsize=12)\n",
        "# mpl.rc('ytick', labelsize=12)\n",
        "# mpl.rcParams['figure.figsize'] = (8, 6)\n",
        "# mpl.rcParams['axes.grid'] = False\n",
        "\n",
        "# Where to save the figures\n",
        "PROJECT_ROOT_DIR = \".\"\n",
        "FOLDER= \"rnn\"\n",
        "IMAGES_PATH = os.path.join(PROJECT_ROOT_DIR, \"images\", FOLDER)\n",
        "os.makedirs(IMAGES_PATH, exist_ok=True)\n",
        "\n",
        "def save_fig(fig_id, tight_layout=True, fig_extension=\"png\", resolution=300):\n",
        "    path = os.path.join(IMAGES_PATH, fig_id + \".\" + fig_extension)\n",
        "    print(\"Saving figure\", fig_id)\n",
        "    if tight_layout:\n",
        "        plt.tight_layout()\n",
        "    plt.savefig(path, format=fig_extension, dpi=resolution)"
      ],
      "execution_count": 1,
      "outputs": [
        {
          "output_type": "stream",
          "text": [
            "TensorFlow is already loaded. Please restart the runtime to change versions.\n"
          ],
          "name": "stdout"
        }
      ]
    },
    {
      "cell_type": "code",
      "metadata": {
        "id": "IYhwnfGNwVSE",
        "colab_type": "code",
        "outputId": "cac53727-e7e7-45ff-ba71-1980f8d90e6f",
        "colab": {
          "base_uri": "https://localhost:8080/",
          "height": 34
        }
      },
      "source": [
        "tf.__version__"
      ],
      "execution_count": 6,
      "outputs": [
        {
          "output_type": "execute_result",
          "data": {
            "text/plain": [
              "'2.0.0'"
            ]
          },
          "metadata": {
            "tags": []
          },
          "execution_count": 6
        }
      ]
    },
    {
      "cell_type": "code",
      "metadata": {
        "id": "o6_s80j-wVSH",
        "colab_type": "code",
        "outputId": "b9b9260b-9029-4799-c82b-7e8ddcc0fe08",
        "colab": {
          "base_uri": "https://localhost:8080/",
          "height": 34
        }
      },
      "source": [
        "import tensorflow as tf\n",
        "tf.test.is_gpu_available()"
      ],
      "execution_count": 2,
      "outputs": [
        {
          "output_type": "execute_result",
          "data": {
            "text/plain": [
              "True"
            ]
          },
          "metadata": {
            "tags": []
          },
          "execution_count": 2
        }
      ]
    },
    {
      "cell_type": "code",
      "metadata": {
        "id": "nOWr4QJtwVSL",
        "colab_type": "code",
        "colab": {}
      },
      "source": [
        "# The spacy module needs to be installed\n",
        "!pip install spacy\n",
        "\n",
        "# The english module needs to be downloaded if not already\n",
        "!python3 -m spacy download en"
      ],
      "execution_count": 0,
      "outputs": []
    },
    {
      "cell_type": "code",
      "metadata": {
        "id": "fsPPJ7GSwVSP",
        "colab_type": "code",
        "colab": {}
      },
      "source": [
        "# Import other common libraries\n",
        "from sklearn.model_selection import train_test_split\n",
        "from sklearn.preprocessing import LabelEncoder\n",
        "from sklearn.metrics import confusion_matrix\n",
        "from sklearn.metrics import accuracy_score \n",
        "import itertools\n",
        "import re\n",
        "import spacy"
      ],
      "execution_count": 0,
      "outputs": []
    },
    {
      "cell_type": "markdown",
      "metadata": {
        "id": "PnhiKv3swVSQ",
        "colab_type": "text"
      },
      "source": [
        "# Import Dataset: Sentiment140 Tweets\n"
      ]
    },
    {
      "cell_type": "code",
      "metadata": {
        "id": "X0pOwuJ50YQ4",
        "colab_type": "code",
        "colab": {}
      },
      "source": [
        "trainfile = \"/content/drive/My Drive/Colab Notebooks/Final_Project/data/training.1600000.processed.noemoticon.csv\"\n",
        "testfile = \"/content/drive/My Drive/Colab Notebooks/Final_Project/data/testdata.manual.2009.06.14.csv\"\n",
        "columns = ['polarity','id','date','query_string','twitter_user','tweet']"
      ],
      "execution_count": 0,
      "outputs": []
    },
    {
      "cell_type": "code",
      "metadata": {
        "id": "-2zIJ-SewVSR",
        "colab_type": "code",
        "outputId": "845cce10-9007-4848-ec9d-565d1166ea89",
        "colab": {
          "base_uri": "https://localhost:8080/",
          "height": 34
        }
      },
      "source": [
        "# Import Train data set\n",
        "df_train = pd.read_csv(trainfile,\n",
        "                 header=None, \n",
        "                 names=columns, \n",
        "                 encoding='latin-1')\n",
        "df_train.shape"
      ],
      "execution_count": 11,
      "outputs": [
        {
          "output_type": "execute_result",
          "data": {
            "text/plain": [
              "(1600000, 6)"
            ]
          },
          "metadata": {
            "tags": []
          },
          "execution_count": 11
        }
      ]
    },
    {
      "cell_type": "code",
      "metadata": {
        "id": "fzmQ87eCVsFY",
        "colab_type": "code",
        "outputId": "91b13795-86f7-4815-a00c-55fafdcce703",
        "colab": {
          "base_uri": "https://localhost:8080/",
          "height": 34
        }
      },
      "source": [
        "# Import Test data set\n",
        "df_test = pd.read_csv(testfile,\n",
        "                 header=None, \n",
        "                 names=columns, \n",
        "                 encoding='latin-1')\n",
        "df_test.shape"
      ],
      "execution_count": 12,
      "outputs": [
        {
          "output_type": "execute_result",
          "data": {
            "text/plain": [
              "(498, 6)"
            ]
          },
          "metadata": {
            "tags": []
          },
          "execution_count": 12
        }
      ]
    },
    {
      "cell_type": "markdown",
      "metadata": {
        "id": "xnrUiuGQF4Cp",
        "colab_type": "text"
      },
      "source": [
        "# Data Preprocessing"
      ]
    },
    {
      "cell_type": "markdown",
      "metadata": {
        "id": "ODIGKgr2wVST",
        "colab_type": "text"
      },
      "source": [
        "## Explore Data"
      ]
    },
    {
      "cell_type": "code",
      "metadata": {
        "id": "nkXheD3IwVSU",
        "colab_type": "code",
        "outputId": "46dc52c1-7479-49d5-8703-de98ddd5104b",
        "colab": {
          "base_uri": "https://localhost:8080/",
          "height": 204
        }
      },
      "source": [
        "df_train.info()"
      ],
      "execution_count": 13,
      "outputs": [
        {
          "output_type": "stream",
          "text": [
            "<class 'pandas.core.frame.DataFrame'>\n",
            "RangeIndex: 1600000 entries, 0 to 1599999\n",
            "Data columns (total 6 columns):\n",
            "polarity        1600000 non-null int64\n",
            "id              1600000 non-null int64\n",
            "date            1600000 non-null object\n",
            "query_string    1600000 non-null object\n",
            "twitter_user    1600000 non-null object\n",
            "tweet           1600000 non-null object\n",
            "dtypes: int64(2), object(4)\n",
            "memory usage: 73.2+ MB\n"
          ],
          "name": "stdout"
        }
      ]
    },
    {
      "cell_type": "code",
      "metadata": {
        "id": "sNm8JcOGwVSZ",
        "colab_type": "code",
        "outputId": "706465ac-b7e5-4b1b-e565-4b24e8d9cbeb",
        "colab": {
          "base_uri": "https://localhost:8080/",
          "height": 204
        }
      },
      "source": [
        "df_train.tweet[0:10]"
      ],
      "execution_count": 14,
      "outputs": [
        {
          "output_type": "execute_result",
          "data": {
            "text/plain": [
              "0    @switchfoot http://twitpic.com/2y1zl - Awww, t...\n",
              "1    is upset that he can't update his Facebook by ...\n",
              "2    @Kenichan I dived many times for the ball. Man...\n",
              "3      my whole body feels itchy and like its on fire \n",
              "4    @nationwideclass no, it's not behaving at all....\n",
              "5                        @Kwesidei not the whole crew \n",
              "6                                          Need a hug \n",
              "7    @LOLTrish hey  long time no see! Yes.. Rains a...\n",
              "8                 @Tatiana_K nope they didn't have it \n",
              "9                            @twittera que me muera ? \n",
              "Name: tweet, dtype: object"
            ]
          },
          "metadata": {
            "tags": []
          },
          "execution_count": 14
        }
      ]
    },
    {
      "cell_type": "code",
      "metadata": {
        "id": "6AIFHAJEwVSm",
        "colab_type": "code",
        "outputId": "dce1ec5f-f435-41c0-c605-60609978d9af",
        "colab": {
          "base_uri": "https://localhost:8080/",
          "height": 427
        }
      },
      "source": [
        "df_train.hist([\"polarity\"])"
      ],
      "execution_count": 15,
      "outputs": [
        {
          "output_type": "execute_result",
          "data": {
            "text/plain": [
              "array([[<matplotlib.axes._subplots.AxesSubplot object at 0x7f4d2cf7deb8>]],\n",
              "      dtype=object)"
            ]
          },
          "metadata": {
            "tags": []
          },
          "execution_count": 15
        },
        {
          "output_type": "display_data",
          "data": {
            "image/png": "[encoded data removed]",
            "text/plain": [
              "<Figure size 576x432 with 1 Axes>"
            ]
          },
          "metadata": {
            "tags": []
          }
        }
      ]
    },
    {
      "cell_type": "code",
      "metadata": {
        "id": "ZfjvdFKKgtSX",
        "colab_type": "code",
        "colab": {
          "base_uri": "https://localhost:8080/",
          "height": 427
        },
        "outputId": "4ccc89f2-872d-4d75-966c-fc4a6d44a512"
      },
      "source": [
        "df_test.hist([\"polarity\"])"
      ],
      "execution_count": 16,
      "outputs": [
        {
          "output_type": "execute_result",
          "data": {
            "text/plain": [
              "array([[<matplotlib.axes._subplots.AxesSubplot object at 0x7f4d2ce8e278>]],\n",
              "      dtype=object)"
            ]
          },
          "metadata": {
            "tags": []
          },
          "execution_count": 16
        },
        {
          "output_type": "display_data",
          "data": {
            "image/png": "[encoded data removed]",
            "text/plain": [
              "<Figure size 576x432 with 1 Axes>"
            ]
          },
          "metadata": {
            "tags": []
          }
        }
      ]
    },
    {
      "cell_type": "markdown",
      "metadata": {
        "id": "0AvKcNexwVSb",
        "colab_type": "text"
      },
      "source": [
        "## Split Train and Test dataset\n"
      ]
    },
    {
      "cell_type": "code",
      "metadata": {
        "id": "ZjmhCyNDwVSb",
        "colab_type": "code",
        "colab": {}
      },
      "source": [
        "NUMTRAIN = 150000\n",
        "NUMTEST = 3000\n",
        "train_set = df_train[['id','polarity', 'tweet']].sample(NUMTRAIN)\n",
        "test_set = df_train[['id','polarity', 'tweet']].sample(NUMTEST)"
      ],
      "execution_count": 0,
      "outputs": []
    },
    {
      "cell_type": "code",
      "metadata": {
        "colab_type": "code",
        "id": "x4HHhD2xsZRj",
        "colab": {}
      },
      "source": [
        "X_train = train_set.drop(\"polarity\", axis=1) # drop labels for training set\n",
        "y_train = train_set[\"polarity\"].copy()"
      ],
      "execution_count": 0,
      "outputs": []
    },
    {
      "cell_type": "code",
      "metadata": {
        "colab_type": "code",
        "id": "v9ZipZszbVR6",
        "colab": {}
      },
      "source": [
        "X_test = test_set.drop(\"polarity\", axis=1) # drop labels for test set\n",
        "y_test = test_set[\"polarity\"].copy()"
      ],
      "execution_count": 0,
      "outputs": []
    },
    {
      "cell_type": "code",
      "metadata": {
        "id": "Se92l7Q-wVSh",
        "colab_type": "code",
        "outputId": "52511b3c-acab-4972-f680-1411036efd6b",
        "colab": {
          "base_uri": "https://localhost:8080/",
          "height": 85
        }
      },
      "source": [
        "print(\"X_train: \" + str(X_train.shape) + str(type(X_train)))\n",
        "print(\"y_train: \"+ str(y_train.shape)+ str(type(y_train)))\n",
        "print(\"X_test: \" + str(X_test.shape) + str(type(X_test)))\n",
        "print(\"y_test: \"+ str(y_test.shape)+ str(type(y_test)))"
      ],
      "execution_count": 20,
      "outputs": [
        {
          "output_type": "stream",
          "text": [
            "X_train: (150000, 2)<class 'pandas.core.frame.DataFrame'>\n",
            "y_train: (150000,)<class 'pandas.core.series.Series'>\n",
            "X_test: (3000, 2)<class 'pandas.core.frame.DataFrame'>\n",
            "y_test: (3000,)<class 'pandas.core.series.Series'>\n"
          ],
          "name": "stdout"
        }
      ]
    },
    {
      "cell_type": "code",
      "metadata": {
        "id": "pQa9BSQlspx7",
        "colab_type": "code",
        "outputId": "b883cc95-ff53-43c7-a14a-b0d2235f6684",
        "colab": {
          "base_uri": "https://localhost:8080/",
          "height": 119
        }
      },
      "source": [
        "y_train.head()\n"
      ],
      "execution_count": 21,
      "outputs": [
        {
          "output_type": "execute_result",
          "data": {
            "text/plain": [
              "313228     0\n",
              "253601     0\n",
              "1041037    4\n",
              "217422     0\n",
              "495067     0\n",
              "Name: polarity, dtype: int64"
            ]
          },
          "metadata": {
            "tags": []
          },
          "execution_count": 21
        }
      ]
    },
    {
      "cell_type": "markdown",
      "metadata": {
        "colab_type": "text",
        "id": "NU1GAB7QsFjV"
      },
      "source": [
        "## Functions : Text-preprocessing and Lemmatize (Normalize) Tweets"
      ]
    },
    {
      "cell_type": "code",
      "metadata": {
        "colab_type": "code",
        "id": "WNL4fPQ4sFjY",
        "colab": {}
      },
      "source": [
        "def text_processing(tweet):\n",
        "    # remove https links\n",
        "    clean_tweet = re.sub(r'http\\S+', '', tweet)\n",
        "    # remove punctuation marks\n",
        "    punctuation = '!\"#$%&()*+-/:;<=>?@[\\\\]^_`{|}~'\n",
        "    clean_tweet = ''.join(ch for ch in clean_tweet if ch not in set(punctuation))\n",
        "    # convert text to lowercase\n",
        "    clean_tweet = clean_tweet.lower()\n",
        "    # remove numbers\n",
        "    clean_tweet = re.sub('\\d', ' ', clean_tweet)\n",
        "    # remove whitespaces\n",
        "    clean_tweet = ' '.join(clean_tweet.split())\n",
        "    return clean_tweet"
      ],
      "execution_count": 0,
      "outputs": []
    },
    {
      "cell_type": "code",
      "metadata": {
        "colab_type": "code",
        "id": "t3e_9D4HsFjb",
        "colab": {}
      },
      "source": [
        "# import the english language model from spacy'\n",
        "nlp = spacy.load('en', disable=['parser', 'ner'])\n",
        "#nlp = spacy.load('en')\n",
        "\n",
        "# function to lemmatize text\n",
        "def lemmatization(tweets):\n",
        "    lemma_tweet = []\n",
        "    for i in tweets:\n",
        "        t = [token.lemma_ for token in nlp(i)]\n",
        "        lemma_tweet.append(' '.join(t))\n",
        "    return lemma_tweet"
      ],
      "execution_count": 0,
      "outputs": []
    },
    {
      "cell_type": "code",
      "metadata": {
        "colab_type": "code",
        "id": "rN3t3xtEsFjd",
        "colab": {}
      },
      "source": [
        "X_train['clean_tweet'] = X_train['tweet'].apply(lambda x: text_processing(x))\n",
        "X_test['clean_tweet'] = X_test['tweet'].apply(lambda x: text_processing(x))"
      ],
      "execution_count": 0,
      "outputs": []
    },
    {
      "cell_type": "code",
      "metadata": {
        "colab_type": "code",
        "outputId": "f149ced4-9295-4b78-de8a-6298c347e296",
        "id": "cBSFgM-JsFjg",
        "colab": {
          "base_uri": "https://localhost:8080/",
          "height": 204
        }
      },
      "source": [
        "X_train.head()"
      ],
      "execution_count": 25,
      "outputs": [
        {
          "output_type": "execute_result",
          "data": {
            "text/html": [
              "<div>\n",
              "<style scoped>\n",
              "    .dataframe tbody tr th:only-of-type {\n",
              "        vertical-align: middle;\n",
              "    }\n",
              "\n",
              "    .dataframe tbody tr th {\n",
              "        vertical-align: top;\n",
              "    }\n",
              "\n",
              "    .dataframe thead th {\n",
              "        text-align: right;\n",
              "    }\n",
              "</style>\n",
              "<table border=\"1\" class=\"dataframe\">\n",
              "  <thead>\n",
              "    <tr style=\"text-align: right;\">\n",
              "      <th></th>\n",
              "      <th>id</th>\n",
              "      <th>tweet</th>\n",
              "      <th>clean_tweet</th>\n",
              "    </tr>\n",
              "  </thead>\n",
              "  <tbody>\n",
              "    <tr>\n",
              "      <th>313228</th>\n",
              "      <td>2001705696</td>\n",
              "      <td>@yaeljk get to a show girl! Do whatcha gotta d...</td>\n",
              "      <td>yaeljk get to a show girl do whatcha gotta do ...</td>\n",
              "    </tr>\n",
              "    <tr>\n",
              "      <th>253601</th>\n",
              "      <td>1984029518</td>\n",
              "      <td>Ex boyfriends suck  -pete! the alien-</td>\n",
              "      <td>ex boyfriends suck pete the alien</td>\n",
              "    </tr>\n",
              "    <tr>\n",
              "      <th>1041037</th>\n",
              "      <td>1957027349</td>\n",
              "      <td>.@SpacieStaycie which one did you like best?</td>\n",
              "      <td>.spaciestaycie which one did you like best</td>\n",
              "    </tr>\n",
              "    <tr>\n",
              "      <th>217422</th>\n",
              "      <td>1975936563</td>\n",
              "      <td>damn my back is hella hurtting at work</td>\n",
              "      <td>damn my back is hella hurtting at work</td>\n",
              "    </tr>\n",
              "    <tr>\n",
              "      <th>495067</th>\n",
              "      <td>2185120448</td>\n",
              "      <td>@tristanwilds unfortunately my days already over</td>\n",
              "      <td>tristanwilds unfortunately my days already over</td>\n",
              "    </tr>\n",
              "  </tbody>\n",
              "</table>\n",
              "</div>"
            ],
            "text/plain": [
              "                 id  ...                                        clean_tweet\n",
              "313228   2001705696  ...  yaeljk get to a show girl do whatcha gotta do ...\n",
              "253601   1984029518  ...                  ex boyfriends suck pete the alien\n",
              "1041037  1957027349  ...         .spaciestaycie which one did you like best\n",
              "217422   1975936563  ...             damn my back is hella hurtting at work\n",
              "495067   2185120448  ...    tristanwilds unfortunately my days already over\n",
              "\n",
              "[5 rows x 3 columns]"
            ]
          },
          "metadata": {
            "tags": []
          },
          "execution_count": 25
        }
      ]
    },
    {
      "cell_type": "code",
      "metadata": {
        "colab_type": "code",
        "outputId": "be67fb3b-957a-4297-f596-cd16741e7782",
        "id": "On7lcZAtsFjk",
        "colab": {
          "base_uri": "https://localhost:8080/",
          "height": 51
        }
      },
      "source": [
        "# This is the cell to generate lemmatized files from the dataset\n",
        "# We may also use already pre-processed files from google drive (see below)\n",
        "%%time\n",
        "X_train[\"clean_tweet\"] = lemmatization(X_train[\"clean_tweet\"])\n",
        "X_test['clean_tweet'] = lemmatization(X_test['clean_tweet'])\n",
        "\n",
        "# Expected time for 90 000 records (disabled : parser and ner): 4.5 min\n",
        "# Expected time for 150 000 records (disabled : parser and ner): 7 min"
      ],
      "execution_count": 26,
      "outputs": [
        {
          "output_type": "stream",
          "text": [
            "CPU times: user 7min 44s, sys: 912 ms, total: 7min 45s\n",
            "Wall time: 7min 46s\n"
          ],
          "name": "stdout"
        }
      ]
    },
    {
      "cell_type": "code",
      "metadata": {
        "colab_type": "code",
        "id": "TQHh1nDCsFjo",
        "colab": {}
      },
      "source": [
        "X_train.head()"
      ],
      "execution_count": 0,
      "outputs": []
    },
    {
      "cell_type": "code",
      "metadata": {
        "colab_type": "code",
        "id": "guD3Udw5sFjq",
        "colab": {}
      },
      "source": [
        "X_test.head()"
      ],
      "execution_count": 0,
      "outputs": []
    },
    {
      "cell_type": "code",
      "metadata": {
        "colab_type": "code",
        "id": "544l5W-CsFjs",
        "outputId": "3d224e6f-564b-4795-b7ce-bec7fe4244ed",
        "colab": {
          "base_uri": "https://localhost:8080/",
          "height": 34
        }
      },
      "source": [
        "# Save lemmatized files to Google Drive for further use\n",
        "\n",
        "# Define file names and folder\n",
        "PATH=\"/content/drive/My Drive/Colab Notebooks/Final_Project/data/\"\n",
        "X_train_lemma_file =  PATH + \"X_train_lemma150k.csv\"\n",
        "X_test_lemma_file =   PATH + \"X_test_lemma3k.csv\"\n",
        "y_train_lemma_file =  PATH + \"y_train_lemma150k.csv\"\n",
        "y_test_lemma_file =   PATH + \"y_test_lemma3k.csv\""
      ],
      "execution_count": 28,
      "outputs": [
        {
          "output_type": "stream",
          "text": [
            "/content/drive/My Drive/Colab Notebooks/Final_Project/data/X_train_lemma150k.csv\n"
          ],
          "name": "stdout"
        }
      ]
    },
    {
      "cell_type": "code",
      "metadata": {
        "id": "aDlHHPasGdM4",
        "colab_type": "code",
        "colab": {}
      },
      "source": [
        "# Save to files\n",
        "X_train.to_csv(X_train_lemma_file, index=False)\n",
        "X_test.to_csv(X_test_lemma_file, index=False)\n",
        "y_train.to_csv(y_train_lemma_file, index=False, header=False)\n",
        "y_test.to_csv(y_test_lemma_file, index=False, header=False)"
      ],
      "execution_count": 0,
      "outputs": []
    },
    {
      "cell_type": "code",
      "metadata": {
        "colab_type": "code",
        "id": "reB19mbBsFju",
        "colab": {}
      },
      "source": [
        "# Import from files already pre-processed from Google Drive\n",
        "X_train = pd.read_csv(X_train_lemma_file)\n",
        "X_test = pd.read_csv(X_test_lemma_file)\n",
        "y_train = pd.read_csv(y_train_lemma_file, squeeze=True, header=None)\n",
        "y_test = pd.read_csv(y_test_lemma_file, squeeze=True, header=None)"
      ],
      "execution_count": 0,
      "outputs": []
    },
    {
      "cell_type": "code",
      "metadata": {
        "id": "8HjOzBmHtZUl",
        "colab_type": "code",
        "colab": {}
      },
      "source": [
        "X_train.head()"
      ],
      "execution_count": 0,
      "outputs": []
    },
    {
      "cell_type": "code",
      "metadata": {
        "id": "Met2egjBhlqv",
        "colab_type": "code",
        "colab": {}
      },
      "source": [
        "X_test.head()"
      ],
      "execution_count": 0,
      "outputs": []
    },
    {
      "cell_type": "code",
      "metadata": {
        "colab_type": "code",
        "id": "_R5wZow5hem2",
        "colab": {}
      },
      "source": [
        "y_train.head"
      ],
      "execution_count": 0,
      "outputs": []
    },
    {
      "cell_type": "code",
      "metadata": {
        "colab_type": "code",
        "id": "2B7zW5a2hem6",
        "colab": {}
      },
      "source": [
        "y_test.head"
      ],
      "execution_count": 0,
      "outputs": []
    },
    {
      "cell_type": "code",
      "metadata": {
        "id": "paOx65evj4gk",
        "colab_type": "code",
        "outputId": "b99500ee-a1fd-4a47-f801-c3db982910fb",
        "colab": {
          "base_uri": "https://localhost:8080/",
          "height": 85
        }
      },
      "source": [
        "print(\"X_train: \" + str(X_train.shape) + str(type(X_train)))\n",
        "print(\"y_train: \"+ str(y_train.shape)+ str(type(y_train)))\n",
        "print(\"X_test: \" + str(X_test.shape) + str(type(X_test)))\n",
        "print(\"y_test: \"+ str(y_test.shape)+ str(type(y_test)))"
      ],
      "execution_count": 0,
      "outputs": [
        {
          "output_type": "stream",
          "text": [
            "X_train: (150000, 3)<class 'pandas.core.frame.DataFrame'>\n",
            "y_train: (150000,)<class 'pandas.core.series.Series'>\n",
            "X_test: (3000, 3)<class 'pandas.core.frame.DataFrame'>\n",
            "y_test: (3000,)<class 'pandas.core.series.Series'>\n"
          ],
          "name": "stdout"
        }
      ]
    },
    {
      "cell_type": "code",
      "metadata": {
        "colab_type": "code",
        "id": "9iKAGDsmsFjw",
        "colab": {}
      },
      "source": [
        "X_train = X_train[\"clean_tweet\"].values\n",
        "X_test = X_test[\"clean_tweet\"].values"
      ],
      "execution_count": 0,
      "outputs": []
    },
    {
      "cell_type": "code",
      "metadata": {
        "colab_type": "code",
        "id": "AKBSZUq_sFjx",
        "colab": {
          "base_uri": "https://localhost:8080/",
          "height": 102
        },
        "outputId": "51552be4-c1b7-4061-8b9b-2badbe21f0f9"
      },
      "source": [
        "print(X_train[0:5])"
      ],
      "execution_count": 31,
      "outputs": [
        {
          "output_type": "stream",
          "text": [
            "['yaeljk get to a show girl do whatcha get to do what if this be -PRON- last tour omg i do not wanna think about -PRON-'\n",
            " 'ex boyfriend suck pete the alien'\n",
            " '.spaciestaycie which one do -PRON- like good'\n",
            " 'damn -PRON- back be hella hurtte at work'\n",
            " 'tristanwild unfortunately -PRON- day already over']\n"
          ],
          "name": "stdout"
        }
      ]
    },
    {
      "cell_type": "markdown",
      "metadata": {
        "id": "butnokpbGBO9",
        "colab_type": "text"
      },
      "source": [
        "## Label Encoding"
      ]
    },
    {
      "cell_type": "code",
      "metadata": {
        "id": "HuTudlIewVSo",
        "colab_type": "code",
        "outputId": "b5023c93-970a-41ae-d634-1a361e92e8ab",
        "colab": {
          "base_uri": "https://localhost:8080/",
          "height": 34
        }
      },
      "source": [
        "label_encoder = LabelEncoder()\n",
        "y_train = label_encoder.fit_transform(y_train)\n",
        "y_test = label_encoder.fit_transform(y_test)                     \n",
        "y_train[:5]"
      ],
      "execution_count": 32,
      "outputs": [
        {
          "output_type": "execute_result",
          "data": {
            "text/plain": [
              "array([0, 0, 1, 0, 0])"
            ]
          },
          "metadata": {
            "tags": []
          },
          "execution_count": 32
        }
      ]
    },
    {
      "cell_type": "code",
      "metadata": {
        "id": "OkLtyT19wVSq",
        "colab_type": "code",
        "colab": {}
      },
      "source": [
        "y_train = keras.utils.to_categorical(y_train)\n",
        "y_test = keras.utils.to_categorical(y_test)"
      ],
      "execution_count": 0,
      "outputs": []
    },
    {
      "cell_type": "code",
      "metadata": {
        "id": "MBo-eAZ-wVSt",
        "colab_type": "code",
        "outputId": "1d4ce261-a71d-40dc-938b-a396bc5a6cba",
        "colab": {
          "base_uri": "https://localhost:8080/",
          "height": 102
        }
      },
      "source": [
        "y_train[0:5]"
      ],
      "execution_count": 34,
      "outputs": [
        {
          "output_type": "execute_result",
          "data": {
            "text/plain": [
              "array([[1., 0.],\n",
              "       [1., 0.],\n",
              "       [0., 1.],\n",
              "       [1., 0.],\n",
              "       [1., 0.]], dtype=float32)"
            ]
          },
          "metadata": {
            "tags": []
          },
          "execution_count": 34
        }
      ]
    },
    {
      "cell_type": "code",
      "metadata": {
        "id": "SldLFIxFhPlv",
        "colab_type": "code",
        "outputId": "9be9f552-bf74-4347-e8ca-c3fa58f30c19",
        "colab": {
          "base_uri": "https://localhost:8080/",
          "height": 34
        }
      },
      "source": [
        "X_train.shape # Should be (nb_of_records, )"
      ],
      "execution_count": 35,
      "outputs": [
        {
          "output_type": "execute_result",
          "data": {
            "text/plain": [
              "(150000,)"
            ]
          },
          "metadata": {
            "tags": []
          },
          "execution_count": 35
        }
      ]
    },
    {
      "cell_type": "code",
      "metadata": {
        "id": "KzSNt8tWgF_z",
        "colab_type": "code",
        "outputId": "fc2bae95-b93b-4c84-8e98-940bf22c8b6c",
        "colab": {
          "base_uri": "https://localhost:8080/",
          "height": 34
        }
      },
      "source": [
        "y_test.shape # Sould be (nb_of_records, number_of_categories)"
      ],
      "execution_count": 36,
      "outputs": [
        {
          "output_type": "execute_result",
          "data": {
            "text/plain": [
              "(3000, 2)"
            ]
          },
          "metadata": {
            "tags": []
          },
          "execution_count": 36
        }
      ]
    },
    {
      "cell_type": "markdown",
      "metadata": {
        "id": "EXdr4rpvGorw",
        "colab_type": "text"
      },
      "source": [
        "# Model nnlm-en-dim128"
      ]
    },
    {
      "cell_type": "markdown",
      "metadata": {
        "id": "mzWKbfihwVTC",
        "colab_type": "text"
      },
      "source": [
        "## Create Model using tf.hub: nnlm-en-dim128"
      ]
    },
    {
      "cell_type": "code",
      "metadata": {
        "id": "hmUfMnhmNLMW",
        "colab_type": "code",
        "outputId": "fc8d5d34-e6e8-4b11-ac9e-9dc9f6a1a196",
        "colab": {
          "base_uri": "https://localhost:8080/",
          "height": 34
        }
      },
      "source": [
        "MODEL = \"nnlm-en-dim128\"\n",
        "VERSION = 2\n",
        "URL = \"https://tfhub.dev/google/\"+MODEL+\"/\"+str(VERSION)\n",
        "print (URL)"
      ],
      "execution_count": 70,
      "outputs": [
        {
          "output_type": "stream",
          "text": [
            "https://tfhub.dev/google/nnlm-en-dim128/2\n"
          ],
          "name": "stdout"
        }
      ]
    },
    {
      "cell_type": "code",
      "metadata": {
        "id": "th0drHQrwVTC",
        "colab_type": "code",
        "outputId": "6860bdf0-fb4b-4d27-b198-81fe85bf8660",
        "colab": {
          "base_uri": "https://localhost:8080/",
          "height": 289
        }
      },
      "source": [
        "# Define the modle using Sequential api\n",
        "hub_layer1 = hub.KerasLayer(URL, output_shape=[128], \n",
        "                           input_shape=[], \n",
        "                           dtype=tf.string\n",
        "                          )\n",
        "model = keras.Sequential()\n",
        "model.add(hub_layer1)\n",
        "model.add(keras.layers.Dense(128, activation='relu'))\n",
        "model.add(keras.layers.Dropout(0.5))\n",
        "model.add(keras.layers.Dense(2, activation='softmax'))\n",
        "\n",
        "model.summary()"
      ],
      "execution_count": 71,
      "outputs": [
        {
          "output_type": "stream",
          "text": [
            "Model: \"sequential_2\"\n",
            "_________________________________________________________________\n",
            "Layer (type)                 Output Shape              Param #   \n",
            "=================================================================\n",
            "keras_layer_2 (KerasLayer)   (None, 128)               124642688 \n",
            "_________________________________________________________________\n",
            "dense_4 (Dense)              (None, 128)               16512     \n",
            "_________________________________________________________________\n",
            "dropout_2 (Dropout)          (None, 128)               0         \n",
            "_________________________________________________________________\n",
            "dense_5 (Dense)              (None, 2)                 258       \n",
            "=================================================================\n",
            "Total params: 124,659,458\n",
            "Trainable params: 16,770\n",
            "Non-trainable params: 124,642,688\n",
            "_________________________________________________________________\n"
          ],
          "name": "stdout"
        }
      ]
    },
    {
      "cell_type": "code",
      "metadata": {
        "id": "tjVitF9_wVTE",
        "colab_type": "code",
        "colab": {}
      },
      "source": [
        "model.compile(loss='categorical_crossentropy', optimizer='adam', metrics=['accuracy'])"
      ],
      "execution_count": 0,
      "outputs": []
    },
    {
      "cell_type": "code",
      "metadata": {
        "id": "bxPDNeKxwVTG",
        "colab_type": "code",
        "outputId": "4926ddec-ebb0-41e1-e4ed-df7ce436b82c",
        "colab": {
          "base_uri": "https://localhost:8080/",
          "height": 176
        }
      },
      "source": [
        "keras.utils.plot_model(model, \n",
        "                       #to_file='model.png',\n",
        "                      show_shapes=True, show_layer_names=True, rankdir='LR', expand_nested=False, dpi=128)"
      ],
      "execution_count": 40,
      "outputs": [
        {
          "output_type": "execute_result",
          "data": {
            "image/png": "[encoded data removed]",
            "text/plain": [
              "<IPython.core.display.Image object>"
            ]
          },
          "metadata": {
            "tags": []
          },
          "execution_count": 40
        }
      ]
    },
    {
      "cell_type": "markdown",
      "metadata": {
        "id": "SvDqk7O9wVTH",
        "colab_type": "text"
      },
      "source": [
        "## Execute Model"
      ]
    },
    {
      "cell_type": "code",
      "metadata": {
        "id": "Bz6ZbkvcwVTH",
        "colab_type": "code",
        "colab": {}
      },
      "source": [
        "%%time\n",
        "hist = model.fit(X_train, \n",
        "                 y_train, \n",
        "                 epochs=40,\n",
        "                 batch_size=128, \n",
        "                 validation_split=0.2,\n",
        "                 verbose = 1)\n",
        "# Benchmark time: 6 min per 25 epochs for 80 000 records/batch 32\n",
        "# Benchmark time: 2 min per 30 epochs for 80 000 records/64 nodes/batch 64\n",
        "# Benchmark time: 2.5  min per 30 epochs for 150 000 records/128 nodes/batch 128"
      ],
      "execution_count": 0,
      "outputs": []
    },
    {
      "cell_type": "code",
      "metadata": {
        "id": "N7ntRSvVwVTI",
        "colab_type": "code",
        "outputId": "70a66bce-0f02-48ce-8103-458414f5f860",
        "colab": {
          "base_uri": "https://localhost:8080/",
          "height": 612
        }
      },
      "source": [
        "pd.DataFrame(hist.history).plot(figsize=(10,10))\n",
        "plt.grid(True)\n",
        "plt.show"
      ],
      "execution_count": 74,
      "outputs": [
        {
          "output_type": "execute_result",
          "data": {
            "text/plain": [
              "<function matplotlib.pyplot.show>"
            ]
          },
          "metadata": {
            "tags": []
          },
          "execution_count": 74
        },
        {
          "output_type": "display_data",
          "data": {
            "image/png": "[encoded data removed]",
            "text/plain": [
              "<Figure size 720x720 with 1 Axes>"
            ]
          },
          "metadata": {
            "tags": []
          }
        }
      ]
    },
    {
      "cell_type": "markdown",
      "metadata": {
        "id": "tBxcEWI0wVTK",
        "colab_type": "text"
      },
      "source": [
        "## Evaluate Model"
      ]
    },
    {
      "cell_type": "code",
      "metadata": {
        "id": "CkCDpk9UwVTK",
        "colab_type": "code",
        "outputId": "4140bef7-9157-4102-8abf-c510a33aa379",
        "colab": {
          "base_uri": "https://localhost:8080/",
          "height": 51
        }
      },
      "source": [
        "accuracy_test = model.evaluate(X_test, y_test, verbose=2)\n",
        "print(accuracy_test)"
      ],
      "execution_count": 75,
      "outputs": [
        {
          "output_type": "stream",
          "text": [
            "3000/1 - 0s - loss: 0.5608 - accuracy: 0.7540\n",
            "[0.5041232291857402, 0.754]\n"
          ],
          "name": "stdout"
        }
      ]
    },
    {
      "cell_type": "code",
      "metadata": {
        "id": "9Z-cB2bFwVTL",
        "colab_type": "code",
        "colab": {}
      },
      "source": [
        "print(X_train[0:10])"
      ],
      "execution_count": 0,
      "outputs": []
    },
    {
      "cell_type": "markdown",
      "metadata": {
        "id": "j2ESaAjdwVTQ",
        "colab_type": "text"
      },
      "source": [
        "## Confusion Matrix"
      ]
    },
    {
      "cell_type": "code",
      "metadata": {
        "id": "Zq8q6kxYwVTQ",
        "colab_type": "code",
        "colab": {}
      },
      "source": [
        "def plot_confusion_matrix(cm, \n",
        "                          classes, \n",
        "                          normalize=False,\n",
        "                          title='CM', \n",
        "                          cmap=plt.cm.Greens):\n",
        "# This function prints and plots the confusion matrix. Normalization can be applied by setting `normalize=True`\n",
        "\n",
        "    if normalize:\n",
        "        cm = cm.astype('float') / cm.sum(axis=1)[:, np.newaxis]\n",
        "        # print(\"Normalized confusion matrix\") # print(cm)\n",
        "\n",
        "    plt.imshow(cm, interpolation='nearest', cmap=cmap) \n",
        "    plt.title(title)\n",
        "    plt.colorbar()\n",
        "\n",
        "    tick_marks = np.arange(len(classes)) \n",
        "    plt.xticks(tick_marks, classes, rotation=45) \n",
        "    plt.yticks(tick_marks, classes)\n",
        "\n",
        "    fmt = '.2f' if normalize else 'd'\n",
        "    thresh = cm.max() / 2.\n",
        "    for i, j in itertools.product(range(cm.shape[0]), range(cm.shape[1])):\n",
        "        plt.text(j, i, format(cm[i, j], fmt), \n",
        "                 horizontalalignment=\"center\",\n",
        "                 color=\"white\" if cm[i, j] > thresh else \"black\")\n",
        "        plt.tight_layout() \n",
        "        plt.ylabel('True label') \n",
        "        plt.xlabel('Predicted label')"
      ],
      "execution_count": 0,
      "outputs": []
    },
    {
      "cell_type": "code",
      "metadata": {
        "id": "Bo1pj-tewVTS",
        "colab_type": "code",
        "colab": {}
      },
      "source": [
        "# np.argmax Returns the indices of the maximum values along an axis. \n",
        "y_test_rounded = np.argmax(y_test, axis=1)\n",
        "y_train_rounded = np.argmax(y_train, axis=1)"
      ],
      "execution_count": 0,
      "outputs": []
    },
    {
      "cell_type": "code",
      "metadata": {
        "id": "AZqJ1ZgKwVTT",
        "colab_type": "code",
        "colab": {}
      },
      "source": [
        "y_pred = model.predict(X_train)\n",
        "y_pred_rounded = np.argmax(y_pred, axis=1)"
      ],
      "execution_count": 0,
      "outputs": []
    },
    {
      "cell_type": "code",
      "metadata": {
        "id": "t1VSl2LEwVTV",
        "colab_type": "code",
        "colab": {}
      },
      "source": [
        "cmResults = confusion_matrix(y_train_rounded, y_pred_rounded) \n",
        "accuracy = accuracy_score(y_train_rounded, y_pred_rounded)"
      ],
      "execution_count": 0,
      "outputs": []
    },
    {
      "cell_type": "code",
      "metadata": {
        "id": "UWc_zkA9wVTW",
        "colab_type": "code",
        "outputId": "b59058c9-84fa-4ffd-907e-477adf052de3",
        "colab": {
          "base_uri": "https://localhost:8080/",
          "height": 513
        }
      },
      "source": [
        "# Plot non-normalized confusion matrix \n",
        "class_names = ['Negative', 'Positive']\n",
        "plt.figure(figsize=(7,7));\n",
        "plot_confusion_matrix(cmResults, classes=class_names, title=str(MODEL)+ \"\\n\" +\"Accuracy: \" + str((accuracy*100).round(1)) + \"%\" +\"\\n\"+\"Train Data\");"
      ],
      "execution_count": 79,
      "outputs": [
        {
          "output_type": "display_data",
          "data": {
            "image/png": "[encoded data removed]",
            "text/plain": [
              "<Figure size 504x504 with 2 Axes>"
            ]
          },
          "metadata": {
            "tags": []
          }
        }
      ]
    },
    {
      "cell_type": "code",
      "metadata": {
        "id": "m1cbFmOSwVTX",
        "colab_type": "code",
        "colab": {}
      },
      "source": [
        "y_pred = model.predict(X_test)\n",
        "y_pred_rounded = np.argmax(y_pred, axis=1)\n",
        "cmResults = confusion_matrix(y_test_rounded, y_pred_rounded)\n",
        "accuracy = accuracy_score(y_test_rounded, y_pred_rounded)"
      ],
      "execution_count": 0,
      "outputs": []
    },
    {
      "cell_type": "code",
      "metadata": {
        "id": "j__4lgy1wVTY",
        "colab_type": "code",
        "outputId": "f64ab69a-ec72-40fd-ec1f-6b80d8fe4a6a",
        "colab": {
          "base_uri": "https://localhost:8080/",
          "height": 513
        }
      },
      "source": [
        "# Plot non-normalized confusion matrix \n",
        "plt.figure(figsize=(7,7));\n",
        "plot_confusion_matrix(cmResults, classes=class_names, \n",
        "                      title=str(MODEL)+ \"\\n\" +\"Accuracy: \" + str((accuracy*100).round(1)) + \"%\" +\"\\n\"+\"Test Data\",\n",
        "                      cmap=plt.cm.Blues);"
      ],
      "execution_count": 81,
      "outputs": [
        {
          "output_type": "display_data",
          "data": {
            "image/png": "[encoded data removed]",
            "text/plain": [
              "<Figure size 504x504 with 2 Axes>"
            ]
          },
          "metadata": {
            "tags": []
          }
        }
      ]
    },
    {
      "cell_type": "markdown",
      "metadata": {
        "id": "8YECZ6SbwVTa",
        "colab_type": "text"
      },
      "source": [
        "## Test the Model with some sentences"
      ]
    },
    {
      "cell_type": "code",
      "metadata": {
        "id": "tiKcBX81wVTa",
        "colab_type": "code",
        "colab": {}
      },
      "source": [
        "# Create input tweets for testing the sentiment model \n",
        "tweets = {'tweet':['I do not dislike cabin cruisers',\n",
        "                   'Montreal is a nice city in the summer!!!',\n",
        "                    'I have a good feeling about this team#11212',\n",
        "                    'The Montreal hockey team will be making the playoffs',\n",
        "                    'The weather in Montreal is very nice in the summer',\n",
        "                    'Coronet has the best lines of all day cruisers',\n",
        "                    'The show was not funny...',\n",
        "                    'The dog is angry',\n",
        "                    'The food at the restaurant could be better',\n",
        "                    'The flight is a long one',\n",
        "                    'It would be nice if the weather was better in Montreal *&&%&*&##!1',\n",
        "                    'I dislike old cabin cruisers',\n",
        "                   ],\n",
        "          'sentiments':[4, \n",
        "                        4,\n",
        "                       4,\n",
        "                       4,\n",
        "                       4,\n",
        "                       4,\n",
        "                       0,\n",
        "                       0,\n",
        "                       0,\n",
        "                       0,\n",
        "                       0,\n",
        "                       0\n",
        "                      ]\n",
        "         } \n",
        "  \n",
        "# Create DataFrame \n",
        "df_test = pd.DataFrame(tweets)"
      ],
      "execution_count": 0,
      "outputs": []
    },
    {
      "cell_type": "code",
      "metadata": {
        "id": "J085ZWQIwVTc",
        "colab_type": "code",
        "colab": {}
      },
      "source": [
        "df_test['clean_tweet'] = df_test['tweet'].apply(lambda x: text_processing(x))"
      ],
      "execution_count": 0,
      "outputs": []
    },
    {
      "cell_type": "code",
      "metadata": {
        "id": "0NtrQdUawVTc",
        "colab_type": "code",
        "colab": {}
      },
      "source": [
        "df_test[\"clean_tweet\"] = lemmatization(df_test[\"clean_tweet\"])"
      ],
      "execution_count": 0,
      "outputs": []
    },
    {
      "cell_type": "code",
      "metadata": {
        "id": "m5KV_aL4wVTd",
        "colab_type": "code",
        "outputId": "7d268853-e830-4e2c-fcaf-2f33185c1aa4",
        "colab": {
          "base_uri": "https://localhost:8080/",
          "height": 421
        }
      },
      "source": [
        "df_test"
      ],
      "execution_count": 85,
      "outputs": [
        {
          "output_type": "execute_result",
          "data": {
            "text/html": [
              "<div>\n",
              "<style scoped>\n",
              "    .dataframe tbody tr th:only-of-type {\n",
              "        vertical-align: middle;\n",
              "    }\n",
              "\n",
              "    .dataframe tbody tr th {\n",
              "        vertical-align: top;\n",
              "    }\n",
              "\n",
              "    .dataframe thead th {\n",
              "        text-align: right;\n",
              "    }\n",
              "</style>\n",
              "<table border=\"1\" class=\"dataframe\">\n",
              "  <thead>\n",
              "    <tr style=\"text-align: right;\">\n",
              "      <th></th>\n",
              "      <th>tweet</th>\n",
              "      <th>sentiments</th>\n",
              "      <th>clean_tweet</th>\n",
              "    </tr>\n",
              "  </thead>\n",
              "  <tbody>\n",
              "    <tr>\n",
              "      <th>0</th>\n",
              "      <td>I do not dislike cabin cruisers</td>\n",
              "      <td>4</td>\n",
              "      <td>i do not dislike cabin cruiser</td>\n",
              "    </tr>\n",
              "    <tr>\n",
              "      <th>1</th>\n",
              "      <td>Montreal is a nice city in the summer!!!</td>\n",
              "      <td>4</td>\n",
              "      <td>montreal be a nice city in the summer</td>\n",
              "    </tr>\n",
              "    <tr>\n",
              "      <th>2</th>\n",
              "      <td>I have a good feeling about this team#11212</td>\n",
              "      <td>4</td>\n",
              "      <td>i have a good feeling about this team</td>\n",
              "    </tr>\n",
              "    <tr>\n",
              "      <th>3</th>\n",
              "      <td>The Montreal hockey team will be making the pl...</td>\n",
              "      <td>4</td>\n",
              "      <td>the montreal hockey team will be make the playoff</td>\n",
              "    </tr>\n",
              "    <tr>\n",
              "      <th>4</th>\n",
              "      <td>The weather in Montreal is very nice in the su...</td>\n",
              "      <td>4</td>\n",
              "      <td>the weather in montreal be very nice in the su...</td>\n",
              "    </tr>\n",
              "    <tr>\n",
              "      <th>5</th>\n",
              "      <td>Coronet has the best lines of all day cruisers</td>\n",
              "      <td>4</td>\n",
              "      <td>coronet have the good line of all day cruiser</td>\n",
              "    </tr>\n",
              "    <tr>\n",
              "      <th>6</th>\n",
              "      <td>The show was not funny...</td>\n",
              "      <td>0</td>\n",
              "      <td>the show be not funny ...</td>\n",
              "    </tr>\n",
              "    <tr>\n",
              "      <th>7</th>\n",
              "      <td>The dog is angry</td>\n",
              "      <td>0</td>\n",
              "      <td>the dog be angry</td>\n",
              "    </tr>\n",
              "    <tr>\n",
              "      <th>8</th>\n",
              "      <td>The food at the restaurant could be better</td>\n",
              "      <td>0</td>\n",
              "      <td>the food at the restaurant could be well</td>\n",
              "    </tr>\n",
              "    <tr>\n",
              "      <th>9</th>\n",
              "      <td>The flight is a long one</td>\n",
              "      <td>0</td>\n",
              "      <td>the flight be a long one</td>\n",
              "    </tr>\n",
              "    <tr>\n",
              "      <th>10</th>\n",
              "      <td>It would be nice if the weather was better in ...</td>\n",
              "      <td>0</td>\n",
              "      <td>-PRON- would be nice if the weather be well in...</td>\n",
              "    </tr>\n",
              "    <tr>\n",
              "      <th>11</th>\n",
              "      <td>I dislike old cabin cruisers</td>\n",
              "      <td>0</td>\n",
              "      <td>i dislike old cabin cruiser</td>\n",
              "    </tr>\n",
              "  </tbody>\n",
              "</table>\n",
              "</div>"
            ],
            "text/plain": [
              "                                                tweet  ...                                        clean_tweet\n",
              "0                     I do not dislike cabin cruisers  ...                     i do not dislike cabin cruiser\n",
              "1            Montreal is a nice city in the summer!!!  ...              montreal be a nice city in the summer\n",
              "2         I have a good feeling about this team#11212  ...              i have a good feeling about this team\n",
              "3   The Montreal hockey team will be making the pl...  ...  the montreal hockey team will be make the playoff\n",
              "4   The weather in Montreal is very nice in the su...  ...  the weather in montreal be very nice in the su...\n",
              "5      Coronet has the best lines of all day cruisers  ...      coronet have the good line of all day cruiser\n",
              "6                           The show was not funny...  ...                          the show be not funny ...\n",
              "7                                    The dog is angry  ...                                   the dog be angry\n",
              "8          The food at the restaurant could be better  ...           the food at the restaurant could be well\n",
              "9                            The flight is a long one  ...                           the flight be a long one\n",
              "10  It would be nice if the weather was better in ...  ...  -PRON- would be nice if the weather be well in...\n",
              "11                       I dislike old cabin cruisers  ...                        i dislike old cabin cruiser\n",
              "\n",
              "[12 rows x 3 columns]"
            ]
          },
          "metadata": {
            "tags": []
          },
          "execution_count": 85
        }
      ]
    },
    {
      "cell_type": "code",
      "metadata": {
        "id": "44ZxvVVswVTe",
        "colab_type": "code",
        "colab": {}
      },
      "source": [
        "sentiments = df_test[\"sentiments\"].copy()\n",
        "label_encoder = LabelEncoder()\n",
        "sentiments = label_encoder.fit_transform(sentiments)\n",
        "sentiments = keras.utils.to_categorical(sentiments)"
      ],
      "execution_count": 0,
      "outputs": []
    },
    {
      "cell_type": "code",
      "metadata": {
        "id": "q_bCfTOewVTf",
        "colab_type": "code",
        "colab": {}
      },
      "source": [
        "X_input = df_test[\"clean_tweet\"].values"
      ],
      "execution_count": 0,
      "outputs": []
    },
    {
      "cell_type": "code",
      "metadata": {
        "id": "_PXVPhPzwVTg",
        "colab_type": "code",
        "outputId": "2e006f23-bb6a-44cd-9716-42b2f07b4779",
        "colab": {
          "base_uri": "https://localhost:8080/",
          "height": 221
        }
      },
      "source": [
        "print(model.predict(X_input).round(0))"
      ],
      "execution_count": 88,
      "outputs": [
        {
          "output_type": "stream",
          "text": [
            "[[1. 0.]\n",
            " [0. 1.]\n",
            " [0. 1.]\n",
            " [0. 1.]\n",
            " [0. 1.]\n",
            " [0. 1.]\n",
            " [1. 0.]\n",
            " [1. 0.]\n",
            " [0. 1.]\n",
            " [1. 0.]\n",
            " [1. 0.]\n",
            " [1. 0.]]\n"
          ],
          "name": "stdout"
        }
      ]
    },
    {
      "cell_type": "code",
      "metadata": {
        "id": "QtvJ2563wVTh",
        "colab_type": "code",
        "outputId": "a83f7e95-0f24-475d-d3ab-2c817f119d40",
        "colab": {
          "base_uri": "https://localhost:8080/",
          "height": 221
        }
      },
      "source": [
        "print(sentiments)"
      ],
      "execution_count": 89,
      "outputs": [
        {
          "output_type": "stream",
          "text": [
            "[[0. 1.]\n",
            " [0. 1.]\n",
            " [0. 1.]\n",
            " [0. 1.]\n",
            " [0. 1.]\n",
            " [0. 1.]\n",
            " [1. 0.]\n",
            " [1. 0.]\n",
            " [1. 0.]\n",
            " [1. 0.]\n",
            " [1. 0.]\n",
            " [1. 0.]]\n"
          ],
          "name": "stdout"
        }
      ]
    },
    {
      "cell_type": "markdown",
      "metadata": {
        "id": "EHRuGMHMwVTj",
        "colab_type": "text"
      },
      "source": [
        "# Model Universal Sentence Encoder\n",
        "\n"
      ]
    },
    {
      "cell_type": "markdown",
      "metadata": {
        "id": "HDTMDRHr24Ix",
        "colab_type": "text"
      },
      "source": [
        "## Create Model"
      ]
    },
    {
      "cell_type": "code",
      "metadata": {
        "id": "fSAKNePtU6Ki",
        "colab_type": "code",
        "outputId": "75250b19-f5a3-4fd3-85b5-c3bd0cc4bf37",
        "colab": {
          "base_uri": "https://localhost:8080/",
          "height": 34
        }
      },
      "source": [
        "MODEL = \"universal-sentence-encoder\"\n",
        "VERSION = 4\n",
        "URL = \"https://tfhub.dev/google/\"+MODEL+\"/\"+str(VERSION)\n",
        "print (URL)"
      ],
      "execution_count": 90,
      "outputs": [
        {
          "output_type": "stream",
          "text": [
            "https://tfhub.dev/google/universal-sentence-encoder/4\n"
          ],
          "name": "stdout"
        }
      ]
    },
    {
      "cell_type": "code",
      "metadata": {
        "id": "-l4YwXqGwVTk",
        "colab_type": "code",
        "outputId": "e16d1258-15fb-400e-b8e2-1968b3cb605b",
        "colab": {
          "base_uri": "https://localhost:8080/",
          "height": 289
        }
      },
      "source": [
        "hub_layer2 = hub.KerasLayer(URL, \n",
        "                           output_shape=[512], \n",
        "                           input_shape=[], \n",
        "                           dtype=tf.string\n",
        "                          )\n",
        "model = keras.Sequential()\n",
        "model.add(hub_layer2)\n",
        "model.add(keras.layers.Dense(128, activation='relu'))\n",
        "model.add(keras.layers.Dropout(0.5))\n",
        "model.add(keras.layers.Dense(2, activation='softmax'))\n",
        "\n",
        "model.summary()"
      ],
      "execution_count": 91,
      "outputs": [
        {
          "output_type": "stream",
          "text": [
            "Model: \"sequential_3\"\n",
            "_________________________________________________________________\n",
            "Layer (type)                 Output Shape              Param #   \n",
            "=================================================================\n",
            "keras_layer_3 (KerasLayer)   (None, 512)               256797824 \n",
            "_________________________________________________________________\n",
            "dense_6 (Dense)              (None, 128)               65664     \n",
            "_________________________________________________________________\n",
            "dropout_3 (Dropout)          (None, 128)               0         \n",
            "_________________________________________________________________\n",
            "dense_7 (Dense)              (None, 2)                 258       \n",
            "=================================================================\n",
            "Total params: 256,863,746\n",
            "Trainable params: 65,922\n",
            "Non-trainable params: 256,797,824\n",
            "_________________________________________________________________\n"
          ],
          "name": "stdout"
        }
      ]
    },
    {
      "cell_type": "code",
      "metadata": {
        "id": "JoAp8MhnwVTm",
        "colab_type": "code",
        "colab": {}
      },
      "source": [
        "model.compile(loss='categorical_crossentropy', optimizer='adam', metrics=['accuracy'])"
      ],
      "execution_count": 0,
      "outputs": []
    },
    {
      "cell_type": "code",
      "metadata": {
        "id": "JMAyz11pwVTn",
        "colab_type": "code",
        "outputId": "8d4f2242-9d27-4df7-eae6-3413ce915c89",
        "colab": {
          "base_uri": "https://localhost:8080/",
          "height": 176
        }
      },
      "source": [
        "keras.utils.plot_model(model, \n",
        "                       #to_file='model.png',\n",
        "                       show_shapes=True, show_layer_names=True, rankdir='LR', expand_nested=False, dpi=128)"
      ],
      "execution_count": 93,
      "outputs": [
        {
          "output_type": "execute_result",
          "data": {
            "image/png": "[encoded data removed]",
            "text/plain": [
              "<IPython.core.display.Image object>"
            ]
          },
          "metadata": {
            "tags": []
          },
          "execution_count": 93
        }
      ]
    },
    {
      "cell_type": "markdown",
      "metadata": {
        "id": "EKnzwyoQwVTo",
        "colab_type": "text"
      },
      "source": [
        "## Execute Model"
      ]
    },
    {
      "cell_type": "code",
      "metadata": {
        "id": "Zj38BoZ5wVTo",
        "colab_type": "code",
        "colab": {}
      },
      "source": [
        "%%time\n",
        "hist = model.fit(X_train, \n",
        "                 y_train, \n",
        "                 epochs=40, \n",
        "                 batch_size=128, \n",
        "                 validation_split=.2,\n",
        "                 verbose = 1)\n",
        "# Benchmark time: 10 min for 30 epochs/80 000 records/64 nodes/batch 64\n",
        "# Benchmark time: 7 min for 30 epochs/80 000 records/64 nodes/batch 128\n",
        "# Benchmark time: 14 min for 40 epochs/150 000 records/128 nodes/batch 128"
      ],
      "execution_count": 0,
      "outputs": []
    },
    {
      "cell_type": "code",
      "metadata": {
        "id": "XyxfWSFHwVTp",
        "colab_type": "code",
        "outputId": "b645ba63-4155-444c-b319-b4192b432010",
        "colab": {
          "base_uri": "https://localhost:8080/",
          "height": 612
        }
      },
      "source": [
        "pd.DataFrame(hist.history).plot(figsize=(10,10))\n",
        "plt.grid(True)\n",
        "plt.show"
      ],
      "execution_count": 95,
      "outputs": [
        {
          "output_type": "execute_result",
          "data": {
            "text/plain": [
              "<function matplotlib.pyplot.show>"
            ]
          },
          "metadata": {
            "tags": []
          },
          "execution_count": 95
        },
        {
          "output_type": "display_data",
          "data": {
            "image/png": "[encoded data removed]",
            "text/plain": [
              "<Figure size 720x720 with 1 Axes>"
            ]
          },
          "metadata": {
            "tags": []
          }
        }
      ]
    },
    {
      "cell_type": "markdown",
      "metadata": {
        "id": "RnBTXA2NwVTq",
        "colab_type": "text"
      },
      "source": [
        "## Evaluate Model Universal Sentence Encoder"
      ]
    },
    {
      "cell_type": "code",
      "metadata": {
        "id": "2pbRjk8zwVTq",
        "colab_type": "code",
        "outputId": "8fca8b3d-9ed4-46ec-a64c-414d73cc9f68",
        "colab": {
          "base_uri": "https://localhost:8080/",
          "height": 51
        }
      },
      "source": [
        "accuracy_test = model.evaluate(X_test, y_test, verbose=2)\n",
        "print(accuracy_test)"
      ],
      "execution_count": 96,
      "outputs": [
        {
          "output_type": "stream",
          "text": [
            "3000/1 - 1s - loss: 0.5826 - accuracy: 0.7953\n",
            "[0.45770601495107016, 0.7953333]\n"
          ],
          "name": "stdout"
        }
      ]
    },
    {
      "cell_type": "code",
      "metadata": {
        "id": "jROGDIqxwVTr",
        "colab_type": "code",
        "outputId": "d7c42da1-7f71-479e-cb3a-2e12043eb519",
        "colab": {
          "base_uri": "https://localhost:8080/",
          "height": 187
        }
      },
      "source": [
        "print(X_train[0:10])"
      ],
      "execution_count": 97,
      "outputs": [
        {
          "output_type": "stream",
          "text": [
            "['yaeljk get to a show girl do whatcha get to do what if this be -PRON- last tour omg i do not wanna think about -PRON-'\n",
            " 'ex boyfriend suck pete the alien'\n",
            " '.spaciestaycie which one do -PRON- like good'\n",
            " 'damn -PRON- back be hella hurtte at work'\n",
            " 'tristanwild unfortunately -PRON- day already over'\n",
            " 'nickrich i do leave , but i have to come back . n wat u tryin to say u want -PRON- to go away'\n",
            " 'misspipedream oh i feel very honoured lol . i know . -PRON- be read as i type . almost finish though'\n",
            " 'earn -PRON- cpr amp first aid certification'\n",
            " 'yay , people be follow -PRON- exciting'\n",
            " 'pworld i can not drink wine for a couple more day . -PRON- be on an antibiotic -PRON- be go to smh at someone now because of -PRON- lol']\n"
          ],
          "name": "stdout"
        }
      ]
    },
    {
      "cell_type": "markdown",
      "metadata": {
        "id": "E2GeFPxdwVTw",
        "colab_type": "text"
      },
      "source": [
        "## Confusion Matrix"
      ]
    },
    {
      "cell_type": "code",
      "metadata": {
        "id": "ZP0LixJSwVTx",
        "colab_type": "code",
        "colab": {}
      },
      "source": [
        "# np.argmax Returns the indices of the maximum values along an axis. \n",
        "y_test_rounded = np.argmax(y_test, axis=1)\n",
        "y_train_rounded = np.argmax(y_train, axis=1)"
      ],
      "execution_count": 0,
      "outputs": []
    },
    {
      "cell_type": "code",
      "metadata": {
        "id": "xssbLrSUwVTy",
        "colab_type": "code",
        "colab": {}
      },
      "source": [
        "y_pred = model.predict(X_train)\n",
        "y_pred_rounded = np.argmax(y_pred, axis=1)"
      ],
      "execution_count": 0,
      "outputs": []
    },
    {
      "cell_type": "code",
      "metadata": {
        "id": "JqeV6GmbwVTz",
        "colab_type": "code",
        "colab": {}
      },
      "source": [
        "cmResults = confusion_matrix(y_train_rounded, y_pred_rounded)\n",
        "accuracy = accuracy_score(y_train_rounded, y_pred_rounded)"
      ],
      "execution_count": 0,
      "outputs": []
    },
    {
      "cell_type": "code",
      "metadata": {
        "id": "ta9T2r9cwVT0",
        "colab_type": "code",
        "outputId": "435736d7-e6ae-433c-a157-c3577cd79927",
        "colab": {
          "base_uri": "https://localhost:8080/",
          "height": 513
        }
      },
      "source": [
        "# Plot non-normalized confusion matrix \n",
        "class_names = ['Negative', 'Positive']\n",
        "plt.figure(figsize=(7,7));\n",
        "plot_confusion_matrix(cmResults, classes=class_names, \n",
        "                      title=str(MODEL)+ \"\\n\" +\"Accuracy: \" + str((accuracy*100).round(1)) + \"%\" +\"\\n\"+\"Train Data\",\n",
        "                      cmap=plt.cm.Reds);"
      ],
      "execution_count": 101,
      "outputs": [
        {
          "output_type": "display_data",
          "data": {
            "image/png": "[encoded data removed]",
            "text/plain": [
              "<Figure size 504x504 with 2 Axes>"
            ]
          },
          "metadata": {
            "tags": []
          }
        }
      ]
    },
    {
      "cell_type": "code",
      "metadata": {
        "id": "BOfpg65gwVT1",
        "colab_type": "code",
        "colab": {}
      },
      "source": [
        "y_pred = model.predict(X_test)\n",
        "y_pred_rounded = np.argmax(y_pred, axis=1)\n",
        "cmResults = confusion_matrix(y_test_rounded, y_pred_rounded)\n",
        "accuracy = accuracy_score(y_test_rounded, y_pred_rounded)"
      ],
      "execution_count": 0,
      "outputs": []
    },
    {
      "cell_type": "code",
      "metadata": {
        "id": "_2o0dI_twVT2",
        "colab_type": "code",
        "outputId": "218c6b84-30d2-46bf-9890-734fcc9045c5",
        "colab": {
          "base_uri": "https://localhost:8080/",
          "height": 513
        }
      },
      "source": [
        "# Plot non-normalized confusion matrix \n",
        "plt.figure(figsize=(7,7));\n",
        "plot_confusion_matrix(cmResults, classes=class_names, \n",
        "                      title=str(MODEL)+ \"\\n\" +\"Accuracy: \" + str((accuracy*100).round(1)) + \"%\" +\"\\n\"+\"Test Data\",\n",
        "                      cmap=plt.cm.Greys);"
      ],
      "execution_count": 109,
      "outputs": [
        {
          "output_type": "display_data",
          "data": {
            "image/png": "[encoded data removed]",
            "text/plain": [
              "<Figure size 504x504 with 2 Axes>"
            ]
          },
          "metadata": {
            "tags": []
          }
        }
      ]
    },
    {
      "cell_type": "markdown",
      "metadata": {
        "id": "TsAOmDKmwVT3",
        "colab_type": "text"
      },
      "source": [
        "## Test the Model with some sentences"
      ]
    },
    {
      "cell_type": "code",
      "metadata": {
        "id": "-3Fp7cmVZ7HA",
        "colab_type": "code",
        "outputId": "9f2d251a-098f-4b9f-d780-fa8e05db34f7",
        "colab": {
          "base_uri": "https://localhost:8080/",
          "height": 204
        }
      },
      "source": [
        "X_input"
      ],
      "execution_count": 110,
      "outputs": [
        {
          "output_type": "execute_result",
          "data": {
            "text/plain": [
              "array(['i do not dislike cabin cruiser',\n",
              "       'montreal be a nice city in the summer',\n",
              "       'i have a good feeling about this team',\n",
              "       'the montreal hockey team will be make the playoff',\n",
              "       'the weather in montreal be very nice in the summer',\n",
              "       'coronet have the good line of all day cruiser',\n",
              "       'the show be not funny ...', 'the dog be angry',\n",
              "       'the food at the restaurant could be well',\n",
              "       'the flight be a long one',\n",
              "       '-PRON- would be nice if the weather be well in montreal',\n",
              "       'i dislike old cabin cruiser'], dtype=object)"
            ]
          },
          "metadata": {
            "tags": []
          },
          "execution_count": 110
        }
      ]
    },
    {
      "cell_type": "code",
      "metadata": {
        "id": "9jsUOcSkwVT4",
        "colab_type": "code",
        "outputId": "d92d568f-e1b3-4e00-e17e-83b418dc2408",
        "colab": {
          "base_uri": "https://localhost:8080/",
          "height": 221
        }
      },
      "source": [
        "print(model.predict(X_input).round(0))"
      ],
      "execution_count": 111,
      "outputs": [
        {
          "output_type": "stream",
          "text": [
            "[[1. 0.]\n",
            " [0. 1.]\n",
            " [0. 1.]\n",
            " [1. 0.]\n",
            " [0. 1.]\n",
            " [0. 1.]\n",
            " [1. 0.]\n",
            " [1. 0.]\n",
            " [0. 1.]\n",
            " [0. 1.]\n",
            " [1. 0.]\n",
            " [1. 0.]]\n"
          ],
          "name": "stdout"
        }
      ]
    },
    {
      "cell_type": "code",
      "metadata": {
        "id": "NGgRfbNYZrK6",
        "colab_type": "code",
        "outputId": "25fc73c0-2550-42ea-ed4f-a34c7ed201f0",
        "colab": {
          "base_uri": "https://localhost:8080/",
          "height": 34
        }
      },
      "source": [
        "model.predict([\"It would be fun if the weather was nicer\"])"
      ],
      "execution_count": 106,
      "outputs": [
        {
          "output_type": "execute_result",
          "data": {
            "text/plain": [
              "array([[0.64140844, 0.3585916 ]], dtype=float32)"
            ]
          },
          "metadata": {
            "tags": []
          },
          "execution_count": 106
        }
      ]
    },
    {
      "cell_type": "code",
      "metadata": {
        "id": "vPicFHLFwVT5",
        "colab_type": "code",
        "outputId": "faa7c0f1-35f6-4590-8429-696714d956cb",
        "colab": {
          "base_uri": "https://localhost:8080/",
          "height": 221
        }
      },
      "source": [
        "print(sentiments)"
      ],
      "execution_count": 107,
      "outputs": [
        {
          "output_type": "stream",
          "text": [
            "[[0. 1.]\n",
            " [0. 1.]\n",
            " [0. 1.]\n",
            " [0. 1.]\n",
            " [0. 1.]\n",
            " [0. 1.]\n",
            " [1. 0.]\n",
            " [1. 0.]\n",
            " [1. 0.]\n",
            " [1. 0.]\n",
            " [1. 0.]\n",
            " [1. 0.]]\n"
          ],
          "name": "stdout"
        }
      ]
    },
    {
      "cell_type": "markdown",
      "metadata": {
        "id": "ZTERun3KwVT6",
        "colab_type": "text"
      },
      "source": [
        "# Deploy Keras Model in Google Cloud Platform (AI) (nnlm-en-dim128)"
      ]
    },
    {
      "cell_type": "code",
      "metadata": {
        "id": "Zy3jsEnGwVT7",
        "colab_type": "code",
        "outputId": "ed62fd2e-34d4-4fd0-959d-2261489b24f8",
        "colab": {
          "base_uri": "https://localhost:8080/",
          "height": 68
        }
      },
      "source": [
        "# save model and architecture to single file\n",
        "model_version = \"0001\"\n",
        "model_name = \"sentiment_analysis_dim128\"\n",
        "model_path = os.path.join(model_name, model_version)\n",
        "tf.saved_model.save(model, model_path)\n",
        "print(\"Saved model to disk\")"
      ],
      "execution_count": 0,
      "outputs": [
        {
          "output_type": "stream",
          "text": [
            "INFO:tensorflow:Assets written to: sentiment_analysis_dim128/0001/assets\n"
          ],
          "name": "stdout"
        },
        {
          "output_type": "stream",
          "text": [
            "INFO:tensorflow:Assets written to: sentiment_analysis_dim128/0001/assets\n"
          ],
          "name": "stderr"
        },
        {
          "output_type": "stream",
          "text": [
            "Saved model to disk\n"
          ],
          "name": "stdout"
        }
      ]
    },
    {
      "cell_type": "markdown",
      "metadata": {
        "id": "Wbj6HAAhwVUE",
        "colab_type": "text"
      },
      "source": [
        "## Copy Model to Google Storage (Bucket)"
      ]
    },
    {
      "cell_type": "code",
      "metadata": {
        "id": "broxbvYDwVUE",
        "colab_type": "code",
        "colab": {}
      },
      "source": [
        "import sys\n",
        "\n",
        "if 'google.colab' in sys.modules:\n",
        "  from google.colab import auth as google_auth\n",
        "  google_auth.authenticate_user()\n",
        "else:\n",
        "  %env GOOGLE_APPLICATION_CREDENTIALS ''"
      ],
      "execution_count": 0,
      "outputs": []
    },
    {
      "cell_type": "code",
      "metadata": {
        "id": "LrsFpD37wVUF",
        "colab_type": "code",
        "outputId": "48a73466-8a59-453d-8f1c-ebf4b4fca92f",
        "colab": {
          "base_uri": "https://localhost:8080/",
          "height": 51
        }
      },
      "source": [
        "PROJECT_ID = \"utopian-rush-255612\" #@param {type:\"string\"}\n",
        "\n",
        "# This must absolutely be a GLOBALLY UNIQUE name\n",
        "BUCKET_NAME = \"utopian-rush-255612-bucket_ml2\" #@param {type:\"string\"}\n",
        "REGION = \"us-east1\" #@param {type:\"string\"}\n",
        "\n",
        "! gcloud config set project $PROJECT_ID\n",
        "! echo $PROJECT_ID"
      ],
      "execution_count": 0,
      "outputs": [
        {
          "output_type": "stream",
          "text": [
            "Updated property [core/project].\n",
            "utopian-rush-255612\n"
          ],
          "name": "stdout"
        }
      ]
    },
    {
      "cell_type": "code",
      "metadata": {
        "id": "nt_w-t7twVUG",
        "colab_type": "code",
        "outputId": "d3d06084-c24c-4953-a17c-1e6fc2873688",
        "colab": {
          "base_uri": "https://localhost:8080/",
          "height": 68
        }
      },
      "source": [
        "# Create Bucket\n",
        "\n",
        "! gsutil mb -p $PROJECT_ID -l $REGION gs://$BUCKET_NAME\n",
        "# Display what is in the bucket\n",
        "!gsutil ls -al gs://$BUCKET_NAME"
      ],
      "execution_count": 0,
      "outputs": [
        {
          "output_type": "stream",
          "text": [
            "Creating gs://utopian-rush-255612-bucket_ml2/...\n",
            "ServiceException: 409 Bucket utopian-rush-255612-bucket_ml2 already exists.\n",
            "                                 gs://utopian-rush-255612-bucket_ml2/my_sentiment_analysis_model/\n"
          ],
          "name": "stdout"
        }
      ]
    },
    {
      "cell_type": "code",
      "metadata": {
        "id": "1Mvp5It7wVUH",
        "colab_type": "code",
        "colab": {}
      },
      "source": [
        "JOB_DIR = 'gs://' + BUCKET_NAME + '/my_sentiment_analysis_model_dim128'"
      ],
      "execution_count": 0,
      "outputs": []
    },
    {
      "cell_type": "code",
      "metadata": {
        "id": "voqIjnDtwVUK",
        "colab_type": "code",
        "outputId": "684b19e5-e876-4eb6-f1a0-e4a33c2fdd5d",
        "colab": {
          "base_uri": "https://localhost:8080/",
          "height": 68
        }
      },
      "source": [
        "# Export the model to a local SavedModel directory \n",
        "# export_path = tf.contrib.saved_model.save_keras_model(model, 'keras_export')\n",
        "# print(\"Model exported to: \", export_path)\n",
        "\n",
        "# Export the model to a SavedModel directory in Cloud Storage\n",
        "export_path = tf.saved_model.save(model, JOB_DIR + '/0001')\n",
        "print(\"Model exported to: \", export_path)"
      ],
      "execution_count": 0,
      "outputs": [
        {
          "output_type": "stream",
          "text": [
            "INFO:tensorflow:Assets written to: gs://utopian-rush-255612-bucket_ml2/my_sentiment_analysis_model_dim128/0001/assets\n"
          ],
          "name": "stdout"
        },
        {
          "output_type": "stream",
          "text": [
            "INFO:tensorflow:Assets written to: gs://utopian-rush-255612-bucket_ml2/my_sentiment_analysis_model_dim128/0001/assets\n"
          ],
          "name": "stderr"
        },
        {
          "output_type": "stream",
          "text": [
            "Model exported to:  None\n"
          ],
          "name": "stdout"
        }
      ]
    },
    {
      "cell_type": "markdown",
      "metadata": {
        "id": "K7QgHPaYwVUP",
        "colab_type": "text"
      },
      "source": [
        "## Create the Model in the AI Platform"
      ]
    },
    {
      "cell_type": "code",
      "metadata": {
        "id": "fkqC3Yj7wVUP",
        "colab_type": "code",
        "outputId": "8a528a3f-02a5-4f7f-c9b7-86f8afcfb51b",
        "colab": {
          "base_uri": "https://localhost:8080/",
          "height": 34
        }
      },
      "source": [
        "MODEL_NAME = \"sa_final_project_dim128\"\n",
        "\n",
        "! gcloud ai-platform models create $MODEL_NAME --regions $REGION"
      ],
      "execution_count": 0,
      "outputs": [
        {
          "output_type": "stream",
          "text": [
            "Created ml engine model [projects/utopian-rush-255612/models/sa_final_project_dim128].\n"
          ],
          "name": "stdout"
        }
      ]
    },
    {
      "cell_type": "markdown",
      "metadata": {
        "id": "5nSXSaiXwVUQ",
        "colab_type": "text"
      },
      "source": [
        "## Create the Version of the Model in AI Platform"
      ]
    },
    {
      "cell_type": "code",
      "metadata": {
        "id": "mwupoV50fBlj",
        "colab_type": "code",
        "colab": {}
      },
      "source": [
        "! gcloud ai-platform versions create v1 \\\n",
        "  --model $MODEL_NAME \\\n",
        "  --runtime-version 1.14 \\\n",
        "  --python-version 3.5 \\\n",
        "  --framework tensorflow \\\n",
        "  --origin gs://utopian-rush-255612-bucket_ml2/my_sentiment_analysis_model_dim128/0001/"
      ],
      "execution_count": 0,
      "outputs": []
    }
  ]
}