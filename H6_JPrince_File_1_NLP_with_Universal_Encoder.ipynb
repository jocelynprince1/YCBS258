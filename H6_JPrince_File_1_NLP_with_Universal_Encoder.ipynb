{
  "nbformat": 4,
  "nbformat_minor": 0,
  "metadata": {
    "kernelspec": {
      "name": "python3",
      "display_name": "Python 3"
    },
    "language_info": {
      "codemirror_mode": {
        "name": "ipython",
        "version": 3
      },
      "file_extension": ".py",
      "mimetype": "text/x-python",
      "name": "python",
      "nbconvert_exporter": "python",
      "pygments_lexer": "ipython3",
      "version": "3.5.3"
    },
    "colab": {
      "name": "H6 JPrince File 1 - NLP with Universal Encoder.ipynb",
      "provenance": [],
      "collapsed_sections": [],
      "toc_visible": true,
      "include_colab_link": true
    },
    "accelerator": "GPU"
  },
  "cells": [
    {
      "cell_type": "markdown",
      "metadata": {
        "id": "view-in-github",
        "colab_type": "text"
      },
      "source": [
        "<a href=\"https://colab.research.google.com/github/jocelynprince1/YCBS258/blob/master/H6_JPrince_File_1_NLP_with_Universal_Encoder.ipynb\" target=\"_parent\"><img src=\"https://colab.research.google.com/assets/colab-badge.svg\" alt=\"Open In Colab\"/></a>"
      ]
    },
    {
      "cell_type": "markdown",
      "metadata": {
        "id": "zJPvEnC3wVR8",
        "colab_type": "text"
      },
      "source": [
        "# Final Project - YCBS258 - Experimenting with NLP Tensorflow Hub modules\n",
        "\n",
        "#### Submitted by Jocelyn Prince (2019/12/_--------------___________)\n",
        "---"
      ]
    },
    {
      "cell_type": "markdown",
      "metadata": {
        "id": "j3PXQr6jwVR_",
        "colab_type": "text"
      },
      "source": [
        "# Sentiment Analysis Project - Post to Medium\n",
        "#### NLP with the following Modules from Tensorflow Hub\n",
        "* nnlm-en-dim128 Module\n",
        "* Universal Sentence Encoder\n",
        "\n",
        "\n",
        "### Description\n",
        "Deploying a model on Google's AI-Platform (also called ML Engine) and demonstrate the model returning a prediction.\n",
        "\n",
        "1. Use the free tier of GCP: https://cloud.google.com/free/\n",
        "2. Train a model using any dataset you want using keras, tensorflow, XGBoost or scikit-learn. You can do the training locally (or on colab)\n",
        "3. Deploy the model on GCP's AI-Platform\n",
        "4. Send a request to the AI-Platform and print out the prediction (File 2)\n",
        "\n",
        "---------------\n",
        "\n",
        "Details:\n",
        "* Dataset for training: Sentiment140 (source: http://help.sentiment140.com/for-students/)\n",
        "\n",
        "References:\n",
        "\n",
        "https://www.analyticsvidhya.com/blog/2019/03/learn-to-use-elmo-to-extract-features-from-text/\n",
        "\n",
        "https://arxiv.org/pdf/1802.05365.pdf\n",
        "\n",
        "https://colab.research.google.com/github/tensorflow/hub/blob/master/examples/colab/tf2_text_classification.ipynb#scrollTo=Eg62Pmz3o83v\n",
        "\n",
        "Aurélien Géron's book\n",
        "-----"
      ]
    },
    {
      "cell_type": "code",
      "metadata": {
        "id": "2SdkIyLkwvS5",
        "colab_type": "code",
        "outputId": "8636d431-fedf-4425-c628-c478569ac832",
        "colab": {
          "base_uri": "https://localhost:8080/",
          "height": 1000
        }
      },
      "source": [
        "!pip install --upgrade tensorflow"
      ],
      "execution_count": 3,
      "outputs": [
        {
          "output_type": "stream",
          "text": [
            "Collecting tensorflow\n",
            "\u001b[?25l  Downloading https://files.pythonhosted.org/packages/46/0f/7bd55361168bb32796b360ad15a25de6966c9c1beb58a8e30c01c8279862/tensorflow-2.0.0-cp36-cp36m-manylinux2010_x86_64.whl (86.3MB)\n",
            "\u001b[K     |████████████████████████████████| 86.3MB 132kB/s \n",
            "\u001b[?25hRequirement already satisfied, skipping upgrade: google-pasta>=0.1.6 in /usr/local/lib/python3.6/dist-packages (from tensorflow) (0.1.8)\n",
            "Collecting tensorflow-estimator<2.1.0,>=2.0.0\n",
            "\u001b[?25l  Downloading https://files.pythonhosted.org/packages/fc/08/8b927337b7019c374719145d1dceba21a8bb909b93b1ad6f8fb7d22c1ca1/tensorflow_estimator-2.0.1-py2.py3-none-any.whl (449kB)\n",
            "\u001b[K     |████████████████████████████████| 450kB 68.9MB/s \n",
            "\u001b[?25hRequirement already satisfied, skipping upgrade: keras-preprocessing>=1.0.5 in /usr/local/lib/python3.6/dist-packages (from tensorflow) (1.1.0)\n",
            "Requirement already satisfied, skipping upgrade: six>=1.10.0 in /usr/local/lib/python3.6/dist-packages (from tensorflow) (1.12.0)\n",
            "Requirement already satisfied, skipping upgrade: grpcio>=1.8.6 in /usr/local/lib/python3.6/dist-packages (from tensorflow) (1.15.0)\n",
            "Requirement already satisfied, skipping upgrade: absl-py>=0.7.0 in /usr/local/lib/python3.6/dist-packages (from tensorflow) (0.8.1)\n",
            "Requirement already satisfied, skipping upgrade: keras-applications>=1.0.8 in /usr/local/lib/python3.6/dist-packages (from tensorflow) (1.0.8)\n",
            "Requirement already satisfied, skipping upgrade: numpy<2.0,>=1.16.0 in /usr/local/lib/python3.6/dist-packages (from tensorflow) (1.17.4)\n",
            "Collecting tensorboard<2.1.0,>=2.0.0\n",
            "\u001b[?25l  Downloading https://files.pythonhosted.org/packages/76/54/99b9d5d52d5cb732f099baaaf7740403e83fe6b0cedde940fabd2b13d75a/tensorboard-2.0.2-py3-none-any.whl (3.8MB)\n",
            "\u001b[K     |████████████████████████████████| 3.8MB 50.8MB/s \n",
            "\u001b[?25hRequirement already satisfied, skipping upgrade: astor>=0.6.0 in /usr/local/lib/python3.6/dist-packages (from tensorflow) (0.8.1)\n",
            "Requirement already satisfied, skipping upgrade: termcolor>=1.1.0 in /usr/local/lib/python3.6/dist-packages (from tensorflow) (1.1.0)\n",
            "Requirement already satisfied, skipping upgrade: wrapt>=1.11.1 in /usr/local/lib/python3.6/dist-packages (from tensorflow) (1.11.2)\n",
            "Requirement already satisfied, skipping upgrade: wheel>=0.26 in /usr/local/lib/python3.6/dist-packages (from tensorflow) (0.33.6)\n",
            "Requirement already satisfied, skipping upgrade: protobuf>=3.6.1 in /usr/local/lib/python3.6/dist-packages (from tensorflow) (3.10.0)\n",
            "Requirement already satisfied, skipping upgrade: opt-einsum>=2.3.2 in /usr/local/lib/python3.6/dist-packages (from tensorflow) (3.1.0)\n",
            "Requirement already satisfied, skipping upgrade: gast==0.2.2 in /usr/local/lib/python3.6/dist-packages (from tensorflow) (0.2.2)\n",
            "Requirement already satisfied, skipping upgrade: h5py in /usr/local/lib/python3.6/dist-packages (from keras-applications>=1.0.8->tensorflow) (2.8.0)\n",
            "Requirement already satisfied, skipping upgrade: markdown>=2.6.8 in /usr/local/lib/python3.6/dist-packages (from tensorboard<2.1.0,>=2.0.0->tensorflow) (3.1.1)\n",
            "Requirement already satisfied, skipping upgrade: werkzeug>=0.11.15 in /usr/local/lib/python3.6/dist-packages (from tensorboard<2.1.0,>=2.0.0->tensorflow) (0.16.0)\n",
            "Requirement already satisfied, skipping upgrade: requests<3,>=2.21.0 in /usr/local/lib/python3.6/dist-packages (from tensorboard<2.1.0,>=2.0.0->tensorflow) (2.21.0)\n",
            "Collecting google-auth<2,>=1.6.3\n",
            "\u001b[?25l  Downloading https://files.pythonhosted.org/packages/54/31/f944cbd5bdbcc90d5b36f0615036308c8ec1e41b4788da5b55d4900f6803/google_auth-1.8.2-py2.py3-none-any.whl (75kB)\n",
            "\u001b[K     |████████████████████████████████| 81kB 12.8MB/s \n",
            "\u001b[?25hRequirement already satisfied, skipping upgrade: google-auth-oauthlib<0.5,>=0.4.1 in /usr/local/lib/python3.6/dist-packages (from tensorboard<2.1.0,>=2.0.0->tensorflow) (0.4.1)\n",
            "Requirement already satisfied, skipping upgrade: setuptools>=41.0.0 in /usr/local/lib/python3.6/dist-packages (from tensorboard<2.1.0,>=2.0.0->tensorflow) (42.0.2)\n",
            "Requirement already satisfied, skipping upgrade: idna<2.9,>=2.5 in /usr/local/lib/python3.6/dist-packages (from requests<3,>=2.21.0->tensorboard<2.1.0,>=2.0.0->tensorflow) (2.8)\n",
            "Requirement already satisfied, skipping upgrade: certifi>=2017.4.17 in /usr/local/lib/python3.6/dist-packages (from requests<3,>=2.21.0->tensorboard<2.1.0,>=2.0.0->tensorflow) (2019.11.28)\n",
            "Requirement already satisfied, skipping upgrade: chardet<3.1.0,>=3.0.2 in /usr/local/lib/python3.6/dist-packages (from requests<3,>=2.21.0->tensorboard<2.1.0,>=2.0.0->tensorflow) (3.0.4)\n",
            "Requirement already satisfied, skipping upgrade: urllib3<1.25,>=1.21.1 in /usr/local/lib/python3.6/dist-packages (from requests<3,>=2.21.0->tensorboard<2.1.0,>=2.0.0->tensorflow) (1.24.3)\n",
            "Requirement already satisfied, skipping upgrade: cachetools<3.2,>=2.0.0 in /usr/local/lib/python3.6/dist-packages (from google-auth<2,>=1.6.3->tensorboard<2.1.0,>=2.0.0->tensorflow) (3.1.1)\n",
            "Requirement already satisfied, skipping upgrade: pyasn1-modules>=0.2.1 in /usr/local/lib/python3.6/dist-packages (from google-auth<2,>=1.6.3->tensorboard<2.1.0,>=2.0.0->tensorflow) (0.2.7)\n",
            "Requirement already satisfied, skipping upgrade: rsa<4.1,>=3.1.4 in /usr/local/lib/python3.6/dist-packages (from google-auth<2,>=1.6.3->tensorboard<2.1.0,>=2.0.0->tensorflow) (4.0)\n",
            "Requirement already satisfied, skipping upgrade: requests-oauthlib>=0.7.0 in /usr/local/lib/python3.6/dist-packages (from google-auth-oauthlib<0.5,>=0.4.1->tensorboard<2.1.0,>=2.0.0->tensorflow) (1.3.0)\n",
            "Requirement already satisfied, skipping upgrade: pyasn1<0.5.0,>=0.4.6 in /usr/local/lib/python3.6/dist-packages (from pyasn1-modules>=0.2.1->google-auth<2,>=1.6.3->tensorboard<2.1.0,>=2.0.0->tensorflow) (0.4.8)\n",
            "Requirement already satisfied, skipping upgrade: oauthlib>=3.0.0 in /usr/local/lib/python3.6/dist-packages (from requests-oauthlib>=0.7.0->google-auth-oauthlib<0.5,>=0.4.1->tensorboard<2.1.0,>=2.0.0->tensorflow) (3.1.0)\n",
            "\u001b[31mERROR: tensorboard 2.0.2 has requirement grpcio>=1.24.3, but you'll have grpcio 1.15.0 which is incompatible.\u001b[0m\n",
            "\u001b[31mERROR: google-colab 1.0.0 has requirement google-auth~=1.4.0, but you'll have google-auth 1.8.2 which is incompatible.\u001b[0m\n",
            "Installing collected packages: tensorflow-estimator, google-auth, tensorboard, tensorflow\n",
            "  Found existing installation: tensorflow-estimator 1.15.1\n",
            "    Uninstalling tensorflow-estimator-1.15.1:\n",
            "      Successfully uninstalled tensorflow-estimator-1.15.1\n",
            "  Found existing installation: google-auth 1.4.2\n",
            "    Uninstalling google-auth-1.4.2:\n",
            "      Successfully uninstalled google-auth-1.4.2\n",
            "  Found existing installation: tensorboard 1.15.0\n",
            "    Uninstalling tensorboard-1.15.0:\n",
            "      Successfully uninstalled tensorboard-1.15.0\n",
            "  Found existing installation: tensorflow 1.15.0\n",
            "    Uninstalling tensorflow-1.15.0:\n",
            "      Successfully uninstalled tensorflow-1.15.0\n",
            "Successfully installed google-auth-1.8.2 tensorboard-2.0.2 tensorflow-2.0.0 tensorflow-estimator-2.0.1\n"
          ],
          "name": "stdout"
        },
        {
          "output_type": "display_data",
          "data": {
            "application/vnd.colab-display-data+json": {
              "pip_warning": {
                "packages": [
                  "google",
                  "tensorboard",
                  "tensorflow",
                  "tensorflow_core",
                  "tensorflow_estimator"
                ]
              }
            }
          },
          "metadata": {
            "tags": []
          }
        }
      ]
    },
    {
      "cell_type": "code",
      "metadata": {
        "id": "j3jSYsq3xivL",
        "colab_type": "code",
        "outputId": "9e10a583-37ba-4aa8-d358-b37de546bedd",
        "colab": {
          "base_uri": "https://localhost:8080/",
          "height": 224
        }
      },
      "source": [
        "!pip install --upgrade scikit-learn"
      ],
      "execution_count": 1,
      "outputs": [
        {
          "output_type": "stream",
          "text": [
            "Collecting scikit-learn\n",
            "\u001b[?25l  Downloading https://files.pythonhosted.org/packages/2e/d0/860c4f6a7027e00acff373d9f5327f4ae3ed5872234b3cbdd7bcb52e5eff/scikit_learn-0.22-cp36-cp36m-manylinux1_x86_64.whl (7.0MB)\n",
            "\u001b[K     |████████████████████████████████| 7.0MB 9.5MB/s \n",
            "\u001b[?25hRequirement already satisfied, skipping upgrade: joblib>=0.11 in /usr/local/lib/python3.6/dist-packages (from scikit-learn) (0.14.1)\n",
            "Requirement already satisfied, skipping upgrade: numpy>=1.11.0 in /usr/local/lib/python3.6/dist-packages (from scikit-learn) (1.17.4)\n",
            "Requirement already satisfied, skipping upgrade: scipy>=0.17.0 in /usr/local/lib/python3.6/dist-packages (from scikit-learn) (1.3.3)\n",
            "Installing collected packages: scikit-learn\n",
            "  Found existing installation: scikit-learn 0.21.3\n",
            "    Uninstalling scikit-learn-0.21.3:\n",
            "      Successfully uninstalled scikit-learn-0.21.3\n",
            "Successfully installed scikit-learn-0.22\n"
          ],
          "name": "stdout"
        }
      ]
    },
    {
      "cell_type": "code",
      "metadata": {
        "id": "ebK2jkUSy2tD",
        "colab_type": "code",
        "outputId": "af5d44d0-2fcf-42a9-f983-fbab27b693f8",
        "colab": {
          "base_uri": "https://localhost:8080/",
          "height": 34
        }
      },
      "source": [
        "from google.colab import drive\n",
        "drive.mount('/content/drive')"
      ],
      "execution_count": 1,
      "outputs": [
        {
          "output_type": "stream",
          "text": [
            "Drive already mounted at /content/drive; to attempt to forcibly remount, call drive.mount(\"/content/drive\", force_remount=True).\n"
          ],
          "name": "stdout"
        }
      ]
    },
    {
      "cell_type": "markdown",
      "metadata": {
        "id": "RWWK_HdOwVSA",
        "colab_type": "text"
      },
      "source": [
        "# Import Libraries"
      ]
    },
    {
      "cell_type": "code",
      "metadata": {
        "id": "plokcj6CwVSB",
        "colab_type": "code",
        "outputId": "51f6b94e-f7f2-4534-df40-fb1bb8912d5b",
        "colab": {
          "base_uri": "https://localhost:8080/",
          "height": 34
        }
      },
      "source": [
        "# This Notebook needs to be executed under Python ≥3.5 and TensorFlow >= 2.0\n",
        "import sys\n",
        "assert sys.version_info >= (3, 5)\n",
        "import tensorflow as tf\n",
        "from tensorflow import keras\n",
        "from tensorflow.keras import layers\n",
        "from tensorflow.keras.layers import Dense, Dropout\n",
        "from tensorflow.keras import optimizers\n",
        "import tensorflow_hub as hub\n",
        "assert tf.__version__ >= \"2.0\"\n",
        "\n",
        "# Minimum Requirement for Scikit-Learn ≥0.20 is required\n",
        "import sklearn\n",
        "assert sklearn.__version__ >= \"0.20\"\n",
        "\n",
        "try:\n",
        "    # %tensorflow_version only exists in Colab.\n",
        "    %tensorflow_version 2.x\n",
        "    !pip install -q -U tensorflow-addons\n",
        "    IS_COLAB = True\n",
        "except Exception:\n",
        "    IS_COLAB = False\n",
        "\n",
        "if not tf.test.is_gpu_available():\n",
        "    print(\"No GPU was detected. This code can be very slow without a GPU.\")\n",
        "    if IS_COLAB:\n",
        "        print(\"Go to Runtime > Change runtime and select a GPU hardware accelerator.\")\n",
        "\n",
        "# Common imports\n",
        "import time\n",
        "import pandas as pd\n",
        "import numpy as np\n",
        "import os\n",
        "\n",
        "# to make this notebook's output stable across runs\n",
        "np.random.seed(20)\n",
        "tf.random.set_seed(20)\n",
        "\n",
        "# To plot pretty figures\n",
        "%matplotlib inline\n",
        "import matplotlib as mpl\n",
        "import matplotlib.pyplot as plt\n",
        "mpl.rc('axes', labelsize=14)\n",
        "mpl.rc('xtick', labelsize=12)\n",
        "mpl.rc('ytick', labelsize=12)\n",
        "mpl.rcParams['figure.figsize'] = (8, 6)\n",
        "mpl.rcParams['axes.grid'] = False\n",
        "\n",
        "# Where to save the figures\n",
        "PROJECT_ROOT_DIR = \".\"\n",
        "FOLDER= \"rnn\"\n",
        "IMAGES_PATH = os.path.join(PROJECT_ROOT_DIR, \"images\", FOLDER)\n",
        "os.makedirs(IMAGES_PATH, exist_ok=True)\n",
        "\n",
        "def save_fig(fig_id, tight_layout=True, fig_extension=\"png\", resolution=300):\n",
        "    path = os.path.join(IMAGES_PATH, fig_id + \".\" + fig_extension)\n",
        "    print(\"Saving figure\", fig_id)\n",
        "    if tight_layout:\n",
        "        plt.tight_layout()\n",
        "    plt.savefig(path, format=fig_extension, dpi=resolution)"
      ],
      "execution_count": 3,
      "outputs": [
        {
          "output_type": "stream",
          "text": [
            "TensorFlow is already loaded. Please restart the runtime to change versions.\n"
          ],
          "name": "stdout"
        }
      ]
    },
    {
      "cell_type": "code",
      "metadata": {
        "id": "IYhwnfGNwVSE",
        "colab_type": "code",
        "outputId": "b054ad4c-fcca-4ae4-a98a-8b691b6f9482",
        "colab": {
          "base_uri": "https://localhost:8080/",
          "height": 34
        }
      },
      "source": [
        "tf.__version__"
      ],
      "execution_count": 4,
      "outputs": [
        {
          "output_type": "execute_result",
          "data": {
            "text/plain": [
              "'2.0.0'"
            ]
          },
          "metadata": {
            "tags": []
          },
          "execution_count": 4
        }
      ]
    },
    {
      "cell_type": "code",
      "metadata": {
        "id": "o6_s80j-wVSH",
        "colab_type": "code",
        "outputId": "2bc40bda-e764-4896-f790-0de7e101ef96",
        "colab": {
          "base_uri": "https://localhost:8080/",
          "height": 34
        }
      },
      "source": [
        "tf.test.is_gpu_available()"
      ],
      "execution_count": 5,
      "outputs": [
        {
          "output_type": "execute_result",
          "data": {
            "text/plain": [
              "True"
            ]
          },
          "metadata": {
            "tags": []
          },
          "execution_count": 5
        }
      ]
    },
    {
      "cell_type": "code",
      "metadata": {
        "id": "nOWr4QJtwVSL",
        "colab_type": "code",
        "colab": {
          "base_uri": "https://localhost:8080/",
          "height": 428
        },
        "outputId": "07f3461a-e7c2-42de-ab3f-9c2d19962825"
      },
      "source": [
        "# The spacy module needs to be installed\n",
        "!pip install spacy\n",
        "\n",
        "# The english module needs to be downloaded if not already\n",
        "!python3 -m spacy download en"
      ],
      "execution_count": 10,
      "outputs": [
        {
          "output_type": "stream",
          "text": [
            "Requirement already satisfied: spacy in /usr/local/lib/python3.6/dist-packages (2.1.9)\n",
            "Requirement already satisfied: thinc<7.1.0,>=7.0.8 in /usr/local/lib/python3.6/dist-packages (from spacy) (7.0.8)\n",
            "Requirement already satisfied: wasabi<1.1.0,>=0.2.0 in /usr/local/lib/python3.6/dist-packages (from spacy) (0.4.2)\n",
            "Requirement already satisfied: numpy>=1.15.0 in /usr/local/lib/python3.6/dist-packages (from spacy) (1.17.4)\n",
            "Requirement already satisfied: requests<3.0.0,>=2.13.0 in /usr/local/lib/python3.6/dist-packages (from spacy) (2.21.0)\n",
            "Requirement already satisfied: blis<0.3.0,>=0.2.2 in /usr/local/lib/python3.6/dist-packages (from spacy) (0.2.4)\n",
            "Requirement already satisfied: murmurhash<1.1.0,>=0.28.0 in /usr/local/lib/python3.6/dist-packages (from spacy) (1.0.2)\n",
            "Requirement already satisfied: preshed<2.1.0,>=2.0.1 in /usr/local/lib/python3.6/dist-packages (from spacy) (2.0.1)\n",
            "Requirement already satisfied: srsly<1.1.0,>=0.0.6 in /usr/local/lib/python3.6/dist-packages (from spacy) (0.2.0)\n",
            "Requirement already satisfied: plac<1.0.0,>=0.9.6 in /usr/local/lib/python3.6/dist-packages (from spacy) (0.9.6)\n",
            "Requirement already satisfied: cymem<2.1.0,>=2.0.2 in /usr/local/lib/python3.6/dist-packages (from spacy) (2.0.3)\n",
            "Requirement already satisfied: tqdm<5.0.0,>=4.10.0 in /usr/local/lib/python3.6/dist-packages (from thinc<7.1.0,>=7.0.8->spacy) (4.28.1)\n",
            "Requirement already satisfied: chardet<3.1.0,>=3.0.2 in /usr/local/lib/python3.6/dist-packages (from requests<3.0.0,>=2.13.0->spacy) (3.0.4)\n",
            "Requirement already satisfied: urllib3<1.25,>=1.21.1 in /usr/local/lib/python3.6/dist-packages (from requests<3.0.0,>=2.13.0->spacy) (1.24.3)\n",
            "Requirement already satisfied: certifi>=2017.4.17 in /usr/local/lib/python3.6/dist-packages (from requests<3.0.0,>=2.13.0->spacy) (2019.11.28)\n",
            "Requirement already satisfied: idna<2.9,>=2.5 in /usr/local/lib/python3.6/dist-packages (from requests<3.0.0,>=2.13.0->spacy) (2.8)\n",
            "Requirement already satisfied: en_core_web_sm==2.1.0 from https://github.com/explosion/spacy-models/releases/download/en_core_web_sm-2.1.0/en_core_web_sm-2.1.0.tar.gz#egg=en_core_web_sm==2.1.0 in /usr/local/lib/python3.6/dist-packages (2.1.0)\n",
            "\u001b[38;5;2m✔ Download and installation successful\u001b[0m\n",
            "You can now load the model via spacy.load('en_core_web_sm')\n",
            "\u001b[38;5;2m✔ Linking successful\u001b[0m\n",
            "/usr/local/lib/python3.6/dist-packages/en_core_web_sm -->\n",
            "/usr/local/lib/python3.6/dist-packages/spacy/data/en\n",
            "You can now load the model via spacy.load('en')\n"
          ],
          "name": "stdout"
        }
      ]
    },
    {
      "cell_type": "code",
      "metadata": {
        "id": "fsPPJ7GSwVSP",
        "colab_type": "code",
        "colab": {}
      },
      "source": [
        "# Import other common libraries\n",
        "from sklearn.model_selection import train_test_split\n",
        "from sklearn.preprocessing import LabelEncoder\n",
        "from sklearn.metrics import confusion_matrix\n",
        "from sklearn.metrics import accuracy_score \n",
        "import itertools\n",
        "import re\n",
        "import spacy"
      ],
      "execution_count": 0,
      "outputs": []
    },
    {
      "cell_type": "markdown",
      "metadata": {
        "id": "PnhiKv3swVSQ",
        "colab_type": "text"
      },
      "source": [
        "# Import Dataset: Sentiment140 Tweets\n"
      ]
    },
    {
      "cell_type": "code",
      "metadata": {
        "id": "X0pOwuJ50YQ4",
        "colab_type": "code",
        "colab": {}
      },
      "source": [
        "trainfile = \"/content/drive/My Drive/Colab Notebooks/Final_Project/data/training.1600000.processed.noemoticon.csv\"\n",
        "testfile = \"/content/drive/My Drive/Colab Notebooks/Final_Project/data/testdata.manual.2009.06.14.csv\"\n",
        "columns = ['polarity','id','date','query_string','twitter_user','tweet']"
      ],
      "execution_count": 0,
      "outputs": []
    },
    {
      "cell_type": "code",
      "metadata": {
        "id": "-2zIJ-SewVSR",
        "colab_type": "code",
        "outputId": "08b1d690-debf-46cd-8fab-463a5cbbb9eb",
        "colab": {
          "base_uri": "https://localhost:8080/",
          "height": 34
        }
      },
      "source": [
        "# Import Train data set\n",
        "df_train = pd.read_csv(trainfile,\n",
        "                 header=None, \n",
        "                 names=columns, \n",
        "                 encoding='latin-1')\n",
        "df_train.shape"
      ],
      "execution_count": 216,
      "outputs": [
        {
          "output_type": "execute_result",
          "data": {
            "text/plain": [
              "(1600000, 6)"
            ]
          },
          "metadata": {
            "tags": []
          },
          "execution_count": 216
        }
      ]
    },
    {
      "cell_type": "code",
      "metadata": {
        "id": "fzmQ87eCVsFY",
        "colab_type": "code",
        "colab": {
          "base_uri": "https://localhost:8080/",
          "height": 34
        },
        "outputId": "4c37ea14-40c5-42d8-9986-f19e2bd4fbb3"
      },
      "source": [
        "# Import Test data set\n",
        "df_test = pd.read_csv(testfile,\n",
        "                 header=None, \n",
        "                 names=columns, \n",
        "                 encoding='latin-1')\n",
        "df_test.shape"
      ],
      "execution_count": 217,
      "outputs": [
        {
          "output_type": "execute_result",
          "data": {
            "text/plain": [
              "(498, 6)"
            ]
          },
          "metadata": {
            "tags": []
          },
          "execution_count": 217
        }
      ]
    },
    {
      "cell_type": "markdown",
      "metadata": {
        "id": "xnrUiuGQF4Cp",
        "colab_type": "text"
      },
      "source": [
        "# Data Preprocessing"
      ]
    },
    {
      "cell_type": "markdown",
      "metadata": {
        "id": "ODIGKgr2wVST",
        "colab_type": "text"
      },
      "source": [
        "## Explore Data"
      ]
    },
    {
      "cell_type": "code",
      "metadata": {
        "id": "nkXheD3IwVSU",
        "colab_type": "code",
        "outputId": "e98c62a1-eaf1-42ad-feb7-5dc3b005271e",
        "colab": {
          "base_uri": "https://localhost:8080/",
          "height": 204
        }
      },
      "source": [
        "df_train.info()"
      ],
      "execution_count": 218,
      "outputs": [
        {
          "output_type": "stream",
          "text": [
            "<class 'pandas.core.frame.DataFrame'>\n",
            "RangeIndex: 1600000 entries, 0 to 1599999\n",
            "Data columns (total 6 columns):\n",
            "polarity        1600000 non-null int64\n",
            "id              1600000 non-null int64\n",
            "date            1600000 non-null object\n",
            "query_string    1600000 non-null object\n",
            "twitter_user    1600000 non-null object\n",
            "tweet           1600000 non-null object\n",
            "dtypes: int64(2), object(4)\n",
            "memory usage: 73.2+ MB\n"
          ],
          "name": "stdout"
        }
      ]
    },
    {
      "cell_type": "code",
      "metadata": {
        "id": "sNm8JcOGwVSZ",
        "colab_type": "code",
        "outputId": "5cbf102b-dd57-4ac7-f907-d3a77b6b771e",
        "colab": {
          "base_uri": "https://localhost:8080/",
          "height": 204
        }
      },
      "source": [
        "df_train.tweet[0:10]"
      ],
      "execution_count": 13,
      "outputs": [
        {
          "output_type": "execute_result",
          "data": {
            "text/plain": [
              "0    @switchfoot http://twitpic.com/2y1zl - Awww, t...\n",
              "1    is upset that he can't update his Facebook by ...\n",
              "2    @Kenichan I dived many times for the ball. Man...\n",
              "3      my whole body feels itchy and like its on fire \n",
              "4    @nationwideclass no, it's not behaving at all....\n",
              "5                        @Kwesidei not the whole crew \n",
              "6                                          Need a hug \n",
              "7    @LOLTrish hey  long time no see! Yes.. Rains a...\n",
              "8                 @Tatiana_K nope they didn't have it \n",
              "9                            @twittera que me muera ? \n",
              "Name: tweet, dtype: object"
            ]
          },
          "metadata": {
            "tags": []
          },
          "execution_count": 13
        }
      ]
    },
    {
      "cell_type": "code",
      "metadata": {
        "id": "6AIFHAJEwVSm",
        "colab_type": "code",
        "outputId": "8fa05a50-a18d-48fc-828f-6b775b3cefe8",
        "colab": {
          "base_uri": "https://localhost:8080/",
          "height": 427
        }
      },
      "source": [
        "df_train.hist([\"polarity\"])"
      ],
      "execution_count": 220,
      "outputs": [
        {
          "output_type": "execute_result",
          "data": {
            "text/plain": [
              "array([[<matplotlib.axes._subplots.AxesSubplot object at 0x7f0a3034a668>]],\n",
              "      dtype=object)"
            ]
          },
          "metadata": {
            "tags": []
          },
          "execution_count": 220
        },
        {
          "output_type": "display_data",
          "data": {
            "image/png": "[encoded data removed]",
            "text/plain": [
              "<Figure size 576x432 with 1 Axes>"
            ]
          },
          "metadata": {
            "tags": []
          }
        }
      ]
    },
    {
      "cell_type": "code",
      "metadata": {
        "id": "ZfjvdFKKgtSX",
        "colab_type": "code",
        "colab": {
          "base_uri": "https://localhost:8080/",
          "height": 427
        },
        "outputId": "7332b647-d240-42ad-cb39-3f7f4c8e255b"
      },
      "source": [
        "df_test.hist([\"polarity\"])"
      ],
      "execution_count": 221,
      "outputs": [
        {
          "output_type": "execute_result",
          "data": {
            "text/plain": [
              "array([[<matplotlib.axes._subplots.AxesSubplot object at 0x7f0b56a6b0f0>]],\n",
              "      dtype=object)"
            ]
          },
          "metadata": {
            "tags": []
          },
          "execution_count": 221
        },
        {
          "output_type": "display_data",
          "data": {
            "image/png": "[encoded data removed]",
            "text/plain": [
              "<Figure size 576x432 with 1 Axes>"
            ]
          },
          "metadata": {
            "tags": []
          }
        }
      ]
    },
    {
      "cell_type": "markdown",
      "metadata": {
        "id": "0AvKcNexwVSb",
        "colab_type": "text"
      },
      "source": [
        "## Split Train and Test dataset\n"
      ]
    },
    {
      "cell_type": "code",
      "metadata": {
        "id": "ZjmhCyNDwVSb",
        "colab_type": "code",
        "colab": {}
      },
      "source": [
        "NUMTRAIN = 110000\n",
        "NUMTEST = 2000\n",
        "train_set = df_train[['id','polarity', 'tweet']].sample(NUMTRAIN)\n",
        "test_set = df_train[['id','polarity', 'tweet']].sample(NUMTEST)"
      ],
      "execution_count": 0,
      "outputs": []
    },
    {
      "cell_type": "code",
      "metadata": {
        "colab_type": "code",
        "id": "x4HHhD2xsZRj",
        "colab": {}
      },
      "source": [
        "X_train = train_set.drop(\"polarity\", axis=1) # drop labels for training set\n",
        "y_train = train_set[\"polarity\"].copy()"
      ],
      "execution_count": 0,
      "outputs": []
    },
    {
      "cell_type": "code",
      "metadata": {
        "colab_type": "code",
        "id": "v9ZipZszbVR6",
        "colab": {}
      },
      "source": [
        "X_test = test_set.drop(\"polarity\", axis=1) # drop labels for test set\n",
        "y_test = test_set[\"polarity\"].copy()"
      ],
      "execution_count": 0,
      "outputs": []
    },
    {
      "cell_type": "code",
      "metadata": {
        "id": "Se92l7Q-wVSh",
        "colab_type": "code",
        "outputId": "e73423ef-1f67-4425-80b9-cb226fce92e7",
        "colab": {
          "base_uri": "https://localhost:8080/",
          "height": 85
        }
      },
      "source": [
        "print(\"X_train: \" + str(X_train.shape) + str(type(X_train)))\n",
        "print(\"y_train: \"+ str(y_train.shape)+ str(type(y_train)))\n",
        "print(\"X_test: \" + str(X_test.shape) + str(type(X_test)))\n",
        "print(\"y_test: \"+ str(y_test.shape)+ str(type(y_test)))"
      ],
      "execution_count": 252,
      "outputs": [
        {
          "output_type": "stream",
          "text": [
            "X_train: (110000, 2)<class 'pandas.core.frame.DataFrame'>\n",
            "y_train: (110000,)<class 'pandas.core.series.Series'>\n",
            "X_test: (2000, 2)<class 'pandas.core.frame.DataFrame'>\n",
            "y_test: (2000,)<class 'pandas.core.series.Series'>\n"
          ],
          "name": "stdout"
        }
      ]
    },
    {
      "cell_type": "code",
      "metadata": {
        "id": "pQa9BSQlspx7",
        "colab_type": "code",
        "outputId": "6f6b20d8-5bbe-41c2-afb0-bf8d12031791",
        "colab": {
          "base_uri": "https://localhost:8080/",
          "height": 119
        }
      },
      "source": [
        "y_train.head()\n"
      ],
      "execution_count": 253,
      "outputs": [
        {
          "output_type": "execute_result",
          "data": {
            "text/plain": [
              "266265     0\n",
              "638441     0\n",
              "990439     4\n",
              "1343405    4\n",
              "1068028    4\n",
              "Name: polarity, dtype: int64"
            ]
          },
          "metadata": {
            "tags": []
          },
          "execution_count": 253
        }
      ]
    },
    {
      "cell_type": "markdown",
      "metadata": {
        "colab_type": "text",
        "id": "NU1GAB7QsFjV"
      },
      "source": [
        "## Functions : Text-preprocessing and Lemmatize (Normalize) Tweets"
      ]
    },
    {
      "cell_type": "code",
      "metadata": {
        "colab_type": "code",
        "id": "WNL4fPQ4sFjY",
        "colab": {}
      },
      "source": [
        "def text_processing(tweet):\n",
        "    # remove https links\n",
        "    clean_tweet = re.sub(r'http\\S+', '', tweet)\n",
        "    # remove punctuation marks\n",
        "    punctuation = '!\"#$%&()*+-/:;<=>?@[\\\\]^_`{|}~'\n",
        "    clean_tweet = ''.join(ch for ch in clean_tweet if ch not in set(punctuation))\n",
        "    # convert text to lowercase\n",
        "    clean_tweet = clean_tweet.lower()\n",
        "    # remove numbers\n",
        "    clean_tweet = re.sub('\\d', ' ', clean_tweet)\n",
        "    # remove whitespaces\n",
        "    clean_tweet = ' '.join(clean_tweet.split())\n",
        "    return clean_tweet"
      ],
      "execution_count": 0,
      "outputs": []
    },
    {
      "cell_type": "code",
      "metadata": {
        "colab_type": "code",
        "id": "t3e_9D4HsFjb",
        "colab": {}
      },
      "source": [
        "# import the english language model from spacy'\n",
        "nlp = spacy.load('en', disable=['parser', 'ner'])\n",
        "#nlp = spacy.load('en')\n",
        "\n",
        "# function to lemmatize text\n",
        "def lemmatization(tweets):\n",
        "    lemma_tweet = []\n",
        "    for i in tweets:\n",
        "        t = [token.lemma_ for token in nlp(i)]\n",
        "        lemma_tweet.append(' '.join(t))\n",
        "    return lemma_tweet"
      ],
      "execution_count": 0,
      "outputs": []
    },
    {
      "cell_type": "code",
      "metadata": {
        "colab_type": "code",
        "id": "rN3t3xtEsFjd",
        "colab": {}
      },
      "source": [
        "X_train['clean_tweet'] = X_train['tweet'].apply(lambda x: text_processing(x))\n",
        "X_test['clean_tweet'] = X_test['tweet'].apply(lambda x: text_processing(x))"
      ],
      "execution_count": 0,
      "outputs": []
    },
    {
      "cell_type": "code",
      "metadata": {
        "colab_type": "code",
        "outputId": "89032e49-9d53-4ec1-ff15-7b1577b8b53b",
        "id": "cBSFgM-JsFjg",
        "colab": {
          "base_uri": "https://localhost:8080/",
          "height": 204
        }
      },
      "source": [
        "X_train.head()"
      ],
      "execution_count": 255,
      "outputs": [
        {
          "output_type": "execute_result",
          "data": {
            "text/html": [
              "<div>\n",
              "<style scoped>\n",
              "    .dataframe tbody tr th:only-of-type {\n",
              "        vertical-align: middle;\n",
              "    }\n",
              "\n",
              "    .dataframe tbody tr th {\n",
              "        vertical-align: top;\n",
              "    }\n",
              "\n",
              "    .dataframe thead th {\n",
              "        text-align: right;\n",
              "    }\n",
              "</style>\n",
              "<table border=\"1\" class=\"dataframe\">\n",
              "  <thead>\n",
              "    <tr style=\"text-align: right;\">\n",
              "      <th></th>\n",
              "      <th>id</th>\n",
              "      <th>tweet</th>\n",
              "      <th>clean_tweet</th>\n",
              "    </tr>\n",
              "  </thead>\n",
              "  <tbody>\n",
              "    <tr>\n",
              "      <th>266265</th>\n",
              "      <td>1988958306</td>\n",
              "      <td>feels bad.. because i'm a mean girl.. i'll cha...</td>\n",
              "      <td>feels bad.. because i'm a mean girl.. i'll cha...</td>\n",
              "    </tr>\n",
              "    <tr>\n",
              "      <th>638441</th>\n",
              "      <td>2234459517</td>\n",
              "      <td>just finished todays exams  really annoyi9ng 4...</td>\n",
              "      <td>just finished todays exams really annoyi ng . ...</td>\n",
              "    </tr>\n",
              "    <tr>\n",
              "      <th>990439</th>\n",
              "      <td>1834988588</td>\n",
              "      <td>@roadburnfest It's an awesome album. Why don't...</td>\n",
              "      <td>roadburnfest it's an awesome album. why don't ...</td>\n",
              "    </tr>\n",
              "    <tr>\n",
              "      <th>1343405</th>\n",
              "      <td>2039726113</td>\n",
              "      <td>recap of Elinor Lipman... this is my 100th Jew...</td>\n",
              "      <td>recap of elinor lipman... this is my th jewish...</td>\n",
              "    </tr>\n",
              "    <tr>\n",
              "      <th>1068028</th>\n",
              "      <td>1965618738</td>\n",
              "      <td>Also follow @tessacrowe @StefLoc</td>\n",
              "      <td>also follow tessacrowe stefloc</td>\n",
              "    </tr>\n",
              "  </tbody>\n",
              "</table>\n",
              "</div>"
            ],
            "text/plain": [
              "                 id  ...                                        clean_tweet\n",
              "266265   1988958306  ...  feels bad.. because i'm a mean girl.. i'll cha...\n",
              "638441   2234459517  ...  just finished todays exams really annoyi ng . ...\n",
              "990439   1834988588  ...  roadburnfest it's an awesome album. why don't ...\n",
              "1343405  2039726113  ...  recap of elinor lipman... this is my th jewish...\n",
              "1068028  1965618738  ...                     also follow tessacrowe stefloc\n",
              "\n",
              "[5 rows x 3 columns]"
            ]
          },
          "metadata": {
            "tags": []
          },
          "execution_count": 255
        }
      ]
    },
    {
      "cell_type": "code",
      "metadata": {
        "colab_type": "code",
        "outputId": "fb3d9266-4454-44da-d960-b5cf8138098b",
        "id": "On7lcZAtsFjk",
        "colab": {
          "base_uri": "https://localhost:8080/",
          "height": 51
        }
      },
      "source": [
        "# This is the cell to generate lemmatized files from the dataset\n",
        "# We may also use already pre-processed files from google drive (see below)\n",
        "%%time\n",
        "X_train[\"clean_tweet\"] = lemmatization(X_train[\"clean_tweet\"])\n",
        "X_test['clean_tweet'] = lemmatization(X_test['clean_tweet'])\n",
        "\n",
        "# Expected time for 50 000 records: 3 min\n",
        "# Expected time for 80 000 records: 5 min\n",
        "# Expected time for 80 000 records (No Disabled): 11 min\n",
        "# Expected time for 90 000 records (disabled : parser and ner): 4.5 min\n",
        "# Expected time for 110 000 records (disabled : parser and ner): 4.5 min"
      ],
      "execution_count": 256,
      "outputs": [
        {
          "output_type": "stream",
          "text": [
            "CPU times: user 4min 30s, sys: 471 ms, total: 4min 30s\n",
            "Wall time: 4min 30s\n"
          ],
          "name": "stdout"
        }
      ]
    },
    {
      "cell_type": "code",
      "metadata": {
        "colab_type": "code",
        "outputId": "90fa42b7-1458-44db-8026-9769bf5bd3c6",
        "id": "_7VHzh2ssFjm",
        "colab": {
          "base_uri": "https://localhost:8080/",
          "height": 34
        }
      },
      "source": [
        "X_train.shape"
      ],
      "execution_count": 257,
      "outputs": [
        {
          "output_type": "execute_result",
          "data": {
            "text/plain": [
              "(110000, 3)"
            ]
          },
          "metadata": {
            "tags": []
          },
          "execution_count": 257
        }
      ]
    },
    {
      "cell_type": "code",
      "metadata": {
        "colab_type": "code",
        "outputId": "8e0dfe4e-87a6-434d-e4f2-df65bebd79b9",
        "id": "TQHh1nDCsFjo",
        "colab": {
          "base_uri": "https://localhost:8080/",
          "height": 204
        }
      },
      "source": [
        "X_train.head()"
      ],
      "execution_count": 258,
      "outputs": [
        {
          "output_type": "execute_result",
          "data": {
            "text/html": [
              "<div>\n",
              "<style scoped>\n",
              "    .dataframe tbody tr th:only-of-type {\n",
              "        vertical-align: middle;\n",
              "    }\n",
              "\n",
              "    .dataframe tbody tr th {\n",
              "        vertical-align: top;\n",
              "    }\n",
              "\n",
              "    .dataframe thead th {\n",
              "        text-align: right;\n",
              "    }\n",
              "</style>\n",
              "<table border=\"1\" class=\"dataframe\">\n",
              "  <thead>\n",
              "    <tr style=\"text-align: right;\">\n",
              "      <th></th>\n",
              "      <th>id</th>\n",
              "      <th>tweet</th>\n",
              "      <th>clean_tweet</th>\n",
              "    </tr>\n",
              "  </thead>\n",
              "  <tbody>\n",
              "    <tr>\n",
              "      <th>266265</th>\n",
              "      <td>1988958306</td>\n",
              "      <td>feels bad.. because i'm a mean girl.. i'll cha...</td>\n",
              "      <td>feel bad .. because -PRON- be a mean girl .. -...</td>\n",
              "    </tr>\n",
              "    <tr>\n",
              "      <th>638441</th>\n",
              "      <td>2234459517</td>\n",
              "      <td>just finished todays exams  really annoyi9ng 4...</td>\n",
              "      <td>just finish today exam really annoyi ng . hrs ...</td>\n",
              "    </tr>\n",
              "    <tr>\n",
              "      <th>990439</th>\n",
              "      <td>1834988588</td>\n",
              "      <td>@roadburnfest It's an awesome album. Why don't...</td>\n",
              "      <td>roadburnfest -PRON- be an awesome album . why ...</td>\n",
              "    </tr>\n",
              "    <tr>\n",
              "      <th>1343405</th>\n",
              "      <td>2039726113</td>\n",
              "      <td>recap of Elinor Lipman... this is my 100th Jew...</td>\n",
              "      <td>recap of elinor lipman ... this be -PRON- th j...</td>\n",
              "    </tr>\n",
              "    <tr>\n",
              "      <th>1068028</th>\n",
              "      <td>1965618738</td>\n",
              "      <td>Also follow @tessacrowe @StefLoc</td>\n",
              "      <td>also follow tessacrowe stefloc</td>\n",
              "    </tr>\n",
              "  </tbody>\n",
              "</table>\n",
              "</div>"
            ],
            "text/plain": [
              "                 id  ...                                        clean_tweet\n",
              "266265   1988958306  ...  feel bad .. because -PRON- be a mean girl .. -...\n",
              "638441   2234459517  ...  just finish today exam really annoyi ng . hrs ...\n",
              "990439   1834988588  ...  roadburnfest -PRON- be an awesome album . why ...\n",
              "1343405  2039726113  ...  recap of elinor lipman ... this be -PRON- th j...\n",
              "1068028  1965618738  ...                     also follow tessacrowe stefloc\n",
              "\n",
              "[5 rows x 3 columns]"
            ]
          },
          "metadata": {
            "tags": []
          },
          "execution_count": 258
        }
      ]
    },
    {
      "cell_type": "code",
      "metadata": {
        "colab_type": "code",
        "outputId": "93306c04-0a48-4c16-f300-638dbb750883",
        "id": "guD3Udw5sFjq",
        "colab": {
          "base_uri": "https://localhost:8080/",
          "height": 204
        }
      },
      "source": [
        "X_test.head()"
      ],
      "execution_count": 259,
      "outputs": [
        {
          "output_type": "execute_result",
          "data": {
            "text/html": [
              "<div>\n",
              "<style scoped>\n",
              "    .dataframe tbody tr th:only-of-type {\n",
              "        vertical-align: middle;\n",
              "    }\n",
              "\n",
              "    .dataframe tbody tr th {\n",
              "        vertical-align: top;\n",
              "    }\n",
              "\n",
              "    .dataframe thead th {\n",
              "        text-align: right;\n",
              "    }\n",
              "</style>\n",
              "<table border=\"1\" class=\"dataframe\">\n",
              "  <thead>\n",
              "    <tr style=\"text-align: right;\">\n",
              "      <th></th>\n",
              "      <th>id</th>\n",
              "      <th>tweet</th>\n",
              "      <th>clean_tweet</th>\n",
              "    </tr>\n",
              "  </thead>\n",
              "  <tbody>\n",
              "    <tr>\n",
              "      <th>1102289</th>\n",
              "      <td>1970913077</td>\n",
              "      <td>Incredible #Jazz at the Caledonia last night, ...</td>\n",
              "      <td>incredible jazz at the caledonia last night , ...</td>\n",
              "    </tr>\n",
              "    <tr>\n",
              "      <th>749235</th>\n",
              "      <td>2284938969</td>\n",
              "      <td>Going to work...ugh</td>\n",
              "      <td>go to work ... ugh</td>\n",
              "    </tr>\n",
              "    <tr>\n",
              "      <th>1030712</th>\n",
              "      <td>1932957089</td>\n",
              "      <td>Looking forward to getting a chance to meet/sh...</td>\n",
              "      <td>look forward to get a chance to meetshare idea...</td>\n",
              "    </tr>\n",
              "    <tr>\n",
              "      <th>482667</th>\n",
              "      <td>2180088476</td>\n",
              "      <td>Been to get my 2 new pairs of glasses (one of ...</td>\n",
              "      <td>be to get -PRON- new pair of glass one of whic...</td>\n",
              "    </tr>\n",
              "    <tr>\n",
              "      <th>455533</th>\n",
              "      <td>2070985610</td>\n",
              "      <td>and still hoping to get a response from my fav...</td>\n",
              "      <td>and still hope to get a response from -PRON- f...</td>\n",
              "    </tr>\n",
              "  </tbody>\n",
              "</table>\n",
              "</div>"
            ],
            "text/plain": [
              "                 id  ...                                        clean_tweet\n",
              "1102289  1970913077  ...  incredible jazz at the caledonia last night , ...\n",
              "749235   2284938969  ...                                 go to work ... ugh\n",
              "1030712  1932957089  ...  look forward to get a chance to meetshare idea...\n",
              "482667   2180088476  ...  be to get -PRON- new pair of glass one of whic...\n",
              "455533   2070985610  ...  and still hope to get a response from -PRON- f...\n",
              "\n",
              "[5 rows x 3 columns]"
            ]
          },
          "metadata": {
            "tags": []
          },
          "execution_count": 259
        }
      ]
    },
    {
      "cell_type": "code",
      "metadata": {
        "colab_type": "code",
        "id": "544l5W-CsFjs",
        "colab": {}
      },
      "source": [
        "# Saved lemmatized files to Google Drive for further use\n",
        "# Last time saved: 80 000 records for X_train (2019-12-13)\n",
        "\n",
        "# Define file names and folder\n",
        "X_train_lemma_file = \"/content/drive/My Drive/Colab Notebooks/Final_Project/data/X_train_lemma100k.csv\"\n",
        "X_test_lemma_file = \"/content/drive/My Drive/Colab Notebooks/Final_Project/data/X_test_lemma2k.csv\"\n",
        "#y_train_lemma_file = \"/content/drive/My Drive/Colab Notebooks/Final_Project/data/y_train_lemma100k.csv\"\n",
        "#y_test_lemma_file = \"/content/drive/My Drive/Colab Notebooks/Final_Project/data/y_test_lemma2k.csv\""
      ],
      "execution_count": 0,
      "outputs": []
    },
    {
      "cell_type": "code",
      "metadata": {
        "id": "aDlHHPasGdM4",
        "colab_type": "code",
        "colab": {
          "base_uri": "https://localhost:8080/",
          "height": 105
        },
        "outputId": "eb934bca-4161-46ab-961e-9eeeea1fa1d5"
      },
      "source": [
        "# Save to files\n",
        "X_train.to_csv(X_train_lemma_file, index=False)\n",
        "X_test.to_csv(X_test_lemma_file, index=False)\n",
        "y_train.to_csv(y_train_lemma_file, index=False)\n",
        "y_test.to_csv(y_test_lemma_file, index=False)"
      ],
      "execution_count": 237,
      "outputs": [
        {
          "output_type": "stream",
          "text": [
            "/usr/local/lib/python3.6/dist-packages/ipykernel_launcher.py:3: FutureWarning: The signature of `Series.to_csv` was aligned to that of `DataFrame.to_csv`, and argument 'header' will change its default value from False to True: please pass an explicit value to suppress this warning.\n",
            "  This is separate from the ipykernel package so we can avoid doing imports until\n",
            "/usr/local/lib/python3.6/dist-packages/ipykernel_launcher.py:4: FutureWarning: The signature of `Series.to_csv` was aligned to that of `DataFrame.to_csv`, and argument 'header' will change its default value from False to True: please pass an explicit value to suppress this warning.\n",
            "  after removing the cwd from sys.path.\n"
          ],
          "name": "stderr"
        }
      ]
    },
    {
      "cell_type": "code",
      "metadata": {
        "colab_type": "code",
        "id": "reB19mbBsFju",
        "colab": {}
      },
      "source": [
        "# Import from files already pre-processed from Google Drive\n",
        "X_train = pd.read_csv(X_train_lemma_file)\n",
        "X_test = pd.read_csv(X_test_lemma_file)\n",
        "y_train = pd.read_csv(y_train_lemma_file)\n",
        "X_test = pd.read_csv(y_test_lemma_file)"
      ],
      "execution_count": 0,
      "outputs": []
    },
    {
      "cell_type": "code",
      "metadata": {
        "id": "8HjOzBmHtZUl",
        "colab_type": "code",
        "outputId": "cc013bd2-1897-460f-c74e-f60710aff0dd",
        "colab": {
          "base_uri": "https://localhost:8080/",
          "height": 204
        }
      },
      "source": [
        "X_train.head()"
      ],
      "execution_count": 247,
      "outputs": [
        {
          "output_type": "execute_result",
          "data": {
            "text/html": [
              "<div>\n",
              "<style scoped>\n",
              "    .dataframe tbody tr th:only-of-type {\n",
              "        vertical-align: middle;\n",
              "    }\n",
              "\n",
              "    .dataframe tbody tr th {\n",
              "        vertical-align: top;\n",
              "    }\n",
              "\n",
              "    .dataframe thead th {\n",
              "        text-align: right;\n",
              "    }\n",
              "</style>\n",
              "<table border=\"1\" class=\"dataframe\">\n",
              "  <thead>\n",
              "    <tr style=\"text-align: right;\">\n",
              "      <th></th>\n",
              "      <th>id</th>\n",
              "      <th>tweet</th>\n",
              "      <th>clean_tweet</th>\n",
              "    </tr>\n",
              "  </thead>\n",
              "  <tbody>\n",
              "    <tr>\n",
              "      <th>0</th>\n",
              "      <td>1932342081</td>\n",
              "      <td>I Almost passed out.. Don't think that went well</td>\n",
              "      <td>i almost pass out .. do not think that go well</td>\n",
              "    </tr>\n",
              "    <tr>\n",
              "      <th>1</th>\n",
              "      <td>2184843651</td>\n",
              "      <td>Minor prob...Primers gone bad since I painted ...</td>\n",
              "      <td>minor prob ... primer go bad since i paint -PR...</td>\n",
              "    </tr>\n",
              "    <tr>\n",
              "      <th>2</th>\n",
              "      <td>1932412845</td>\n",
              "      <td>Devastated on the court's ruling on Prop 8</td>\n",
              "      <td>devastate on the court 's ruling on prop</td>\n",
              "    </tr>\n",
              "    <tr>\n",
              "      <th>3</th>\n",
              "      <td>1983132448</td>\n",
              "      <td>coming home from the lake with kelsey</td>\n",
              "      <td>come home from the lake with kelsey</td>\n",
              "    </tr>\n",
              "    <tr>\n",
              "      <th>4</th>\n",
              "      <td>1828029521</td>\n",
              "      <td>We must do it again</td>\n",
              "      <td>-PRON- must do -PRON- again</td>\n",
              "    </tr>\n",
              "  </tbody>\n",
              "</table>\n",
              "</div>"
            ],
            "text/plain": [
              "           id  ...                                        clean_tweet\n",
              "0  1932342081  ...     i almost pass out .. do not think that go well\n",
              "1  2184843651  ...  minor prob ... primer go bad since i paint -PR...\n",
              "2  1932412845  ...           devastate on the court 's ruling on prop\n",
              "3  1983132448  ...                come home from the lake with kelsey\n",
              "4  1828029521  ...                        -PRON- must do -PRON- again\n",
              "\n",
              "[5 rows x 3 columns]"
            ]
          },
          "metadata": {
            "tags": []
          },
          "execution_count": 247
        }
      ]
    },
    {
      "cell_type": "code",
      "metadata": {
        "colab_type": "code",
        "id": "9iKAGDsmsFjw",
        "colab": {}
      },
      "source": [
        "X_train = X_train[\"clean_tweet\"].values\n",
        "X_test = X_test[\"clean_tweet\"].values"
      ],
      "execution_count": 0,
      "outputs": []
    },
    {
      "cell_type": "code",
      "metadata": {
        "colab_type": "code",
        "outputId": "ee06e4a9-72ea-43e4-ec37-4e5ac8d1f939",
        "id": "AKBSZUq_sFjx",
        "colab": {
          "base_uri": "https://localhost:8080/",
          "height": 85
        }
      },
      "source": [
        "print(X_train[0:5])"
      ],
      "execution_count": 240,
      "outputs": [
        {
          "output_type": "stream",
          "text": [
            "['i almost pass out .. do not think that go well'\n",
            " 'minor prob ... primer go bad since i paint -PRON- aptgotta take care of sum buisness amp go buy primerpaint.be morrow b i can primer now'\n",
            " \"devastate on the court 's ruling on prop\"\n",
            " 'come home from the lake with kelsey' '-PRON- must do -PRON- again']\n"
          ],
          "name": "stdout"
        }
      ]
    },
    {
      "cell_type": "code",
      "metadata": {
        "id": "LjxfKbf9gBib",
        "colab_type": "code",
        "colab": {
          "base_uri": "https://localhost:8080/",
          "height": 34
        },
        "outputId": "4d1094f0-c9d0-4ad3-c987-2dbe6ef1cf10"
      },
      "source": [
        "X_test.shape"
      ],
      "execution_count": 261,
      "outputs": [
        {
          "output_type": "execute_result",
          "data": {
            "text/plain": [
              "(2000,)"
            ]
          },
          "metadata": {
            "tags": []
          },
          "execution_count": 261
        }
      ]
    },
    {
      "cell_type": "markdown",
      "metadata": {
        "id": "butnokpbGBO9",
        "colab_type": "text"
      },
      "source": [
        "## Label Encoding"
      ]
    },
    {
      "cell_type": "code",
      "metadata": {
        "id": "HuTudlIewVSo",
        "colab_type": "code",
        "outputId": "1f6b4257-d902-43a7-905b-8fb55e3da8a7",
        "colab": {
          "base_uri": "https://localhost:8080/",
          "height": 34
        }
      },
      "source": [
        "label_encoder = LabelEncoder()\n",
        "y_train = label_encoder.fit_transform(y_train)\n",
        "y_test = label_encoder.fit_transform(y_test)                     \n",
        "y_train[:5]"
      ],
      "execution_count": 262,
      "outputs": [
        {
          "output_type": "execute_result",
          "data": {
            "text/plain": [
              "array([0, 0, 1, 1, 1])"
            ]
          },
          "metadata": {
            "tags": []
          },
          "execution_count": 262
        }
      ]
    },
    {
      "cell_type": "code",
      "metadata": {
        "id": "OkLtyT19wVSq",
        "colab_type": "code",
        "colab": {}
      },
      "source": [
        "y_train = keras.utils.to_categorical(y_train)"
      ],
      "execution_count": 0,
      "outputs": []
    },
    {
      "cell_type": "code",
      "metadata": {
        "id": "DLu9IpLLwVSs",
        "colab_type": "code",
        "colab": {}
      },
      "source": [
        "y_test = keras.utils.to_categorical(y_test)"
      ],
      "execution_count": 0,
      "outputs": []
    },
    {
      "cell_type": "code",
      "metadata": {
        "id": "MBo-eAZ-wVSt",
        "colab_type": "code",
        "outputId": "c412a4d7-9308-4943-9784-6d4a7c3c340e",
        "colab": {
          "base_uri": "https://localhost:8080/",
          "height": 102
        }
      },
      "source": [
        "y_train[0:5]"
      ],
      "execution_count": 265,
      "outputs": [
        {
          "output_type": "execute_result",
          "data": {
            "text/plain": [
              "array([[1., 0.],\n",
              "       [1., 0.],\n",
              "       [0., 1.],\n",
              "       [0., 1.],\n",
              "       [0., 1.]], dtype=float32)"
            ]
          },
          "metadata": {
            "tags": []
          },
          "execution_count": 265
        }
      ]
    },
    {
      "cell_type": "code",
      "metadata": {
        "id": "SldLFIxFhPlv",
        "colab_type": "code",
        "outputId": "e2d90af6-b358-483d-8fa7-4fede121072b",
        "colab": {
          "base_uri": "https://localhost:8080/",
          "height": 34
        }
      },
      "source": [
        "X_train.shape\n",
        "# Should be (nb_of_records, )"
      ],
      "execution_count": 266,
      "outputs": [
        {
          "output_type": "execute_result",
          "data": {
            "text/plain": [
              "(110000,)"
            ]
          },
          "metadata": {
            "tags": []
          },
          "execution_count": 266
        }
      ]
    },
    {
      "cell_type": "code",
      "metadata": {
        "id": "KzSNt8tWgF_z",
        "colab_type": "code",
        "colab": {
          "base_uri": "https://localhost:8080/",
          "height": 34
        },
        "outputId": "a744a725-4b4d-4000-b3ce-7e7a16f5b04f"
      },
      "source": [
        "y_test.shape"
      ],
      "execution_count": 267,
      "outputs": [
        {
          "output_type": "execute_result",
          "data": {
            "text/plain": [
              "(2000, 2)"
            ]
          },
          "metadata": {
            "tags": []
          },
          "execution_count": 267
        }
      ]
    },
    {
      "cell_type": "markdown",
      "metadata": {
        "id": "EXdr4rpvGorw",
        "colab_type": "text"
      },
      "source": [
        "# Model nnlm-en-dim128"
      ]
    },
    {
      "cell_type": "markdown",
      "metadata": {
        "id": "mzWKbfihwVTC",
        "colab_type": "text"
      },
      "source": [
        "## Create Model using tf.hub: nnlm-en-dim128"
      ]
    },
    {
      "cell_type": "code",
      "metadata": {
        "id": "hmUfMnhmNLMW",
        "colab_type": "code",
        "outputId": "7b28027e-da1a-41a0-be45-bfbc677db044",
        "colab": {
          "base_uri": "https://localhost:8080/",
          "height": 34
        }
      },
      "source": [
        "MODEL = \"nnlm-en-dim128\"\n",
        "VERSION = 2\n",
        "URL = \"https://tfhub.dev/google/\"+MODEL+\"/\"+str(VERSION)\n",
        "print (URL)"
      ],
      "execution_count": 268,
      "outputs": [
        {
          "output_type": "stream",
          "text": [
            "https://tfhub.dev/google/nnlm-en-dim128/2\n"
          ],
          "name": "stdout"
        }
      ]
    },
    {
      "cell_type": "code",
      "metadata": {
        "id": "th0drHQrwVTC",
        "colab_type": "code",
        "outputId": "3febee6a-96e2-4ff1-c87e-f262b87a0aac",
        "colab": {
          "base_uri": "https://localhost:8080/",
          "height": 289
        }
      },
      "source": [
        "# Define the modle using Sequential api\n",
        "hub_layer1 = hub.KerasLayer(URL, output_shape=[128], \n",
        "                           input_shape=[], \n",
        "                           dtype=tf.string\n",
        "                          )\n",
        "model = keras.Sequential()\n",
        "model.add(hub_layer1)\n",
        "model.add(keras.layers.Dense(128, activation='relu'))\n",
        "model.add(keras.layers.Dropout(0.5))\n",
        "model.add(keras.layers.Dense(2, activation='softmax'))\n",
        "\n",
        "model.summary()"
      ],
      "execution_count": 269,
      "outputs": [
        {
          "output_type": "stream",
          "text": [
            "Model: \"sequential_6\"\n",
            "_________________________________________________________________\n",
            "Layer (type)                 Output Shape              Param #   \n",
            "=================================================================\n",
            "keras_layer_6 (KerasLayer)   (None, 128)               124642688 \n",
            "_________________________________________________________________\n",
            "dense_12 (Dense)             (None, 128)               16512     \n",
            "_________________________________________________________________\n",
            "dropout_6 (Dropout)          (None, 128)               0         \n",
            "_________________________________________________________________\n",
            "dense_13 (Dense)             (None, 2)                 258       \n",
            "=================================================================\n",
            "Total params: 124,659,458\n",
            "Trainable params: 16,770\n",
            "Non-trainable params: 124,642,688\n",
            "_________________________________________________________________\n"
          ],
          "name": "stdout"
        }
      ]
    },
    {
      "cell_type": "code",
      "metadata": {
        "id": "tjVitF9_wVTE",
        "colab_type": "code",
        "colab": {}
      },
      "source": [
        "model.compile(loss='categorical_crossentropy', optimizer='adam', metrics=['accuracy'])"
      ],
      "execution_count": 0,
      "outputs": []
    },
    {
      "cell_type": "code",
      "metadata": {
        "id": "bxPDNeKxwVTG",
        "colab_type": "code",
        "outputId": "987d47bc-1155-4b04-f1c1-2d2b187837c2",
        "colab": {
          "base_uri": "https://localhost:8080/",
          "height": 176
        }
      },
      "source": [
        "keras.utils.plot_model(model, \n",
        "                       #to_file='model.png',\n",
        "                      show_shapes=True, show_layer_names=True, rankdir='LR', expand_nested=False, dpi=128)"
      ],
      "execution_count": 271,
      "outputs": [
        {
          "output_type": "execute_result",
          "data": {
            "image/png": "[encoded data removed]",
            "text/plain": [
              "<IPython.core.display.Image object>"
            ]
          },
          "metadata": {
            "tags": []
          },
          "execution_count": 271
        }
      ]
    },
    {
      "cell_type": "markdown",
      "metadata": {
        "id": "SvDqk7O9wVTH",
        "colab_type": "text"
      },
      "source": [
        "## Execute Model"
      ]
    },
    {
      "cell_type": "code",
      "metadata": {
        "id": "Bz6ZbkvcwVTH",
        "colab_type": "code",
        "outputId": "18eb0321-7dd9-4ba5-d66a-8dd1aee34f0e",
        "colab": {
          "base_uri": "https://localhost:8080/",
          "height": 1000
        }
      },
      "source": [
        "%%time\n",
        "hist = model.fit(X_train, \n",
        "                 y_train, \n",
        "                 epochs=30,\n",
        "                 batch_size=128, \n",
        "                 validation_split=0.2,\n",
        "                 verbose = 1)\n",
        "# Benchmark time: 2 min per 10 epochs for 50 000 records/batch 32\n",
        "# Benchmark time: 6 min per 25 epochs for 80 000 records/batch 32\n",
        "# Benchmark time: 1.5 min per 15 epochs for 50 000 records/batch 64\n",
        "# Benchmark time: 1.5 min per 15 epochs for 80 000 records/64 nodes/batch 64\n",
        "# Benchmark time: 1.5 min per 20 epochs for 80 000 records/64 nodes/batch 64\n",
        "# Benchmark time: 2 min per 30 epochs for 80 000 records/64 nodes/batch 64\n",
        "# Benchmark time: 2 min per 30 epochs for 80 000 records/64 nodes/batch 128"
      ],
      "execution_count": 272,
      "outputs": [
        {
          "output_type": "stream",
          "text": [
            "Train on 88000 samples, validate on 22000 samples\n",
            "Epoch 1/30\n",
            "88000/88000 [==============================] - 4s 49us/sample - loss: 0.5732 - accuracy: 0.7020 - val_loss: 0.5374 - val_accuracy: 0.7289\n",
            "Epoch 2/30\n",
            "88000/88000 [==============================] - 4s 41us/sample - loss: 0.5433 - accuracy: 0.7260 - val_loss: 0.5303 - val_accuracy: 0.7338\n",
            "Epoch 3/30\n",
            "88000/88000 [==============================] - 4s 41us/sample - loss: 0.5362 - accuracy: 0.7305 - val_loss: 0.5265 - val_accuracy: 0.7395\n",
            "Epoch 4/30\n",
            "88000/88000 [==============================] - 4s 41us/sample - loss: 0.5311 - accuracy: 0.7347 - val_loss: 0.5219 - val_accuracy: 0.7402\n",
            "Epoch 5/30\n",
            "88000/88000 [==============================] - 4s 42us/sample - loss: 0.5284 - accuracy: 0.7369 - val_loss: 0.5201 - val_accuracy: 0.7398\n",
            "Epoch 6/30\n",
            "88000/88000 [==============================] - 4s 41us/sample - loss: 0.5242 - accuracy: 0.7408 - val_loss: 0.5153 - val_accuracy: 0.7459\n",
            "Epoch 7/30\n",
            "88000/88000 [==============================] - 4s 40us/sample - loss: 0.5225 - accuracy: 0.7423 - val_loss: 0.5135 - val_accuracy: 0.7461\n",
            "Epoch 8/30\n",
            "88000/88000 [==============================] - 4s 40us/sample - loss: 0.5191 - accuracy: 0.7438 - val_loss: 0.5127 - val_accuracy: 0.7467\n",
            "Epoch 9/30\n",
            "88000/88000 [==============================] - 4s 40us/sample - loss: 0.5174 - accuracy: 0.7460 - val_loss: 0.5111 - val_accuracy: 0.7478\n",
            "Epoch 10/30\n",
            "88000/88000 [==============================] - 4s 41us/sample - loss: 0.5153 - accuracy: 0.7470 - val_loss: 0.5093 - val_accuracy: 0.7504\n",
            "Epoch 11/30\n",
            "88000/88000 [==============================] - 4s 40us/sample - loss: 0.5136 - accuracy: 0.7479 - val_loss: 0.5100 - val_accuracy: 0.7479\n",
            "Epoch 12/30\n",
            "88000/88000 [==============================] - 4s 40us/sample - loss: 0.5131 - accuracy: 0.7487 - val_loss: 0.5089 - val_accuracy: 0.7509\n",
            "Epoch 13/30\n",
            "88000/88000 [==============================] - 4s 41us/sample - loss: 0.5119 - accuracy: 0.7494 - val_loss: 0.5082 - val_accuracy: 0.7519\n",
            "Epoch 14/30\n",
            "88000/88000 [==============================] - 4s 40us/sample - loss: 0.5102 - accuracy: 0.7506 - val_loss: 0.5077 - val_accuracy: 0.7512\n",
            "Epoch 15/30\n",
            "88000/88000 [==============================] - 4s 40us/sample - loss: 0.5095 - accuracy: 0.7506 - val_loss: 0.5060 - val_accuracy: 0.7525\n",
            "Epoch 16/30\n",
            "88000/88000 [==============================] - 4s 41us/sample - loss: 0.5062 - accuracy: 0.7543 - val_loss: 0.5064 - val_accuracy: 0.7518\n",
            "Epoch 17/30\n",
            "88000/88000 [==============================] - 4s 40us/sample - loss: 0.5064 - accuracy: 0.7515 - val_loss: 0.5049 - val_accuracy: 0.7511\n",
            "Epoch 18/30\n",
            "88000/88000 [==============================] - 4s 40us/sample - loss: 0.5059 - accuracy: 0.7546 - val_loss: 0.5059 - val_accuracy: 0.7525\n",
            "Epoch 19/30\n",
            "88000/88000 [==============================] - 4s 41us/sample - loss: 0.5046 - accuracy: 0.7547 - val_loss: 0.5050 - val_accuracy: 0.7537\n",
            "Epoch 20/30\n",
            "88000/88000 [==============================] - 4s 40us/sample - loss: 0.5030 - accuracy: 0.7563 - val_loss: 0.5040 - val_accuracy: 0.7530\n",
            "Epoch 21/30\n",
            "88000/88000 [==============================] - 4s 40us/sample - loss: 0.5029 - accuracy: 0.7558 - val_loss: 0.5040 - val_accuracy: 0.7545\n",
            "Epoch 22/30\n",
            "88000/88000 [==============================] - 4s 40us/sample - loss: 0.5016 - accuracy: 0.7578 - val_loss: 0.5046 - val_accuracy: 0.7548\n",
            "Epoch 23/30\n",
            "88000/88000 [==============================] - 4s 40us/sample - loss: 0.5022 - accuracy: 0.7566 - val_loss: 0.5039 - val_accuracy: 0.7538\n",
            "Epoch 24/30\n",
            "88000/88000 [==============================] - 3s 40us/sample - loss: 0.5008 - accuracy: 0.7578 - val_loss: 0.5032 - val_accuracy: 0.7545\n",
            "Epoch 25/30\n",
            "88000/88000 [==============================] - 3s 39us/sample - loss: 0.4988 - accuracy: 0.7580 - val_loss: 0.5050 - val_accuracy: 0.7526\n",
            "Epoch 26/30\n",
            "88000/88000 [==============================] - 4s 40us/sample - loss: 0.4995 - accuracy: 0.7594 - val_loss: 0.5024 - val_accuracy: 0.7547\n",
            "Epoch 27/30\n",
            "88000/88000 [==============================] - 4s 41us/sample - loss: 0.4979 - accuracy: 0.7591 - val_loss: 0.5035 - val_accuracy: 0.7533\n",
            "Epoch 28/30\n",
            "88000/88000 [==============================] - 4s 40us/sample - loss: 0.4982 - accuracy: 0.7609 - val_loss: 0.5038 - val_accuracy: 0.7543\n",
            "Epoch 29/30\n",
            "88000/88000 [==============================] - 4s 40us/sample - loss: 0.4972 - accuracy: 0.7597 - val_loss: 0.5025 - val_accuracy: 0.7549\n",
            "Epoch 30/30\n",
            "88000/88000 [==============================] - 4s 40us/sample - loss: 0.4954 - accuracy: 0.7622 - val_loss: 0.5023 - val_accuracy: 0.7539\n",
            "CPU times: user 2min 23s, sys: 13.6 s, total: 2min 36s\n",
            "Wall time: 1min 47s\n"
          ],
          "name": "stdout"
        }
      ]
    },
    {
      "cell_type": "code",
      "metadata": {
        "id": "N7ntRSvVwVTI",
        "colab_type": "code",
        "outputId": "abd8bd6b-b48c-49aa-c1e5-55967d41cb82",
        "colab": {
          "base_uri": "https://localhost:8080/",
          "height": 612
        }
      },
      "source": [
        "pd.DataFrame(hist.history).plot(figsize=(10,10))\n",
        "plt.grid(True)\n",
        "plt.show"
      ],
      "execution_count": 273,
      "outputs": [
        {
          "output_type": "execute_result",
          "data": {
            "text/plain": [
              "<function matplotlib.pyplot.show>"
            ]
          },
          "metadata": {
            "tags": []
          },
          "execution_count": 273
        },
        {
          "output_type": "display_data",
          "data": {
            "image/png": "[encoded data removed]",
            "text/plain": [
              "<Figure size 720x720 with 1 Axes>"
            ]
          },
          "metadata": {
            "tags": []
          }
        }
      ]
    },
    {
      "cell_type": "markdown",
      "metadata": {
        "id": "tBxcEWI0wVTK",
        "colab_type": "text"
      },
      "source": [
        "## Evaluate Model"
      ]
    },
    {
      "cell_type": "code",
      "metadata": {
        "id": "CkCDpk9UwVTK",
        "colab_type": "code",
        "outputId": "096b8ac4-b93c-4126-c20a-48d294b453e0",
        "colab": {
          "base_uri": "https://localhost:8080/",
          "height": 51
        }
      },
      "source": [
        "accuracy_test = model.evaluate(X_test, y_test, verbose=2)\n",
        "print(accuracy_test)\n",
        "# The results are not good because there are no neutral values in the training set"
      ],
      "execution_count": 274,
      "outputs": [
        {
          "output_type": "stream",
          "text": [
            "2000/1 - 0s - loss: 0.5794 - accuracy: 0.7395\n",
            "[0.5192583045959472, 0.7395]\n"
          ],
          "name": "stdout"
        }
      ]
    },
    {
      "cell_type": "code",
      "metadata": {
        "id": "9Z-cB2bFwVTL",
        "colab_type": "code",
        "outputId": "99acf2e7-0a6b-4194-f7c1-040e2fe14128",
        "colab": {
          "base_uri": "https://localhost:8080/",
          "height": 170
        }
      },
      "source": [
        "print(X_train[0:10])"
      ],
      "execution_count": 275,
      "outputs": [
        {
          "output_type": "stream",
          "text": [
            "['feel bad .. because -PRON- be a mean girl .. -PRON- will change na promise'\n",
            " 'just finish today exam really annoyi ng . hrs of exam'\n",
            " 'roadburnfest -PRON- be an awesome album . why do not -PRON- book -PRON- for next year festival'\n",
            " 'recap of elinor lipman ... this be -PRON- th jewishdc post'\n",
            " 'also follow tessacrowe stefloc' 'therealjosh -PRON- too'\n",
            " 'i think i have a wide tongue . everytime i sneeze -PRON- get hurt'\n",
            " '-PRON- foot be cold as and -PRON- be so bored , wish i have credit .'\n",
            " \"nyla 's official last day of school and -PRON- be home with a cold .\"\n",
            " 'lancearmstrong -PRON- be surprised that this do not happen more often . va and other military hospital get some bottom of the barrel doctor']\n"
          ],
          "name": "stdout"
        }
      ]
    },
    {
      "cell_type": "code",
      "metadata": {
        "id": "XEuBNR25wVTM",
        "colab_type": "code",
        "outputId": "29d2f9f9-e234-41fa-bfa1-3154a2b90c9e",
        "colab": {
          "base_uri": "https://localhost:8080/",
          "height": 187
        }
      },
      "source": [
        "predictions = model.predict(X_train[:10], batch_size=None, verbose=0)\n",
        "print(predictions.round(0))"
      ],
      "execution_count": 278,
      "outputs": [
        {
          "output_type": "stream",
          "text": [
            "[[1. 0.]\n",
            " [1. 0.]\n",
            " [0. 1.]\n",
            " [0. 1.]\n",
            " [0. 1.]\n",
            " [0. 1.]\n",
            " [1. 0.]\n",
            " [1. 0.]\n",
            " [1. 0.]\n",
            " [1. 0.]]\n"
          ],
          "name": "stdout"
        }
      ]
    },
    {
      "cell_type": "code",
      "metadata": {
        "id": "3uQbWTA6wVTO",
        "colab_type": "code",
        "outputId": "4779d35e-89f1-4e90-8b5b-b9a33fbc9b62",
        "colab": {
          "base_uri": "https://localhost:8080/",
          "height": 187
        }
      },
      "source": [
        "print(y_train[:10])"
      ],
      "execution_count": 277,
      "outputs": [
        {
          "output_type": "stream",
          "text": [
            "[[1. 0.]\n",
            " [1. 0.]\n",
            " [0. 1.]\n",
            " [0. 1.]\n",
            " [0. 1.]\n",
            " [0. 1.]\n",
            " [1. 0.]\n",
            " [1. 0.]\n",
            " [1. 0.]\n",
            " [1. 0.]]\n"
          ],
          "name": "stdout"
        }
      ]
    },
    {
      "cell_type": "markdown",
      "metadata": {
        "id": "j2ESaAjdwVTQ",
        "colab_type": "text"
      },
      "source": [
        "## Confusion Matrix"
      ]
    },
    {
      "cell_type": "code",
      "metadata": {
        "id": "Zq8q6kxYwVTQ",
        "colab_type": "code",
        "colab": {}
      },
      "source": [
        "def plot_confusion_matrix(cm, \n",
        "                          classes, \n",
        "                          normalize=False,\n",
        "                          title='CM', \n",
        "                          cmap=plt.cm.Greens):\n",
        "# This function prints and plots the confusion matrix. Normalization can be applied by setting `normalize=True`\n",
        "\n",
        "    if normalize:\n",
        "        cm = cm.astype('float') / cm.sum(axis=1)[:, np.newaxis]\n",
        "        # print(\"Normalized confusion matrix\") # print(cm)\n",
        "\n",
        "    plt.imshow(cm, interpolation='nearest', cmap=cmap) \n",
        "    plt.title(title)\n",
        "    plt.colorbar()\n",
        "\n",
        "    tick_marks = np.arange(len(classes)) \n",
        "    plt.xticks(tick_marks, classes, rotation=45) \n",
        "    plt.yticks(tick_marks, classes)\n",
        "\n",
        "    fmt = '.2f' if normalize else 'd'\n",
        "    thresh = cm.max() / 2.\n",
        "    for i, j in itertools.product(range(cm.shape[0]), range(cm.shape[1])):\n",
        "        plt.text(j, i, format(cm[i, j], fmt), \n",
        "                 horizontalalignment=\"center\",\n",
        "                 color=\"white\" if cm[i, j] > thresh else \"black\")\n",
        "        plt.tight_layout() \n",
        "        plt.ylabel('True label') \n",
        "        plt.xlabel('Predicted label')"
      ],
      "execution_count": 0,
      "outputs": []
    },
    {
      "cell_type": "code",
      "metadata": {
        "id": "Bo1pj-tewVTS",
        "colab_type": "code",
        "colab": {}
      },
      "source": [
        "# np.argmax Returns the indices of the maximum values along an axis. \n",
        "y_test_rounded = np.argmax(y_test, axis=1)\n",
        "y_train_rounded = np.argmax(y_train, axis=1)"
      ],
      "execution_count": 0,
      "outputs": []
    },
    {
      "cell_type": "code",
      "metadata": {
        "id": "AZqJ1ZgKwVTT",
        "colab_type": "code",
        "colab": {}
      },
      "source": [
        "y_pred = model.predict(X_train)\n",
        "y_pred_rounded = np.argmax(y_pred, axis=1)"
      ],
      "execution_count": 0,
      "outputs": []
    },
    {
      "cell_type": "code",
      "metadata": {
        "id": "t1VSl2LEwVTV",
        "colab_type": "code",
        "colab": {}
      },
      "source": [
        "cmResults = confusion_matrix(y_train_rounded, y_pred_rounded) \n",
        "accuracy = accuracy_score(y_train_rounded, y_pred_rounded)"
      ],
      "execution_count": 0,
      "outputs": []
    },
    {
      "cell_type": "code",
      "metadata": {
        "id": "UWc_zkA9wVTW",
        "colab_type": "code",
        "outputId": "91661c53-c466-403a-d13b-061b244a72e6",
        "colab": {
          "base_uri": "https://localhost:8080/",
          "height": 513
        }
      },
      "source": [
        "# Plot non-normalized confusion matrix \n",
        "class_names = ['Negative', 'Positive']\n",
        "plt.figure(figsize=(7,7));\n",
        "plot_confusion_matrix(cmResults, classes=class_names, title=str(MODEL)+ \"\\n\" +\"Accuracy: \" + str((accuracy*100).round(1)) + \"%\" +\"\\n\"+\"Train Data\");"
      ],
      "execution_count": 284,
      "outputs": [
        {
          "output_type": "display_data",
          "data": {
            "image/png": "[encoded data removed]",
            "text/plain": [
              "<Figure size 504x504 with 2 Axes>"
            ]
          },
          "metadata": {
            "tags": []
          }
        }
      ]
    },
    {
      "cell_type": "code",
      "metadata": {
        "id": "m1cbFmOSwVTX",
        "colab_type": "code",
        "colab": {}
      },
      "source": [
        "y_pred = model.predict(X_test)\n",
        "y_pred_rounded = np.argmax(y_pred, axis=1)\n",
        "cmResults = confusion_matrix(y_test_rounded, y_pred_rounded)\n",
        "accuracy = accuracy_score(y_test_rounded, y_pred_rounded)"
      ],
      "execution_count": 0,
      "outputs": []
    },
    {
      "cell_type": "code",
      "metadata": {
        "id": "j__4lgy1wVTY",
        "colab_type": "code",
        "outputId": "ad7227e6-7e67-4ea1-af2b-460ec2376b3b",
        "colab": {
          "base_uri": "https://localhost:8080/",
          "height": 513
        }
      },
      "source": [
        "# Plot non-normalized confusion matrix \n",
        "plt.figure(figsize=(7,7));\n",
        "plot_confusion_matrix(cmResults, classes=class_names, \n",
        "                      title=str(MODEL)+ \"\\n\" +\"Accuracy: \" + str((accuracy*100).round(1)) + \"%\" +\"\\n\"+\"Test Data\",\n",
        "                      cmap=plt.cm.Blues);"
      ],
      "execution_count": 286,
      "outputs": [
        {
          "output_type": "display_data",
          "data": {
            "image/png": "[encoded data removed]",
            "text/plain": [
              "<Figure size 504x504 with 2 Axes>"
            ]
          },
          "metadata": {
            "tags": []
          }
        }
      ]
    },
    {
      "cell_type": "markdown",
      "metadata": {
        "id": "8YECZ6SbwVTa",
        "colab_type": "text"
      },
      "source": [
        "## Test the Model with some sentences"
      ]
    },
    {
      "cell_type": "code",
      "metadata": {
        "id": "tiKcBX81wVTa",
        "colab_type": "code",
        "colab": {}
      },
      "source": [
        "# Create input tweets for testing the sentiment model \n",
        "tweets = {'tweet':['Montreal is a nice city in the summer!!!',\n",
        "                    'I have a good feeling about this team#11212',\n",
        "                    'The show was not funny...',\n",
        "                    'The dog is angry',\n",
        "                    'The food at the restaurant could be better',\n",
        "                    'The flight is a long one',\n",
        "                    'It would be nice if the weather was better in Montreal *&&%&*&##!1',\n",
        "                    'The Montreal hockey team will be making the playoffs',\n",
        "                    'The weather in Montreal is very nice in the summer'\n",
        "                   ],\n",
        "          'sentiments':[4,\n",
        "                       4,\n",
        "                       0,\n",
        "                       0,\n",
        "                       0,\n",
        "                       0,\n",
        "                       0,\n",
        "                       4,\n",
        "                       4\n",
        "                      ]\n",
        "         } \n",
        "  \n",
        "# Create DataFrame \n",
        "df_test = pd.DataFrame(tweets)"
      ],
      "execution_count": 0,
      "outputs": []
    },
    {
      "cell_type": "code",
      "metadata": {
        "id": "J085ZWQIwVTc",
        "colab_type": "code",
        "colab": {}
      },
      "source": [
        "df_test['clean_tweet'] = df_test['tweet'].apply(lambda x: text_processing(x))"
      ],
      "execution_count": 0,
      "outputs": []
    },
    {
      "cell_type": "code",
      "metadata": {
        "id": "0NtrQdUawVTc",
        "colab_type": "code",
        "colab": {}
      },
      "source": [
        "df_test[\"clean_tweet\"] = lemmatization(df_test[\"clean_tweet\"])"
      ],
      "execution_count": 0,
      "outputs": []
    },
    {
      "cell_type": "code",
      "metadata": {
        "id": "m5KV_aL4wVTd",
        "colab_type": "code",
        "outputId": "4ec5acf3-cd0f-4068-f765-39f22e208ab4",
        "colab": {
          "base_uri": "https://localhost:8080/",
          "height": 328
        }
      },
      "source": [
        "df_test"
      ],
      "execution_count": 290,
      "outputs": [
        {
          "output_type": "execute_result",
          "data": {
            "text/html": [
              "<div>\n",
              "<style scoped>\n",
              "    .dataframe tbody tr th:only-of-type {\n",
              "        vertical-align: middle;\n",
              "    }\n",
              "\n",
              "    .dataframe tbody tr th {\n",
              "        vertical-align: top;\n",
              "    }\n",
              "\n",
              "    .dataframe thead th {\n",
              "        text-align: right;\n",
              "    }\n",
              "</style>\n",
              "<table border=\"1\" class=\"dataframe\">\n",
              "  <thead>\n",
              "    <tr style=\"text-align: right;\">\n",
              "      <th></th>\n",
              "      <th>tweet</th>\n",
              "      <th>sentiments</th>\n",
              "      <th>clean_tweet</th>\n",
              "    </tr>\n",
              "  </thead>\n",
              "  <tbody>\n",
              "    <tr>\n",
              "      <th>0</th>\n",
              "      <td>Montreal is a nice city in the summer!!!</td>\n",
              "      <td>4</td>\n",
              "      <td>montreal be a nice city in the summer</td>\n",
              "    </tr>\n",
              "    <tr>\n",
              "      <th>1</th>\n",
              "      <td>I have a good feeling about this team#11212</td>\n",
              "      <td>4</td>\n",
              "      <td>i have a good feeling about this team</td>\n",
              "    </tr>\n",
              "    <tr>\n",
              "      <th>2</th>\n",
              "      <td>The show was not funny...</td>\n",
              "      <td>0</td>\n",
              "      <td>the show be not funny ...</td>\n",
              "    </tr>\n",
              "    <tr>\n",
              "      <th>3</th>\n",
              "      <td>The dog is angry</td>\n",
              "      <td>0</td>\n",
              "      <td>the dog be angry</td>\n",
              "    </tr>\n",
              "    <tr>\n",
              "      <th>4</th>\n",
              "      <td>The food at the restaurant could be better</td>\n",
              "      <td>0</td>\n",
              "      <td>the food at the restaurant could be well</td>\n",
              "    </tr>\n",
              "    <tr>\n",
              "      <th>5</th>\n",
              "      <td>The flight is a long one</td>\n",
              "      <td>0</td>\n",
              "      <td>the flight be a long one</td>\n",
              "    </tr>\n",
              "    <tr>\n",
              "      <th>6</th>\n",
              "      <td>It would be nice if the weather was better in ...</td>\n",
              "      <td>0</td>\n",
              "      <td>-PRON- would be nice if the weather be well in...</td>\n",
              "    </tr>\n",
              "    <tr>\n",
              "      <th>7</th>\n",
              "      <td>The Montreal hockey team will be making the pl...</td>\n",
              "      <td>4</td>\n",
              "      <td>the montreal hockey team will be make the playoff</td>\n",
              "    </tr>\n",
              "    <tr>\n",
              "      <th>8</th>\n",
              "      <td>The weather in Montreal is very nice in the su...</td>\n",
              "      <td>4</td>\n",
              "      <td>the weather in montreal be very nice in the su...</td>\n",
              "    </tr>\n",
              "  </tbody>\n",
              "</table>\n",
              "</div>"
            ],
            "text/plain": [
              "                                               tweet  ...                                        clean_tweet\n",
              "0           Montreal is a nice city in the summer!!!  ...              montreal be a nice city in the summer\n",
              "1        I have a good feeling about this team#11212  ...              i have a good feeling about this team\n",
              "2                          The show was not funny...  ...                          the show be not funny ...\n",
              "3                                   The dog is angry  ...                                   the dog be angry\n",
              "4         The food at the restaurant could be better  ...           the food at the restaurant could be well\n",
              "5                           The flight is a long one  ...                           the flight be a long one\n",
              "6  It would be nice if the weather was better in ...  ...  -PRON- would be nice if the weather be well in...\n",
              "7  The Montreal hockey team will be making the pl...  ...  the montreal hockey team will be make the playoff\n",
              "8  The weather in Montreal is very nice in the su...  ...  the weather in montreal be very nice in the su...\n",
              "\n",
              "[9 rows x 3 columns]"
            ]
          },
          "metadata": {
            "tags": []
          },
          "execution_count": 290
        }
      ]
    },
    {
      "cell_type": "code",
      "metadata": {
        "id": "44ZxvVVswVTe",
        "colab_type": "code",
        "colab": {}
      },
      "source": [
        "sentiments = df_test[\"sentiments\"].copy()\n",
        "label_encoder = LabelEncoder()\n",
        "sentiments = label_encoder.fit_transform(sentiments)\n",
        "sentiments = keras.utils.to_categorical(sentiments)"
      ],
      "execution_count": 0,
      "outputs": []
    },
    {
      "cell_type": "code",
      "metadata": {
        "id": "q_bCfTOewVTf",
        "colab_type": "code",
        "colab": {}
      },
      "source": [
        "X_input = df_test[\"clean_tweet\"].values"
      ],
      "execution_count": 0,
      "outputs": []
    },
    {
      "cell_type": "code",
      "metadata": {
        "id": "_PXVPhPzwVTg",
        "colab_type": "code",
        "outputId": "93dc4c4f-a273-402a-a338-a059f3c8de03",
        "colab": {
          "base_uri": "https://localhost:8080/",
          "height": 170
        }
      },
      "source": [
        "print(model.predict(X_input).round(0))"
      ],
      "execution_count": 293,
      "outputs": [
        {
          "output_type": "stream",
          "text": [
            "[[0. 1.]\n",
            " [0. 1.]\n",
            " [1. 0.]\n",
            " [1. 0.]\n",
            " [0. 1.]\n",
            " [0. 1.]\n",
            " [0. 1.]\n",
            " [0. 1.]\n",
            " [0. 1.]]\n"
          ],
          "name": "stdout"
        }
      ]
    },
    {
      "cell_type": "code",
      "metadata": {
        "id": "QtvJ2563wVTh",
        "colab_type": "code",
        "outputId": "fb4caa98-f32e-4069-f626-36e0b9b12d69",
        "colab": {
          "base_uri": "https://localhost:8080/",
          "height": 170
        }
      },
      "source": [
        "print(sentiments)"
      ],
      "execution_count": 294,
      "outputs": [
        {
          "output_type": "stream",
          "text": [
            "[[0. 1.]\n",
            " [0. 1.]\n",
            " [1. 0.]\n",
            " [1. 0.]\n",
            " [1. 0.]\n",
            " [1. 0.]\n",
            " [1. 0.]\n",
            " [0. 1.]\n",
            " [0. 1.]]\n"
          ],
          "name": "stdout"
        }
      ]
    },
    {
      "cell_type": "markdown",
      "metadata": {
        "id": "EHRuGMHMwVTj",
        "colab_type": "text"
      },
      "source": [
        "# Model Universal Sentence Encoder\n",
        "\n"
      ]
    },
    {
      "cell_type": "markdown",
      "metadata": {
        "id": "HDTMDRHr24Ix",
        "colab_type": "text"
      },
      "source": [
        "## Create Model"
      ]
    },
    {
      "cell_type": "code",
      "metadata": {
        "id": "fSAKNePtU6Ki",
        "colab_type": "code",
        "outputId": "d13214c8-6be6-438d-98e2-cbe5a5dd2e70",
        "colab": {
          "base_uri": "https://localhost:8080/",
          "height": 34
        }
      },
      "source": [
        "MODEL = \"universal-sentence-encoder\"\n",
        "VERSION = 4\n",
        "URL = \"https://tfhub.dev/google/\"+MODEL+\"/\"+str(VERSION)\n",
        "print (URL)"
      ],
      "execution_count": 295,
      "outputs": [
        {
          "output_type": "stream",
          "text": [
            "https://tfhub.dev/google/universal-sentence-encoder/4\n"
          ],
          "name": "stdout"
        }
      ]
    },
    {
      "cell_type": "code",
      "metadata": {
        "id": "-l4YwXqGwVTk",
        "colab_type": "code",
        "outputId": "6b63252b-9416-4901-c692-87cb03f93385",
        "colab": {
          "base_uri": "https://localhost:8080/",
          "height": 289
        }
      },
      "source": [
        "hub_layer2 = hub.KerasLayer(URL, \n",
        "                           output_shape=[512], \n",
        "                           input_shape=[], \n",
        "                           dtype=tf.string\n",
        "                          )\n",
        "model = keras.Sequential()\n",
        "model.add(hub_layer2)\n",
        "model.add(keras.layers.Dense(64, activation='relu'))\n",
        "model.add(keras.layers.Dropout(0.5))\n",
        "model.add(keras.layers.Dense(2, activation='softmax'))\n",
        "\n",
        "model.summary()"
      ],
      "execution_count": 296,
      "outputs": [
        {
          "output_type": "stream",
          "text": [
            "Model: \"sequential_7\"\n",
            "_________________________________________________________________\n",
            "Layer (type)                 Output Shape              Param #   \n",
            "=================================================================\n",
            "keras_layer_7 (KerasLayer)   (None, 512)               256797824 \n",
            "_________________________________________________________________\n",
            "dense_14 (Dense)             (None, 64)                32832     \n",
            "_________________________________________________________________\n",
            "dropout_7 (Dropout)          (None, 64)                0         \n",
            "_________________________________________________________________\n",
            "dense_15 (Dense)             (None, 2)                 130       \n",
            "=================================================================\n",
            "Total params: 256,830,786\n",
            "Trainable params: 32,962\n",
            "Non-trainable params: 256,797,824\n",
            "_________________________________________________________________\n"
          ],
          "name": "stdout"
        }
      ]
    },
    {
      "cell_type": "code",
      "metadata": {
        "id": "JoAp8MhnwVTm",
        "colab_type": "code",
        "colab": {}
      },
      "source": [
        "model.compile(loss='categorical_crossentropy', optimizer='adam', metrics=['accuracy'])"
      ],
      "execution_count": 0,
      "outputs": []
    },
    {
      "cell_type": "code",
      "metadata": {
        "id": "JMAyz11pwVTn",
        "colab_type": "code",
        "outputId": "2dbaf453-c4e4-496a-e944-48eb58e850a3",
        "colab": {
          "base_uri": "https://localhost:8080/",
          "height": 176
        }
      },
      "source": [
        "keras.utils.plot_model(model, \n",
        "                       #to_file='model.png',\n",
        "                       show_shapes=True, show_layer_names=True, rankdir='LR', expand_nested=False, dpi=128)"
      ],
      "execution_count": 298,
      "outputs": [
        {
          "output_type": "execute_result",
          "data": {
            "image/png": "[encoded data removed]",
            "text/plain": [
              "<IPython.core.display.Image object>"
            ]
          },
          "metadata": {
            "tags": []
          },
          "execution_count": 298
        }
      ]
    },
    {
      "cell_type": "markdown",
      "metadata": {
        "id": "EKnzwyoQwVTo",
        "colab_type": "text"
      },
      "source": [
        "## Execute Model"
      ]
    },
    {
      "cell_type": "code",
      "metadata": {
        "id": "Zj38BoZ5wVTo",
        "colab_type": "code",
        "outputId": "575930fe-64b9-474d-ee41-bb66baf2c794",
        "colab": {
          "base_uri": "https://localhost:8080/",
          "height": 1000
        }
      },
      "source": [
        "%%time\n",
        "hist = model.fit(X_train, \n",
        "                 y_train, \n",
        "                 epochs=30, \n",
        "                 batch_size=128, \n",
        "                 validation_split=.2,\n",
        "                 verbose = 1)\n",
        "# Benchmark time: 21 min for 25 epochs/80 000 records/32 nodes/batch 32\n",
        "# Benchmark time: 10 min for 12 epochs/80 000 records/32 nodes/batch 32\n",
        "# Benchmark time: 6 min for 20 epochs/50 000 records/64 nodes/batch 64\n",
        "# Benchmark time: 10 min for 30 epochs/80 000 records/64 nodes/batch 64\n",
        "# Benchmark time: 7 min for 30 epochs/80 000 records/64 nodes/batch 128"
      ],
      "execution_count": 299,
      "outputs": [
        {
          "output_type": "stream",
          "text": [
            "Train on 88000 samples, validate on 22000 samples\n",
            "Epoch 1/30\n",
            "88000/88000 [==============================] - 15s 167us/sample - loss: 0.5177 - accuracy: 0.7469 - val_loss: 0.4837 - val_accuracy: 0.7637\n",
            "Epoch 2/30\n",
            "88000/88000 [==============================] - 13s 148us/sample - loss: 0.4905 - accuracy: 0.7643 - val_loss: 0.4794 - val_accuracy: 0.7683\n",
            "Epoch 3/30\n",
            "88000/88000 [==============================] - 13s 148us/sample - loss: 0.4852 - accuracy: 0.7682 - val_loss: 0.4750 - val_accuracy: 0.7699\n",
            "Epoch 4/30\n",
            "88000/88000 [==============================] - 13s 148us/sample - loss: 0.4806 - accuracy: 0.7708 - val_loss: 0.4731 - val_accuracy: 0.7706\n",
            "Epoch 5/30\n",
            "88000/88000 [==============================] - 13s 146us/sample - loss: 0.4772 - accuracy: 0.7729 - val_loss: 0.4705 - val_accuracy: 0.7740\n",
            "Epoch 6/30\n",
            "88000/88000 [==============================] - 13s 146us/sample - loss: 0.4743 - accuracy: 0.7753 - val_loss: 0.4682 - val_accuracy: 0.7744\n",
            "Epoch 7/30\n",
            "88000/88000 [==============================] - 13s 147us/sample - loss: 0.4713 - accuracy: 0.7775 - val_loss: 0.4666 - val_accuracy: 0.7751\n",
            "Epoch 8/30\n",
            "88000/88000 [==============================] - 13s 145us/sample - loss: 0.4691 - accuracy: 0.7780 - val_loss: 0.4656 - val_accuracy: 0.7768\n",
            "Epoch 9/30\n",
            "88000/88000 [==============================] - 13s 146us/sample - loss: 0.4664 - accuracy: 0.7817 - val_loss: 0.4648 - val_accuracy: 0.7776\n",
            "Epoch 10/30\n",
            "88000/88000 [==============================] - 13s 146us/sample - loss: 0.4639 - accuracy: 0.7834 - val_loss: 0.4632 - val_accuracy: 0.7780\n",
            "Epoch 11/30\n",
            "88000/88000 [==============================] - 13s 146us/sample - loss: 0.4624 - accuracy: 0.7844 - val_loss: 0.4621 - val_accuracy: 0.7789\n",
            "Epoch 12/30\n",
            "88000/88000 [==============================] - 13s 151us/sample - loss: 0.4614 - accuracy: 0.7846 - val_loss: 0.4631 - val_accuracy: 0.7792\n",
            "Epoch 13/30\n",
            "88000/88000 [==============================] - 13s 146us/sample - loss: 0.4592 - accuracy: 0.7860 - val_loss: 0.4644 - val_accuracy: 0.7776\n",
            "Epoch 14/30\n",
            "88000/88000 [==============================] - 13s 147us/sample - loss: 0.4583 - accuracy: 0.7870 - val_loss: 0.4622 - val_accuracy: 0.7793\n",
            "Epoch 15/30\n",
            "88000/88000 [==============================] - 13s 145us/sample - loss: 0.4565 - accuracy: 0.7875 - val_loss: 0.4612 - val_accuracy: 0.7809\n",
            "Epoch 16/30\n",
            "88000/88000 [==============================] - 13s 147us/sample - loss: 0.4550 - accuracy: 0.7879 - val_loss: 0.4605 - val_accuracy: 0.7795\n",
            "Epoch 17/30\n",
            "88000/88000 [==============================] - 13s 144us/sample - loss: 0.4536 - accuracy: 0.7888 - val_loss: 0.4614 - val_accuracy: 0.7793\n",
            "Epoch 18/30\n",
            "88000/88000 [==============================] - 13s 143us/sample - loss: 0.4542 - accuracy: 0.7894 - val_loss: 0.4601 - val_accuracy: 0.7802\n",
            "Epoch 19/30\n",
            "88000/88000 [==============================] - 13s 150us/sample - loss: 0.4520 - accuracy: 0.7909 - val_loss: 0.4607 - val_accuracy: 0.7795\n",
            "Epoch 20/30\n",
            "88000/88000 [==============================] - 13s 143us/sample - loss: 0.4503 - accuracy: 0.7913 - val_loss: 0.4598 - val_accuracy: 0.7801\n",
            "Epoch 21/30\n",
            "88000/88000 [==============================] - 13s 145us/sample - loss: 0.4494 - accuracy: 0.7917 - val_loss: 0.4594 - val_accuracy: 0.7814\n",
            "Epoch 22/30\n",
            "88000/88000 [==============================] - 13s 144us/sample - loss: 0.4479 - accuracy: 0.7930 - val_loss: 0.4601 - val_accuracy: 0.7808\n",
            "Epoch 23/30\n",
            "88000/88000 [==============================] - 13s 144us/sample - loss: 0.4476 - accuracy: 0.7923 - val_loss: 0.4607 - val_accuracy: 0.7804\n",
            "Epoch 24/30\n",
            "88000/88000 [==============================] - 13s 148us/sample - loss: 0.4451 - accuracy: 0.7954 - val_loss: 0.4598 - val_accuracy: 0.7808\n",
            "Epoch 25/30\n",
            "88000/88000 [==============================] - 13s 147us/sample - loss: 0.4443 - accuracy: 0.7952 - val_loss: 0.4601 - val_accuracy: 0.7798\n",
            "Epoch 26/30\n",
            "88000/88000 [==============================] - 13s 146us/sample - loss: 0.4430 - accuracy: 0.7958 - val_loss: 0.4599 - val_accuracy: 0.7803\n",
            "Epoch 27/30\n",
            "88000/88000 [==============================] - 14s 156us/sample - loss: 0.4433 - accuracy: 0.7959 - val_loss: 0.4622 - val_accuracy: 0.7792\n",
            "Epoch 28/30\n",
            "88000/88000 [==============================] - 13s 146us/sample - loss: 0.4436 - accuracy: 0.7957 - val_loss: 0.4602 - val_accuracy: 0.7814\n",
            "Epoch 29/30\n",
            "88000/88000 [==============================] - 13s 147us/sample - loss: 0.4412 - accuracy: 0.7954 - val_loss: 0.4612 - val_accuracy: 0.7807\n",
            "Epoch 30/30\n",
            "88000/88000 [==============================] - 13s 145us/sample - loss: 0.4397 - accuracy: 0.7972 - val_loss: 0.4607 - val_accuracy: 0.7801\n",
            "CPU times: user 9min 9s, sys: 33.4 s, total: 9min 42s\n",
            "Wall time: 6min 28s\n"
          ],
          "name": "stdout"
        }
      ]
    },
    {
      "cell_type": "code",
      "metadata": {
        "id": "XyxfWSFHwVTp",
        "colab_type": "code",
        "outputId": "45b07886-8c36-480d-c852-c2558b843df2",
        "colab": {
          "base_uri": "https://localhost:8080/",
          "height": 612
        }
      },
      "source": [
        "pd.DataFrame(hist.history).plot(figsize=(10,10))\n",
        "plt.grid(True)\n",
        "plt.show"
      ],
      "execution_count": 300,
      "outputs": [
        {
          "output_type": "execute_result",
          "data": {
            "text/plain": [
              "<function matplotlib.pyplot.show>"
            ]
          },
          "metadata": {
            "tags": []
          },
          "execution_count": 300
        },
        {
          "output_type": "display_data",
          "data": {
            "image/png": "[encoded data removed]",
            "text/plain": [
              "<Figure size 720x720 with 1 Axes>"
            ]
          },
          "metadata": {
            "tags": []
          }
        }
      ]
    },
    {
      "cell_type": "markdown",
      "metadata": {
        "id": "RnBTXA2NwVTq",
        "colab_type": "text"
      },
      "source": [
        "## Evaluate Model Universal Sentence Encoder"
      ]
    },
    {
      "cell_type": "code",
      "metadata": {
        "id": "2pbRjk8zwVTq",
        "colab_type": "code",
        "outputId": "332c6814-f820-42be-b60e-232c242eeff7",
        "colab": {
          "base_uri": "https://localhost:8080/",
          "height": 51
        }
      },
      "source": [
        "accuracy_test = model.evaluate(X_test, y_test, verbose=2)\n",
        "print(accuracy_test)"
      ],
      "execution_count": 301,
      "outputs": [
        {
          "output_type": "stream",
          "text": [
            "2000/1 - 1s - loss: 0.5588 - accuracy: 0.7645\n",
            "[0.4762330136299133, 0.7645]\n"
          ],
          "name": "stdout"
        }
      ]
    },
    {
      "cell_type": "code",
      "metadata": {
        "id": "jROGDIqxwVTr",
        "colab_type": "code",
        "outputId": "e6310cba-2ca0-4aa8-92b8-43a8fc1009fd",
        "colab": {
          "base_uri": "https://localhost:8080/",
          "height": 170
        }
      },
      "source": [
        "print(X_train[0:10])"
      ],
      "execution_count": 302,
      "outputs": [
        {
          "output_type": "stream",
          "text": [
            "['feel bad .. because -PRON- be a mean girl .. -PRON- will change na promise'\n",
            " 'just finish today exam really annoyi ng . hrs of exam'\n",
            " 'roadburnfest -PRON- be an awesome album . why do not -PRON- book -PRON- for next year festival'\n",
            " 'recap of elinor lipman ... this be -PRON- th jewishdc post'\n",
            " 'also follow tessacrowe stefloc' 'therealjosh -PRON- too'\n",
            " 'i think i have a wide tongue . everytime i sneeze -PRON- get hurt'\n",
            " '-PRON- foot be cold as and -PRON- be so bored , wish i have credit .'\n",
            " \"nyla 's official last day of school and -PRON- be home with a cold .\"\n",
            " 'lancearmstrong -PRON- be surprised that this do not happen more often . va and other military hospital get some bottom of the barrel doctor']\n"
          ],
          "name": "stdout"
        }
      ]
    },
    {
      "cell_type": "code",
      "metadata": {
        "id": "C_Ai3OhtwVTu",
        "colab_type": "code",
        "outputId": "4e16a322-f227-46b9-c5dd-f3e33941e253",
        "colab": {
          "base_uri": "https://localhost:8080/",
          "height": 187
        }
      },
      "source": [
        "predictions = model.predict(X_train[:10], batch_size=None, verbose=0)\n",
        "print(predictions.round(0))"
      ],
      "execution_count": 303,
      "outputs": [
        {
          "output_type": "stream",
          "text": [
            "[[1. 0.]\n",
            " [1. 0.]\n",
            " [0. 1.]\n",
            " [0. 1.]\n",
            " [0. 1.]\n",
            " [0. 1.]\n",
            " [1. 0.]\n",
            " [1. 0.]\n",
            " [1. 0.]\n",
            " [1. 0.]]\n"
          ],
          "name": "stdout"
        }
      ]
    },
    {
      "cell_type": "code",
      "metadata": {
        "id": "lIruo6CmwVTv",
        "colab_type": "code",
        "outputId": "7c20b8cb-314c-4807-8f96-97c7474dc6e3",
        "colab": {
          "base_uri": "https://localhost:8080/",
          "height": 187
        }
      },
      "source": [
        "y_train[:10]"
      ],
      "execution_count": 304,
      "outputs": [
        {
          "output_type": "execute_result",
          "data": {
            "text/plain": [
              "array([[1., 0.],\n",
              "       [1., 0.],\n",
              "       [0., 1.],\n",
              "       [0., 1.],\n",
              "       [0., 1.],\n",
              "       [0., 1.],\n",
              "       [1., 0.],\n",
              "       [1., 0.],\n",
              "       [1., 0.],\n",
              "       [1., 0.]], dtype=float32)"
            ]
          },
          "metadata": {
            "tags": []
          },
          "execution_count": 304
        }
      ]
    },
    {
      "cell_type": "markdown",
      "metadata": {
        "id": "E2GeFPxdwVTw",
        "colab_type": "text"
      },
      "source": [
        "## Confusion Matrix"
      ]
    },
    {
      "cell_type": "code",
      "metadata": {
        "id": "ZP0LixJSwVTx",
        "colab_type": "code",
        "colab": {}
      },
      "source": [
        "# np.argmax Returns the indices of the maximum values along an axis. \n",
        "y_test_rounded = np.argmax(y_test, axis=1)\n",
        "y_train_rounded = np.argmax(y_train, axis=1)"
      ],
      "execution_count": 0,
      "outputs": []
    },
    {
      "cell_type": "code",
      "metadata": {
        "id": "xssbLrSUwVTy",
        "colab_type": "code",
        "colab": {}
      },
      "source": [
        "y_pred = model.predict(X_train)\n",
        "y_pred_rounded = np.argmax(y_pred, axis=1)"
      ],
      "execution_count": 0,
      "outputs": []
    },
    {
      "cell_type": "code",
      "metadata": {
        "id": "JqeV6GmbwVTz",
        "colab_type": "code",
        "colab": {}
      },
      "source": [
        "cmResults = confusion_matrix(y_train_rounded, y_pred_rounded)\n",
        "accuracy = accuracy_score(y_train_rounded, y_pred_rounded)"
      ],
      "execution_count": 0,
      "outputs": []
    },
    {
      "cell_type": "code",
      "metadata": {
        "id": "ta9T2r9cwVT0",
        "colab_type": "code",
        "outputId": "2d153714-a3b8-4fde-d6c0-04eb8a0e44be",
        "colab": {
          "base_uri": "https://localhost:8080/",
          "height": 513
        }
      },
      "source": [
        "# Plot non-normalized confusion matrix \n",
        "class_names = ['Negative', 'Positive']\n",
        "plt.figure(figsize=(7,7));\n",
        "plot_confusion_matrix(cmResults, classes=class_names, \n",
        "                      title=str(MODEL)+ \"\\n\" +\"Accuracy: \" + str((accuracy*100).round(1)) + \"%\" +\"\\n\"+\"Train Data\",\n",
        "                      cmap=plt.cm.Greens);"
      ],
      "execution_count": 308,
      "outputs": [
        {
          "output_type": "display_data",
          "data": {
            "image/png": "[encoded data removed]",
            "text/plain": [
              "<Figure size 504x504 with 2 Axes>"
            ]
          },
          "metadata": {
            "tags": []
          }
        }
      ]
    },
    {
      "cell_type": "code",
      "metadata": {
        "id": "BOfpg65gwVT1",
        "colab_type": "code",
        "colab": {}
      },
      "source": [
        "y_pred = model.predict(X_test)\n",
        "y_pred_rounded = np.argmax(y_pred, axis=1)\n",
        "cmResults = confusion_matrix(y_test_rounded, y_pred_rounded)\n",
        "accuracy = accuracy_score(y_test_rounded, y_pred_rounded)"
      ],
      "execution_count": 0,
      "outputs": []
    },
    {
      "cell_type": "code",
      "metadata": {
        "id": "_2o0dI_twVT2",
        "colab_type": "code",
        "outputId": "d599c97b-2fb8-45e0-82ec-ac8ab69b8d11",
        "colab": {
          "base_uri": "https://localhost:8080/",
          "height": 513
        }
      },
      "source": [
        "# Plot non-normalized confusion matrix \n",
        "plt.figure(figsize=(7,7));\n",
        "plot_confusion_matrix(cmResults, classes=class_names, \n",
        "                      title=str(MODEL)+ \"\\n\" +\"Accuracy: \" + str((accuracy*100).round(1)) + \"%\" +\"\\n\"+\"Test Data\",\n",
        "                      cmap=plt.cm.Blues);"
      ],
      "execution_count": 310,
      "outputs": [
        {
          "output_type": "display_data",
          "data": {
            "image/png": "[encoded data removed]",
            "text/plain": [
              "<Figure size 504x504 with 2 Axes>"
            ]
          },
          "metadata": {
            "tags": []
          }
        }
      ]
    },
    {
      "cell_type": "markdown",
      "metadata": {
        "id": "TsAOmDKmwVT3",
        "colab_type": "text"
      },
      "source": [
        "## Test the Model with some sentences"
      ]
    },
    {
      "cell_type": "code",
      "metadata": {
        "id": "-3Fp7cmVZ7HA",
        "colab_type": "code",
        "colab": {
          "base_uri": "https://localhost:8080/",
          "height": 153
        },
        "outputId": "b868ca01-e42b-4b6e-91b1-40d036959c0e"
      },
      "source": [
        "X_input"
      ],
      "execution_count": 312,
      "outputs": [
        {
          "output_type": "execute_result",
          "data": {
            "text/plain": [
              "array(['montreal be a nice city in the summer',\n",
              "       'i have a good feeling about this team',\n",
              "       'the show be not funny ...', 'the dog be angry',\n",
              "       'the food at the restaurant could be well',\n",
              "       'the flight be a long one',\n",
              "       '-PRON- would be nice if the weather be well in montreal',\n",
              "       'the montreal hockey team will be make the playoff',\n",
              "       'the weather in montreal be very nice in the summer'], dtype=object)"
            ]
          },
          "metadata": {
            "tags": []
          },
          "execution_count": 312
        }
      ]
    },
    {
      "cell_type": "code",
      "metadata": {
        "id": "9jsUOcSkwVT4",
        "colab_type": "code",
        "outputId": "7688045c-0a0b-4de3-ff9c-6ccd8766957d",
        "colab": {
          "base_uri": "https://localhost:8080/",
          "height": 170
        }
      },
      "source": [
        "print(model.predict(X_input).round(0))"
      ],
      "execution_count": 313,
      "outputs": [
        {
          "output_type": "stream",
          "text": [
            "[[0. 1.]\n",
            " [0. 1.]\n",
            " [1. 0.]\n",
            " [1. 0.]\n",
            " [0. 1.]\n",
            " [1. 0.]\n",
            " [1. 0.]\n",
            " [1. 0.]\n",
            " [0. 1.]]\n"
          ],
          "name": "stdout"
        }
      ]
    },
    {
      "cell_type": "code",
      "metadata": {
        "id": "NGgRfbNYZrK6",
        "colab_type": "code",
        "colab": {
          "base_uri": "https://localhost:8080/",
          "height": 34
        },
        "outputId": "61da7bfd-2980-4fac-85b3-dc675dbe2a25"
      },
      "source": [
        "model.predict([\"It would be fun if the weather was nicer\"])"
      ],
      "execution_count": 314,
      "outputs": [
        {
          "output_type": "execute_result",
          "data": {
            "text/plain": [
              "array([[0.38129663, 0.61870337]], dtype=float32)"
            ]
          },
          "metadata": {
            "tags": []
          },
          "execution_count": 314
        }
      ]
    },
    {
      "cell_type": "code",
      "metadata": {
        "id": "vPicFHLFwVT5",
        "colab_type": "code",
        "outputId": "d381a798-09ff-4744-b7bf-37032d6d14e2",
        "colab": {
          "base_uri": "https://localhost:8080/",
          "height": 170
        }
      },
      "source": [
        "print(sentiments)"
      ],
      "execution_count": 315,
      "outputs": [
        {
          "output_type": "stream",
          "text": [
            "[[0. 1.]\n",
            " [0. 1.]\n",
            " [1. 0.]\n",
            " [1. 0.]\n",
            " [1. 0.]\n",
            " [1. 0.]\n",
            " [1. 0.]\n",
            " [0. 1.]\n",
            " [0. 1.]]\n"
          ],
          "name": "stdout"
        }
      ]
    },
    {
      "cell_type": "markdown",
      "metadata": {
        "id": "ZTERun3KwVT6",
        "colab_type": "text"
      },
      "source": [
        "# Save Keras Model"
      ]
    },
    {
      "cell_type": "code",
      "metadata": {
        "id": "Zy3jsEnGwVT7",
        "colab_type": "code",
        "outputId": "f4c16548-2229-4d3e-a045-89860f3eba4a",
        "colab": {
          "base_uri": "https://localhost:8080/",
          "height": 190
        }
      },
      "source": [
        "# save model and architecture to single file\n",
        "model_version = \"0001\"\n",
        "model_name = \"JP_sentiment_analysis_service\"\n",
        "model_path = os.path.join(model_name, model_version)\n",
        "tf.saved_model.save(model, model_path)\n",
        "print(\"Saved model to disk\")"
      ],
      "execution_count": 204,
      "outputs": [
        {
          "output_type": "stream",
          "text": [
            "WARNING:tensorflow:From /usr/local/lib/python3.6/dist-packages/tensorflow_core/python/ops/resource_variable_ops.py:1781: calling BaseResourceVariable.__init__ (from tensorflow.python.ops.resource_variable_ops) with constraint is deprecated and will be removed in a future version.\n",
            "Instructions for updating:\n",
            "If using Keras pass *_constraint arguments to layers.\n"
          ],
          "name": "stdout"
        },
        {
          "output_type": "stream",
          "text": [
            "WARNING:tensorflow:From /usr/local/lib/python3.6/dist-packages/tensorflow_core/python/ops/resource_variable_ops.py:1781: calling BaseResourceVariable.__init__ (from tensorflow.python.ops.resource_variable_ops) with constraint is deprecated and will be removed in a future version.\n",
            "Instructions for updating:\n",
            "If using Keras pass *_constraint arguments to layers.\n"
          ],
          "name": "stderr"
        },
        {
          "output_type": "stream",
          "text": [
            "INFO:tensorflow:Assets written to: JP_sentiment_analysis_service/0001/assets\n"
          ],
          "name": "stdout"
        },
        {
          "output_type": "stream",
          "text": [
            "INFO:tensorflow:Assets written to: JP_sentiment_analysis_service/0001/assets\n"
          ],
          "name": "stderr"
        },
        {
          "output_type": "stream",
          "text": [
            "Saved model to disk\n"
          ],
          "name": "stdout"
        }
      ]
    },
    {
      "cell_type": "code",
      "metadata": {
        "id": "2gA2ZkdAwVT8",
        "colab_type": "code",
        "outputId": "efa91507-e7ee-491c-e7d9-a53a63469e8d",
        "colab": {
          "base_uri": "https://localhost:8080/",
          "height": 51
        }
      },
      "source": [
        "!saved_model_cli show --dir {model_path}"
      ],
      "execution_count": 205,
      "outputs": [
        {
          "output_type": "stream",
          "text": [
            "The given SavedModel contains the following tag-sets:\n",
            "serve\n"
          ],
          "name": "stdout"
        }
      ]
    },
    {
      "cell_type": "code",
      "metadata": {
        "id": "PZ0Ad5yWwVT9",
        "colab_type": "code",
        "outputId": "869adb53-c2f0-464e-82bf-3451a30979ee",
        "colab": {
          "base_uri": "https://localhost:8080/",
          "height": 68
        }
      },
      "source": [
        "!saved_model_cli show --dir {model_path} --tag_set serve"
      ],
      "execution_count": 206,
      "outputs": [
        {
          "output_type": "stream",
          "text": [
            "The given SavedModel MetaGraphDef contains SignatureDefs with the following keys:\n",
            "SignatureDef key: \"__saved_model_init_op\"\n",
            "SignatureDef key: \"serving_default\"\n"
          ],
          "name": "stdout"
        }
      ]
    },
    {
      "cell_type": "code",
      "metadata": {
        "id": "78epyp--wVT_",
        "colab_type": "code",
        "outputId": "015f3083-779f-46bc-aed5-74ab34bbd5d3",
        "colab": {
          "base_uri": "https://localhost:8080/",
          "height": 204
        }
      },
      "source": [
        "!saved_model_cli show --dir {model_path} --tag_set serve \\\n",
        "                      --signature_def serving_default"
      ],
      "execution_count": 207,
      "outputs": [
        {
          "output_type": "stream",
          "text": [
            "The given SavedModel SignatureDef contains the following input(s):\n",
            "  inputs['keras_layer_11_input'] tensor_info:\n",
            "      dtype: DT_STRING\n",
            "      shape: (-1)\n",
            "      name: serving_default_keras_layer_11_input:0\n",
            "The given SavedModel SignatureDef contains the following output(s):\n",
            "  outputs['dense_13'] tensor_info:\n",
            "      dtype: DT_FLOAT\n",
            "      shape: (-1, 2)\n",
            "      name: StatefulPartitionedCall_1:0\n",
            "Method name is: tensorflow/serving/predict\n"
          ],
          "name": "stdout"
        }
      ]
    },
    {
      "cell_type": "code",
      "metadata": {
        "id": "7iqZcvzrwVUA",
        "colab_type": "code",
        "outputId": "09f0488a-df94-467d-8f45-139fb2ec3559",
        "colab": {
          "base_uri": "https://localhost:8080/",
          "height": 425
        }
      },
      "source": [
        "!saved_model_cli show --dir {model_path} --all"
      ],
      "execution_count": 208,
      "outputs": [
        {
          "output_type": "stream",
          "text": [
            "\n",
            "MetaGraphDef with tag-set: 'serve' contains the following SignatureDefs:\n",
            "\n",
            "signature_def['__saved_model_init_op']:\n",
            "  The given SavedModel SignatureDef contains the following input(s):\n",
            "  The given SavedModel SignatureDef contains the following output(s):\n",
            "    outputs['__saved_model_init_op'] tensor_info:\n",
            "        dtype: DT_INVALID\n",
            "        shape: unknown_rank\n",
            "        name: NoOp\n",
            "  Method name is: \n",
            "\n",
            "signature_def['serving_default']:\n",
            "  The given SavedModel SignatureDef contains the following input(s):\n",
            "    inputs['keras_layer_11_input'] tensor_info:\n",
            "        dtype: DT_STRING\n",
            "        shape: (-1)\n",
            "        name: serving_default_keras_layer_11_input:0\n",
            "  The given SavedModel SignatureDef contains the following output(s):\n",
            "    outputs['dense_13'] tensor_info:\n",
            "        dtype: DT_FLOAT\n",
            "        shape: (-1, 2)\n",
            "        name: StatefulPartitionedCall_1:0\n",
            "  Method name is: tensorflow/serving/predict\n"
          ],
          "name": "stdout"
        }
      ]
    },
    {
      "cell_type": "markdown",
      "metadata": {
        "id": "Wbj6HAAhwVUE",
        "colab_type": "text"
      },
      "source": [
        "# Copy Model to Google Storage (Bucket)"
      ]
    },
    {
      "cell_type": "code",
      "metadata": {
        "id": "broxbvYDwVUE",
        "colab_type": "code",
        "colab": {}
      },
      "source": [
        "import sys\n",
        "\n",
        "if 'google.colab' in sys.modules:\n",
        "  from google.colab import auth as google_auth\n",
        "  google_auth.authenticate_user()\n",
        "else:\n",
        "  %env GOOGLE_APPLICATION_CREDENTIALS ''"
      ],
      "execution_count": 0,
      "outputs": []
    },
    {
      "cell_type": "code",
      "metadata": {
        "id": "LrsFpD37wVUF",
        "colab_type": "code",
        "outputId": "6537bda4-cf1f-4711-8219-286ebb234b49",
        "colab": {
          "base_uri": "https://localhost:8080/",
          "height": 51
        }
      },
      "source": [
        "PROJECT_ID = \"utopian-rush-255612\" #@param {type:\"string\"}\n",
        "\n",
        "# This must absolutely be a GLOBALLY UNIQUE name\n",
        "BUCKET_NAME = \"utopian-rush-255612-bucket_ml2\" #@param {type:\"string\"}\n",
        "REGION = \"us-east1\" #@param {type:\"string\"}\n",
        "\n",
        "! gcloud config set project $PROJECT_ID\n",
        "! echo $PROJECT_ID"
      ],
      "execution_count": 210,
      "outputs": [
        {
          "output_type": "stream",
          "text": [
            "Updated property [core/project].\n",
            "utopian-rush-255612\n"
          ],
          "name": "stdout"
        }
      ]
    },
    {
      "cell_type": "code",
      "metadata": {
        "id": "nt_w-t7twVUG",
        "colab_type": "code",
        "outputId": "6291ec89-7a1e-4e14-c50c-04075d6b6fa1",
        "colab": {
          "base_uri": "https://localhost:8080/",
          "height": 34
        }
      },
      "source": [
        "# Create Bucket\n",
        "\n",
        "! gsutil mb -p $PROJECT_ID -l $REGION gs://$BUCKET_NAME\n",
        "# Display what is in the bucket\n",
        "!gsutil ls -al gs://$BUCKET_NAME"
      ],
      "execution_count": 211,
      "outputs": [
        {
          "output_type": "stream",
          "text": [
            "Creating gs://utopian-rush-255612-bucket_ml2/...\n"
          ],
          "name": "stdout"
        }
      ]
    },
    {
      "cell_type": "code",
      "metadata": {
        "id": "1Mvp5It7wVUH",
        "colab_type": "code",
        "colab": {}
      },
      "source": [
        "JOB_DIR = 'gs://' + BUCKET_NAME + '/my_sentiment_analysis_model'"
      ],
      "execution_count": 0,
      "outputs": []
    },
    {
      "cell_type": "code",
      "metadata": {
        "id": "voqIjnDtwVUK",
        "colab_type": "code",
        "colab": {
          "base_uri": "https://localhost:8080/",
          "height": 68
        },
        "outputId": "08b3ddb6-e0c3-406b-8246-f2199178d1f0"
      },
      "source": [
        "# Export the model to a local SavedModel directory \n",
        "# export_path = tf.contrib.saved_model.save_keras_model(model, 'keras_export')\n",
        "# print(\"Model exported to: \", export_path)\n",
        "\n",
        "# Export the model to a SavedModel directory in Cloud Storage\n",
        "export_path = tf.saved_model.save(model, JOB_DIR + '/0001')\n",
        "print(\"Model exported to: \", export_path)"
      ],
      "execution_count": 213,
      "outputs": [
        {
          "output_type": "stream",
          "text": [
            "INFO:tensorflow:Assets written to: gs://utopian-rush-255612-bucket_ml2/my_sentiment_analysis_model/0001/assets\n"
          ],
          "name": "stdout"
        },
        {
          "output_type": "stream",
          "text": [
            "INFO:tensorflow:Assets written to: gs://utopian-rush-255612-bucket_ml2/my_sentiment_analysis_model/0001/assets\n"
          ],
          "name": "stderr"
        },
        {
          "output_type": "stream",
          "text": [
            "Model exported to:  None\n"
          ],
          "name": "stdout"
        }
      ]
    },
    {
      "cell_type": "markdown",
      "metadata": {
        "id": "K7QgHPaYwVUP",
        "colab_type": "text"
      },
      "source": [
        "# Create the Model in the AI Platform"
      ]
    },
    {
      "cell_type": "code",
      "metadata": {
        "id": "fkqC3Yj7wVUP",
        "colab_type": "code",
        "outputId": "4506a7a1-8d74-4614-f076-495ca6555ba1",
        "colab": {
          "base_uri": "https://localhost:8080/",
          "height": 34
        }
      },
      "source": [
        "MODEL_NAME = \"sa_final_project\"\n",
        "\n",
        "! gcloud ai-platform models create $MODEL_NAME --regions $REGION"
      ],
      "execution_count": 214,
      "outputs": [
        {
          "output_type": "stream",
          "text": [
            "Created ml engine model [projects/utopian-rush-255612/models/sa_final_project].\n"
          ],
          "name": "stdout"
        }
      ]
    },
    {
      "cell_type": "markdown",
      "metadata": {
        "id": "5nSXSaiXwVUQ",
        "colab_type": "text"
      },
      "source": [
        "# Create the Version of the Model in AI Platform"
      ]
    },
    {
      "cell_type": "code",
      "metadata": {
        "id": "mwupoV50fBlj",
        "colab_type": "code",
        "colab": {
          "base_uri": "https://localhost:8080/",
          "height": 139
        },
        "outputId": "c8ad1f5b-3f08-4778-aec8-5eaa7ece2a12"
      },
      "source": [
        "! gcloud ai-platform versions create v1 \\\n",
        "  --model $MODEL_NAME \\\n",
        "  --runtime-version 1.14 \\\n",
        "  --python-version 3.5 \\\n",
        "  --framework tensorflow \\\n",
        "  --origin gs://utopian-rush-255612-bucket_ml2/my_sentiment_analysis_model/0001/"
      ],
      "execution_count": 215,
      "outputs": [
        {
          "output_type": "stream",
          "text": [
            "\u001b[1;31mERROR:\u001b[0m (gcloud.ai-platform.versions.create) FAILED_PRECONDITION: Field: version.deployment_uri Error: The total size of files in gs://utopian-rush-255612-bucket_ml2/my_sentiment_analysis_model/0001/ is 1036419276 bytes, which exceeds the allowed maximum of 524288000 bytes.\n",
            "- '@type': type.googleapis.com/google.rpc.BadRequest\n",
            "  fieldViolations:\n",
            "  - description: The total size of files in gs://utopian-rush-255612-bucket_ml2/my_sentiment_analysis_model/0001/\n",
            "      is 1036419276 bytes, which exceeds the allowed maximum of 524288000 bytes.\n",
            "    field: version.deployment_uri\n"
          ],
          "name": "stdout"
        }
      ]
    }
  ]
}