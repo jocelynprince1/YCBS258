{
  "nbformat": 4,
  "nbformat_minor": 0,
  "metadata": {
    "kernelspec": {
      "name": "python3",
      "display_name": "Python 3"
    },
    "language_info": {
      "codemirror_mode": {
        "name": "ipython",
        "version": 3
      },
      "file_extension": ".py",
      "mimetype": "text/x-python",
      "name": "python",
      "nbconvert_exporter": "python",
      "pygments_lexer": "ipython3",
      "version": "3.5.3"
    },
    "colab": {
      "name": "H6 JPrince File 1 - NLP with Universal Encoder.ipynb",
      "provenance": [],
      "collapsed_sections": [],
      "toc_visible": true,
      "include_colab_link": true
    },
    "accelerator": "GPU"
  },
  "cells": [
    {
      "cell_type": "markdown",
      "metadata": {
        "id": "view-in-github",
        "colab_type": "text"
      },
      "source": [
        "<a href=\"https://colab.research.google.com/github/jocelynprince1/YCBS258/blob/master/H6_JPrince_File_1_NLP_with_Universal_Encoder.ipynb\" target=\"_parent\"><img src=\"https://colab.research.google.com/assets/colab-badge.svg\" alt=\"Open In Colab\"/></a>"
      ]
    },
    {
      "cell_type": "markdown",
      "metadata": {
        "id": "zJPvEnC3wVR8",
        "colab_type": "text"
      },
      "source": [
        "# Final Project - YCBS258 - Experimenting with NLP Tensorflow Hub modules\n",
        "\n",
        "#### Submitted by Jocelyn Prince (2019/12/19)\n",
        "---"
      ]
    },
    {
      "cell_type": "markdown",
      "metadata": {
        "id": "j3PXQr6jwVR_",
        "colab_type": "text"
      },
      "source": [
        "# Sentiment Analysis Project - Post to Medium\n",
        "#### NLP with the following Modules from Tensorflow Hub\n",
        "* nnlm-en-dim128 Module\n",
        "* Universal Sentence Encoder\n",
        "\n",
        "\n",
        "### Description\n",
        "Use some modules available in Tensorflow Hub to experiment NLP tasks.  Deploy a model on Google's AI-Platform (also called ML Engine) and demonstrate the model returning a prediction.\n",
        "\n",
        "---------------\n",
        "\n",
        "Details:\n",
        "* Dataset for training: Sentiment140 (source: http://help.sentiment140.com/for-students/)\n",
        "\n",
        "References:\n",
        "\n",
        "* Prateek Joshi and his post: https://www.analyticsvidhya.com/blog/2019/03/learn-to-use-elmo-to-extract-features-from-text/\n",
        "\n",
        "* https://arxiv.org/pdf/1802.05365.pdf\n",
        "\n",
        "* https://colab.research.google.com/github/tensorflow/hub/blob/master/examples/colab/tf2_text_classification.ipynb#scrollTo=Eg62Pmz3o83v\n",
        "\n",
        "* Aurélien Géron’s Book: hands-on Machine Learning with Scikit-Learn, Keras and Tensorflow, O’Reilly Media Inc.\n",
        "-----"
      ]
    },
    {
      "cell_type": "code",
      "metadata": {
        "id": "2SdkIyLkwvS5",
        "colab_type": "code",
        "outputId": "eb5638da-98ad-4712-cfaf-335da9a359bf",
        "colab": {
          "base_uri": "https://localhost:8080/",
          "height": 1000
        }
      },
      "source": [
        "!pip install --upgrade tensorflow"
      ],
      "execution_count": 4,
      "outputs": [
        {
          "output_type": "stream",
          "text": [
            "Collecting tensorflow\n",
            "\u001b[?25l  Downloading https://files.pythonhosted.org/packages/46/0f/7bd55361168bb32796b360ad15a25de6966c9c1beb58a8e30c01c8279862/tensorflow-2.0.0-cp36-cp36m-manylinux2010_x86_64.whl (86.3MB)\n",
            "\u001b[K     |████████████████████████████████| 86.3MB 139kB/s \n",
            "\u001b[?25hRequirement already satisfied, skipping upgrade: termcolor>=1.1.0 in /usr/local/lib/python3.6/dist-packages (from tensorflow) (1.1.0)\n",
            "Requirement already satisfied, skipping upgrade: gast==0.2.2 in /usr/local/lib/python3.6/dist-packages (from tensorflow) (0.2.2)\n",
            "Requirement already satisfied, skipping upgrade: protobuf>=3.6.1 in /usr/local/lib/python3.6/dist-packages (from tensorflow) (3.10.0)\n",
            "Requirement already satisfied, skipping upgrade: numpy<2.0,>=1.16.0 in /usr/local/lib/python3.6/dist-packages (from tensorflow) (1.17.4)\n",
            "Requirement already satisfied, skipping upgrade: opt-einsum>=2.3.2 in /usr/local/lib/python3.6/dist-packages (from tensorflow) (3.1.0)\n",
            "Collecting tensorboard<2.1.0,>=2.0.0\n",
            "\u001b[?25l  Downloading https://files.pythonhosted.org/packages/76/54/99b9d5d52d5cb732f099baaaf7740403e83fe6b0cedde940fabd2b13d75a/tensorboard-2.0.2-py3-none-any.whl (3.8MB)\n",
            "\u001b[K     |████████████████████████████████| 3.8MB 41.8MB/s \n",
            "\u001b[?25hRequirement already satisfied, skipping upgrade: wrapt>=1.11.1 in /usr/local/lib/python3.6/dist-packages (from tensorflow) (1.11.2)\n",
            "Requirement already satisfied, skipping upgrade: astor>=0.6.0 in /usr/local/lib/python3.6/dist-packages (from tensorflow) (0.8.1)\n",
            "Requirement already satisfied, skipping upgrade: wheel>=0.26 in /usr/local/lib/python3.6/dist-packages (from tensorflow) (0.33.6)\n",
            "Requirement already satisfied, skipping upgrade: absl-py>=0.7.0 in /usr/local/lib/python3.6/dist-packages (from tensorflow) (0.8.1)\n",
            "Requirement already satisfied, skipping upgrade: grpcio>=1.8.6 in /usr/local/lib/python3.6/dist-packages (from tensorflow) (1.15.0)\n",
            "Requirement already satisfied, skipping upgrade: google-pasta>=0.1.6 in /usr/local/lib/python3.6/dist-packages (from tensorflow) (0.1.8)\n",
            "Collecting tensorflow-estimator<2.1.0,>=2.0.0\n",
            "\u001b[?25l  Downloading https://files.pythonhosted.org/packages/fc/08/8b927337b7019c374719145d1dceba21a8bb909b93b1ad6f8fb7d22c1ca1/tensorflow_estimator-2.0.1-py2.py3-none-any.whl (449kB)\n",
            "\u001b[K     |████████████████████████████████| 450kB 70.4MB/s \n",
            "\u001b[?25hRequirement already satisfied, skipping upgrade: keras-applications>=1.0.8 in /usr/local/lib/python3.6/dist-packages (from tensorflow) (1.0.8)\n",
            "Requirement already satisfied, skipping upgrade: keras-preprocessing>=1.0.5 in /usr/local/lib/python3.6/dist-packages (from tensorflow) (1.1.0)\n",
            "Requirement already satisfied, skipping upgrade: six>=1.10.0 in /usr/local/lib/python3.6/dist-packages (from tensorflow) (1.12.0)\n",
            "Requirement already satisfied, skipping upgrade: setuptools in /usr/local/lib/python3.6/dist-packages (from protobuf>=3.6.1->tensorflow) (42.0.2)\n",
            "Requirement already satisfied, skipping upgrade: requests<3,>=2.21.0 in /usr/local/lib/python3.6/dist-packages (from tensorboard<2.1.0,>=2.0.0->tensorflow) (2.21.0)\n",
            "Requirement already satisfied, skipping upgrade: werkzeug>=0.11.15 in /usr/local/lib/python3.6/dist-packages (from tensorboard<2.1.0,>=2.0.0->tensorflow) (0.16.0)\n",
            "Requirement already satisfied, skipping upgrade: markdown>=2.6.8 in /usr/local/lib/python3.6/dist-packages (from tensorboard<2.1.0,>=2.0.0->tensorflow) (3.1.1)\n",
            "Requirement already satisfied, skipping upgrade: google-auth-oauthlib<0.5,>=0.4.1 in /usr/local/lib/python3.6/dist-packages (from tensorboard<2.1.0,>=2.0.0->tensorflow) (0.4.1)\n",
            "Collecting google-auth<2,>=1.6.3\n",
            "\u001b[?25l  Downloading https://files.pythonhosted.org/packages/17/83/3cb31033e1ea0bdb8991b6ef327a5bf4960bd3dd31ff355881bfb0ddf199/google_auth-1.9.0-py2.py3-none-any.whl (75kB)\n",
            "\u001b[K     |████████████████████████████████| 81kB 13.3MB/s \n",
            "\u001b[?25hRequirement already satisfied, skipping upgrade: h5py in /usr/local/lib/python3.6/dist-packages (from keras-applications>=1.0.8->tensorflow) (2.8.0)\n",
            "Requirement already satisfied, skipping upgrade: urllib3<1.25,>=1.21.1 in /usr/local/lib/python3.6/dist-packages (from requests<3,>=2.21.0->tensorboard<2.1.0,>=2.0.0->tensorflow) (1.24.3)\n",
            "Requirement already satisfied, skipping upgrade: chardet<3.1.0,>=3.0.2 in /usr/local/lib/python3.6/dist-packages (from requests<3,>=2.21.0->tensorboard<2.1.0,>=2.0.0->tensorflow) (3.0.4)\n",
            "Requirement already satisfied, skipping upgrade: certifi>=2017.4.17 in /usr/local/lib/python3.6/dist-packages (from requests<3,>=2.21.0->tensorboard<2.1.0,>=2.0.0->tensorflow) (2019.11.28)\n",
            "Requirement already satisfied, skipping upgrade: idna<2.9,>=2.5 in /usr/local/lib/python3.6/dist-packages (from requests<3,>=2.21.0->tensorboard<2.1.0,>=2.0.0->tensorflow) (2.8)\n",
            "Requirement already satisfied, skipping upgrade: requests-oauthlib>=0.7.0 in /usr/local/lib/python3.6/dist-packages (from google-auth-oauthlib<0.5,>=0.4.1->tensorboard<2.1.0,>=2.0.0->tensorflow) (1.3.0)\n",
            "Requirement already satisfied, skipping upgrade: cachetools<3.2,>=2.0.0 in /usr/local/lib/python3.6/dist-packages (from google-auth<2,>=1.6.3->tensorboard<2.1.0,>=2.0.0->tensorflow) (3.1.1)\n",
            "Requirement already satisfied, skipping upgrade: pyasn1-modules>=0.2.1 in /usr/local/lib/python3.6/dist-packages (from google-auth<2,>=1.6.3->tensorboard<2.1.0,>=2.0.0->tensorflow) (0.2.7)\n",
            "Requirement already satisfied, skipping upgrade: rsa<4.1,>=3.1.4 in /usr/local/lib/python3.6/dist-packages (from google-auth<2,>=1.6.3->tensorboard<2.1.0,>=2.0.0->tensorflow) (4.0)\n",
            "Requirement already satisfied, skipping upgrade: oauthlib>=3.0.0 in /usr/local/lib/python3.6/dist-packages (from requests-oauthlib>=0.7.0->google-auth-oauthlib<0.5,>=0.4.1->tensorboard<2.1.0,>=2.0.0->tensorflow) (3.1.0)\n",
            "Requirement already satisfied, skipping upgrade: pyasn1<0.5.0,>=0.4.6 in /usr/local/lib/python3.6/dist-packages (from pyasn1-modules>=0.2.1->google-auth<2,>=1.6.3->tensorboard<2.1.0,>=2.0.0->tensorflow) (0.4.8)\n",
            "\u001b[31mERROR: tensorboard 2.0.2 has requirement grpcio>=1.24.3, but you'll have grpcio 1.15.0 which is incompatible.\u001b[0m\n",
            "\u001b[31mERROR: google-colab 1.0.0 has requirement google-auth~=1.4.0, but you'll have google-auth 1.9.0 which is incompatible.\u001b[0m\n",
            "Installing collected packages: google-auth, tensorboard, tensorflow-estimator, tensorflow\n",
            "  Found existing installation: google-auth 1.4.2\n",
            "    Uninstalling google-auth-1.4.2:\n",
            "      Successfully uninstalled google-auth-1.4.2\n",
            "  Found existing installation: tensorboard 1.15.0\n",
            "    Uninstalling tensorboard-1.15.0:\n",
            "      Successfully uninstalled tensorboard-1.15.0\n",
            "  Found existing installation: tensorflow-estimator 1.15.1\n",
            "    Uninstalling tensorflow-estimator-1.15.1:\n",
            "      Successfully uninstalled tensorflow-estimator-1.15.1\n",
            "  Found existing installation: tensorflow 1.15.0\n",
            "    Uninstalling tensorflow-1.15.0:\n",
            "      Successfully uninstalled tensorflow-1.15.0\n",
            "Successfully installed google-auth-1.9.0 tensorboard-2.0.2 tensorflow-2.0.0 tensorflow-estimator-2.0.1\n"
          ],
          "name": "stdout"
        },
        {
          "output_type": "display_data",
          "data": {
            "application/vnd.colab-display-data+json": {
              "pip_warning": {
                "packages": [
                  "google",
                  "tensorboard",
                  "tensorflow",
                  "tensorflow_core",
                  "tensorflow_estimator"
                ]
              }
            }
          },
          "metadata": {
            "tags": []
          }
        }
      ]
    },
    {
      "cell_type": "code",
      "metadata": {
        "id": "j3jSYsq3xivL",
        "colab_type": "code",
        "outputId": "e6fa6003-1ebb-4e7e-ed5e-4e3000a982bd",
        "colab": {
          "base_uri": "https://localhost:8080/",
          "height": 224
        }
      },
      "source": [
        "!pip install --upgrade scikit-learn"
      ],
      "execution_count": 1,
      "outputs": [
        {
          "output_type": "stream",
          "text": [
            "Collecting scikit-learn\n",
            "\u001b[?25l  Downloading https://files.pythonhosted.org/packages/2e/d0/860c4f6a7027e00acff373d9f5327f4ae3ed5872234b3cbdd7bcb52e5eff/scikit_learn-0.22-cp36-cp36m-manylinux1_x86_64.whl (7.0MB)\n",
            "\u001b[K     |████████████████████████████████| 7.0MB 2.8MB/s \n",
            "\u001b[?25hRequirement already satisfied, skipping upgrade: numpy>=1.11.0 in /usr/local/lib/python3.6/dist-packages (from scikit-learn) (1.17.4)\n",
            "Requirement already satisfied, skipping upgrade: scipy>=0.17.0 in /usr/local/lib/python3.6/dist-packages (from scikit-learn) (1.3.3)\n",
            "Requirement already satisfied, skipping upgrade: joblib>=0.11 in /usr/local/lib/python3.6/dist-packages (from scikit-learn) (0.14.1)\n",
            "Installing collected packages: scikit-learn\n",
            "  Found existing installation: scikit-learn 0.21.3\n",
            "    Uninstalling scikit-learn-0.21.3:\n",
            "      Successfully uninstalled scikit-learn-0.21.3\n",
            "Successfully installed scikit-learn-0.22\n"
          ],
          "name": "stdout"
        }
      ]
    },
    {
      "cell_type": "code",
      "metadata": {
        "id": "ebK2jkUSy2tD",
        "colab_type": "code",
        "outputId": "12067655-8a52-4d96-947f-d8de15e6fcc5",
        "colab": {
          "base_uri": "https://localhost:8080/",
          "height": 122
        }
      },
      "source": [
        "from google.colab import drive\n",
        "drive.mount('/content/drive')"
      ],
      "execution_count": 1,
      "outputs": [
        {
          "output_type": "stream",
          "text": [
            "Go to this URL in a browser: https://accounts.google.com/o/oauth2/auth?client_id=947318989803-6bn6qk8qdgf4n4g3pfee6491hc0brc4i.apps.googleusercontent.com&redirect_uri=urn%3aietf%3awg%3aoauth%3a2.0%3aoob&response_type=code&scope=email%20https%3a%2f%2fwww.googleapis.com%2fauth%2fdocs.test%20https%3a%2f%2fwww.googleapis.com%2fauth%2fdrive%20https%3a%2f%2fwww.googleapis.com%2fauth%2fdrive.photos.readonly%20https%3a%2f%2fwww.googleapis.com%2fauth%2fpeopleapi.readonly\n",
            "\n",
            "Enter your authorization code:\n",
            "··········\n",
            "Mounted at /content/drive\n"
          ],
          "name": "stdout"
        }
      ]
    },
    {
      "cell_type": "markdown",
      "metadata": {
        "id": "RWWK_HdOwVSA",
        "colab_type": "text"
      },
      "source": [
        "# Import Libraries"
      ]
    },
    {
      "cell_type": "code",
      "metadata": {
        "id": "plokcj6CwVSB",
        "colab_type": "code",
        "outputId": "afa55a1b-90a3-4d13-91ea-15d868439f27",
        "colab": {
          "base_uri": "https://localhost:8080/",
          "height": 34
        }
      },
      "source": [
        "# This Notebook needs to be executed under Python ≥3.5 and TensorFlow >= 2.0\n",
        "import sys\n",
        "assert sys.version_info >= (3, 5)\n",
        "import tensorflow as tf\n",
        "from tensorflow import keras\n",
        "from tensorflow.keras import layers\n",
        "from tensorflow.keras.layers import Dense, Dropout\n",
        "from tensorflow.keras import optimizers\n",
        "import tensorflow_hub as hub\n",
        "assert tf.__version__ >= \"2.0\"\n",
        "\n",
        "# Minimum Requirement for Scikit-Learn ≥0.20 is required\n",
        "import sklearn\n",
        "assert sklearn.__version__ >= \"0.20\"\n",
        "\n",
        "try:\n",
        "    # %tensorflow_version only exists in Colab.\n",
        "    %tensorflow_version 2.x\n",
        "    !pip install -q -U tensorflow-addons\n",
        "    IS_COLAB = True\n",
        "except Exception:\n",
        "    IS_COLAB = False\n",
        "\n",
        "if not tf.test.is_gpu_available():\n",
        "    print(\"No GPU was detected. This code can be very slow without a GPU.\")\n",
        "    if IS_COLAB:\n",
        "        print(\"Go to Runtime > Change runtime and select a GPU hardware accelerator.\")\n",
        "\n",
        "# Common imports\n",
        "import time\n",
        "import pandas as pd\n",
        "import numpy as np\n",
        "import os\n",
        "\n",
        "# to make this notebook's output stable across runs\n",
        "np.random.seed(20)\n",
        "tf.random.set_seed(20)\n",
        "\n",
        "# To plot pretty figures\n",
        "%matplotlib inline\n",
        "import matplotlib as mpl\n",
        "import matplotlib.pyplot as plt\n",
        "mpl.rc('axes', labelsize=14)\n",
        "mpl.rc('xtick', labelsize=12)\n",
        "mpl.rc('ytick', labelsize=12)\n",
        "mpl.rcParams['figure.figsize'] = (8, 6)\n",
        "mpl.rcParams['axes.grid'] = False\n",
        "\n",
        "# Where to save the figures\n",
        "PROJECT_ROOT_DIR = \".\"\n",
        "FOLDER= \"rnn\"\n",
        "IMAGES_PATH = os.path.join(PROJECT_ROOT_DIR, \"images\", FOLDER)\n",
        "os.makedirs(IMAGES_PATH, exist_ok=True)\n",
        "\n",
        "def save_fig(fig_id, tight_layout=True, fig_extension=\"png\", resolution=300):\n",
        "    path = os.path.join(IMAGES_PATH, fig_id + \".\" + fig_extension)\n",
        "    print(\"Saving figure\", fig_id)\n",
        "    if tight_layout:\n",
        "        plt.tight_layout()\n",
        "    plt.savefig(path, format=fig_extension, dpi=resolution)"
      ],
      "execution_count": 2,
      "outputs": [
        {
          "output_type": "stream",
          "text": [
            "TensorFlow is already loaded. Please restart the runtime to change versions.\n"
          ],
          "name": "stdout"
        }
      ]
    },
    {
      "cell_type": "code",
      "metadata": {
        "id": "IYhwnfGNwVSE",
        "colab_type": "code",
        "outputId": "1dffcea0-b14b-4d01-aef7-05af128dcd32",
        "colab": {
          "base_uri": "https://localhost:8080/",
          "height": 34
        }
      },
      "source": [
        "tf.__version__"
      ],
      "execution_count": 3,
      "outputs": [
        {
          "output_type": "execute_result",
          "data": {
            "text/plain": [
              "'2.0.0'"
            ]
          },
          "metadata": {
            "tags": []
          },
          "execution_count": 3
        }
      ]
    },
    {
      "cell_type": "code",
      "metadata": {
        "id": "o6_s80j-wVSH",
        "colab_type": "code",
        "outputId": "41585519-fe47-4dfc-c334-8f37b727f19c",
        "colab": {
          "base_uri": "https://localhost:8080/",
          "height": 34
        }
      },
      "source": [
        "import tensorflow as tf\n",
        "tf.test.is_gpu_available()"
      ],
      "execution_count": 4,
      "outputs": [
        {
          "output_type": "execute_result",
          "data": {
            "text/plain": [
              "True"
            ]
          },
          "metadata": {
            "tags": []
          },
          "execution_count": 4
        }
      ]
    },
    {
      "cell_type": "code",
      "metadata": {
        "id": "nOWr4QJtwVSL",
        "colab_type": "code",
        "outputId": "799f93e9-6129-4c1d-83a9-d965b0bbd0ef",
        "colab": {
          "base_uri": "https://localhost:8080/",
          "height": 428
        }
      },
      "source": [
        "# The spacy module needs to be installed\n",
        "!pip install spacy\n",
        "\n",
        "# The english module needs to be downloaded if not already\n",
        "!python3 -m spacy download en"
      ],
      "execution_count": 5,
      "outputs": [
        {
          "output_type": "stream",
          "text": [
            "Requirement already satisfied: spacy in /usr/local/lib/python3.6/dist-packages (2.1.9)\n",
            "Requirement already satisfied: blis<0.3.0,>=0.2.2 in /usr/local/lib/python3.6/dist-packages (from spacy) (0.2.4)\n",
            "Requirement already satisfied: requests<3.0.0,>=2.13.0 in /usr/local/lib/python3.6/dist-packages (from spacy) (2.21.0)\n",
            "Requirement already satisfied: murmurhash<1.1.0,>=0.28.0 in /usr/local/lib/python3.6/dist-packages (from spacy) (1.0.2)\n",
            "Requirement already satisfied: preshed<2.1.0,>=2.0.1 in /usr/local/lib/python3.6/dist-packages (from spacy) (2.0.1)\n",
            "Requirement already satisfied: numpy>=1.15.0 in /usr/local/lib/python3.6/dist-packages (from spacy) (1.17.4)\n",
            "Requirement already satisfied: cymem<2.1.0,>=2.0.2 in /usr/local/lib/python3.6/dist-packages (from spacy) (2.0.3)\n",
            "Requirement already satisfied: thinc<7.1.0,>=7.0.8 in /usr/local/lib/python3.6/dist-packages (from spacy) (7.0.8)\n",
            "Requirement already satisfied: wasabi<1.1.0,>=0.2.0 in /usr/local/lib/python3.6/dist-packages (from spacy) (0.4.2)\n",
            "Requirement already satisfied: plac<1.0.0,>=0.9.6 in /usr/local/lib/python3.6/dist-packages (from spacy) (0.9.6)\n",
            "Requirement already satisfied: srsly<1.1.0,>=0.0.6 in /usr/local/lib/python3.6/dist-packages (from spacy) (0.2.0)\n",
            "Requirement already satisfied: certifi>=2017.4.17 in /usr/local/lib/python3.6/dist-packages (from requests<3.0.0,>=2.13.0->spacy) (2019.11.28)\n",
            "Requirement already satisfied: chardet<3.1.0,>=3.0.2 in /usr/local/lib/python3.6/dist-packages (from requests<3.0.0,>=2.13.0->spacy) (3.0.4)\n",
            "Requirement already satisfied: idna<2.9,>=2.5 in /usr/local/lib/python3.6/dist-packages (from requests<3.0.0,>=2.13.0->spacy) (2.8)\n",
            "Requirement already satisfied: urllib3<1.25,>=1.21.1 in /usr/local/lib/python3.6/dist-packages (from requests<3.0.0,>=2.13.0->spacy) (1.24.3)\n",
            "Requirement already satisfied: tqdm<5.0.0,>=4.10.0 in /usr/local/lib/python3.6/dist-packages (from thinc<7.1.0,>=7.0.8->spacy) (4.28.1)\n",
            "Requirement already satisfied: en_core_web_sm==2.1.0 from https://github.com/explosion/spacy-models/releases/download/en_core_web_sm-2.1.0/en_core_web_sm-2.1.0.tar.gz#egg=en_core_web_sm==2.1.0 in /usr/local/lib/python3.6/dist-packages (2.1.0)\n",
            "\u001b[38;5;2m✔ Download and installation successful\u001b[0m\n",
            "You can now load the model via spacy.load('en_core_web_sm')\n",
            "\u001b[38;5;2m✔ Linking successful\u001b[0m\n",
            "/usr/local/lib/python3.6/dist-packages/en_core_web_sm -->\n",
            "/usr/local/lib/python3.6/dist-packages/spacy/data/en\n",
            "You can now load the model via spacy.load('en')\n"
          ],
          "name": "stdout"
        }
      ]
    },
    {
      "cell_type": "code",
      "metadata": {
        "id": "fsPPJ7GSwVSP",
        "colab_type": "code",
        "colab": {}
      },
      "source": [
        "# Import other common libraries\n",
        "from sklearn.model_selection import train_test_split\n",
        "from sklearn.preprocessing import LabelEncoder\n",
        "from sklearn.metrics import confusion_matrix\n",
        "from sklearn.metrics import accuracy_score \n",
        "import itertools\n",
        "import re\n",
        "import spacy"
      ],
      "execution_count": 0,
      "outputs": []
    },
    {
      "cell_type": "markdown",
      "metadata": {
        "id": "PnhiKv3swVSQ",
        "colab_type": "text"
      },
      "source": [
        "# Import Dataset: Sentiment140 Tweets\n"
      ]
    },
    {
      "cell_type": "code",
      "metadata": {
        "id": "X0pOwuJ50YQ4",
        "colab_type": "code",
        "colab": {}
      },
      "source": [
        "trainfile = \"/content/drive/My Drive/Colab Notebooks/Final_Project/data/training.1600000.processed.noemoticon.csv\"\n",
        "testfile = \"/content/drive/My Drive/Colab Notebooks/Final_Project/data/testdata.manual.2009.06.14.csv\"\n",
        "columns = ['polarity','id','date','query_string','twitter_user','tweet']"
      ],
      "execution_count": 0,
      "outputs": []
    },
    {
      "cell_type": "code",
      "metadata": {
        "id": "-2zIJ-SewVSR",
        "colab_type": "code",
        "outputId": "4072e38d-6ae5-4496-ac21-befae36a0a0d",
        "colab": {
          "base_uri": "https://localhost:8080/",
          "height": 34
        }
      },
      "source": [
        "# Import Train data set\n",
        "df_train = pd.read_csv(trainfile,\n",
        "                 header=None, \n",
        "                 names=columns, \n",
        "                 encoding='latin-1')\n",
        "df_train.shape"
      ],
      "execution_count": 8,
      "outputs": [
        {
          "output_type": "execute_result",
          "data": {
            "text/plain": [
              "(1600000, 6)"
            ]
          },
          "metadata": {
            "tags": []
          },
          "execution_count": 8
        }
      ]
    },
    {
      "cell_type": "code",
      "metadata": {
        "id": "fzmQ87eCVsFY",
        "colab_type": "code",
        "outputId": "84c310de-4189-4568-cab8-0c46bcdcfc5c",
        "colab": {
          "base_uri": "https://localhost:8080/",
          "height": 34
        }
      },
      "source": [
        "# Import Test data set\n",
        "df_test = pd.read_csv(testfile,\n",
        "                 header=None, \n",
        "                 names=columns, \n",
        "                 encoding='latin-1')\n",
        "df_test.shape"
      ],
      "execution_count": 9,
      "outputs": [
        {
          "output_type": "execute_result",
          "data": {
            "text/plain": [
              "(498, 6)"
            ]
          },
          "metadata": {
            "tags": []
          },
          "execution_count": 9
        }
      ]
    },
    {
      "cell_type": "markdown",
      "metadata": {
        "id": "xnrUiuGQF4Cp",
        "colab_type": "text"
      },
      "source": [
        "# Data Preprocessing"
      ]
    },
    {
      "cell_type": "markdown",
      "metadata": {
        "id": "ODIGKgr2wVST",
        "colab_type": "text"
      },
      "source": [
        "## Explore Data"
      ]
    },
    {
      "cell_type": "code",
      "metadata": {
        "id": "nkXheD3IwVSU",
        "colab_type": "code",
        "outputId": "912b7750-751c-403f-df79-1b647c6b7d7e",
        "colab": {
          "base_uri": "https://localhost:8080/",
          "height": 204
        }
      },
      "source": [
        "df_train.info()"
      ],
      "execution_count": 10,
      "outputs": [
        {
          "output_type": "stream",
          "text": [
            "<class 'pandas.core.frame.DataFrame'>\n",
            "RangeIndex: 1600000 entries, 0 to 1599999\n",
            "Data columns (total 6 columns):\n",
            "polarity        1600000 non-null int64\n",
            "id              1600000 non-null int64\n",
            "date            1600000 non-null object\n",
            "query_string    1600000 non-null object\n",
            "twitter_user    1600000 non-null object\n",
            "tweet           1600000 non-null object\n",
            "dtypes: int64(2), object(4)\n",
            "memory usage: 73.2+ MB\n"
          ],
          "name": "stdout"
        }
      ]
    },
    {
      "cell_type": "code",
      "metadata": {
        "id": "sNm8JcOGwVSZ",
        "colab_type": "code",
        "outputId": "5e76c4a0-a9a0-4685-e756-2c428e8db261",
        "colab": {
          "base_uri": "https://localhost:8080/",
          "height": 204
        }
      },
      "source": [
        "df_train.tweet[0:10]"
      ],
      "execution_count": 11,
      "outputs": [
        {
          "output_type": "execute_result",
          "data": {
            "text/plain": [
              "0    @switchfoot http://twitpic.com/2y1zl - Awww, t...\n",
              "1    is upset that he can't update his Facebook by ...\n",
              "2    @Kenichan I dived many times for the ball. Man...\n",
              "3      my whole body feels itchy and like its on fire \n",
              "4    @nationwideclass no, it's not behaving at all....\n",
              "5                        @Kwesidei not the whole crew \n",
              "6                                          Need a hug \n",
              "7    @LOLTrish hey  long time no see! Yes.. Rains a...\n",
              "8                 @Tatiana_K nope they didn't have it \n",
              "9                            @twittera que me muera ? \n",
              "Name: tweet, dtype: object"
            ]
          },
          "metadata": {
            "tags": []
          },
          "execution_count": 11
        }
      ]
    },
    {
      "cell_type": "code",
      "metadata": {
        "id": "6AIFHAJEwVSm",
        "colab_type": "code",
        "outputId": "05c0b3ad-d67c-487e-fc6d-90e52ea4205f",
        "colab": {
          "base_uri": "https://localhost:8080/",
          "height": 427
        }
      },
      "source": [
        "df_train.hist([\"polarity\"])"
      ],
      "execution_count": 12,
      "outputs": [
        {
          "output_type": "execute_result",
          "data": {
            "text/plain": [
              "array([[<matplotlib.axes._subplots.AxesSubplot object at 0x7fdd7eb61a90>]],\n",
              "      dtype=object)"
            ]
          },
          "metadata": {
            "tags": []
          },
          "execution_count": 12
        },
        {
          "output_type": "display_data",
          "data": {
            "image/png": "[encoded data removed]",
            "text/plain": [
              "<Figure size 576x432 with 1 Axes>"
            ]
          },
          "metadata": {
            "tags": []
          }
        }
      ]
    },
    {
      "cell_type": "code",
      "metadata": {
        "id": "ZfjvdFKKgtSX",
        "colab_type": "code",
        "outputId": "0e543716-316b-464f-f035-80bc99ca3295",
        "colab": {
          "base_uri": "https://localhost:8080/",
          "height": 427
        }
      },
      "source": [
        "df_test.hist([\"polarity\"])"
      ],
      "execution_count": 13,
      "outputs": [
        {
          "output_type": "execute_result",
          "data": {
            "text/plain": [
              "array([[<matplotlib.axes._subplots.AxesSubplot object at 0x7fdd7e5b4198>]],\n",
              "      dtype=object)"
            ]
          },
          "metadata": {
            "tags": []
          },
          "execution_count": 13
        },
        {
          "output_type": "display_data",
          "data": {
            "image/png": "[encoded data removed]",
            "text/plain": [
              "<Figure size 576x432 with 1 Axes>"
            ]
          },
          "metadata": {
            "tags": []
          }
        }
      ]
    },
    {
      "cell_type": "markdown",
      "metadata": {
        "id": "0AvKcNexwVSb",
        "colab_type": "text"
      },
      "source": [
        "## Split Train and Test dataset\n"
      ]
    },
    {
      "cell_type": "code",
      "metadata": {
        "id": "ZjmhCyNDwVSb",
        "colab_type": "code",
        "colab": {}
      },
      "source": [
        "NUMTRAIN = 150000\n",
        "NUMTEST = 3000\n",
        "train_set = df_train[['id','polarity', 'tweet']].sample(NUMTRAIN)\n",
        "test_set = df_train[['id','polarity', 'tweet']].sample(NUMTEST)"
      ],
      "execution_count": 0,
      "outputs": []
    },
    {
      "cell_type": "code",
      "metadata": {
        "colab_type": "code",
        "id": "x4HHhD2xsZRj",
        "colab": {}
      },
      "source": [
        "X_train = train_set.drop(\"polarity\", axis=1) # drop labels for training set\n",
        "y_train = train_set[\"polarity\"].copy()"
      ],
      "execution_count": 0,
      "outputs": []
    },
    {
      "cell_type": "code",
      "metadata": {
        "colab_type": "code",
        "id": "v9ZipZszbVR6",
        "colab": {}
      },
      "source": [
        "X_test = test_set.drop(\"polarity\", axis=1) # drop labels for test set\n",
        "y_test = test_set[\"polarity\"].copy()"
      ],
      "execution_count": 0,
      "outputs": []
    },
    {
      "cell_type": "code",
      "metadata": {
        "id": "Se92l7Q-wVSh",
        "colab_type": "code",
        "outputId": "a0e5e97d-9e65-4bd2-f0b1-6b3b5c799bc0",
        "colab": {
          "base_uri": "https://localhost:8080/",
          "height": 85
        }
      },
      "source": [
        "print(\"X_train: \" + str(X_train.shape) + str(type(X_train)))\n",
        "print(\"y_train: \"+ str(y_train.shape)+ str(type(y_train)))\n",
        "print(\"X_test: \" + str(X_test.shape) + str(type(X_test)))\n",
        "print(\"y_test: \"+ str(y_test.shape)+ str(type(y_test)))"
      ],
      "execution_count": 110,
      "outputs": [
        {
          "output_type": "stream",
          "text": [
            "X_train: (150000, 2)<class 'pandas.core.frame.DataFrame'>\n",
            "y_train: (150000,)<class 'pandas.core.series.Series'>\n",
            "X_test: (3000, 2)<class 'pandas.core.frame.DataFrame'>\n",
            "y_test: (3000,)<class 'pandas.core.series.Series'>\n"
          ],
          "name": "stdout"
        }
      ]
    },
    {
      "cell_type": "code",
      "metadata": {
        "id": "pQa9BSQlspx7",
        "colab_type": "code",
        "outputId": "f1ab068d-79e5-45c8-df6a-b2b124d189f2",
        "colab": {
          "base_uri": "https://localhost:8080/",
          "height": 119
        }
      },
      "source": [
        "y_train.head()\n"
      ],
      "execution_count": 111,
      "outputs": [
        {
          "output_type": "execute_result",
          "data": {
            "text/plain": [
              "1308464    4\n",
              "496959     0\n",
              "88434      0\n",
              "165825     0\n",
              "1328322    4\n",
              "Name: polarity, dtype: int64"
            ]
          },
          "metadata": {
            "tags": []
          },
          "execution_count": 111
        }
      ]
    },
    {
      "cell_type": "markdown",
      "metadata": {
        "colab_type": "text",
        "id": "NU1GAB7QsFjV"
      },
      "source": [
        "## Functions : Text-preprocessing and Lemmatize (Normalize) Tweets"
      ]
    },
    {
      "cell_type": "code",
      "metadata": {
        "colab_type": "code",
        "id": "WNL4fPQ4sFjY",
        "colab": {}
      },
      "source": [
        "def text_processing(tweet):\n",
        "    # remove https links\n",
        "    clean_tweet = re.sub(r'http\\S+', '', tweet)\n",
        "    # remove punctuation marks\n",
        "    punctuation = '!\"#$%&()*+-/:;<=>?@[\\\\]^_`{|}~'\n",
        "    clean_tweet = ''.join(ch for ch in clean_tweet if ch not in set(punctuation))\n",
        "    # convert text to lowercase\n",
        "    clean_tweet = clean_tweet.lower()\n",
        "    # remove numbers\n",
        "    clean_tweet = re.sub('\\d', ' ', clean_tweet)\n",
        "    # remove whitespaces\n",
        "    clean_tweet = ' '.join(clean_tweet.split())\n",
        "    return clean_tweet"
      ],
      "execution_count": 0,
      "outputs": []
    },
    {
      "cell_type": "code",
      "metadata": {
        "colab_type": "code",
        "id": "t3e_9D4HsFjb",
        "colab": {}
      },
      "source": [
        "# import the english language model from spacy'\n",
        "nlp = spacy.load('en', disable=['parser', 'ner'])\n",
        "#nlp = spacy.load('en')\n",
        "\n",
        "# function to lemmatize text\n",
        "def lemmatization(tweets):\n",
        "    lemma_tweet = []\n",
        "    for i in tweets:\n",
        "        t = [token.lemma_ for token in nlp(i)]\n",
        "        lemma_tweet.append(' '.join(t))\n",
        "    return lemma_tweet"
      ],
      "execution_count": 0,
      "outputs": []
    },
    {
      "cell_type": "code",
      "metadata": {
        "colab_type": "code",
        "id": "rN3t3xtEsFjd",
        "colab": {}
      },
      "source": [
        "X_train['clean_tweet'] = X_train['tweet'].apply(lambda x: text_processing(x))\n",
        "X_test['clean_tweet'] = X_test['tweet'].apply(lambda x: text_processing(x))"
      ],
      "execution_count": 0,
      "outputs": []
    },
    {
      "cell_type": "code",
      "metadata": {
        "colab_type": "code",
        "outputId": "ce733e74-a724-4e8a-db28-c9c1741631b2",
        "id": "cBSFgM-JsFjg",
        "colab": {
          "base_uri": "https://localhost:8080/",
          "height": 204
        }
      },
      "source": [
        "X_train.head()"
      ],
      "execution_count": 113,
      "outputs": [
        {
          "output_type": "execute_result",
          "data": {
            "text/html": [
              "<div>\n",
              "<style scoped>\n",
              "    .dataframe tbody tr th:only-of-type {\n",
              "        vertical-align: middle;\n",
              "    }\n",
              "\n",
              "    .dataframe tbody tr th {\n",
              "        vertical-align: top;\n",
              "    }\n",
              "\n",
              "    .dataframe thead th {\n",
              "        text-align: right;\n",
              "    }\n",
              "</style>\n",
              "<table border=\"1\" class=\"dataframe\">\n",
              "  <thead>\n",
              "    <tr style=\"text-align: right;\">\n",
              "      <th></th>\n",
              "      <th>id</th>\n",
              "      <th>tweet</th>\n",
              "      <th>clean_tweet</th>\n",
              "    </tr>\n",
              "  </thead>\n",
              "  <tbody>\n",
              "    <tr>\n",
              "      <th>1308464</th>\n",
              "      <td>2012811208</td>\n",
              "      <td>sitting in the dark. Thinking of @JesseMcCartn...</td>\n",
              "      <td>sitting in the dark. thinking of jessemccartne...</td>\n",
              "    </tr>\n",
              "    <tr>\n",
              "      <th>496959</th>\n",
              "      <td>2185731498</td>\n",
              "      <td>Ouchy first skateboarding injury...  haha not ...</td>\n",
              "      <td>ouchy first skateboarding injury... haha not t...</td>\n",
              "    </tr>\n",
              "    <tr>\n",
              "      <th>88434</th>\n",
              "      <td>1754869117</td>\n",
              "      <td>@indithunder wah sama ya  huuuh yaudah deh ndi...</td>\n",
              "      <td>indithunder wah sama ya huuuh yaudah deh ndi t...</td>\n",
              "    </tr>\n",
              "    <tr>\n",
              "      <th>165825</th>\n",
              "      <td>1961063064</td>\n",
              "      <td>@CharPower  I gave up cable in these tough eco...</td>\n",
              "      <td>charpower i gave up cable in these tough econo...</td>\n",
              "    </tr>\n",
              "    <tr>\n",
              "      <th>1328322</th>\n",
              "      <td>2015502338</td>\n",
              "      <td>i know what happens at the end of one tree hil...</td>\n",
              "      <td>i know what happens at the end of one tree hil...</td>\n",
              "    </tr>\n",
              "  </tbody>\n",
              "</table>\n",
              "</div>"
            ],
            "text/plain": [
              "                 id  ...                                        clean_tweet\n",
              "1308464  2012811208  ...  sitting in the dark. thinking of jessemccartne...\n",
              "496959   2185731498  ...  ouchy first skateboarding injury... haha not t...\n",
              "88434    1754869117  ...  indithunder wah sama ya huuuh yaudah deh ndi t...\n",
              "165825   1961063064  ...  charpower i gave up cable in these tough econo...\n",
              "1328322  2015502338  ...  i know what happens at the end of one tree hil...\n",
              "\n",
              "[5 rows x 3 columns]"
            ]
          },
          "metadata": {
            "tags": []
          },
          "execution_count": 113
        }
      ]
    },
    {
      "cell_type": "code",
      "metadata": {
        "colab_type": "code",
        "outputId": "76ca9587-acfe-4982-a4e4-d24f572d1b2a",
        "id": "On7lcZAtsFjk",
        "colab": {
          "base_uri": "https://localhost:8080/",
          "height": 51
        }
      },
      "source": [
        "# This is the cell to generate lemmatized files from the dataset\n",
        "# We may also use already pre-processed files from google drive (see below)\n",
        "%%time\n",
        "X_train[\"clean_tweet\"] = lemmatization(X_train[\"clean_tweet\"])\n",
        "X_test['clean_tweet'] = lemmatization(X_test['clean_tweet'])\n",
        "\n",
        "# Expected time for 80 000 records (No Disabled): 11 min\n",
        "# Expected time for 90 000 records (disabled : parser and ner): 4.5 min\n",
        "# Expected time for 110 000 records (disabled : parser and ner): 4.5 min\n",
        "# Expected time for 150 000 records (disabled : parser and ner): 6 min"
      ],
      "execution_count": 114,
      "outputs": [
        {
          "output_type": "stream",
          "text": [
            "CPU times: user 5min 56s, sys: 527 ms, total: 5min 57s\n",
            "Wall time: 5min 57s\n"
          ],
          "name": "stdout"
        }
      ]
    },
    {
      "cell_type": "code",
      "metadata": {
        "colab_type": "code",
        "outputId": "ae8a76b9-6e54-4eb3-b11b-f3a110c5ff58",
        "id": "_7VHzh2ssFjm",
        "colab": {
          "base_uri": "https://localhost:8080/",
          "height": 85
        }
      },
      "source": [
        "print(\"X_train: \" + str(X_train.shape) + str(type(X_train)))\n",
        "print(\"y_train: \"+ str(y_train.shape)+ str(type(y_train)))\n",
        "print(\"X_test: \" + str(X_test.shape) + str(type(X_test)))\n",
        "print(\"y_test: \"+ str(y_test.shape)+ str(type(y_test)))"
      ],
      "execution_count": 116,
      "outputs": [
        {
          "output_type": "stream",
          "text": [
            "X_train: (150000, 3)<class 'pandas.core.frame.DataFrame'>\n",
            "y_train: (150000,)<class 'pandas.core.series.Series'>\n",
            "X_test: (3000, 3)<class 'pandas.core.frame.DataFrame'>\n",
            "y_test: (3000,)<class 'pandas.core.series.Series'>\n"
          ],
          "name": "stdout"
        }
      ]
    },
    {
      "cell_type": "code",
      "metadata": {
        "colab_type": "code",
        "outputId": "956365eb-d3ce-4ee7-d44e-d4553dee125f",
        "id": "TQHh1nDCsFjo",
        "colab": {
          "base_uri": "https://localhost:8080/",
          "height": 204
        }
      },
      "source": [
        "X_train.head()"
      ],
      "execution_count": 117,
      "outputs": [
        {
          "output_type": "execute_result",
          "data": {
            "text/html": [
              "<div>\n",
              "<style scoped>\n",
              "    .dataframe tbody tr th:only-of-type {\n",
              "        vertical-align: middle;\n",
              "    }\n",
              "\n",
              "    .dataframe tbody tr th {\n",
              "        vertical-align: top;\n",
              "    }\n",
              "\n",
              "    .dataframe thead th {\n",
              "        text-align: right;\n",
              "    }\n",
              "</style>\n",
              "<table border=\"1\" class=\"dataframe\">\n",
              "  <thead>\n",
              "    <tr style=\"text-align: right;\">\n",
              "      <th></th>\n",
              "      <th>id</th>\n",
              "      <th>tweet</th>\n",
              "      <th>clean_tweet</th>\n",
              "    </tr>\n",
              "  </thead>\n",
              "  <tbody>\n",
              "    <tr>\n",
              "      <th>1308464</th>\n",
              "      <td>2012811208</td>\n",
              "      <td>sitting in the dark. Thinking of @JesseMcCartn...</td>\n",
              "      <td>sit in the dark . think of jessemccartney and ...</td>\n",
              "    </tr>\n",
              "    <tr>\n",
              "      <th>496959</th>\n",
              "      <td>2185731498</td>\n",
              "      <td>Ouchy first skateboarding injury...  haha not ...</td>\n",
              "      <td>ouchy first skateboard injury ... haha not to ...</td>\n",
              "    </tr>\n",
              "    <tr>\n",
              "      <th>88434</th>\n",
              "      <td>1754869117</td>\n",
              "      <td>@indithunder wah sama ya  huuuh yaudah deh ndi...</td>\n",
              "      <td>indithunder wah sama ya huuuh yaudah deh ndi t...</td>\n",
              "    </tr>\n",
              "    <tr>\n",
              "      <th>165825</th>\n",
              "      <td>1961063064</td>\n",
              "      <td>@CharPower  I gave up cable in these tough eco...</td>\n",
              "      <td>charpower i give up cable in these tough econo...</td>\n",
              "    </tr>\n",
              "    <tr>\n",
              "      <th>1328322</th>\n",
              "      <td>2015502338</td>\n",
              "      <td>i know what happens at the end of one tree hil...</td>\n",
              "      <td>i know what happen at the end of one tree hill...</td>\n",
              "    </tr>\n",
              "  </tbody>\n",
              "</table>\n",
              "</div>"
            ],
            "text/plain": [
              "                 id  ...                                        clean_tweet\n",
              "1308464  2012811208  ...  sit in the dark . think of jessemccartney and ...\n",
              "496959   2185731498  ...  ouchy first skateboard injury ... haha not to ...\n",
              "88434    1754869117  ...  indithunder wah sama ya huuuh yaudah deh ndi t...\n",
              "165825   1961063064  ...  charpower i give up cable in these tough econo...\n",
              "1328322  2015502338  ...  i know what happen at the end of one tree hill...\n",
              "\n",
              "[5 rows x 3 columns]"
            ]
          },
          "metadata": {
            "tags": []
          },
          "execution_count": 117
        }
      ]
    },
    {
      "cell_type": "code",
      "metadata": {
        "colab_type": "code",
        "outputId": "f8408e55-a1cf-45bd-cf9e-37712d503f2f",
        "id": "guD3Udw5sFjq",
        "colab": {
          "base_uri": "https://localhost:8080/",
          "height": 204
        }
      },
      "source": [
        "X_test.head()"
      ],
      "execution_count": 118,
      "outputs": [
        {
          "output_type": "execute_result",
          "data": {
            "text/html": [
              "<div>\n",
              "<style scoped>\n",
              "    .dataframe tbody tr th:only-of-type {\n",
              "        vertical-align: middle;\n",
              "    }\n",
              "\n",
              "    .dataframe tbody tr th {\n",
              "        vertical-align: top;\n",
              "    }\n",
              "\n",
              "    .dataframe thead th {\n",
              "        text-align: right;\n",
              "    }\n",
              "</style>\n",
              "<table border=\"1\" class=\"dataframe\">\n",
              "  <thead>\n",
              "    <tr style=\"text-align: right;\">\n",
              "      <th></th>\n",
              "      <th>id</th>\n",
              "      <th>tweet</th>\n",
              "      <th>clean_tweet</th>\n",
              "    </tr>\n",
              "  </thead>\n",
              "  <tbody>\n",
              "    <tr>\n",
              "      <th>247846</th>\n",
              "      <td>1982567016</td>\n",
              "      <td>@MATTHARDYBRAND I love that palce but they don...</td>\n",
              "      <td>matthardybrand i love that palce but -PRON- do...</td>\n",
              "    </tr>\n",
              "    <tr>\n",
              "      <th>1132077</th>\n",
              "      <td>1975956651</td>\n",
              "      <td>@almcafee I'm glad you're enjoying it!</td>\n",
              "      <td>almcafee -PRON- be glad -PRON- be enjoy -PRON-</td>\n",
              "    </tr>\n",
              "    <tr>\n",
              "      <th>682915</th>\n",
              "      <td>2250132198</td>\n",
              "      <td>Ugh, can't sleep, I think I have a big problem...</td>\n",
              "      <td>ugh , can not sleep , i think i have a big pro...</td>\n",
              "    </tr>\n",
              "    <tr>\n",
              "      <th>35203</th>\n",
              "      <td>1565103664</td>\n",
              "      <td>wish the Blues would have won last night...</td>\n",
              "      <td>wish the blue would have win last night ...</td>\n",
              "    </tr>\n",
              "    <tr>\n",
              "      <th>549721</th>\n",
              "      <td>2202717423</td>\n",
              "      <td>..but Haagen-Dazs stopped selling chocolate pe...</td>\n",
              "      <td>.. but haagendazs stop sell chocolate peanut b...</td>\n",
              "    </tr>\n",
              "  </tbody>\n",
              "</table>\n",
              "</div>"
            ],
            "text/plain": [
              "                 id  ...                                        clean_tweet\n",
              "247846   1982567016  ...  matthardybrand i love that palce but -PRON- do...\n",
              "1132077  1975956651  ...     almcafee -PRON- be glad -PRON- be enjoy -PRON-\n",
              "682915   2250132198  ...  ugh , can not sleep , i think i have a big pro...\n",
              "35203    1565103664  ...        wish the blue would have win last night ...\n",
              "549721   2202717423  ...  .. but haagendazs stop sell chocolate peanut b...\n",
              "\n",
              "[5 rows x 3 columns]"
            ]
          },
          "metadata": {
            "tags": []
          },
          "execution_count": 118
        }
      ]
    },
    {
      "cell_type": "code",
      "metadata": {
        "id": "hoi6h2_chIuc",
        "colab_type": "code",
        "colab": {
          "base_uri": "https://localhost:8080/",
          "height": 221
        },
        "outputId": "45041567-e601-4c32-ae19-e0ff0ccb3520"
      },
      "source": [
        "y_train.head"
      ],
      "execution_count": 119,
      "outputs": [
        {
          "output_type": "execute_result",
          "data": {
            "text/plain": [
              "<bound method NDFrame.head of 1308464    4\n",
              "496959     0\n",
              "88434      0\n",
              "165825     0\n",
              "1328322    4\n",
              "          ..\n",
              "1167526    4\n",
              "198858     0\n",
              "63562      0\n",
              "314541     0\n",
              "1560986    4\n",
              "Name: polarity, Length: 150000, dtype: int64>"
            ]
          },
          "metadata": {
            "tags": []
          },
          "execution_count": 119
        }
      ]
    },
    {
      "cell_type": "code",
      "metadata": {
        "id": "URd4ov3rhQJU",
        "colab_type": "code",
        "colab": {
          "base_uri": "https://localhost:8080/",
          "height": 221
        },
        "outputId": "c3964e6a-57a6-4257-edaf-c3a67b3e3e4d"
      },
      "source": [
        "y_test.head"
      ],
      "execution_count": 120,
      "outputs": [
        {
          "output_type": "execute_result",
          "data": {
            "text/plain": [
              "<bound method NDFrame.head of 247846     0\n",
              "1132077    4\n",
              "682915     0\n",
              "35203      0\n",
              "549721     0\n",
              "          ..\n",
              "1073006    4\n",
              "1506242    4\n",
              "1201862    4\n",
              "754104     0\n",
              "1361304    4\n",
              "Name: polarity, Length: 3000, dtype: int64>"
            ]
          },
          "metadata": {
            "tags": []
          },
          "execution_count": 120
        }
      ]
    },
    {
      "cell_type": "code",
      "metadata": {
        "colab_type": "code",
        "id": "544l5W-CsFjs",
        "colab": {
          "base_uri": "https://localhost:8080/",
          "height": 34
        },
        "outputId": "7d6ff9c3-f55b-457a-bf37-7a3224a51b0f"
      },
      "source": [
        "# Saved lemmatized files to Google Drive for further use\n",
        "\n",
        "# Define file names and folder\n",
        "PATH=\"/content/drive/My Drive/Colab Notebooks/Final_Project/data/\"\n",
        "X_train_lemma_file =  PATH + \"X_train_lemma150k.csv\"\n",
        "X_test_lemma_file =   PATH + \"X_test_lemma3k.csv\"\n",
        "y_train_lemma_file =  PATH + \"y_train_lemma150k.csv\"\n",
        "y_test_lemma_file =   PATH + \"y_test_lemma3k.csv\"\n",
        "print(X_train_lemma_file)"
      ],
      "execution_count": 122,
      "outputs": [
        {
          "output_type": "stream",
          "text": [
            "/content/drive/My Drive/Colab Notebooks/Final_Project/data/X_train_lemma150k.csv\n"
          ],
          "name": "stdout"
        }
      ]
    },
    {
      "cell_type": "code",
      "metadata": {
        "id": "aDlHHPasGdM4",
        "colab_type": "code",
        "colab": {}
      },
      "source": [
        "# Save to files\n",
        "X_train.to_csv(X_train_lemma_file, index=False)\n",
        "X_test.to_csv(X_test_lemma_file, index=False)\n",
        "y_train.to_csv(y_train_lemma_file, index=False, header=False)\n",
        "y_test.to_csv(y_test_lemma_file, index=False, header=False)"
      ],
      "execution_count": 0,
      "outputs": []
    },
    {
      "cell_type": "code",
      "metadata": {
        "colab_type": "code",
        "id": "reB19mbBsFju",
        "colab": {}
      },
      "source": [
        "# Import from files already pre-processed from Google Drive\n",
        "X_train = pd.read_csv(X_train_lemma_file)\n",
        "X_test = pd.read_csv(X_test_lemma_file)\n",
        "y_train = pd.read_csv(y_train_lemma_file, squeeze=True, header=None)\n",
        "y_test = pd.read_csv(y_test_lemma_file, squeeze=True, header=None)"
      ],
      "execution_count": 0,
      "outputs": []
    },
    {
      "cell_type": "code",
      "metadata": {
        "id": "8HjOzBmHtZUl",
        "colab_type": "code",
        "outputId": "406976b2-2bdc-4c99-bc7c-144b792844d2",
        "colab": {
          "base_uri": "https://localhost:8080/",
          "height": 204
        }
      },
      "source": [
        "X_train.head()"
      ],
      "execution_count": 125,
      "outputs": [
        {
          "output_type": "execute_result",
          "data": {
            "text/html": [
              "<div>\n",
              "<style scoped>\n",
              "    .dataframe tbody tr th:only-of-type {\n",
              "        vertical-align: middle;\n",
              "    }\n",
              "\n",
              "    .dataframe tbody tr th {\n",
              "        vertical-align: top;\n",
              "    }\n",
              "\n",
              "    .dataframe thead th {\n",
              "        text-align: right;\n",
              "    }\n",
              "</style>\n",
              "<table border=\"1\" class=\"dataframe\">\n",
              "  <thead>\n",
              "    <tr style=\"text-align: right;\">\n",
              "      <th></th>\n",
              "      <th>id</th>\n",
              "      <th>tweet</th>\n",
              "      <th>clean_tweet</th>\n",
              "    </tr>\n",
              "  </thead>\n",
              "  <tbody>\n",
              "    <tr>\n",
              "      <th>0</th>\n",
              "      <td>2012811208</td>\n",
              "      <td>sitting in the dark. Thinking of @JesseMcCartn...</td>\n",
              "      <td>sit in the dark . think of jessemccartney and ...</td>\n",
              "    </tr>\n",
              "    <tr>\n",
              "      <th>1</th>\n",
              "      <td>2185731498</td>\n",
              "      <td>Ouchy first skateboarding injury...  haha not ...</td>\n",
              "      <td>ouchy first skateboard injury ... haha not to ...</td>\n",
              "    </tr>\n",
              "    <tr>\n",
              "      <th>2</th>\n",
              "      <td>1754869117</td>\n",
              "      <td>@indithunder wah sama ya  huuuh yaudah deh ndi...</td>\n",
              "      <td>indithunder wah sama ya huuuh yaudah deh ndi t...</td>\n",
              "    </tr>\n",
              "    <tr>\n",
              "      <th>3</th>\n",
              "      <td>1961063064</td>\n",
              "      <td>@CharPower  I gave up cable in these tough eco...</td>\n",
              "      <td>charpower i give up cable in these tough econo...</td>\n",
              "    </tr>\n",
              "    <tr>\n",
              "      <th>4</th>\n",
              "      <td>2015502338</td>\n",
              "      <td>i know what happens at the end of one tree hil...</td>\n",
              "      <td>i know what happen at the end of one tree hill...</td>\n",
              "    </tr>\n",
              "  </tbody>\n",
              "</table>\n",
              "</div>"
            ],
            "text/plain": [
              "           id  ...                                        clean_tweet\n",
              "0  2012811208  ...  sit in the dark . think of jessemccartney and ...\n",
              "1  2185731498  ...  ouchy first skateboard injury ... haha not to ...\n",
              "2  1754869117  ...  indithunder wah sama ya huuuh yaudah deh ndi t...\n",
              "3  1961063064  ...  charpower i give up cable in these tough econo...\n",
              "4  2015502338  ...  i know what happen at the end of one tree hill...\n",
              "\n",
              "[5 rows x 3 columns]"
            ]
          },
          "metadata": {
            "tags": []
          },
          "execution_count": 125
        }
      ]
    },
    {
      "cell_type": "code",
      "metadata": {
        "id": "Met2egjBhlqv",
        "colab_type": "code",
        "colab": {
          "base_uri": "https://localhost:8080/",
          "height": 204
        },
        "outputId": "436989d1-cd7b-48e3-d1fb-a68897073114"
      },
      "source": [
        "X_test.head()"
      ],
      "execution_count": 126,
      "outputs": [
        {
          "output_type": "execute_result",
          "data": {
            "text/html": [
              "<div>\n",
              "<style scoped>\n",
              "    .dataframe tbody tr th:only-of-type {\n",
              "        vertical-align: middle;\n",
              "    }\n",
              "\n",
              "    .dataframe tbody tr th {\n",
              "        vertical-align: top;\n",
              "    }\n",
              "\n",
              "    .dataframe thead th {\n",
              "        text-align: right;\n",
              "    }\n",
              "</style>\n",
              "<table border=\"1\" class=\"dataframe\">\n",
              "  <thead>\n",
              "    <tr style=\"text-align: right;\">\n",
              "      <th></th>\n",
              "      <th>id</th>\n",
              "      <th>tweet</th>\n",
              "      <th>clean_tweet</th>\n",
              "    </tr>\n",
              "  </thead>\n",
              "  <tbody>\n",
              "    <tr>\n",
              "      <th>0</th>\n",
              "      <td>1982567016</td>\n",
              "      <td>@MATTHARDYBRAND I love that palce but they don...</td>\n",
              "      <td>matthardybrand i love that palce but -PRON- do...</td>\n",
              "    </tr>\n",
              "    <tr>\n",
              "      <th>1</th>\n",
              "      <td>1975956651</td>\n",
              "      <td>@almcafee I'm glad you're enjoying it!</td>\n",
              "      <td>almcafee -PRON- be glad -PRON- be enjoy -PRON-</td>\n",
              "    </tr>\n",
              "    <tr>\n",
              "      <th>2</th>\n",
              "      <td>2250132198</td>\n",
              "      <td>Ugh, can't sleep, I think I have a big problem...</td>\n",
              "      <td>ugh , can not sleep , i think i have a big pro...</td>\n",
              "    </tr>\n",
              "    <tr>\n",
              "      <th>3</th>\n",
              "      <td>1565103664</td>\n",
              "      <td>wish the Blues would have won last night...</td>\n",
              "      <td>wish the blue would have win last night ...</td>\n",
              "    </tr>\n",
              "    <tr>\n",
              "      <th>4</th>\n",
              "      <td>2202717423</td>\n",
              "      <td>..but Haagen-Dazs stopped selling chocolate pe...</td>\n",
              "      <td>.. but haagendazs stop sell chocolate peanut b...</td>\n",
              "    </tr>\n",
              "  </tbody>\n",
              "</table>\n",
              "</div>"
            ],
            "text/plain": [
              "           id  ...                                        clean_tweet\n",
              "0  1982567016  ...  matthardybrand i love that palce but -PRON- do...\n",
              "1  1975956651  ...     almcafee -PRON- be glad -PRON- be enjoy -PRON-\n",
              "2  2250132198  ...  ugh , can not sleep , i think i have a big pro...\n",
              "3  1565103664  ...        wish the blue would have win last night ...\n",
              "4  2202717423  ...  .. but haagendazs stop sell chocolate peanut b...\n",
              "\n",
              "[5 rows x 3 columns]"
            ]
          },
          "metadata": {
            "tags": []
          },
          "execution_count": 126
        }
      ]
    },
    {
      "cell_type": "code",
      "metadata": {
        "colab_type": "code",
        "outputId": "1bfed916-6a20-48d5-ee51-4e4aae5ef85e",
        "id": "_R5wZow5hem2",
        "colab": {
          "base_uri": "https://localhost:8080/",
          "height": 221
        }
      },
      "source": [
        "y_train.head"
      ],
      "execution_count": 127,
      "outputs": [
        {
          "output_type": "execute_result",
          "data": {
            "text/plain": [
              "<bound method NDFrame.head of 0         4\n",
              "1         0\n",
              "2         0\n",
              "3         0\n",
              "4         4\n",
              "         ..\n",
              "149995    4\n",
              "149996    0\n",
              "149997    0\n",
              "149998    0\n",
              "149999    4\n",
              "Name: 0, Length: 150000, dtype: int64>"
            ]
          },
          "metadata": {
            "tags": []
          },
          "execution_count": 127
        }
      ]
    },
    {
      "cell_type": "code",
      "metadata": {
        "colab_type": "code",
        "outputId": "0c77a5f4-79e4-460c-d45d-9288b543ce1d",
        "id": "2B7zW5a2hem6",
        "colab": {
          "base_uri": "https://localhost:8080/",
          "height": 221
        }
      },
      "source": [
        "y_test.head"
      ],
      "execution_count": 128,
      "outputs": [
        {
          "output_type": "execute_result",
          "data": {
            "text/plain": [
              "<bound method NDFrame.head of 0       0\n",
              "1       4\n",
              "2       0\n",
              "3       0\n",
              "4       0\n",
              "       ..\n",
              "2995    4\n",
              "2996    4\n",
              "2997    4\n",
              "2998    0\n",
              "2999    4\n",
              "Name: 0, Length: 3000, dtype: int64>"
            ]
          },
          "metadata": {
            "tags": []
          },
          "execution_count": 128
        }
      ]
    },
    {
      "cell_type": "code",
      "metadata": {
        "id": "paOx65evj4gk",
        "colab_type": "code",
        "colab": {
          "base_uri": "https://localhost:8080/",
          "height": 85
        },
        "outputId": "b99500ee-a1fd-4a47-f801-c3db982910fb"
      },
      "source": [
        "print(\"X_train: \" + str(X_train.shape) + str(type(X_train)))\n",
        "print(\"y_train: \"+ str(y_train.shape)+ str(type(y_train)))\n",
        "print(\"X_test: \" + str(X_test.shape) + str(type(X_test)))\n",
        "print(\"y_test: \"+ str(y_test.shape)+ str(type(y_test)))"
      ],
      "execution_count": 129,
      "outputs": [
        {
          "output_type": "stream",
          "text": [
            "X_train: (150000, 3)<class 'pandas.core.frame.DataFrame'>\n",
            "y_train: (150000,)<class 'pandas.core.series.Series'>\n",
            "X_test: (3000, 3)<class 'pandas.core.frame.DataFrame'>\n",
            "y_test: (3000,)<class 'pandas.core.series.Series'>\n"
          ],
          "name": "stdout"
        }
      ]
    },
    {
      "cell_type": "code",
      "metadata": {
        "colab_type": "code",
        "id": "9iKAGDsmsFjw",
        "colab": {}
      },
      "source": [
        "X_train = X_train[\"clean_tweet\"].values\n",
        "X_test = X_test[\"clean_tweet\"].values"
      ],
      "execution_count": 0,
      "outputs": []
    },
    {
      "cell_type": "code",
      "metadata": {
        "colab_type": "code",
        "outputId": "569d53c0-f7d3-47b7-f367-fe795b58752d",
        "id": "AKBSZUq_sFjx",
        "colab": {
          "base_uri": "https://localhost:8080/",
          "height": 102
        }
      },
      "source": [
        "print(X_train[0:5])"
      ],
      "execution_count": 131,
      "outputs": [
        {
          "output_type": "stream",
          "text": [
            "['sit in the dark . think of jessemccartney and -PRON- amazing friend katiespo and meghandriscoll . due to bein a proud jesse fan'\n",
            " 'ouchy first skateboard injury ... haha not to be th last either ...'\n",
            " 'indithunder wah sama ya huuuh yaudah deh ndi thankssss'\n",
            " 'charpower i give up cable in these tough economic time . -PRON- be either cable or shoe , and -PRON- know what cable lose'\n",
            " 'i know what happen at the end of one tree hill ... i see the episode picture . . yayyy']\n"
          ],
          "name": "stdout"
        }
      ]
    },
    {
      "cell_type": "markdown",
      "metadata": {
        "id": "butnokpbGBO9",
        "colab_type": "text"
      },
      "source": [
        "## Label Encoding"
      ]
    },
    {
      "cell_type": "code",
      "metadata": {
        "id": "HuTudlIewVSo",
        "colab_type": "code",
        "outputId": "894560cd-0ffe-4dfc-fd0e-7228cc14b597",
        "colab": {
          "base_uri": "https://localhost:8080/",
          "height": 34
        }
      },
      "source": [
        "label_encoder = LabelEncoder()\n",
        "y_train = label_encoder.fit_transform(y_train)\n",
        "y_test = label_encoder.fit_transform(y_test)                     \n",
        "y_train[:5]"
      ],
      "execution_count": 132,
      "outputs": [
        {
          "output_type": "execute_result",
          "data": {
            "text/plain": [
              "array([1, 0, 0, 0, 1])"
            ]
          },
          "metadata": {
            "tags": []
          },
          "execution_count": 132
        }
      ]
    },
    {
      "cell_type": "code",
      "metadata": {
        "id": "OkLtyT19wVSq",
        "colab_type": "code",
        "colab": {}
      },
      "source": [
        "y_train = keras.utils.to_categorical(y_train)\n",
        "y_test = keras.utils.to_categorical(y_test)"
      ],
      "execution_count": 0,
      "outputs": []
    },
    {
      "cell_type": "code",
      "metadata": {
        "id": "MBo-eAZ-wVSt",
        "colab_type": "code",
        "outputId": "0201e844-0778-427d-8444-02dbd1ad08eb",
        "colab": {
          "base_uri": "https://localhost:8080/",
          "height": 102
        }
      },
      "source": [
        "y_train[0:5]"
      ],
      "execution_count": 135,
      "outputs": [
        {
          "output_type": "execute_result",
          "data": {
            "text/plain": [
              "array([[0., 1.],\n",
              "       [1., 0.],\n",
              "       [1., 0.],\n",
              "       [1., 0.],\n",
              "       [0., 1.]], dtype=float32)"
            ]
          },
          "metadata": {
            "tags": []
          },
          "execution_count": 135
        }
      ]
    },
    {
      "cell_type": "code",
      "metadata": {
        "id": "SldLFIxFhPlv",
        "colab_type": "code",
        "outputId": "6e7a4f4d-9d13-4f03-92b1-f135dd639894",
        "colab": {
          "base_uri": "https://localhost:8080/",
          "height": 34
        }
      },
      "source": [
        "X_train.shape\n",
        "# Should be (nb_of_records, )"
      ],
      "execution_count": 136,
      "outputs": [
        {
          "output_type": "execute_result",
          "data": {
            "text/plain": [
              "(150000,)"
            ]
          },
          "metadata": {
            "tags": []
          },
          "execution_count": 136
        }
      ]
    },
    {
      "cell_type": "code",
      "metadata": {
        "id": "KzSNt8tWgF_z",
        "colab_type": "code",
        "outputId": "7f185f41-e180-4560-d2d9-d7d91902042a",
        "colab": {
          "base_uri": "https://localhost:8080/",
          "height": 34
        }
      },
      "source": [
        "y_test.shape"
      ],
      "execution_count": 137,
      "outputs": [
        {
          "output_type": "execute_result",
          "data": {
            "text/plain": [
              "(3000, 2)"
            ]
          },
          "metadata": {
            "tags": []
          },
          "execution_count": 137
        }
      ]
    },
    {
      "cell_type": "markdown",
      "metadata": {
        "id": "EXdr4rpvGorw",
        "colab_type": "text"
      },
      "source": [
        "# Model nnlm-en-dim128"
      ]
    },
    {
      "cell_type": "markdown",
      "metadata": {
        "id": "mzWKbfihwVTC",
        "colab_type": "text"
      },
      "source": [
        "## Create Model using tf.hub: nnlm-en-dim128"
      ]
    },
    {
      "cell_type": "code",
      "metadata": {
        "id": "hmUfMnhmNLMW",
        "colab_type": "code",
        "outputId": "df4ea0b9-3d6f-4945-fb30-6536c25c5a64",
        "colab": {
          "base_uri": "https://localhost:8080/",
          "height": 34
        }
      },
      "source": [
        "MODEL = \"nnlm-en-dim128\"\n",
        "VERSION = 2\n",
        "URL = \"https://tfhub.dev/google/\"+MODEL+\"/\"+str(VERSION)\n",
        "print (URL)"
      ],
      "execution_count": 188,
      "outputs": [
        {
          "output_type": "stream",
          "text": [
            "https://tfhub.dev/google/nnlm-en-dim128/2\n"
          ],
          "name": "stdout"
        }
      ]
    },
    {
      "cell_type": "code",
      "metadata": {
        "id": "th0drHQrwVTC",
        "colab_type": "code",
        "outputId": "6db04f12-0330-4e75-9057-3b91a2c26472",
        "colab": {
          "base_uri": "https://localhost:8080/",
          "height": 289
        }
      },
      "source": [
        "# Define the modle using Sequential api\n",
        "hub_layer1 = hub.KerasLayer(URL, output_shape=[128], \n",
        "                           input_shape=[], \n",
        "                           dtype=tf.string\n",
        "                          )\n",
        "model = keras.Sequential()\n",
        "model.add(hub_layer1)\n",
        "model.add(keras.layers.Dense(128, activation='relu'))\n",
        "model.add(keras.layers.Dropout(0.5))\n",
        "model.add(keras.layers.Dense(2, activation='softmax'))\n",
        "\n",
        "model.summary()"
      ],
      "execution_count": 189,
      "outputs": [
        {
          "output_type": "stream",
          "text": [
            "Model: \"sequential_2\"\n",
            "_________________________________________________________________\n",
            "Layer (type)                 Output Shape              Param #   \n",
            "=================================================================\n",
            "keras_layer_2 (KerasLayer)   (None, 128)               124642688 \n",
            "_________________________________________________________________\n",
            "dense_4 (Dense)              (None, 128)               16512     \n",
            "_________________________________________________________________\n",
            "dropout_2 (Dropout)          (None, 128)               0         \n",
            "_________________________________________________________________\n",
            "dense_5 (Dense)              (None, 2)                 258       \n",
            "=================================================================\n",
            "Total params: 124,659,458\n",
            "Trainable params: 16,770\n",
            "Non-trainable params: 124,642,688\n",
            "_________________________________________________________________\n"
          ],
          "name": "stdout"
        }
      ]
    },
    {
      "cell_type": "code",
      "metadata": {
        "id": "tjVitF9_wVTE",
        "colab_type": "code",
        "colab": {}
      },
      "source": [
        "model.compile(loss='categorical_crossentropy', optimizer='adam', metrics=['accuracy'])"
      ],
      "execution_count": 0,
      "outputs": []
    },
    {
      "cell_type": "code",
      "metadata": {
        "id": "bxPDNeKxwVTG",
        "colab_type": "code",
        "outputId": "263ccf4b-2fb0-4ccd-a7d6-c7f4ebbf6def",
        "colab": {
          "base_uri": "https://localhost:8080/",
          "height": 176
        }
      },
      "source": [
        "keras.utils.plot_model(model, \n",
        "                       #to_file='model.png',\n",
        "                      show_shapes=True, show_layer_names=True, rankdir='LR', expand_nested=False, dpi=128)"
      ],
      "execution_count": 191,
      "outputs": [
        {
          "output_type": "execute_result",
          "data": {
            "image/png": "[encoded data removed]",
            "text/plain": [
              "<IPython.core.display.Image object>"
            ]
          },
          "metadata": {
            "tags": []
          },
          "execution_count": 191
        }
      ]
    },
    {
      "cell_type": "markdown",
      "metadata": {
        "id": "SvDqk7O9wVTH",
        "colab_type": "text"
      },
      "source": [
        "## Execute Model"
      ]
    },
    {
      "cell_type": "code",
      "metadata": {
        "id": "Bz6ZbkvcwVTH",
        "colab_type": "code",
        "outputId": "901eb753-5988-4ea3-d3bb-07c5a9210075",
        "colab": {
          "base_uri": "https://localhost:8080/",
          "height": 1000
        }
      },
      "source": [
        "%%time\n",
        "hist = model.fit(X_train, \n",
        "                 y_train, \n",
        "                 epochs=40,\n",
        "                 batch_size=128, \n",
        "                 validation_split=0.2,\n",
        "                 verbose = 1)\n",
        "# Benchmark time: 2 min per 10 epochs for 50 000 records/batch 32\n",
        "# Benchmark time: 6 min per 25 epochs for 80 000 records/batch 32\n",
        "# Benchmark time: 1.5 min per 15 epochs for 50 000 records/batch 64\n",
        "# Benchmark time: 1.5 min per 15 epochs for 80 000 records/64 nodes/batch 64\n",
        "# Benchmark time: 1.5 min per 20 epochs for 80 000 records/64 nodes/batch 64\n",
        "# Benchmark time: 2 min per 30 epochs for 80 000 records/64 nodes/batch 64\n",
        "# Benchmark time: 2.5  min per 30 epochs for 150 000 records/128 nodes/batch 128"
      ],
      "execution_count": 192,
      "outputs": [
        {
          "output_type": "stream",
          "text": [
            "Train on 120000 samples, validate on 30000 samples\n",
            "Epoch 1/40\n",
            "120000/120000 [==============================] - 5s 45us/sample - loss: 0.5635 - accuracy: 0.7090 - val_loss: 0.5401 - val_accuracy: 0.7258\n",
            "Epoch 2/40\n",
            "120000/120000 [==============================] - 5s 41us/sample - loss: 0.5387 - accuracy: 0.7292 - val_loss: 0.5327 - val_accuracy: 0.7319\n",
            "Epoch 3/40\n",
            "120000/120000 [==============================] - 5s 41us/sample - loss: 0.5310 - accuracy: 0.7348 - val_loss: 0.5277 - val_accuracy: 0.7349\n",
            "Epoch 4/40\n",
            "120000/120000 [==============================] - 5s 43us/sample - loss: 0.5266 - accuracy: 0.7384 - val_loss: 0.5254 - val_accuracy: 0.7371\n",
            "Epoch 5/40\n",
            "120000/120000 [==============================] - 5s 43us/sample - loss: 0.5228 - accuracy: 0.7412 - val_loss: 0.5232 - val_accuracy: 0.7383\n",
            "Epoch 6/40\n",
            "120000/120000 [==============================] - 5s 42us/sample - loss: 0.5206 - accuracy: 0.7433 - val_loss: 0.5197 - val_accuracy: 0.7409\n",
            "Epoch 7/40\n",
            "120000/120000 [==============================] - 5s 41us/sample - loss: 0.5183 - accuracy: 0.7451 - val_loss: 0.5188 - val_accuracy: 0.7408\n",
            "Epoch 8/40\n",
            "120000/120000 [==============================] - 5s 41us/sample - loss: 0.5155 - accuracy: 0.7451 - val_loss: 0.5182 - val_accuracy: 0.7433\n",
            "Epoch 9/40\n",
            "120000/120000 [==============================] - 5s 41us/sample - loss: 0.5139 - accuracy: 0.7482 - val_loss: 0.5157 - val_accuracy: 0.7438\n",
            "Epoch 10/40\n",
            "120000/120000 [==============================] - 5s 41us/sample - loss: 0.5127 - accuracy: 0.7495 - val_loss: 0.5155 - val_accuracy: 0.7435\n",
            "Epoch 11/40\n",
            "120000/120000 [==============================] - 5s 41us/sample - loss: 0.5097 - accuracy: 0.7501 - val_loss: 0.5152 - val_accuracy: 0.7437\n",
            "Epoch 12/40\n",
            "120000/120000 [==============================] - 5s 41us/sample - loss: 0.5094 - accuracy: 0.7502 - val_loss: 0.5134 - val_accuracy: 0.7465\n",
            "Epoch 13/40\n",
            "120000/120000 [==============================] - 5s 40us/sample - loss: 0.5081 - accuracy: 0.7526 - val_loss: 0.5139 - val_accuracy: 0.7448\n",
            "Epoch 14/40\n",
            "120000/120000 [==============================] - 5s 41us/sample - loss: 0.5072 - accuracy: 0.7529 - val_loss: 0.5143 - val_accuracy: 0.7451\n",
            "Epoch 15/40\n",
            "120000/120000 [==============================] - 5s 40us/sample - loss: 0.5055 - accuracy: 0.7545 - val_loss: 0.5149 - val_accuracy: 0.7442\n",
            "Epoch 16/40\n",
            "120000/120000 [==============================] - 5s 41us/sample - loss: 0.5049 - accuracy: 0.7545 - val_loss: 0.5131 - val_accuracy: 0.7473\n",
            "Epoch 17/40\n",
            "120000/120000 [==============================] - 5s 41us/sample - loss: 0.5043 - accuracy: 0.7550 - val_loss: 0.5123 - val_accuracy: 0.7455\n",
            "Epoch 18/40\n",
            "120000/120000 [==============================] - 5s 41us/sample - loss: 0.5029 - accuracy: 0.7555 - val_loss: 0.5115 - val_accuracy: 0.7473\n",
            "Epoch 19/40\n",
            "120000/120000 [==============================] - 5s 41us/sample - loss: 0.5021 - accuracy: 0.7558 - val_loss: 0.5126 - val_accuracy: 0.7440\n",
            "Epoch 20/40\n",
            "120000/120000 [==============================] - 5s 41us/sample - loss: 0.5021 - accuracy: 0.7563 - val_loss: 0.5135 - val_accuracy: 0.7444\n",
            "Epoch 21/40\n",
            "120000/120000 [==============================] - 5s 41us/sample - loss: 0.5001 - accuracy: 0.7582 - val_loss: 0.5115 - val_accuracy: 0.7462\n",
            "Epoch 22/40\n",
            "120000/120000 [==============================] - 5s 41us/sample - loss: 0.4993 - accuracy: 0.7579 - val_loss: 0.5117 - val_accuracy: 0.7473\n",
            "Epoch 23/40\n",
            "120000/120000 [==============================] - 5s 41us/sample - loss: 0.4995 - accuracy: 0.7584 - val_loss: 0.5120 - val_accuracy: 0.7472\n",
            "Epoch 24/40\n",
            "120000/120000 [==============================] - 5s 41us/sample - loss: 0.4990 - accuracy: 0.7587 - val_loss: 0.5114 - val_accuracy: 0.7472\n",
            "Epoch 25/40\n",
            "120000/120000 [==============================] - 5s 41us/sample - loss: 0.4980 - accuracy: 0.7593 - val_loss: 0.5119 - val_accuracy: 0.7465\n",
            "Epoch 26/40\n",
            "120000/120000 [==============================] - 5s 41us/sample - loss: 0.4973 - accuracy: 0.7591 - val_loss: 0.5130 - val_accuracy: 0.7463\n",
            "Epoch 27/40\n",
            "120000/120000 [==============================] - 5s 42us/sample - loss: 0.4980 - accuracy: 0.7604 - val_loss: 0.5114 - val_accuracy: 0.7490\n",
            "Epoch 28/40\n",
            "120000/120000 [==============================] - 5s 40us/sample - loss: 0.4969 - accuracy: 0.7595 - val_loss: 0.5118 - val_accuracy: 0.7488\n",
            "Epoch 29/40\n",
            "120000/120000 [==============================] - 5s 41us/sample - loss: 0.4965 - accuracy: 0.7610 - val_loss: 0.5114 - val_accuracy: 0.7467\n",
            "Epoch 30/40\n",
            "120000/120000 [==============================] - 5s 40us/sample - loss: 0.4956 - accuracy: 0.7619 - val_loss: 0.5115 - val_accuracy: 0.7479\n",
            "Epoch 31/40\n",
            "120000/120000 [==============================] - 5s 41us/sample - loss: 0.4954 - accuracy: 0.7614 - val_loss: 0.5113 - val_accuracy: 0.7480\n",
            "Epoch 32/40\n",
            "120000/120000 [==============================] - 5s 40us/sample - loss: 0.4951 - accuracy: 0.7613 - val_loss: 0.5129 - val_accuracy: 0.7459\n",
            "Epoch 33/40\n",
            "120000/120000 [==============================] - 5s 41us/sample - loss: 0.4950 - accuracy: 0.7622 - val_loss: 0.5120 - val_accuracy: 0.7470\n",
            "Epoch 34/40\n",
            "120000/120000 [==============================] - 5s 41us/sample - loss: 0.4933 - accuracy: 0.7625 - val_loss: 0.5119 - val_accuracy: 0.7465\n",
            "Epoch 35/40\n",
            "120000/120000 [==============================] - 5s 41us/sample - loss: 0.4940 - accuracy: 0.7623 - val_loss: 0.5123 - val_accuracy: 0.7470\n",
            "Epoch 36/40\n",
            "120000/120000 [==============================] - 5s 41us/sample - loss: 0.4930 - accuracy: 0.7622 - val_loss: 0.5122 - val_accuracy: 0.7472\n",
            "Epoch 37/40\n",
            "120000/120000 [==============================] - 5s 41us/sample - loss: 0.4923 - accuracy: 0.7628 - val_loss: 0.5118 - val_accuracy: 0.7485\n",
            "Epoch 38/40\n",
            "120000/120000 [==============================] - 5s 41us/sample - loss: 0.4924 - accuracy: 0.7624 - val_loss: 0.5122 - val_accuracy: 0.7462\n",
            "Epoch 39/40\n",
            "120000/120000 [==============================] - 5s 41us/sample - loss: 0.4919 - accuracy: 0.7633 - val_loss: 0.5116 - val_accuracy: 0.7470\n",
            "Epoch 40/40\n",
            "120000/120000 [==============================] - 5s 40us/sample - loss: 0.4902 - accuracy: 0.7641 - val_loss: 0.5120 - val_accuracy: 0.7488\n",
            "CPU times: user 4min 22s, sys: 26 s, total: 4min 48s\n",
            "Wall time: 3min 17s\n"
          ],
          "name": "stdout"
        }
      ]
    },
    {
      "cell_type": "code",
      "metadata": {
        "id": "N7ntRSvVwVTI",
        "colab_type": "code",
        "outputId": "65433b7c-8309-45be-c27a-8eeb923cd893",
        "colab": {
          "base_uri": "https://localhost:8080/",
          "height": 612
        }
      },
      "source": [
        "pd.DataFrame(hist.history).plot(figsize=(10,10))\n",
        "plt.grid(True)\n",
        "plt.show"
      ],
      "execution_count": 193,
      "outputs": [
        {
          "output_type": "execute_result",
          "data": {
            "text/plain": [
              "<function matplotlib.pyplot.show>"
            ]
          },
          "metadata": {
            "tags": []
          },
          "execution_count": 193
        },
        {
          "output_type": "display_data",
          "data": {
            "image/png": "[encoded data removed]",
            "text/plain": [
              "<Figure size 720x720 with 1 Axes>"
            ]
          },
          "metadata": {
            "tags": []
          }
        }
      ]
    },
    {
      "cell_type": "markdown",
      "metadata": {
        "id": "tBxcEWI0wVTK",
        "colab_type": "text"
      },
      "source": [
        "## Evaluate Model"
      ]
    },
    {
      "cell_type": "code",
      "metadata": {
        "id": "CkCDpk9UwVTK",
        "colab_type": "code",
        "outputId": "6317bb82-043f-427e-d452-ce188ff819dd",
        "colab": {
          "base_uri": "https://localhost:8080/",
          "height": 51
        }
      },
      "source": [
        "accuracy_test = model.evaluate(X_test, y_test, verbose=2)\n",
        "print(accuracy_test)"
      ],
      "execution_count": 194,
      "outputs": [
        {
          "output_type": "stream",
          "text": [
            "3000/1 - 0s - loss: 0.6130 - accuracy: 0.7507\n",
            "[0.5064963997205099, 0.7506667]\n"
          ],
          "name": "stdout"
        }
      ]
    },
    {
      "cell_type": "code",
      "metadata": {
        "id": "9Z-cB2bFwVTL",
        "colab_type": "code",
        "outputId": "4c5ab8f4-eb6d-4de6-f84d-52fb9dc728ea",
        "colab": {
          "base_uri": "https://localhost:8080/",
          "height": 170
        }
      },
      "source": [
        "print(X_train[0:10])"
      ],
      "execution_count": 146,
      "outputs": [
        {
          "output_type": "stream",
          "text": [
            "['sit in the dark . think of jessemccartney and -PRON- amazing friend katiespo and meghandriscoll . due to bein a proud jesse fan'\n",
            " 'ouchy first skateboard injury ... haha not to be th last either ...'\n",
            " 'indithunder wah sama ya huuuh yaudah deh ndi thankssss'\n",
            " 'charpower i give up cable in these tough economic time . -PRON- be either cable or shoe , and -PRON- know what cable lose'\n",
            " 'i know what happen at the end of one tree hill ... i see the episode picture . . yayyy'\n",
            " 'tired of the head game . -PRON- be so over -PRON- and -PRON-'\n",
            " 'bad birthday ever' 'moobert hahaha ..... make a ws mix'\n",
            " 'tryna kick -PRON- tomorrow , no ride though'\n",
            " 'hcurri just in general this week']\n"
          ],
          "name": "stdout"
        }
      ]
    },
    {
      "cell_type": "markdown",
      "metadata": {
        "id": "j2ESaAjdwVTQ",
        "colab_type": "text"
      },
      "source": [
        "## Confusion Matrix"
      ]
    },
    {
      "cell_type": "code",
      "metadata": {
        "id": "Zq8q6kxYwVTQ",
        "colab_type": "code",
        "colab": {}
      },
      "source": [
        "def plot_confusion_matrix(cm, \n",
        "                          classes, \n",
        "                          normalize=False,\n",
        "                          title='CM', \n",
        "                          cmap=plt.cm.Greens):\n",
        "# This function prints and plots the confusion matrix. Normalization can be applied by setting `normalize=True`\n",
        "\n",
        "    if normalize:\n",
        "        cm = cm.astype('float') / cm.sum(axis=1)[:, np.newaxis]\n",
        "        # print(\"Normalized confusion matrix\") # print(cm)\n",
        "\n",
        "    plt.imshow(cm, interpolation='nearest', cmap=cmap) \n",
        "    plt.title(title)\n",
        "    plt.colorbar()\n",
        "\n",
        "    tick_marks = np.arange(len(classes)) \n",
        "    plt.xticks(tick_marks, classes, rotation=45) \n",
        "    plt.yticks(tick_marks, classes)\n",
        "\n",
        "    fmt = '.2f' if normalize else 'd'\n",
        "    thresh = cm.max() / 2.\n",
        "    for i, j in itertools.product(range(cm.shape[0]), range(cm.shape[1])):\n",
        "        plt.text(j, i, format(cm[i, j], fmt), \n",
        "                 horizontalalignment=\"center\",\n",
        "                 color=\"white\" if cm[i, j] > thresh else \"black\")\n",
        "        plt.tight_layout() \n",
        "        plt.ylabel('True label') \n",
        "        plt.xlabel('Predicted label')"
      ],
      "execution_count": 0,
      "outputs": []
    },
    {
      "cell_type": "code",
      "metadata": {
        "id": "Bo1pj-tewVTS",
        "colab_type": "code",
        "colab": {}
      },
      "source": [
        "# np.argmax Returns the indices of the maximum values along an axis. \n",
        "y_test_rounded = np.argmax(y_test, axis=1)\n",
        "y_train_rounded = np.argmax(y_train, axis=1)"
      ],
      "execution_count": 0,
      "outputs": []
    },
    {
      "cell_type": "code",
      "metadata": {
        "id": "AZqJ1ZgKwVTT",
        "colab_type": "code",
        "colab": {}
      },
      "source": [
        "y_pred = model.predict(X_train)\n",
        "y_pred_rounded = np.argmax(y_pred, axis=1)"
      ],
      "execution_count": 0,
      "outputs": []
    },
    {
      "cell_type": "code",
      "metadata": {
        "id": "t1VSl2LEwVTV",
        "colab_type": "code",
        "colab": {}
      },
      "source": [
        "cmResults = confusion_matrix(y_train_rounded, y_pred_rounded) \n",
        "accuracy = accuracy_score(y_train_rounded, y_pred_rounded)"
      ],
      "execution_count": 0,
      "outputs": []
    },
    {
      "cell_type": "code",
      "metadata": {
        "id": "UWc_zkA9wVTW",
        "colab_type": "code",
        "outputId": "a42f74f8-a991-4180-aa44-29fffcc00e0f",
        "colab": {
          "base_uri": "https://localhost:8080/",
          "height": 513
        }
      },
      "source": [
        "# Plot non-normalized confusion matrix \n",
        "class_names = ['Negative', 'Positive']\n",
        "plt.figure(figsize=(7,7));\n",
        "plot_confusion_matrix(cmResults, classes=class_names, title=str(MODEL)+ \"\\n\" +\"Accuracy: \" + str((accuracy*100).round(1)) + \"%\" +\"\\n\"+\"Train Data\");"
      ],
      "execution_count": 153,
      "outputs": [
        {
          "output_type": "display_data",
          "data": {
            "image/png": "[encoded data removed]",
            "text/plain": [
              "<Figure size 504x504 with 2 Axes>"
            ]
          },
          "metadata": {
            "tags": []
          }
        }
      ]
    },
    {
      "cell_type": "code",
      "metadata": {
        "id": "m1cbFmOSwVTX",
        "colab_type": "code",
        "colab": {}
      },
      "source": [
        "y_pred = model.predict(X_test)\n",
        "y_pred_rounded = np.argmax(y_pred, axis=1)\n",
        "cmResults = confusion_matrix(y_test_rounded, y_pred_rounded)\n",
        "accuracy = accuracy_score(y_test_rounded, y_pred_rounded)"
      ],
      "execution_count": 0,
      "outputs": []
    },
    {
      "cell_type": "code",
      "metadata": {
        "id": "j__4lgy1wVTY",
        "colab_type": "code",
        "outputId": "bcaedeb2-dc91-485f-ec9f-bfaa54f7c7fb",
        "colab": {
          "base_uri": "https://localhost:8080/",
          "height": 513
        }
      },
      "source": [
        "# Plot non-normalized confusion matrix \n",
        "plt.figure(figsize=(7,7));\n",
        "plot_confusion_matrix(cmResults, classes=class_names, \n",
        "                      title=str(MODEL)+ \"\\n\" +\"Accuracy: \" + str((accuracy*100).round(1)) + \"%\" +\"\\n\"+\"Test Data\",\n",
        "                      cmap=plt.cm.Blues);"
      ],
      "execution_count": 155,
      "outputs": [
        {
          "output_type": "display_data",
          "data": {
            "image/png": "[encoded data removed]",
            "text/plain": [
              "<Figure size 504x504 with 2 Axes>"
            ]
          },
          "metadata": {
            "tags": []
          }
        }
      ]
    },
    {
      "cell_type": "markdown",
      "metadata": {
        "id": "8YECZ6SbwVTa",
        "colab_type": "text"
      },
      "source": [
        "## Test the Model with some sentences"
      ]
    },
    {
      "cell_type": "code",
      "metadata": {
        "id": "tiKcBX81wVTa",
        "colab_type": "code",
        "colab": {}
      },
      "source": [
        "# Create input tweets for testing the sentiment model \n",
        "tweets = {'tweet':['Montreal is a nice city in the summer!!!',\n",
        "                    'I have a good feeling about this team#11212',\n",
        "                    'The show was not funny...',\n",
        "                    'The dog is angry',\n",
        "                    'The food at the restaurant could be better',\n",
        "                    'The flight is a long one',\n",
        "                    'It would be nice if the weather was better in Montreal *&&%&*&##!1',\n",
        "                    'The Montreal hockey team will be making the playoffs',\n",
        "                    'The weather in Montreal is very nice in the summer'\n",
        "                   ],\n",
        "          'sentiments':[4,\n",
        "                       4,\n",
        "                       0,\n",
        "                       0,\n",
        "                       0,\n",
        "                       0,\n",
        "                       0,\n",
        "                       4,\n",
        "                       4\n",
        "                      ]\n",
        "         } \n",
        "  \n",
        "# Create DataFrame \n",
        "df_test = pd.DataFrame(tweets)"
      ],
      "execution_count": 0,
      "outputs": []
    },
    {
      "cell_type": "code",
      "metadata": {
        "id": "J085ZWQIwVTc",
        "colab_type": "code",
        "colab": {}
      },
      "source": [
        "df_test['clean_tweet'] = df_test['tweet'].apply(lambda x: text_processing(x))"
      ],
      "execution_count": 0,
      "outputs": []
    },
    {
      "cell_type": "code",
      "metadata": {
        "id": "0NtrQdUawVTc",
        "colab_type": "code",
        "colab": {}
      },
      "source": [
        "df_test[\"clean_tweet\"] = lemmatization(df_test[\"clean_tweet\"])"
      ],
      "execution_count": 0,
      "outputs": []
    },
    {
      "cell_type": "code",
      "metadata": {
        "id": "m5KV_aL4wVTd",
        "colab_type": "code",
        "outputId": "a5497de8-4093-4736-9952-e7996a85ad6a",
        "colab": {
          "base_uri": "https://localhost:8080/",
          "height": 328
        }
      },
      "source": [
        "df_test"
      ],
      "execution_count": 159,
      "outputs": [
        {
          "output_type": "execute_result",
          "data": {
            "text/html": [
              "<div>\n",
              "<style scoped>\n",
              "    .dataframe tbody tr th:only-of-type {\n",
              "        vertical-align: middle;\n",
              "    }\n",
              "\n",
              "    .dataframe tbody tr th {\n",
              "        vertical-align: top;\n",
              "    }\n",
              "\n",
              "    .dataframe thead th {\n",
              "        text-align: right;\n",
              "    }\n",
              "</style>\n",
              "<table border=\"1\" class=\"dataframe\">\n",
              "  <thead>\n",
              "    <tr style=\"text-align: right;\">\n",
              "      <th></th>\n",
              "      <th>tweet</th>\n",
              "      <th>sentiments</th>\n",
              "      <th>clean_tweet</th>\n",
              "    </tr>\n",
              "  </thead>\n",
              "  <tbody>\n",
              "    <tr>\n",
              "      <th>0</th>\n",
              "      <td>Montreal is a nice city in the summer!!!</td>\n",
              "      <td>4</td>\n",
              "      <td>montreal be a nice city in the summer</td>\n",
              "    </tr>\n",
              "    <tr>\n",
              "      <th>1</th>\n",
              "      <td>I have a good feeling about this team#11212</td>\n",
              "      <td>4</td>\n",
              "      <td>i have a good feeling about this team</td>\n",
              "    </tr>\n",
              "    <tr>\n",
              "      <th>2</th>\n",
              "      <td>The show was not funny...</td>\n",
              "      <td>0</td>\n",
              "      <td>the show be not funny ...</td>\n",
              "    </tr>\n",
              "    <tr>\n",
              "      <th>3</th>\n",
              "      <td>The dog is angry</td>\n",
              "      <td>0</td>\n",
              "      <td>the dog be angry</td>\n",
              "    </tr>\n",
              "    <tr>\n",
              "      <th>4</th>\n",
              "      <td>The food at the restaurant could be better</td>\n",
              "      <td>0</td>\n",
              "      <td>the food at the restaurant could be well</td>\n",
              "    </tr>\n",
              "    <tr>\n",
              "      <th>5</th>\n",
              "      <td>The flight is a long one</td>\n",
              "      <td>0</td>\n",
              "      <td>the flight be a long one</td>\n",
              "    </tr>\n",
              "    <tr>\n",
              "      <th>6</th>\n",
              "      <td>It would be nice if the weather was better in ...</td>\n",
              "      <td>0</td>\n",
              "      <td>-PRON- would be nice if the weather be well in...</td>\n",
              "    </tr>\n",
              "    <tr>\n",
              "      <th>7</th>\n",
              "      <td>The Montreal hockey team will be making the pl...</td>\n",
              "      <td>4</td>\n",
              "      <td>the montreal hockey team will be make the playoff</td>\n",
              "    </tr>\n",
              "    <tr>\n",
              "      <th>8</th>\n",
              "      <td>The weather in Montreal is very nice in the su...</td>\n",
              "      <td>4</td>\n",
              "      <td>the weather in montreal be very nice in the su...</td>\n",
              "    </tr>\n",
              "  </tbody>\n",
              "</table>\n",
              "</div>"
            ],
            "text/plain": [
              "                                               tweet  ...                                        clean_tweet\n",
              "0           Montreal is a nice city in the summer!!!  ...              montreal be a nice city in the summer\n",
              "1        I have a good feeling about this team#11212  ...              i have a good feeling about this team\n",
              "2                          The show was not funny...  ...                          the show be not funny ...\n",
              "3                                   The dog is angry  ...                                   the dog be angry\n",
              "4         The food at the restaurant could be better  ...           the food at the restaurant could be well\n",
              "5                           The flight is a long one  ...                           the flight be a long one\n",
              "6  It would be nice if the weather was better in ...  ...  -PRON- would be nice if the weather be well in...\n",
              "7  The Montreal hockey team will be making the pl...  ...  the montreal hockey team will be make the playoff\n",
              "8  The weather in Montreal is very nice in the su...  ...  the weather in montreal be very nice in the su...\n",
              "\n",
              "[9 rows x 3 columns]"
            ]
          },
          "metadata": {
            "tags": []
          },
          "execution_count": 159
        }
      ]
    },
    {
      "cell_type": "code",
      "metadata": {
        "id": "44ZxvVVswVTe",
        "colab_type": "code",
        "colab": {}
      },
      "source": [
        "sentiments = df_test[\"sentiments\"].copy()\n",
        "label_encoder = LabelEncoder()\n",
        "sentiments = label_encoder.fit_transform(sentiments)\n",
        "sentiments = keras.utils.to_categorical(sentiments)"
      ],
      "execution_count": 0,
      "outputs": []
    },
    {
      "cell_type": "code",
      "metadata": {
        "id": "q_bCfTOewVTf",
        "colab_type": "code",
        "colab": {}
      },
      "source": [
        "X_input = df_test[\"clean_tweet\"].values"
      ],
      "execution_count": 0,
      "outputs": []
    },
    {
      "cell_type": "code",
      "metadata": {
        "id": "_PXVPhPzwVTg",
        "colab_type": "code",
        "outputId": "88a0cd89-5e6d-4bbd-fe6a-3e6fc7ca1393",
        "colab": {
          "base_uri": "https://localhost:8080/",
          "height": 170
        }
      },
      "source": [
        "print(model.predict(X_input).round(0))"
      ],
      "execution_count": 162,
      "outputs": [
        {
          "output_type": "stream",
          "text": [
            "[[0. 1.]\n",
            " [0. 1.]\n",
            " [1. 0.]\n",
            " [1. 0.]\n",
            " [0. 1.]\n",
            " [1. 0.]\n",
            " [0. 1.]\n",
            " [0. 1.]\n",
            " [0. 1.]]\n"
          ],
          "name": "stdout"
        }
      ]
    },
    {
      "cell_type": "code",
      "metadata": {
        "id": "QtvJ2563wVTh",
        "colab_type": "code",
        "outputId": "aaa58e68-410c-481c-99fa-3dba1184f644",
        "colab": {
          "base_uri": "https://localhost:8080/",
          "height": 170
        }
      },
      "source": [
        "print(sentiments)"
      ],
      "execution_count": 163,
      "outputs": [
        {
          "output_type": "stream",
          "text": [
            "[[0. 1.]\n",
            " [0. 1.]\n",
            " [1. 0.]\n",
            " [1. 0.]\n",
            " [1. 0.]\n",
            " [1. 0.]\n",
            " [1. 0.]\n",
            " [0. 1.]\n",
            " [0. 1.]]\n"
          ],
          "name": "stdout"
        }
      ]
    },
    {
      "cell_type": "markdown",
      "metadata": {
        "id": "EHRuGMHMwVTj",
        "colab_type": "text"
      },
      "source": [
        "# Model Universal Sentence Encoder\n",
        "\n"
      ]
    },
    {
      "cell_type": "markdown",
      "metadata": {
        "id": "HDTMDRHr24Ix",
        "colab_type": "text"
      },
      "source": [
        "## Create Model"
      ]
    },
    {
      "cell_type": "code",
      "metadata": {
        "id": "fSAKNePtU6Ki",
        "colab_type": "code",
        "outputId": "b4bef419-f1fe-4c8b-b4d4-219c4fccb136",
        "colab": {
          "base_uri": "https://localhost:8080/",
          "height": 34
        }
      },
      "source": [
        "MODEL = \"universal-sentence-encoder\"\n",
        "VERSION = 4\n",
        "URL = \"https://tfhub.dev/google/\"+MODEL+\"/\"+str(VERSION)\n",
        "print (URL)"
      ],
      "execution_count": 164,
      "outputs": [
        {
          "output_type": "stream",
          "text": [
            "https://tfhub.dev/google/universal-sentence-encoder/4\n"
          ],
          "name": "stdout"
        }
      ]
    },
    {
      "cell_type": "code",
      "metadata": {
        "id": "-l4YwXqGwVTk",
        "colab_type": "code",
        "outputId": "e96a7b84-ebce-42e6-da22-52a474c51c26",
        "colab": {
          "base_uri": "https://localhost:8080/",
          "height": 289
        }
      },
      "source": [
        "hub_layer2 = hub.KerasLayer(URL, \n",
        "                           output_shape=[512], \n",
        "                           input_shape=[], \n",
        "                           dtype=tf.string\n",
        "                          )\n",
        "model = keras.Sequential()\n",
        "model.add(hub_layer2)\n",
        "model.add(keras.layers.Dense(128, activation='relu'))\n",
        "model.add(keras.layers.Dropout(0.5))\n",
        "model.add(keras.layers.Dense(2, activation='softmax'))\n",
        "\n",
        "model.summary()"
      ],
      "execution_count": 165,
      "outputs": [
        {
          "output_type": "stream",
          "text": [
            "Model: \"sequential_1\"\n",
            "_________________________________________________________________\n",
            "Layer (type)                 Output Shape              Param #   \n",
            "=================================================================\n",
            "keras_layer_1 (KerasLayer)   (None, 512)               256797824 \n",
            "_________________________________________________________________\n",
            "dense_2 (Dense)              (None, 64)                32832     \n",
            "_________________________________________________________________\n",
            "dropout_1 (Dropout)          (None, 64)                0         \n",
            "_________________________________________________________________\n",
            "dense_3 (Dense)              (None, 2)                 130       \n",
            "=================================================================\n",
            "Total params: 256,830,786\n",
            "Trainable params: 32,962\n",
            "Non-trainable params: 256,797,824\n",
            "_________________________________________________________________\n"
          ],
          "name": "stdout"
        }
      ]
    },
    {
      "cell_type": "code",
      "metadata": {
        "id": "JoAp8MhnwVTm",
        "colab_type": "code",
        "colab": {}
      },
      "source": [
        "model.compile(loss='categorical_crossentropy', optimizer='adam', metrics=['accuracy'])"
      ],
      "execution_count": 0,
      "outputs": []
    },
    {
      "cell_type": "code",
      "metadata": {
        "id": "JMAyz11pwVTn",
        "colab_type": "code",
        "outputId": "9e1be3e4-91c0-4d5a-c60b-c905269d9607",
        "colab": {
          "base_uri": "https://localhost:8080/",
          "height": 176
        }
      },
      "source": [
        "keras.utils.plot_model(model, \n",
        "                       #to_file='model.png',\n",
        "                       show_shapes=True, show_layer_names=True, rankdir='LR', expand_nested=False, dpi=128)"
      ],
      "execution_count": 167,
      "outputs": [
        {
          "output_type": "execute_result",
          "data": {
            "image/png": "[encoded data removed]",
            "text/plain": [
              "<IPython.core.display.Image object>"
            ]
          },
          "metadata": {
            "tags": []
          },
          "execution_count": 167
        }
      ]
    },
    {
      "cell_type": "markdown",
      "metadata": {
        "id": "EKnzwyoQwVTo",
        "colab_type": "text"
      },
      "source": [
        "## Execute Model"
      ]
    },
    {
      "cell_type": "code",
      "metadata": {
        "id": "Zj38BoZ5wVTo",
        "colab_type": "code",
        "outputId": "1e60bc94-8186-4aa2-a977-a83bd0d5cd46",
        "colab": {
          "base_uri": "https://localhost:8080/",
          "height": 1000
        }
      },
      "source": [
        "%%time\n",
        "hist = model.fit(X_train, \n",
        "                 y_train, \n",
        "                 epochs=40, \n",
        "                 batch_size=128, \n",
        "                 validation_split=.2,\n",
        "                 verbose = 1)\n",
        "# Benchmark time: 21 min for 25 epochs/80 000 records/32 nodes/batch 32\n",
        "# Benchmark time: 10 min for 12 epochs/80 000 records/32 nodes/batch 32\n",
        "# Benchmark time: 6 min for 20 epochs/50 000 records/64 nodes/batch 64\n",
        "# Benchmark time: 10 min for 30 epochs/80 000 records/64 nodes/batch 64\n",
        "# Benchmark time: 7 min for 30 epochs/80 000 records/64 nodes/batch 128\n",
        "# Benchmark time: 11 min for 40 epochs/150 000 records/128 nodes/batch 128"
      ],
      "execution_count": 168,
      "outputs": [
        {
          "output_type": "stream",
          "text": [
            "Train on 120000 samples, validate on 30000 samples\n",
            "Epoch 1/40\n",
            "120000/120000 [==============================] - 19s 159us/sample - loss: 0.5110 - accuracy: 0.7517 - val_loss: 0.4865 - val_accuracy: 0.7618\n",
            "Epoch 2/40\n",
            "120000/120000 [==============================] - 18s 146us/sample - loss: 0.4864 - accuracy: 0.7663 - val_loss: 0.4813 - val_accuracy: 0.7659\n",
            "Epoch 3/40\n",
            "120000/120000 [==============================] - 18s 146us/sample - loss: 0.4806 - accuracy: 0.7713 - val_loss: 0.4772 - val_accuracy: 0.7694\n",
            "Epoch 4/40\n",
            "120000/120000 [==============================] - 18s 147us/sample - loss: 0.4765 - accuracy: 0.7737 - val_loss: 0.4748 - val_accuracy: 0.7723\n",
            "Epoch 5/40\n",
            "120000/120000 [==============================] - 18s 148us/sample - loss: 0.4733 - accuracy: 0.7756 - val_loss: 0.4723 - val_accuracy: 0.7728\n",
            "Epoch 6/40\n",
            "120000/120000 [==============================] - 17s 145us/sample - loss: 0.4704 - accuracy: 0.7789 - val_loss: 0.4703 - val_accuracy: 0.7737\n",
            "Epoch 7/40\n",
            "120000/120000 [==============================] - 17s 144us/sample - loss: 0.4678 - accuracy: 0.7800 - val_loss: 0.4696 - val_accuracy: 0.7748\n",
            "Epoch 8/40\n",
            "120000/120000 [==============================] - 18s 146us/sample - loss: 0.4672 - accuracy: 0.7807 - val_loss: 0.4683 - val_accuracy: 0.7745\n",
            "Epoch 9/40\n",
            "120000/120000 [==============================] - 18s 147us/sample - loss: 0.4649 - accuracy: 0.7830 - val_loss: 0.4680 - val_accuracy: 0.7753\n",
            "Epoch 10/40\n",
            "120000/120000 [==============================] - 17s 145us/sample - loss: 0.4635 - accuracy: 0.7816 - val_loss: 0.4675 - val_accuracy: 0.7750\n",
            "Epoch 11/40\n",
            "120000/120000 [==============================] - 17s 145us/sample - loss: 0.4621 - accuracy: 0.7829 - val_loss: 0.4671 - val_accuracy: 0.7762\n",
            "Epoch 12/40\n",
            "120000/120000 [==============================] - 17s 146us/sample - loss: 0.4613 - accuracy: 0.7843 - val_loss: 0.4659 - val_accuracy: 0.7770\n",
            "Epoch 13/40\n",
            "120000/120000 [==============================] - 18s 146us/sample - loss: 0.4592 - accuracy: 0.7867 - val_loss: 0.4661 - val_accuracy: 0.7772\n",
            "Epoch 14/40\n",
            "120000/120000 [==============================] - 17s 145us/sample - loss: 0.4579 - accuracy: 0.7856 - val_loss: 0.4656 - val_accuracy: 0.7787\n",
            "Epoch 15/40\n",
            "120000/120000 [==============================] - 18s 149us/sample - loss: 0.4563 - accuracy: 0.7872 - val_loss: 0.4660 - val_accuracy: 0.7782\n",
            "Epoch 16/40\n",
            "120000/120000 [==============================] - 17s 145us/sample - loss: 0.4551 - accuracy: 0.7891 - val_loss: 0.4659 - val_accuracy: 0.7770\n",
            "Epoch 17/40\n",
            "120000/120000 [==============================] - 17s 145us/sample - loss: 0.4539 - accuracy: 0.7897 - val_loss: 0.4652 - val_accuracy: 0.7770\n",
            "Epoch 18/40\n",
            "120000/120000 [==============================] - 17s 146us/sample - loss: 0.4538 - accuracy: 0.7894 - val_loss: 0.4646 - val_accuracy: 0.7769\n",
            "Epoch 19/40\n",
            "120000/120000 [==============================] - 18s 146us/sample - loss: 0.4525 - accuracy: 0.7896 - val_loss: 0.4653 - val_accuracy: 0.7769\n",
            "Epoch 20/40\n",
            "120000/120000 [==============================] - 17s 146us/sample - loss: 0.4514 - accuracy: 0.7902 - val_loss: 0.4657 - val_accuracy: 0.7755\n",
            "Epoch 21/40\n",
            "120000/120000 [==============================] - 17s 146us/sample - loss: 0.4499 - accuracy: 0.7919 - val_loss: 0.4653 - val_accuracy: 0.7775\n",
            "Epoch 22/40\n",
            "120000/120000 [==============================] - 18s 147us/sample - loss: 0.4499 - accuracy: 0.7912 - val_loss: 0.4651 - val_accuracy: 0.7772\n",
            "Epoch 23/40\n",
            "120000/120000 [==============================] - 17s 145us/sample - loss: 0.4483 - accuracy: 0.7912 - val_loss: 0.4651 - val_accuracy: 0.7759\n",
            "Epoch 24/40\n",
            "120000/120000 [==============================] - 17s 146us/sample - loss: 0.4489 - accuracy: 0.7919 - val_loss: 0.4653 - val_accuracy: 0.7749\n",
            "Epoch 25/40\n",
            "120000/120000 [==============================] - 18s 146us/sample - loss: 0.4479 - accuracy: 0.7921 - val_loss: 0.4663 - val_accuracy: 0.7755\n",
            "Epoch 26/40\n",
            "120000/120000 [==============================] - 17s 145us/sample - loss: 0.4460 - accuracy: 0.7939 - val_loss: 0.4664 - val_accuracy: 0.7756\n",
            "Epoch 27/40\n",
            "120000/120000 [==============================] - 18s 147us/sample - loss: 0.4456 - accuracy: 0.7942 - val_loss: 0.4653 - val_accuracy: 0.7769\n",
            "Epoch 28/40\n",
            "120000/120000 [==============================] - 17s 145us/sample - loss: 0.4444 - accuracy: 0.7941 - val_loss: 0.4658 - val_accuracy: 0.7763\n",
            "Epoch 29/40\n",
            "120000/120000 [==============================] - 17s 145us/sample - loss: 0.4446 - accuracy: 0.7940 - val_loss: 0.4668 - val_accuracy: 0.7765\n",
            "Epoch 30/40\n",
            "120000/120000 [==============================] - 17s 145us/sample - loss: 0.4430 - accuracy: 0.7941 - val_loss: 0.4657 - val_accuracy: 0.7768\n",
            "Epoch 31/40\n",
            "120000/120000 [==============================] - 17s 145us/sample - loss: 0.4440 - accuracy: 0.7941 - val_loss: 0.4662 - val_accuracy: 0.7768\n",
            "Epoch 32/40\n",
            "120000/120000 [==============================] - 18s 146us/sample - loss: 0.4427 - accuracy: 0.7955 - val_loss: 0.4687 - val_accuracy: 0.7765\n",
            "Epoch 33/40\n",
            "120000/120000 [==============================] - 18s 149us/sample - loss: 0.4420 - accuracy: 0.7958 - val_loss: 0.4668 - val_accuracy: 0.7772\n",
            "Epoch 34/40\n",
            "120000/120000 [==============================] - 17s 145us/sample - loss: 0.4412 - accuracy: 0.7967 - val_loss: 0.4667 - val_accuracy: 0.7768\n",
            "Epoch 35/40\n",
            "120000/120000 [==============================] - 17s 145us/sample - loss: 0.4413 - accuracy: 0.7965 - val_loss: 0.4679 - val_accuracy: 0.7775\n",
            "Epoch 36/40\n",
            "120000/120000 [==============================] - 18s 147us/sample - loss: 0.4402 - accuracy: 0.7962 - val_loss: 0.4676 - val_accuracy: 0.7767\n",
            "Epoch 37/40\n",
            "120000/120000 [==============================] - 17s 145us/sample - loss: 0.4402 - accuracy: 0.7970 - val_loss: 0.4671 - val_accuracy: 0.7756\n",
            "Epoch 38/40\n",
            "120000/120000 [==============================] - 17s 145us/sample - loss: 0.4390 - accuracy: 0.7965 - val_loss: 0.4680 - val_accuracy: 0.7766\n",
            "Epoch 39/40\n",
            "120000/120000 [==============================] - 17s 145us/sample - loss: 0.4383 - accuracy: 0.7974 - val_loss: 0.4682 - val_accuracy: 0.7770\n",
            "Epoch 40/40\n",
            "120000/120000 [==============================] - 18s 146us/sample - loss: 0.4390 - accuracy: 0.7974 - val_loss: 0.4675 - val_accuracy: 0.7770\n",
            "CPU times: user 16min 34s, sys: 1min 2s, total: 17min 36s\n",
            "Wall time: 11min 41s\n"
          ],
          "name": "stdout"
        }
      ]
    },
    {
      "cell_type": "code",
      "metadata": {
        "id": "XyxfWSFHwVTp",
        "colab_type": "code",
        "outputId": "87731e50-8c96-489e-baa0-8ef804acc0a2",
        "colab": {
          "base_uri": "https://localhost:8080/",
          "height": 612
        }
      },
      "source": [
        "pd.DataFrame(hist.history).plot(figsize=(10,10))\n",
        "plt.grid(True)\n",
        "plt.show"
      ],
      "execution_count": 169,
      "outputs": [
        {
          "output_type": "execute_result",
          "data": {
            "text/plain": [
              "<function matplotlib.pyplot.show>"
            ]
          },
          "metadata": {
            "tags": []
          },
          "execution_count": 169
        },
        {
          "output_type": "display_data",
          "data": {
            "image/png": "[encoded data removed]",
            "text/plain": [
              "<Figure size 720x720 with 1 Axes>"
            ]
          },
          "metadata": {
            "tags": []
          }
        }
      ]
    },
    {
      "cell_type": "markdown",
      "metadata": {
        "id": "RnBTXA2NwVTq",
        "colab_type": "text"
      },
      "source": [
        "## Evaluate Model Universal Sentence Encoder"
      ]
    },
    {
      "cell_type": "code",
      "metadata": {
        "id": "2pbRjk8zwVTq",
        "colab_type": "code",
        "outputId": "3bbe741a-108c-4b40-81af-fdbb6bd41a92",
        "colab": {
          "base_uri": "https://localhost:8080/",
          "height": 51
        }
      },
      "source": [
        "accuracy_test = model.evaluate(X_test, y_test, verbose=2)\n",
        "print(accuracy_test)"
      ],
      "execution_count": 170,
      "outputs": [
        {
          "output_type": "stream",
          "text": [
            "3000/1 - 1s - loss: 0.4635 - accuracy: 0.7713\n",
            "[0.4659321711063385, 0.77133334]\n"
          ],
          "name": "stdout"
        }
      ]
    },
    {
      "cell_type": "code",
      "metadata": {
        "id": "jROGDIqxwVTr",
        "colab_type": "code",
        "outputId": "c7654d48-2a3f-41d6-905f-4d56abaf8f92",
        "colab": {
          "base_uri": "https://localhost:8080/",
          "height": 170
        }
      },
      "source": [
        "print(X_train[0:10])"
      ],
      "execution_count": 171,
      "outputs": [
        {
          "output_type": "stream",
          "text": [
            "['sit in the dark . think of jessemccartney and -PRON- amazing friend katiespo and meghandriscoll . due to bein a proud jesse fan'\n",
            " 'ouchy first skateboard injury ... haha not to be th last either ...'\n",
            " 'indithunder wah sama ya huuuh yaudah deh ndi thankssss'\n",
            " 'charpower i give up cable in these tough economic time . -PRON- be either cable or shoe , and -PRON- know what cable lose'\n",
            " 'i know what happen at the end of one tree hill ... i see the episode picture . . yayyy'\n",
            " 'tired of the head game . -PRON- be so over -PRON- and -PRON-'\n",
            " 'bad birthday ever' 'moobert hahaha ..... make a ws mix'\n",
            " 'tryna kick -PRON- tomorrow , no ride though'\n",
            " 'hcurri just in general this week']\n"
          ],
          "name": "stdout"
        }
      ]
    },
    {
      "cell_type": "markdown",
      "metadata": {
        "id": "E2GeFPxdwVTw",
        "colab_type": "text"
      },
      "source": [
        "## Confusion Matrix"
      ]
    },
    {
      "cell_type": "code",
      "metadata": {
        "id": "ZP0LixJSwVTx",
        "colab_type": "code",
        "colab": {}
      },
      "source": [
        "# np.argmax Returns the indices of the maximum values along an axis. \n",
        "y_test_rounded = np.argmax(y_test, axis=1)\n",
        "y_train_rounded = np.argmax(y_train, axis=1)"
      ],
      "execution_count": 0,
      "outputs": []
    },
    {
      "cell_type": "code",
      "metadata": {
        "id": "xssbLrSUwVTy",
        "colab_type": "code",
        "colab": {}
      },
      "source": [
        "y_pred = model.predict(X_train)\n",
        "y_pred_rounded = np.argmax(y_pred, axis=1)"
      ],
      "execution_count": 0,
      "outputs": []
    },
    {
      "cell_type": "code",
      "metadata": {
        "id": "JqeV6GmbwVTz",
        "colab_type": "code",
        "colab": {}
      },
      "source": [
        "cmResults = confusion_matrix(y_train_rounded, y_pred_rounded)\n",
        "accuracy = accuracy_score(y_train_rounded, y_pred_rounded)"
      ],
      "execution_count": 0,
      "outputs": []
    },
    {
      "cell_type": "code",
      "metadata": {
        "id": "ta9T2r9cwVT0",
        "colab_type": "code",
        "outputId": "54ac49a9-6bf0-47f6-b149-71efa62e4203",
        "colab": {
          "base_uri": "https://localhost:8080/",
          "height": 513
        }
      },
      "source": [
        "# Plot non-normalized confusion matrix \n",
        "class_names = ['Negative', 'Positive']\n",
        "plt.figure(figsize=(7,7));\n",
        "plot_confusion_matrix(cmResults, classes=class_names, \n",
        "                      title=str(MODEL)+ \"\\n\" +\"Accuracy: \" + str((accuracy*100).round(1)) + \"%\" +\"\\n\"+\"Train Data\",\n",
        "                      cmap=plt.cm.Reds);"
      ],
      "execution_count": 175,
      "outputs": [
        {
          "output_type": "display_data",
          "data": {
            "image/png": "[encoded data removed]",
            "text/plain": [
              "<Figure size 504x504 with 2 Axes>"
            ]
          },
          "metadata": {
            "tags": []
          }
        }
      ]
    },
    {
      "cell_type": "code",
      "metadata": {
        "id": "BOfpg65gwVT1",
        "colab_type": "code",
        "colab": {}
      },
      "source": [
        "y_pred = model.predict(X_test)\n",
        "y_pred_rounded = np.argmax(y_pred, axis=1)\n",
        "cmResults = confusion_matrix(y_test_rounded, y_pred_rounded)\n",
        "accuracy = accuracy_score(y_test_rounded, y_pred_rounded)"
      ],
      "execution_count": 0,
      "outputs": []
    },
    {
      "cell_type": "code",
      "metadata": {
        "id": "_2o0dI_twVT2",
        "colab_type": "code",
        "outputId": "8759e782-4531-494d-c1ff-3b0cfa88de40",
        "colab": {
          "base_uri": "https://localhost:8080/",
          "height": 513
        }
      },
      "source": [
        "# Plot non-normalized confusion matrix \n",
        "plt.figure(figsize=(7,7));\n",
        "plot_confusion_matrix(cmResults, classes=class_names, \n",
        "                      title=str(MODEL)+ \"\\n\" +\"Accuracy: \" + str((accuracy*100).round(1)) + \"%\" +\"\\n\"+\"Test Data\",\n",
        "                      cmap=plt.cm.Greys);"
      ],
      "execution_count": 177,
      "outputs": [
        {
          "output_type": "display_data",
          "data": {
            "image/png": "[encoded data removed]",
            "text/plain": [
              "<Figure size 504x504 with 2 Axes>"
            ]
          },
          "metadata": {
            "tags": []
          }
        }
      ]
    },
    {
      "cell_type": "markdown",
      "metadata": {
        "id": "TsAOmDKmwVT3",
        "colab_type": "text"
      },
      "source": [
        "## Test the Model with some sentences"
      ]
    },
    {
      "cell_type": "code",
      "metadata": {
        "id": "-3Fp7cmVZ7HA",
        "colab_type": "code",
        "outputId": "405a8284-941e-4d54-9676-b4295e93c297",
        "colab": {
          "base_uri": "https://localhost:8080/",
          "height": 153
        }
      },
      "source": [
        "X_input"
      ],
      "execution_count": 178,
      "outputs": [
        {
          "output_type": "execute_result",
          "data": {
            "text/plain": [
              "array(['montreal be a nice city in the summer',\n",
              "       'i have a good feeling about this team',\n",
              "       'the show be not funny ...', 'the dog be angry',\n",
              "       'the food at the restaurant could be well',\n",
              "       'the flight be a long one',\n",
              "       '-PRON- would be nice if the weather be well in montreal',\n",
              "       'the montreal hockey team will be make the playoff',\n",
              "       'the weather in montreal be very nice in the summer'], dtype=object)"
            ]
          },
          "metadata": {
            "tags": []
          },
          "execution_count": 178
        }
      ]
    },
    {
      "cell_type": "code",
      "metadata": {
        "id": "9jsUOcSkwVT4",
        "colab_type": "code",
        "outputId": "f5716f46-f3e3-4230-fc14-1d328f2a051f",
        "colab": {
          "base_uri": "https://localhost:8080/",
          "height": 170
        }
      },
      "source": [
        "print(model.predict(X_input).round(0))"
      ],
      "execution_count": 179,
      "outputs": [
        {
          "output_type": "stream",
          "text": [
            "[[0. 1.]\n",
            " [0. 1.]\n",
            " [1. 0.]\n",
            " [1. 0.]\n",
            " [0. 1.]\n",
            " [0. 1.]\n",
            " [1. 0.]\n",
            " [1. 0.]\n",
            " [0. 1.]]\n"
          ],
          "name": "stdout"
        }
      ]
    },
    {
      "cell_type": "code",
      "metadata": {
        "id": "NGgRfbNYZrK6",
        "colab_type": "code",
        "outputId": "a428f965-efb0-404c-9d73-7444b1dc779b",
        "colab": {
          "base_uri": "https://localhost:8080/",
          "height": 34
        }
      },
      "source": [
        "model.predict([\"It would be fun if the weather was nicer\"])"
      ],
      "execution_count": 180,
      "outputs": [
        {
          "output_type": "execute_result",
          "data": {
            "text/plain": [
              "array([[0.3471027 , 0.65289724]], dtype=float32)"
            ]
          },
          "metadata": {
            "tags": []
          },
          "execution_count": 180
        }
      ]
    },
    {
      "cell_type": "code",
      "metadata": {
        "id": "vPicFHLFwVT5",
        "colab_type": "code",
        "outputId": "85609953-400b-4eb0-e841-2a6096419e84",
        "colab": {
          "base_uri": "https://localhost:8080/",
          "height": 170
        }
      },
      "source": [
        "print(sentiments)"
      ],
      "execution_count": 181,
      "outputs": [
        {
          "output_type": "stream",
          "text": [
            "[[0. 1.]\n",
            " [0. 1.]\n",
            " [1. 0.]\n",
            " [1. 0.]\n",
            " [1. 0.]\n",
            " [1. 0.]\n",
            " [1. 0.]\n",
            " [0. 1.]\n",
            " [0. 1.]]\n"
          ],
          "name": "stdout"
        }
      ]
    },
    {
      "cell_type": "markdown",
      "metadata": {
        "id": "ZTERun3KwVT6",
        "colab_type": "text"
      },
      "source": [
        "# Save Keras Model (nnlm-en-dim128)"
      ]
    },
    {
      "cell_type": "code",
      "metadata": {
        "id": "Zy3jsEnGwVT7",
        "colab_type": "code",
        "outputId": "ed62fd2e-34d4-4fd0-959d-2261489b24f8",
        "colab": {
          "base_uri": "https://localhost:8080/",
          "height": 68
        }
      },
      "source": [
        "# save model and architecture to single file\n",
        "model_version = \"0001\"\n",
        "model_name = \"sentiment_analysis_dim128\"\n",
        "model_path = os.path.join(model_name, model_version)\n",
        "tf.saved_model.save(model, model_path)\n",
        "print(\"Saved model to disk\")"
      ],
      "execution_count": 195,
      "outputs": [
        {
          "output_type": "stream",
          "text": [
            "INFO:tensorflow:Assets written to: sentiment_analysis_dim128/0001/assets\n"
          ],
          "name": "stdout"
        },
        {
          "output_type": "stream",
          "text": [
            "INFO:tensorflow:Assets written to: sentiment_analysis_dim128/0001/assets\n"
          ],
          "name": "stderr"
        },
        {
          "output_type": "stream",
          "text": [
            "Saved model to disk\n"
          ],
          "name": "stdout"
        }
      ]
    },
    {
      "cell_type": "markdown",
      "metadata": {
        "id": "Wbj6HAAhwVUE",
        "colab_type": "text"
      },
      "source": [
        "## Copy Model to Google Storage (Bucket)"
      ]
    },
    {
      "cell_type": "code",
      "metadata": {
        "id": "broxbvYDwVUE",
        "colab_type": "code",
        "colab": {}
      },
      "source": [
        "import sys\n",
        "\n",
        "if 'google.colab' in sys.modules:\n",
        "  from google.colab import auth as google_auth\n",
        "  google_auth.authenticate_user()\n",
        "else:\n",
        "  %env GOOGLE_APPLICATION_CREDENTIALS ''"
      ],
      "execution_count": 0,
      "outputs": []
    },
    {
      "cell_type": "code",
      "metadata": {
        "id": "LrsFpD37wVUF",
        "colab_type": "code",
        "outputId": "48a73466-8a59-453d-8f1c-ebf4b4fca92f",
        "colab": {
          "base_uri": "https://localhost:8080/",
          "height": 51
        }
      },
      "source": [
        "PROJECT_ID = \"utopian-rush-255612\" #@param {type:\"string\"}\n",
        "\n",
        "# This must absolutely be a GLOBALLY UNIQUE name\n",
        "BUCKET_NAME = \"utopian-rush-255612-bucket_ml2\" #@param {type:\"string\"}\n",
        "REGION = \"us-east1\" #@param {type:\"string\"}\n",
        "\n",
        "! gcloud config set project $PROJECT_ID\n",
        "! echo $PROJECT_ID"
      ],
      "execution_count": 197,
      "outputs": [
        {
          "output_type": "stream",
          "text": [
            "Updated property [core/project].\n",
            "utopian-rush-255612\n"
          ],
          "name": "stdout"
        }
      ]
    },
    {
      "cell_type": "code",
      "metadata": {
        "id": "nt_w-t7twVUG",
        "colab_type": "code",
        "outputId": "d3d06084-c24c-4953-a17c-1e6fc2873688",
        "colab": {
          "base_uri": "https://localhost:8080/",
          "height": 68
        }
      },
      "source": [
        "# Create Bucket\n",
        "\n",
        "! gsutil mb -p $PROJECT_ID -l $REGION gs://$BUCKET_NAME\n",
        "# Display what is in the bucket\n",
        "!gsutil ls -al gs://$BUCKET_NAME"
      ],
      "execution_count": 185,
      "outputs": [
        {
          "output_type": "stream",
          "text": [
            "Creating gs://utopian-rush-255612-bucket_ml2/...\n",
            "ServiceException: 409 Bucket utopian-rush-255612-bucket_ml2 already exists.\n",
            "                                 gs://utopian-rush-255612-bucket_ml2/my_sentiment_analysis_model/\n"
          ],
          "name": "stdout"
        }
      ]
    },
    {
      "cell_type": "code",
      "metadata": {
        "id": "1Mvp5It7wVUH",
        "colab_type": "code",
        "colab": {}
      },
      "source": [
        "JOB_DIR = 'gs://' + BUCKET_NAME + '/my_sentiment_analysis_model_dim128'"
      ],
      "execution_count": 0,
      "outputs": []
    },
    {
      "cell_type": "code",
      "metadata": {
        "id": "voqIjnDtwVUK",
        "colab_type": "code",
        "outputId": "684b19e5-e876-4eb6-f1a0-e4a33c2fdd5d",
        "colab": {
          "base_uri": "https://localhost:8080/",
          "height": 68
        }
      },
      "source": [
        "# Export the model to a local SavedModel directory \n",
        "# export_path = tf.contrib.saved_model.save_keras_model(model, 'keras_export')\n",
        "# print(\"Model exported to: \", export_path)\n",
        "\n",
        "# Export the model to a SavedModel directory in Cloud Storage\n",
        "export_path = tf.saved_model.save(model, JOB_DIR + '/0001')\n",
        "print(\"Model exported to: \", export_path)"
      ],
      "execution_count": 199,
      "outputs": [
        {
          "output_type": "stream",
          "text": [
            "INFO:tensorflow:Assets written to: gs://utopian-rush-255612-bucket_ml2/my_sentiment_analysis_model_dim128/0001/assets\n"
          ],
          "name": "stdout"
        },
        {
          "output_type": "stream",
          "text": [
            "INFO:tensorflow:Assets written to: gs://utopian-rush-255612-bucket_ml2/my_sentiment_analysis_model_dim128/0001/assets\n"
          ],
          "name": "stderr"
        },
        {
          "output_type": "stream",
          "text": [
            "Model exported to:  None\n"
          ],
          "name": "stdout"
        }
      ]
    },
    {
      "cell_type": "markdown",
      "metadata": {
        "id": "K7QgHPaYwVUP",
        "colab_type": "text"
      },
      "source": [
        "## Create the Model in the AI Platform"
      ]
    },
    {
      "cell_type": "code",
      "metadata": {
        "id": "fkqC3Yj7wVUP",
        "colab_type": "code",
        "outputId": "8a528a3f-02a5-4f7f-c9b7-86f8afcfb51b",
        "colab": {
          "base_uri": "https://localhost:8080/",
          "height": 34
        }
      },
      "source": [
        "MODEL_NAME = \"sa_final_project_dim128\"\n",
        "\n",
        "! gcloud ai-platform models create $MODEL_NAME --regions $REGION"
      ],
      "execution_count": 201,
      "outputs": [
        {
          "output_type": "stream",
          "text": [
            "Created ml engine model [projects/utopian-rush-255612/models/sa_final_project_dim128].\n"
          ],
          "name": "stdout"
        }
      ]
    },
    {
      "cell_type": "markdown",
      "metadata": {
        "id": "5nSXSaiXwVUQ",
        "colab_type": "text"
      },
      "source": [
        "## Create the Version of the Model in AI Platform"
      ]
    },
    {
      "cell_type": "code",
      "metadata": {
        "id": "mwupoV50fBlj",
        "colab_type": "code",
        "colab": {}
      },
      "source": [
        "! gcloud ai-platform versions create v1 \\\n",
        "  --model $MODEL_NAME \\\n",
        "  --runtime-version 1.14 \\\n",
        "  --python-version 3.5 \\\n",
        "  --framework tensorflow \\\n",
        "  --origin gs://utopian-rush-255612-bucket_ml2/my_sentiment_analysis_model_dim128/0001/"
      ],
      "execution_count": 0,
      "outputs": []
    }
  ]
}