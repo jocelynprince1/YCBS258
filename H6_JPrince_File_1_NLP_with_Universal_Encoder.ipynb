{
  "nbformat": 4,
  "nbformat_minor": 0,
  "metadata": {
    "kernelspec": {
      "name": "python3",
      "display_name": "Python 3"
    },
    "language_info": {
      "codemirror_mode": {
        "name": "ipython",
        "version": 3
      },
      "file_extension": ".py",
      "mimetype": "text/x-python",
      "name": "python",
      "nbconvert_exporter": "python",
      "pygments_lexer": "ipython3",
      "version": "3.5.3"
    },
    "colab": {
      "name": "H6 JPrince File 1 - NLP with Universal Encoder.ipynb",
      "provenance": [],
      "collapsed_sections": [],
      "toc_visible": true,
      "include_colab_link": true
    },
    "accelerator": "GPU"
  },
  "cells": [
    {
      "cell_type": "markdown",
      "metadata": {
        "id": "view-in-github",
        "colab_type": "text"
      },
      "source": [
        "<a href=\"https://colab.research.google.com/github/jocelynprince1/YCBS258/blob/master/H6_JPrince_File_1_NLP_with_Universal_Encoder.ipynb\" target=\"_parent\"><img src=\"https://colab.research.google.com/assets/colab-badge.svg\" alt=\"Open In Colab\"/></a>"
      ]
    },
    {
      "cell_type": "markdown",
      "metadata": {
        "id": "zJPvEnC3wVR8",
        "colab_type": "text"
      },
      "source": [
        "# Final Project - YCBS258 - Experimenting with NLP Tensorflow Hub modules\n",
        "\n",
        "#### Submitted by Jocelyn Prince (2019/12/_--------------___________)\n",
        "---"
      ]
    },
    {
      "cell_type": "markdown",
      "metadata": {
        "id": "j3PXQr6jwVR_",
        "colab_type": "text"
      },
      "source": [
        "# Sentiment Analysis Project - Post to Medium\n",
        "#### NLP with the following Modules from Tensorflow Hub\n",
        "* nnlm-en-dim128 Module\n",
        "* Universal Sentence Encoder\n",
        "\n",
        "\n",
        "### Description\n",
        "Deploying a model on Google's AI-Platform (also called ML Engine) and demonstrate the model returning a prediction.\n",
        "\n",
        "1. Use the free tier of GCP: https://cloud.google.com/free/\n",
        "2. Train a model using any dataset you want using keras, tensorflow, XGBoost or scikit-learn. You can do the training locally (or on colab)\n",
        "3. Deploy the model on GCP's AI-Platform\n",
        "4. Send a request to the AI-Platform and print out the prediction (File 2)\n",
        "\n",
        "---------------\n",
        "\n",
        "Details:\n",
        "* Dataset for training: Sentiment140 (source: http://help.sentiment140.com/for-students/)\n",
        "\n",
        "References:\n",
        "\n",
        "https://www.analyticsvidhya.com/blog/2019/03/learn-to-use-elmo-to-extract-features-from-text/\n",
        "\n",
        "https://arxiv.org/pdf/1802.05365.pdf\n",
        "\n",
        "https://colab.research.google.com/github/tensorflow/hub/blob/master/examples/colab/tf2_text_classification.ipynb#scrollTo=Eg62Pmz3o83v\n",
        "\n",
        "Aurélien Géron's book\n",
        "-----"
      ]
    },
    {
      "cell_type": "code",
      "metadata": {
        "id": "2SdkIyLkwvS5",
        "colab_type": "code",
        "outputId": "40430bfa-ef03-4b6c-ab2d-aeb2fcd34c72",
        "colab": {
          "base_uri": "https://localhost:8080/",
          "height": 1000
        }
      },
      "source": [
        "!pip install --upgrade tensorflow"
      ],
      "execution_count": 1,
      "outputs": [
        {
          "output_type": "stream",
          "text": [
            "Collecting tensorflow\n",
            "\u001b[?25l  Downloading https://files.pythonhosted.org/packages/46/0f/7bd55361168bb32796b360ad15a25de6966c9c1beb58a8e30c01c8279862/tensorflow-2.0.0-cp36-cp36m-manylinux2010_x86_64.whl (86.3MB)\n",
            "\u001b[K     |████████████████████████████████| 86.3MB 140kB/s \n",
            "\u001b[?25hRequirement already satisfied, skipping upgrade: six>=1.10.0 in /usr/local/lib/python3.6/dist-packages (from tensorflow) (1.12.0)\n",
            "Requirement already satisfied, skipping upgrade: wrapt>=1.11.1 in /usr/local/lib/python3.6/dist-packages (from tensorflow) (1.11.2)\n",
            "Collecting tensorboard<2.1.0,>=2.0.0\n",
            "\u001b[?25l  Downloading https://files.pythonhosted.org/packages/76/54/99b9d5d52d5cb732f099baaaf7740403e83fe6b0cedde940fabd2b13d75a/tensorboard-2.0.2-py3-none-any.whl (3.8MB)\n",
            "\u001b[K     |████████████████████████████████| 3.8MB 63.8MB/s \n",
            "\u001b[?25hRequirement already satisfied, skipping upgrade: opt-einsum>=2.3.2 in /usr/local/lib/python3.6/dist-packages (from tensorflow) (3.1.0)\n",
            "Requirement already satisfied, skipping upgrade: keras-preprocessing>=1.0.5 in /usr/local/lib/python3.6/dist-packages (from tensorflow) (1.1.0)\n",
            "Requirement already satisfied, skipping upgrade: numpy<2.0,>=1.16.0 in /usr/local/lib/python3.6/dist-packages (from tensorflow) (1.17.4)\n",
            "Requirement already satisfied, skipping upgrade: astor>=0.6.0 in /usr/local/lib/python3.6/dist-packages (from tensorflow) (0.8.1)\n",
            "Requirement already satisfied, skipping upgrade: google-pasta>=0.1.6 in /usr/local/lib/python3.6/dist-packages (from tensorflow) (0.1.8)\n",
            "Requirement already satisfied, skipping upgrade: keras-applications>=1.0.8 in /usr/local/lib/python3.6/dist-packages (from tensorflow) (1.0.8)\n",
            "Requirement already satisfied, skipping upgrade: protobuf>=3.6.1 in /usr/local/lib/python3.6/dist-packages (from tensorflow) (3.10.0)\n",
            "Requirement already satisfied, skipping upgrade: grpcio>=1.8.6 in /usr/local/lib/python3.6/dist-packages (from tensorflow) (1.15.0)\n",
            "Requirement already satisfied, skipping upgrade: wheel>=0.26 in /usr/local/lib/python3.6/dist-packages (from tensorflow) (0.33.6)\n",
            "Requirement already satisfied, skipping upgrade: absl-py>=0.7.0 in /usr/local/lib/python3.6/dist-packages (from tensorflow) (0.8.1)\n",
            "Collecting tensorflow-estimator<2.1.0,>=2.0.0\n",
            "\u001b[?25l  Downloading https://files.pythonhosted.org/packages/fc/08/8b927337b7019c374719145d1dceba21a8bb909b93b1ad6f8fb7d22c1ca1/tensorflow_estimator-2.0.1-py2.py3-none-any.whl (449kB)\n",
            "\u001b[K     |████████████████████████████████| 450kB 70.9MB/s \n",
            "\u001b[?25hRequirement already satisfied, skipping upgrade: termcolor>=1.1.0 in /usr/local/lib/python3.6/dist-packages (from tensorflow) (1.1.0)\n",
            "Requirement already satisfied, skipping upgrade: gast==0.2.2 in /usr/local/lib/python3.6/dist-packages (from tensorflow) (0.2.2)\n",
            "Collecting google-auth<2,>=1.6.3\n",
            "\u001b[?25l  Downloading https://files.pythonhosted.org/packages/54/31/f944cbd5bdbcc90d5b36f0615036308c8ec1e41b4788da5b55d4900f6803/google_auth-1.8.2-py2.py3-none-any.whl (75kB)\n",
            "\u001b[K     |████████████████████████████████| 81kB 12.8MB/s \n",
            "\u001b[?25hRequirement already satisfied, skipping upgrade: google-auth-oauthlib<0.5,>=0.4.1 in /usr/local/lib/python3.6/dist-packages (from tensorboard<2.1.0,>=2.0.0->tensorflow) (0.4.1)\n",
            "Requirement already satisfied, skipping upgrade: markdown>=2.6.8 in /usr/local/lib/python3.6/dist-packages (from tensorboard<2.1.0,>=2.0.0->tensorflow) (3.1.1)\n",
            "Requirement already satisfied, skipping upgrade: requests<3,>=2.21.0 in /usr/local/lib/python3.6/dist-packages (from tensorboard<2.1.0,>=2.0.0->tensorflow) (2.21.0)\n",
            "Requirement already satisfied, skipping upgrade: setuptools>=41.0.0 in /usr/local/lib/python3.6/dist-packages (from tensorboard<2.1.0,>=2.0.0->tensorflow) (42.0.2)\n",
            "Requirement already satisfied, skipping upgrade: werkzeug>=0.11.15 in /usr/local/lib/python3.6/dist-packages (from tensorboard<2.1.0,>=2.0.0->tensorflow) (0.16.0)\n",
            "Requirement already satisfied, skipping upgrade: h5py in /usr/local/lib/python3.6/dist-packages (from keras-applications>=1.0.8->tensorflow) (2.8.0)\n",
            "Requirement already satisfied, skipping upgrade: rsa<4.1,>=3.1.4 in /usr/local/lib/python3.6/dist-packages (from google-auth<2,>=1.6.3->tensorboard<2.1.0,>=2.0.0->tensorflow) (4.0)\n",
            "Requirement already satisfied, skipping upgrade: pyasn1-modules>=0.2.1 in /usr/local/lib/python3.6/dist-packages (from google-auth<2,>=1.6.3->tensorboard<2.1.0,>=2.0.0->tensorflow) (0.2.7)\n",
            "Requirement already satisfied, skipping upgrade: cachetools<3.2,>=2.0.0 in /usr/local/lib/python3.6/dist-packages (from google-auth<2,>=1.6.3->tensorboard<2.1.0,>=2.0.0->tensorflow) (3.1.1)\n",
            "Requirement already satisfied, skipping upgrade: requests-oauthlib>=0.7.0 in /usr/local/lib/python3.6/dist-packages (from google-auth-oauthlib<0.5,>=0.4.1->tensorboard<2.1.0,>=2.0.0->tensorflow) (1.3.0)\n",
            "Requirement already satisfied, skipping upgrade: chardet<3.1.0,>=3.0.2 in /usr/local/lib/python3.6/dist-packages (from requests<3,>=2.21.0->tensorboard<2.1.0,>=2.0.0->tensorflow) (3.0.4)\n",
            "Requirement already satisfied, skipping upgrade: urllib3<1.25,>=1.21.1 in /usr/local/lib/python3.6/dist-packages (from requests<3,>=2.21.0->tensorboard<2.1.0,>=2.0.0->tensorflow) (1.24.3)\n",
            "Requirement already satisfied, skipping upgrade: idna<2.9,>=2.5 in /usr/local/lib/python3.6/dist-packages (from requests<3,>=2.21.0->tensorboard<2.1.0,>=2.0.0->tensorflow) (2.8)\n",
            "Requirement already satisfied, skipping upgrade: certifi>=2017.4.17 in /usr/local/lib/python3.6/dist-packages (from requests<3,>=2.21.0->tensorboard<2.1.0,>=2.0.0->tensorflow) (2019.11.28)\n",
            "Requirement already satisfied, skipping upgrade: pyasn1>=0.1.3 in /usr/local/lib/python3.6/dist-packages (from rsa<4.1,>=3.1.4->google-auth<2,>=1.6.3->tensorboard<2.1.0,>=2.0.0->tensorflow) (0.4.8)\n",
            "Requirement already satisfied, skipping upgrade: oauthlib>=3.0.0 in /usr/local/lib/python3.6/dist-packages (from requests-oauthlib>=0.7.0->google-auth-oauthlib<0.5,>=0.4.1->tensorboard<2.1.0,>=2.0.0->tensorflow) (3.1.0)\n",
            "\u001b[31mERROR: tensorboard 2.0.2 has requirement grpcio>=1.24.3, but you'll have grpcio 1.15.0 which is incompatible.\u001b[0m\n",
            "\u001b[31mERROR: google-colab 1.0.0 has requirement google-auth~=1.4.0, but you'll have google-auth 1.8.2 which is incompatible.\u001b[0m\n",
            "Installing collected packages: google-auth, tensorboard, tensorflow-estimator, tensorflow\n",
            "  Found existing installation: google-auth 1.4.2\n",
            "    Uninstalling google-auth-1.4.2:\n",
            "      Successfully uninstalled google-auth-1.4.2\n",
            "  Found existing installation: tensorboard 1.15.0\n",
            "    Uninstalling tensorboard-1.15.0:\n",
            "      Successfully uninstalled tensorboard-1.15.0\n",
            "  Found existing installation: tensorflow-estimator 1.15.1\n",
            "    Uninstalling tensorflow-estimator-1.15.1:\n",
            "      Successfully uninstalled tensorflow-estimator-1.15.1\n",
            "  Found existing installation: tensorflow 1.15.0\n",
            "    Uninstalling tensorflow-1.15.0:\n",
            "      Successfully uninstalled tensorflow-1.15.0\n",
            "Successfully installed google-auth-1.8.2 tensorboard-2.0.2 tensorflow-2.0.0 tensorflow-estimator-2.0.1\n"
          ],
          "name": "stdout"
        },
        {
          "output_type": "display_data",
          "data": {
            "application/vnd.colab-display-data+json": {
              "pip_warning": {
                "packages": [
                  "google"
                ]
              }
            }
          },
          "metadata": {
            "tags": []
          }
        }
      ]
    },
    {
      "cell_type": "code",
      "metadata": {
        "id": "j3jSYsq3xivL",
        "colab_type": "code",
        "colab": {}
      },
      "source": [
        "#!pip install --upgrade scikit-learn"
      ],
      "execution_count": 0,
      "outputs": []
    },
    {
      "cell_type": "code",
      "metadata": {
        "id": "ebK2jkUSy2tD",
        "colab_type": "code",
        "outputId": "3d06a1e4-8cc2-4bbc-aca8-2dc7da26d415",
        "colab": {
          "base_uri": "https://localhost:8080/",
          "height": 34
        }
      },
      "source": [
        "from google.colab import drive\n",
        "drive.mount('/content/drive')"
      ],
      "execution_count": 2,
      "outputs": [
        {
          "output_type": "stream",
          "text": [
            "Drive already mounted at /content/drive; to attempt to forcibly remount, call drive.mount(\"/content/drive\", force_remount=True).\n"
          ],
          "name": "stdout"
        }
      ]
    },
    {
      "cell_type": "markdown",
      "metadata": {
        "id": "RWWK_HdOwVSA",
        "colab_type": "text"
      },
      "source": [
        "# Import Libraries"
      ]
    },
    {
      "cell_type": "code",
      "metadata": {
        "id": "plokcj6CwVSB",
        "colab_type": "code",
        "outputId": "ad24010f-c95f-4ffe-b42f-ed5e0c92d304",
        "colab": {
          "base_uri": "https://localhost:8080/",
          "height": 34
        }
      },
      "source": [
        "# This Notebook needs to be executed under Python ≥3.5 and TensorFlow >= 2.0\n",
        "import sys\n",
        "assert sys.version_info >= (3, 5)\n",
        "import tensorflow as tf\n",
        "from tensorflow import keras\n",
        "from tensorflow.keras import layers\n",
        "from tensorflow.keras.layers import Dense, Dropout\n",
        "from tensorflow.keras import optimizers\n",
        "import tensorflow_hub as hub\n",
        "assert tf.__version__ >= \"2.0\"\n",
        "\n",
        "# Minimum Requirement for Scikit-Learn ≥0.20 is required\n",
        "import sklearn\n",
        "assert sklearn.__version__ >= \"0.20\"\n",
        "\n",
        "try:\n",
        "    # %tensorflow_version only exists in Colab.\n",
        "    %tensorflow_version 2.x\n",
        "    !pip install -q -U tensorflow-addons\n",
        "    IS_COLAB = True\n",
        "except Exception:\n",
        "    IS_COLAB = False\n",
        "\n",
        "if not tf.test.is_gpu_available():\n",
        "    print(\"No GPU was detected. This code can be very slow without a GPU.\")\n",
        "    if IS_COLAB:\n",
        "        print(\"Go to Runtime > Change runtime and select a GPU hardware accelerator.\")\n",
        "\n",
        "# Common imports\n",
        "import time\n",
        "import pandas as pd\n",
        "import numpy as np\n",
        "import os\n",
        "\n",
        "# to make this notebook's output stable across runs\n",
        "np.random.seed(20)\n",
        "tf.random.set_seed(20)\n",
        "\n",
        "# To plot pretty figures\n",
        "%matplotlib inline\n",
        "import matplotlib as mpl\n",
        "import matplotlib.pyplot as plt\n",
        "mpl.rc('axes', labelsize=14)\n",
        "mpl.rc('xtick', labelsize=12)\n",
        "mpl.rc('ytick', labelsize=12)\n",
        "mpl.rcParams['figure.figsize'] = (8, 6)\n",
        "mpl.rcParams['axes.grid'] = False\n",
        "\n",
        "# Where to save the figures\n",
        "PROJECT_ROOT_DIR = \".\"\n",
        "FOLDER= \"rnn\"\n",
        "IMAGES_PATH = os.path.join(PROJECT_ROOT_DIR, \"images\", FOLDER)\n",
        "os.makedirs(IMAGES_PATH, exist_ok=True)\n",
        "\n",
        "def save_fig(fig_id, tight_layout=True, fig_extension=\"png\", resolution=300):\n",
        "    path = os.path.join(IMAGES_PATH, fig_id + \".\" + fig_extension)\n",
        "    print(\"Saving figure\", fig_id)\n",
        "    if tight_layout:\n",
        "        plt.tight_layout()\n",
        "    plt.savefig(path, format=fig_extension, dpi=resolution)"
      ],
      "execution_count": 6,
      "outputs": [
        {
          "output_type": "stream",
          "text": [
            "TensorFlow is already loaded. Please restart the runtime to change versions.\n"
          ],
          "name": "stdout"
        }
      ]
    },
    {
      "cell_type": "code",
      "metadata": {
        "id": "IYhwnfGNwVSE",
        "colab_type": "code",
        "outputId": "33da296b-e949-40ab-cf8a-7d058f073a4f",
        "colab": {
          "base_uri": "https://localhost:8080/",
          "height": 34
        }
      },
      "source": [
        "tf.__version__"
      ],
      "execution_count": 5,
      "outputs": [
        {
          "output_type": "execute_result",
          "data": {
            "text/plain": [
              "'2.0.0'"
            ]
          },
          "metadata": {
            "tags": []
          },
          "execution_count": 5
        }
      ]
    },
    {
      "cell_type": "code",
      "metadata": {
        "id": "o6_s80j-wVSH",
        "colab_type": "code",
        "outputId": "b398bb2c-7076-454a-a859-4a99fd45b46a",
        "colab": {
          "base_uri": "https://localhost:8080/",
          "height": 34
        }
      },
      "source": [
        "tf.test.is_gpu_available()"
      ],
      "execution_count": 4,
      "outputs": [
        {
          "output_type": "execute_result",
          "data": {
            "text/plain": [
              "True"
            ]
          },
          "metadata": {
            "tags": []
          },
          "execution_count": 4
        }
      ]
    },
    {
      "cell_type": "code",
      "metadata": {
        "id": "nOWr4QJtwVSL",
        "colab_type": "code",
        "colab": {}
      },
      "source": [
        "# The spacy module needs to be installed\n",
        "!pip install spacy --user\n",
        "\n",
        "# The english module needs to be downloaded if not already\n",
        "!python3 -m spacy download en --user"
      ],
      "execution_count": 0,
      "outputs": []
    },
    {
      "cell_type": "code",
      "metadata": {
        "id": "fsPPJ7GSwVSP",
        "colab_type": "code",
        "colab": {}
      },
      "source": [
        "# Import other common libraries\n",
        "from sklearn.preprocessing import MinMaxScaler\n",
        "from sklearn.model_selection import train_test_split\n",
        "from sklearn.preprocessing import LabelEncoder\n",
        "from sklearn.metrics import confusion_matrix\n",
        "from sklearn.metrics import accuracy_score \n",
        "import itertools\n",
        "import re\n",
        "import spacy\n",
        "import keras as K"
      ],
      "execution_count": 0,
      "outputs": []
    },
    {
      "cell_type": "markdown",
      "metadata": {
        "id": "PnhiKv3swVSQ",
        "colab_type": "text"
      },
      "source": [
        "# Import Dataset: Sentiment140 Tweets\n"
      ]
    },
    {
      "cell_type": "code",
      "metadata": {
        "id": "X0pOwuJ50YQ4",
        "colab_type": "code",
        "colab": {}
      },
      "source": [
        "file = \"/content/drive/My Drive/Colab Notebooks/Final_Project/data/training.1600000.processed.noemoticon.csv\""
      ],
      "execution_count": 0,
      "outputs": []
    },
    {
      "cell_type": "code",
      "metadata": {
        "id": "-2zIJ-SewVSR",
        "colab_type": "code",
        "outputId": "9f306f4d-112a-489d-d8c6-c5512d86a512",
        "colab": {
          "base_uri": "https://localhost:8080/",
          "height": 34
        }
      },
      "source": [
        "# Import data set\n",
        "\n",
        "columns = ['polarity','id','date','query_string','twitter_user','tweet']\n",
        "df = pd.read_csv(file,\n",
        "                 header=None, \n",
        "                 names=columns, \n",
        "                 encoding='latin-1')\n",
        "df.shape"
      ],
      "execution_count": 9,
      "outputs": [
        {
          "output_type": "execute_result",
          "data": {
            "text/plain": [
              "(1600000, 6)"
            ]
          },
          "metadata": {
            "tags": []
          },
          "execution_count": 9
        }
      ]
    },
    {
      "cell_type": "markdown",
      "metadata": {
        "id": "xnrUiuGQF4Cp",
        "colab_type": "text"
      },
      "source": [
        "# Data Preprocessing"
      ]
    },
    {
      "cell_type": "markdown",
      "metadata": {
        "id": "ODIGKgr2wVST",
        "colab_type": "text"
      },
      "source": [
        "## Explore Data"
      ]
    },
    {
      "cell_type": "code",
      "metadata": {
        "id": "nkXheD3IwVSU",
        "colab_type": "code",
        "outputId": "eca2141a-eed0-4427-d7dc-3c367ea19431",
        "colab": {
          "base_uri": "https://localhost:8080/",
          "height": 204
        }
      },
      "source": [
        "df.info()"
      ],
      "execution_count": 0,
      "outputs": [
        {
          "output_type": "stream",
          "text": [
            "<class 'pandas.core.frame.DataFrame'>\n",
            "RangeIndex: 1600000 entries, 0 to 1599999\n",
            "Data columns (total 6 columns):\n",
            "polarity        1600000 non-null int64\n",
            "id              1600000 non-null int64\n",
            "date            1600000 non-null object\n",
            "query_string    1600000 non-null object\n",
            "twitter_user    1600000 non-null object\n",
            "tweet           1600000 non-null object\n",
            "dtypes: int64(2), object(4)\n",
            "memory usage: 73.2+ MB\n"
          ],
          "name": "stdout"
        }
      ]
    },
    {
      "cell_type": "code",
      "metadata": {
        "id": "oSW3RcbYwVSW",
        "colab_type": "code",
        "outputId": "cde32a71-f8a1-45b5-a204-19c076931c65",
        "colab": {
          "base_uri": "https://localhost:8080/",
          "height": 297
        }
      },
      "source": [
        "df.describe()"
      ],
      "execution_count": 0,
      "outputs": [
        {
          "output_type": "execute_result",
          "data": {
            "text/html": [
              "<div>\n",
              "<style scoped>\n",
              "    .dataframe tbody tr th:only-of-type {\n",
              "        vertical-align: middle;\n",
              "    }\n",
              "\n",
              "    .dataframe tbody tr th {\n",
              "        vertical-align: top;\n",
              "    }\n",
              "\n",
              "    .dataframe thead th {\n",
              "        text-align: right;\n",
              "    }\n",
              "</style>\n",
              "<table border=\"1\" class=\"dataframe\">\n",
              "  <thead>\n",
              "    <tr style=\"text-align: right;\">\n",
              "      <th></th>\n",
              "      <th>polarity</th>\n",
              "      <th>id</th>\n",
              "    </tr>\n",
              "  </thead>\n",
              "  <tbody>\n",
              "    <tr>\n",
              "      <th>count</th>\n",
              "      <td>1.600000e+06</td>\n",
              "      <td>1.600000e+06</td>\n",
              "    </tr>\n",
              "    <tr>\n",
              "      <th>mean</th>\n",
              "      <td>2.000000e+00</td>\n",
              "      <td>1.998818e+09</td>\n",
              "    </tr>\n",
              "    <tr>\n",
              "      <th>std</th>\n",
              "      <td>2.000001e+00</td>\n",
              "      <td>1.935761e+08</td>\n",
              "    </tr>\n",
              "    <tr>\n",
              "      <th>min</th>\n",
              "      <td>0.000000e+00</td>\n",
              "      <td>1.467810e+09</td>\n",
              "    </tr>\n",
              "    <tr>\n",
              "      <th>25%</th>\n",
              "      <td>0.000000e+00</td>\n",
              "      <td>1.956916e+09</td>\n",
              "    </tr>\n",
              "    <tr>\n",
              "      <th>50%</th>\n",
              "      <td>2.000000e+00</td>\n",
              "      <td>2.002102e+09</td>\n",
              "    </tr>\n",
              "    <tr>\n",
              "      <th>75%</th>\n",
              "      <td>4.000000e+00</td>\n",
              "      <td>2.177059e+09</td>\n",
              "    </tr>\n",
              "    <tr>\n",
              "      <th>max</th>\n",
              "      <td>4.000000e+00</td>\n",
              "      <td>2.329206e+09</td>\n",
              "    </tr>\n",
              "  </tbody>\n",
              "</table>\n",
              "</div>"
            ],
            "text/plain": [
              "           polarity            id\n",
              "count  1.600000e+06  1.600000e+06\n",
              "mean   2.000000e+00  1.998818e+09\n",
              "std    2.000001e+00  1.935761e+08\n",
              "min    0.000000e+00  1.467810e+09\n",
              "25%    0.000000e+00  1.956916e+09\n",
              "50%    2.000000e+00  2.002102e+09\n",
              "75%    4.000000e+00  2.177059e+09\n",
              "max    4.000000e+00  2.329206e+09"
            ]
          },
          "metadata": {
            "tags": []
          },
          "execution_count": 15
        }
      ]
    },
    {
      "cell_type": "code",
      "metadata": {
        "id": "SaB9On80wVSX",
        "colab_type": "code",
        "outputId": "4e223124-4031-4d2f-b3f7-d3247a14642c",
        "colab": {
          "base_uri": "https://localhost:8080/",
          "height": 204
        }
      },
      "source": [
        "df.head()"
      ],
      "execution_count": 0,
      "outputs": [
        {
          "output_type": "execute_result",
          "data": {
            "text/html": [
              "<div>\n",
              "<style scoped>\n",
              "    .dataframe tbody tr th:only-of-type {\n",
              "        vertical-align: middle;\n",
              "    }\n",
              "\n",
              "    .dataframe tbody tr th {\n",
              "        vertical-align: top;\n",
              "    }\n",
              "\n",
              "    .dataframe thead th {\n",
              "        text-align: right;\n",
              "    }\n",
              "</style>\n",
              "<table border=\"1\" class=\"dataframe\">\n",
              "  <thead>\n",
              "    <tr style=\"text-align: right;\">\n",
              "      <th></th>\n",
              "      <th>polarity</th>\n",
              "      <th>id</th>\n",
              "      <th>date</th>\n",
              "      <th>query_string</th>\n",
              "      <th>twitter_user</th>\n",
              "      <th>tweet</th>\n",
              "    </tr>\n",
              "  </thead>\n",
              "  <tbody>\n",
              "    <tr>\n",
              "      <th>0</th>\n",
              "      <td>0</td>\n",
              "      <td>1467810369</td>\n",
              "      <td>Mon Apr 06 22:19:45 PDT 2009</td>\n",
              "      <td>NO_QUERY</td>\n",
              "      <td>_TheSpecialOne_</td>\n",
              "      <td>@switchfoot http://twitpic.com/2y1zl - Awww, t...</td>\n",
              "    </tr>\n",
              "    <tr>\n",
              "      <th>1</th>\n",
              "      <td>0</td>\n",
              "      <td>1467810672</td>\n",
              "      <td>Mon Apr 06 22:19:49 PDT 2009</td>\n",
              "      <td>NO_QUERY</td>\n",
              "      <td>scotthamilton</td>\n",
              "      <td>is upset that he can't update his Facebook by ...</td>\n",
              "    </tr>\n",
              "    <tr>\n",
              "      <th>2</th>\n",
              "      <td>0</td>\n",
              "      <td>1467810917</td>\n",
              "      <td>Mon Apr 06 22:19:53 PDT 2009</td>\n",
              "      <td>NO_QUERY</td>\n",
              "      <td>mattycus</td>\n",
              "      <td>@Kenichan I dived many times for the ball. Man...</td>\n",
              "    </tr>\n",
              "    <tr>\n",
              "      <th>3</th>\n",
              "      <td>0</td>\n",
              "      <td>1467811184</td>\n",
              "      <td>Mon Apr 06 22:19:57 PDT 2009</td>\n",
              "      <td>NO_QUERY</td>\n",
              "      <td>ElleCTF</td>\n",
              "      <td>my whole body feels itchy and like its on fire</td>\n",
              "    </tr>\n",
              "    <tr>\n",
              "      <th>4</th>\n",
              "      <td>0</td>\n",
              "      <td>1467811193</td>\n",
              "      <td>Mon Apr 06 22:19:57 PDT 2009</td>\n",
              "      <td>NO_QUERY</td>\n",
              "      <td>Karoli</td>\n",
              "      <td>@nationwideclass no, it's not behaving at all....</td>\n",
              "    </tr>\n",
              "  </tbody>\n",
              "</table>\n",
              "</div>"
            ],
            "text/plain": [
              "   polarity  ...                                              tweet\n",
              "0         0  ...  @switchfoot http://twitpic.com/2y1zl - Awww, t...\n",
              "1         0  ...  is upset that he can't update his Facebook by ...\n",
              "2         0  ...  @Kenichan I dived many times for the ball. Man...\n",
              "3         0  ...    my whole body feels itchy and like its on fire \n",
              "4         0  ...  @nationwideclass no, it's not behaving at all....\n",
              "\n",
              "[5 rows x 6 columns]"
            ]
          },
          "metadata": {
            "tags": []
          },
          "execution_count": 14
        }
      ]
    },
    {
      "cell_type": "code",
      "metadata": {
        "id": "sNm8JcOGwVSZ",
        "colab_type": "code",
        "outputId": "c68fe411-85fc-4021-d04f-b41bfdc79fa3",
        "colab": {
          "base_uri": "https://localhost:8080/",
          "height": 204
        }
      },
      "source": [
        "df.tweet[0:10]"
      ],
      "execution_count": 0,
      "outputs": [
        {
          "output_type": "execute_result",
          "data": {
            "text/plain": [
              "0    @switchfoot http://twitpic.com/2y1zl - Awww, t...\n",
              "1    is upset that he can't update his Facebook by ...\n",
              "2    @Kenichan I dived many times for the ball. Man...\n",
              "3      my whole body feels itchy and like its on fire \n",
              "4    @nationwideclass no, it's not behaving at all....\n",
              "5                        @Kwesidei not the whole crew \n",
              "6                                          Need a hug \n",
              "7    @LOLTrish hey  long time no see! Yes.. Rains a...\n",
              "8                 @Tatiana_K nope they didn't have it \n",
              "9                            @twittera que me muera ? \n",
              "Name: tweet, dtype: object"
            ]
          },
          "metadata": {
            "tags": []
          },
          "execution_count": 15
        }
      ]
    },
    {
      "cell_type": "code",
      "metadata": {
        "id": "6AIFHAJEwVSm",
        "colab_type": "code",
        "outputId": "49e613c8-3b78-4b29-f880-84085da86891",
        "colab": {
          "base_uri": "https://localhost:8080/",
          "height": 427
        }
      },
      "source": [
        "df.hist([\"polarity\"])\n"
      ],
      "execution_count": 0,
      "outputs": [
        {
          "output_type": "execute_result",
          "data": {
            "text/plain": [
              "array([[<matplotlib.axes._subplots.AxesSubplot object at 0x7faee7633400>]],\n",
              "      dtype=object)"
            ]
          },
          "metadata": {
            "tags": []
          },
          "execution_count": 245
        },
        {
          "output_type": "display_data",
          "data": {
            "image/png": "[encoded data removed]",
            "text/plain": [
              "<Figure size 576x432 with 1 Axes>"
            ]
          },
          "metadata": {
            "tags": []
          }
        }
      ]
    },
    {
      "cell_type": "markdown",
      "metadata": {
        "id": "0AvKcNexwVSb",
        "colab_type": "text"
      },
      "source": [
        "## Split Train and Test dataset\n"
      ]
    },
    {
      "cell_type": "code",
      "metadata": {
        "id": "ZjmhCyNDwVSb",
        "colab_type": "code",
        "colab": {}
      },
      "source": [
        "train_set, test_set = train_test_split(df[[\"id\", \"tweet\", \"polarity\"]], test_size=0.2, random_state=20)\n"
      ],
      "execution_count": 0,
      "outputs": []
    },
    {
      "cell_type": "code",
      "metadata": {
        "colab_type": "code",
        "id": "x4HHhD2xsZRj",
        "colab": {}
      },
      "source": [
        "X_train = train_set.drop(\"polarity\", axis=1) # drop labels for training set\n",
        "y_train = train_set[\"polarity\"].copy()"
      ],
      "execution_count": 0,
      "outputs": []
    },
    {
      "cell_type": "code",
      "metadata": {
        "id": "MgfiqQt9wVSe",
        "colab_type": "code",
        "colab": {}
      },
      "source": [
        "X_test = test_set.drop(\"polarity\", axis=1) # drop labels for testing datasset\n",
        "y_test = test_set[\"polarity\"].copy()"
      ],
      "execution_count": 0,
      "outputs": []
    },
    {
      "cell_type": "code",
      "metadata": {
        "id": "q4kaEa5SwVSg",
        "colab_type": "code",
        "colab": {}
      },
      "source": [
        "# take the first num records for development purposes\n",
        "NUMTRAIN = 80000\n",
        "NUMTEST = 4000\n",
        "X_train = X_train[:NUMTRAIN]\n",
        "X_test = X_test[:NUMTEST]\n",
        "y_train = y_train[:NUMTRAIN]\n",
        "y_test = y_test[:NUMTEST]"
      ],
      "execution_count": 0,
      "outputs": []
    },
    {
      "cell_type": "code",
      "metadata": {
        "id": "Se92l7Q-wVSh",
        "colab_type": "code",
        "outputId": "81152e97-6115-4ae9-9c08-ece96a8cee6f",
        "colab": {
          "base_uri": "https://localhost:8080/",
          "height": 85
        }
      },
      "source": [
        "print(\"X_train: \" + str(X_train.shape) + str(type(X_train)))\n",
        "print(\"X_test: \"+ str(X_test.shape))\n",
        "print(\"y_train: \"+ str(y_train.shape))\n",
        "print(\"y_test: \"+ str(y_test.shape))"
      ],
      "execution_count": 290,
      "outputs": [
        {
          "output_type": "stream",
          "text": [
            "X_train: (80000, 2)<class 'pandas.core.frame.DataFrame'>\n",
            "X_test: (4000, 2)\n",
            "y_train: (80000,)\n",
            "y_test: (4000,)\n"
          ],
          "name": "stdout"
        }
      ]
    },
    {
      "cell_type": "code",
      "metadata": {
        "id": "pQa9BSQlspx7",
        "colab_type": "code",
        "outputId": "1202fa98-2da2-442c-8810-91bb2dee65cb",
        "colab": {
          "base_uri": "https://localhost:8080/",
          "height": 204
        }
      },
      "source": [
        "X_train.head()\n"
      ],
      "execution_count": 118,
      "outputs": [
        {
          "output_type": "execute_result",
          "data": {
            "text/html": [
              "<div>\n",
              "<style scoped>\n",
              "    .dataframe tbody tr th:only-of-type {\n",
              "        vertical-align: middle;\n",
              "    }\n",
              "\n",
              "    .dataframe tbody tr th {\n",
              "        vertical-align: top;\n",
              "    }\n",
              "\n",
              "    .dataframe thead th {\n",
              "        text-align: right;\n",
              "    }\n",
              "</style>\n",
              "<table border=\"1\" class=\"dataframe\">\n",
              "  <thead>\n",
              "    <tr style=\"text-align: right;\">\n",
              "      <th></th>\n",
              "      <th>id</th>\n",
              "      <th>tweet</th>\n",
              "    </tr>\n",
              "  </thead>\n",
              "  <tbody>\n",
              "    <tr>\n",
              "      <th>519968</th>\n",
              "      <td>2191957974</td>\n",
              "      <td>@iluvshinythings no  wasn't me.  I was wearing...</td>\n",
              "    </tr>\n",
              "    <tr>\n",
              "      <th>387493</th>\n",
              "      <td>2054025452</td>\n",
              "      <td>My 9 year old nephew just emailed me asking 2 ...</td>\n",
              "    </tr>\n",
              "    <tr>\n",
              "      <th>208291</th>\n",
              "      <td>1973686973</td>\n",
              "      <td>@jscrinc she didnt mess up</td>\n",
              "    </tr>\n",
              "    <tr>\n",
              "      <th>945933</th>\n",
              "      <td>1822502879</td>\n",
              "      <td>@Jennny0601 you're going to be jealous of my n...</td>\n",
              "    </tr>\n",
              "    <tr>\n",
              "      <th>1328534</th>\n",
              "      <td>2015529570</td>\n",
              "      <td>@BillHarper Yes, they are - there's nothing li...</td>\n",
              "    </tr>\n",
              "  </tbody>\n",
              "</table>\n",
              "</div>"
            ],
            "text/plain": [
              "                 id                                              tweet\n",
              "519968   2191957974  @iluvshinythings no  wasn't me.  I was wearing...\n",
              "387493   2054025452  My 9 year old nephew just emailed me asking 2 ...\n",
              "208291   1973686973                        @jscrinc she didnt mess up \n",
              "945933   1822502879  @Jennny0601 you're going to be jealous of my n...\n",
              "1328534  2015529570  @BillHarper Yes, they are - there's nothing li..."
            ]
          },
          "metadata": {
            "tags": []
          },
          "execution_count": 118
        }
      ]
    },
    {
      "cell_type": "code",
      "metadata": {
        "id": "B5WSgSc2wVSj",
        "colab_type": "code",
        "outputId": "b19cf6a4-fb32-4905-a02d-347384731c46",
        "colab": {
          "base_uri": "https://localhost:8080/",
          "height": 238
        }
      },
      "source": [
        "print(type(y_train))\n",
        "print(y_train.describe)"
      ],
      "execution_count": 119,
      "outputs": [
        {
          "output_type": "stream",
          "text": [
            "<class 'pandas.core.series.Series'>\n",
            "<bound method NDFrame.describe of 519968     0\n",
            "387493     0\n",
            "208291     0\n",
            "945933     4\n",
            "1328534    4\n",
            "          ..\n",
            "38360      0\n",
            "1265658    4\n",
            "695488     0\n",
            "581663     0\n",
            "1173465    4\n",
            "Name: polarity, Length: 80000, dtype: int64>\n"
          ],
          "name": "stdout"
        }
      ]
    },
    {
      "cell_type": "markdown",
      "metadata": {
        "colab_type": "text",
        "id": "NU1GAB7QsFjV"
      },
      "source": [
        "## Functions : Text-preprocessing and Lemmatize (Normalize) Tweets"
      ]
    },
    {
      "cell_type": "code",
      "metadata": {
        "colab_type": "code",
        "id": "WNL4fPQ4sFjY",
        "colab": {}
      },
      "source": [
        "def text_processing(tweet):\n",
        "    \n",
        "    # remove https links\n",
        "    clean_tweet = re.sub(r'http\\S+', '', tweet)\n",
        "    # remove punctuation marks\n",
        "    punctuation = '!\"#$%&()*+-/:;<=>?@[\\\\]^_`{|}~'\n",
        "    clean_tweet = ''.join(ch for ch in clean_tweet if ch not in set(punctuation))\n",
        "    # convert text to lowercase\n",
        "    clean_tweet = clean_tweet.lower()\n",
        "    # remove numbers\n",
        "    clean_tweet = re.sub('\\d', ' ', clean_tweet)\n",
        "    # remove whitespaces\n",
        "    clean_tweet = ' '.join(clean_tweet.split())\n",
        "    return clean_tweet"
      ],
      "execution_count": 0,
      "outputs": []
    },
    {
      "cell_type": "code",
      "metadata": {
        "colab_type": "code",
        "id": "t3e_9D4HsFjb",
        "colab": {}
      },
      "source": [
        "# import the english language model from spacy'\n",
        "#nlp = spacy.load('en', disable=['parser', 'ner'])\n",
        "nlp = spacy.load('en')\n",
        "\n",
        "# function to lemmatize text\n",
        "def lemmatization(tweets):\n",
        "    lemma_tweet = []\n",
        "    for i in tweets:\n",
        "        t = [token.lemma_ for token in nlp(i)]\n",
        "        lemma_tweet.append(' '.join(t))\n",
        "    return lemma_tweet"
      ],
      "execution_count": 0,
      "outputs": []
    },
    {
      "cell_type": "code",
      "metadata": {
        "colab_type": "code",
        "id": "rN3t3xtEsFjd",
        "colab": {}
      },
      "source": [
        "X_train['clean_tweet'] = X_train['tweet'].apply(lambda x: text_processing(x))\n",
        "X_test['clean_tweet'] = X_test['tweet'].apply(lambda x: text_processing(x))"
      ],
      "execution_count": 0,
      "outputs": []
    },
    {
      "cell_type": "code",
      "metadata": {
        "colab_type": "code",
        "outputId": "389c9053-9537-4510-b6c8-46b44c110019",
        "id": "cBSFgM-JsFjg",
        "colab": {
          "base_uri": "https://localhost:8080/",
          "height": 204
        }
      },
      "source": [
        "X_train.head()"
      ],
      "execution_count": 293,
      "outputs": [
        {
          "output_type": "execute_result",
          "data": {
            "text/html": [
              "<div>\n",
              "<style scoped>\n",
              "    .dataframe tbody tr th:only-of-type {\n",
              "        vertical-align: middle;\n",
              "    }\n",
              "\n",
              "    .dataframe tbody tr th {\n",
              "        vertical-align: top;\n",
              "    }\n",
              "\n",
              "    .dataframe thead th {\n",
              "        text-align: right;\n",
              "    }\n",
              "</style>\n",
              "<table border=\"1\" class=\"dataframe\">\n",
              "  <thead>\n",
              "    <tr style=\"text-align: right;\">\n",
              "      <th></th>\n",
              "      <th>id</th>\n",
              "      <th>tweet</th>\n",
              "      <th>clean_tweet</th>\n",
              "    </tr>\n",
              "  </thead>\n",
              "  <tbody>\n",
              "    <tr>\n",
              "      <th>519968</th>\n",
              "      <td>2191957974</td>\n",
              "      <td>@iluvshinythings no  wasn't me.  I was wearing...</td>\n",
              "      <td>iluvshinythings no wasn't me. i was wearing a ...</td>\n",
              "    </tr>\n",
              "    <tr>\n",
              "      <th>387493</th>\n",
              "      <td>2054025452</td>\n",
              "      <td>My 9 year old nephew just emailed me asking 2 ...</td>\n",
              "      <td>my year old nephew just emailed me asking join...</td>\n",
              "    </tr>\n",
              "    <tr>\n",
              "      <th>208291</th>\n",
              "      <td>1973686973</td>\n",
              "      <td>@jscrinc she didnt mess up</td>\n",
              "      <td>jscrinc she didnt mess up</td>\n",
              "    </tr>\n",
              "    <tr>\n",
              "      <th>945933</th>\n",
              "      <td>1822502879</td>\n",
              "      <td>@Jennny0601 you're going to be jealous of my n...</td>\n",
              "      <td>jennny you're going to be jealous of my new ip...</td>\n",
              "    </tr>\n",
              "    <tr>\n",
              "      <th>1328534</th>\n",
              "      <td>2015529570</td>\n",
              "      <td>@BillHarper Yes, they are - there's nothing li...</td>\n",
              "      <td>billharper yes, they are there's nothing like ...</td>\n",
              "    </tr>\n",
              "  </tbody>\n",
              "</table>\n",
              "</div>"
            ],
            "text/plain": [
              "                 id  ...                                        clean_tweet\n",
              "519968   2191957974  ...  iluvshinythings no wasn't me. i was wearing a ...\n",
              "387493   2054025452  ...  my year old nephew just emailed me asking join...\n",
              "208291   1973686973  ...                          jscrinc she didnt mess up\n",
              "945933   1822502879  ...  jennny you're going to be jealous of my new ip...\n",
              "1328534  2015529570  ...  billharper yes, they are there's nothing like ...\n",
              "\n",
              "[5 rows x 3 columns]"
            ]
          },
          "metadata": {
            "tags": []
          },
          "execution_count": 293
        }
      ]
    },
    {
      "cell_type": "code",
      "metadata": {
        "colab_type": "code",
        "outputId": "7742bb5b-11be-44c5-eafb-2c56035411df",
        "id": "On7lcZAtsFjk",
        "colab": {
          "base_uri": "https://localhost:8080/",
          "height": 51
        }
      },
      "source": [
        "# This is the cell to generate lemmatized files from the dataset\n",
        "# We may also use already pre-processed files from google drive (see below)\n",
        "%%time\n",
        "X_train[\"clean_tweet\"] = lemmatization(X_train[\"clean_tweet\"])\n",
        "X_test['clean_tweet'] = lemmatization(X_test['clean_tweet'])\n",
        "\n",
        "# Expected time for 50 000 records: 3 min\n",
        "# Expected time for 80 000 records: 5 min"
      ],
      "execution_count": 294,
      "outputs": [
        {
          "output_type": "stream",
          "text": [
            "CPU times: user 10min 31s, sys: 274 µs, total: 10min 31s\n",
            "Wall time: 10min 32s\n"
          ],
          "name": "stdout"
        }
      ]
    },
    {
      "cell_type": "code",
      "metadata": {
        "colab_type": "code",
        "outputId": "88959957-7342-4283-9a61-5878183f4d47",
        "id": "_7VHzh2ssFjm",
        "colab": {
          "base_uri": "https://localhost:8080/",
          "height": 34
        }
      },
      "source": [
        "X_train.shape"
      ],
      "execution_count": 295,
      "outputs": [
        {
          "output_type": "execute_result",
          "data": {
            "text/plain": [
              "(80000, 3)"
            ]
          },
          "metadata": {
            "tags": []
          },
          "execution_count": 295
        }
      ]
    },
    {
      "cell_type": "code",
      "metadata": {
        "colab_type": "code",
        "outputId": "e900d40e-19d6-4d73-f163-aadf952d9569",
        "id": "TQHh1nDCsFjo",
        "colab": {
          "base_uri": "https://localhost:8080/",
          "height": 204
        }
      },
      "source": [
        "X_train.head()"
      ],
      "execution_count": 296,
      "outputs": [
        {
          "output_type": "execute_result",
          "data": {
            "text/html": [
              "<div>\n",
              "<style scoped>\n",
              "    .dataframe tbody tr th:only-of-type {\n",
              "        vertical-align: middle;\n",
              "    }\n",
              "\n",
              "    .dataframe tbody tr th {\n",
              "        vertical-align: top;\n",
              "    }\n",
              "\n",
              "    .dataframe thead th {\n",
              "        text-align: right;\n",
              "    }\n",
              "</style>\n",
              "<table border=\"1\" class=\"dataframe\">\n",
              "  <thead>\n",
              "    <tr style=\"text-align: right;\">\n",
              "      <th></th>\n",
              "      <th>id</th>\n",
              "      <th>tweet</th>\n",
              "      <th>clean_tweet</th>\n",
              "    </tr>\n",
              "  </thead>\n",
              "  <tbody>\n",
              "    <tr>\n",
              "      <th>519968</th>\n",
              "      <td>2191957974</td>\n",
              "      <td>@iluvshinythings no  wasn't me.  I was wearing...</td>\n",
              "      <td>iluvshinything no be not -PRON- . i be wear a ...</td>\n",
              "    </tr>\n",
              "    <tr>\n",
              "      <th>387493</th>\n",
              "      <td>2054025452</td>\n",
              "      <td>My 9 year old nephew just emailed me asking 2 ...</td>\n",
              "      <td>-PRON- year old nephew just email -PRON- ask j...</td>\n",
              "    </tr>\n",
              "    <tr>\n",
              "      <th>208291</th>\n",
              "      <td>1973686973</td>\n",
              "      <td>@jscrinc she didnt mess up</td>\n",
              "      <td>jscrinc -PRON- do not mess up</td>\n",
              "    </tr>\n",
              "    <tr>\n",
              "      <th>945933</th>\n",
              "      <td>1822502879</td>\n",
              "      <td>@Jennny0601 you're going to be jealous of my n...</td>\n",
              "      <td>jennny -PRON- be go to be jealous of -PRON- ne...</td>\n",
              "    </tr>\n",
              "    <tr>\n",
              "      <th>1328534</th>\n",
              "      <td>2015529570</td>\n",
              "      <td>@BillHarper Yes, they are - there's nothing li...</td>\n",
              "      <td>billharper yes , -PRON- be there be nothing li...</td>\n",
              "    </tr>\n",
              "  </tbody>\n",
              "</table>\n",
              "</div>"
            ],
            "text/plain": [
              "                 id  ...                                        clean_tweet\n",
              "519968   2191957974  ...  iluvshinything no be not -PRON- . i be wear a ...\n",
              "387493   2054025452  ...  -PRON- year old nephew just email -PRON- ask j...\n",
              "208291   1973686973  ...                      jscrinc -PRON- do not mess up\n",
              "945933   1822502879  ...  jennny -PRON- be go to be jealous of -PRON- ne...\n",
              "1328534  2015529570  ...  billharper yes , -PRON- be there be nothing li...\n",
              "\n",
              "[5 rows x 3 columns]"
            ]
          },
          "metadata": {
            "tags": []
          },
          "execution_count": 296
        }
      ]
    },
    {
      "cell_type": "code",
      "metadata": {
        "colab_type": "code",
        "outputId": "125552cc-b55e-40ac-b176-963789f1a5b1",
        "id": "guD3Udw5sFjq",
        "colab": {
          "base_uri": "https://localhost:8080/",
          "height": 204
        }
      },
      "source": [
        "X_test.head()"
      ],
      "execution_count": 297,
      "outputs": [
        {
          "output_type": "execute_result",
          "data": {
            "text/html": [
              "<div>\n",
              "<style scoped>\n",
              "    .dataframe tbody tr th:only-of-type {\n",
              "        vertical-align: middle;\n",
              "    }\n",
              "\n",
              "    .dataframe tbody tr th {\n",
              "        vertical-align: top;\n",
              "    }\n",
              "\n",
              "    .dataframe thead th {\n",
              "        text-align: right;\n",
              "    }\n",
              "</style>\n",
              "<table border=\"1\" class=\"dataframe\">\n",
              "  <thead>\n",
              "    <tr style=\"text-align: right;\">\n",
              "      <th></th>\n",
              "      <th>id</th>\n",
              "      <th>tweet</th>\n",
              "      <th>clean_tweet</th>\n",
              "    </tr>\n",
              "  </thead>\n",
              "  <tbody>\n",
              "    <tr>\n",
              "      <th>313228</th>\n",
              "      <td>2001705696</td>\n",
              "      <td>@yaeljk get to a show girl! Do whatcha gotta d...</td>\n",
              "      <td>yaeljk get to a show girl do whatcha get to do...</td>\n",
              "    </tr>\n",
              "    <tr>\n",
              "      <th>253601</th>\n",
              "      <td>1984029518</td>\n",
              "      <td>Ex boyfriends suck  -pete! the alien-</td>\n",
              "      <td>ex boyfriend suck pete the alien</td>\n",
              "    </tr>\n",
              "    <tr>\n",
              "      <th>1041037</th>\n",
              "      <td>1957027349</td>\n",
              "      <td>.@SpacieStaycie which one did you like best?</td>\n",
              "      <td>.spaciestaycie which one do -PRON- like good</td>\n",
              "    </tr>\n",
              "    <tr>\n",
              "      <th>217422</th>\n",
              "      <td>1975936563</td>\n",
              "      <td>damn my back is hella hurtting at work</td>\n",
              "      <td>damn -PRON- back be hella hurtte at work</td>\n",
              "    </tr>\n",
              "    <tr>\n",
              "      <th>495067</th>\n",
              "      <td>2185120448</td>\n",
              "      <td>@tristanwilds unfortunately my days already over</td>\n",
              "      <td>tristanwild unfortunately -PRON- day already over</td>\n",
              "    </tr>\n",
              "  </tbody>\n",
              "</table>\n",
              "</div>"
            ],
            "text/plain": [
              "                 id  ...                                        clean_tweet\n",
              "313228   2001705696  ...  yaeljk get to a show girl do whatcha get to do...\n",
              "253601   1984029518  ...                   ex boyfriend suck pete the alien\n",
              "1041037  1957027349  ...       .spaciestaycie which one do -PRON- like good\n",
              "217422   1975936563  ...           damn -PRON- back be hella hurtte at work\n",
              "495067   2185120448  ...  tristanwild unfortunately -PRON- day already over\n",
              "\n",
              "[5 rows x 3 columns]"
            ]
          },
          "metadata": {
            "tags": []
          },
          "execution_count": 297
        }
      ]
    },
    {
      "cell_type": "code",
      "metadata": {
        "colab_type": "code",
        "id": "544l5W-CsFjs",
        "colab": {}
      },
      "source": [
        "# Saved lemmatized files to Google Drive for further use\n",
        "# Last time saved: 80 000 records for X_train (2019-12-13)\n",
        "\n",
        "# Define file names and folder\n",
        "X_train_lemma_file = \"/content/drive/My Drive/Colab Notebooks/Final_Project/data/X_train_lemma80kNoDisabled.csv\"\n",
        "X_test_lemma_file = \"/content/drive/My Drive/Colab Notebooks/Final_Project/data/X_test_lemma80kNoDisabled.csv\""
      ],
      "execution_count": 0,
      "outputs": []
    },
    {
      "cell_type": "code",
      "metadata": {
        "id": "aDlHHPasGdM4",
        "colab_type": "code",
        "colab": {}
      },
      "source": [
        "# Save to files\n",
        "X_train.to_csv(X_train_lemma_file, index=False)\n",
        "X_test.to_csv(X_test_lemma_file, index=False)"
      ],
      "execution_count": 0,
      "outputs": []
    },
    {
      "cell_type": "code",
      "metadata": {
        "colab_type": "code",
        "id": "reB19mbBsFju",
        "colab": {}
      },
      "source": [
        "# Import from files already pre-processed from Google Drive\n",
        "X_train = pd.read_csv(X_train_lemma_file)\n",
        "X_test = pd.read_csv(X_test_lemma_file)"
      ],
      "execution_count": 0,
      "outputs": []
    },
    {
      "cell_type": "code",
      "metadata": {
        "id": "8HjOzBmHtZUl",
        "colab_type": "code",
        "outputId": "742aef19-190b-4c12-9950-3228e1905b82",
        "colab": {
          "base_uri": "https://localhost:8080/",
          "height": 204
        }
      },
      "source": [
        "X_train.head()"
      ],
      "execution_count": 300,
      "outputs": [
        {
          "output_type": "execute_result",
          "data": {
            "text/html": [
              "<div>\n",
              "<style scoped>\n",
              "    .dataframe tbody tr th:only-of-type {\n",
              "        vertical-align: middle;\n",
              "    }\n",
              "\n",
              "    .dataframe tbody tr th {\n",
              "        vertical-align: top;\n",
              "    }\n",
              "\n",
              "    .dataframe thead th {\n",
              "        text-align: right;\n",
              "    }\n",
              "</style>\n",
              "<table border=\"1\" class=\"dataframe\">\n",
              "  <thead>\n",
              "    <tr style=\"text-align: right;\">\n",
              "      <th></th>\n",
              "      <th>id</th>\n",
              "      <th>tweet</th>\n",
              "      <th>clean_tweet</th>\n",
              "    </tr>\n",
              "  </thead>\n",
              "  <tbody>\n",
              "    <tr>\n",
              "      <th>519968</th>\n",
              "      <td>2191957974</td>\n",
              "      <td>@iluvshinythings no  wasn't me.  I was wearing...</td>\n",
              "      <td>iluvshinything no be not -PRON- . i be wear a ...</td>\n",
              "    </tr>\n",
              "    <tr>\n",
              "      <th>387493</th>\n",
              "      <td>2054025452</td>\n",
              "      <td>My 9 year old nephew just emailed me asking 2 ...</td>\n",
              "      <td>-PRON- year old nephew just email -PRON- ask j...</td>\n",
              "    </tr>\n",
              "    <tr>\n",
              "      <th>208291</th>\n",
              "      <td>1973686973</td>\n",
              "      <td>@jscrinc she didnt mess up</td>\n",
              "      <td>jscrinc -PRON- do not mess up</td>\n",
              "    </tr>\n",
              "    <tr>\n",
              "      <th>945933</th>\n",
              "      <td>1822502879</td>\n",
              "      <td>@Jennny0601 you're going to be jealous of my n...</td>\n",
              "      <td>jennny -PRON- be go to be jealous of -PRON- ne...</td>\n",
              "    </tr>\n",
              "    <tr>\n",
              "      <th>1328534</th>\n",
              "      <td>2015529570</td>\n",
              "      <td>@BillHarper Yes, they are - there's nothing li...</td>\n",
              "      <td>billharper yes , -PRON- be there be nothing li...</td>\n",
              "    </tr>\n",
              "  </tbody>\n",
              "</table>\n",
              "</div>"
            ],
            "text/plain": [
              "                 id  ...                                        clean_tweet\n",
              "519968   2191957974  ...  iluvshinything no be not -PRON- . i be wear a ...\n",
              "387493   2054025452  ...  -PRON- year old nephew just email -PRON- ask j...\n",
              "208291   1973686973  ...                      jscrinc -PRON- do not mess up\n",
              "945933   1822502879  ...  jennny -PRON- be go to be jealous of -PRON- ne...\n",
              "1328534  2015529570  ...  billharper yes , -PRON- be there be nothing li...\n",
              "\n",
              "[5 rows x 3 columns]"
            ]
          },
          "metadata": {
            "tags": []
          },
          "execution_count": 300
        }
      ]
    },
    {
      "cell_type": "code",
      "metadata": {
        "colab_type": "code",
        "id": "9iKAGDsmsFjw",
        "colab": {}
      },
      "source": [
        "X_train = X_train[\"clean_tweet\"].values\n",
        "X_test = X_test[\"clean_tweet\"].values"
      ],
      "execution_count": 0,
      "outputs": []
    },
    {
      "cell_type": "code",
      "metadata": {
        "colab_type": "code",
        "outputId": "07e943d4-c011-412f-c037-7034534e779f",
        "id": "AKBSZUq_sFjx",
        "colab": {
          "base_uri": "https://localhost:8080/",
          "height": 102
        }
      },
      "source": [
        "print(X_train[0:5])"
      ],
      "execution_count": 302,
      "outputs": [
        {
          "output_type": "stream",
          "text": [
            "['iluvshinything no be not -PRON- . i be wear a pink tank top , black pant and big teal sunglass . close though ha'\n",
            " \"-PRON- year old nephew just email -PRON- ask join -PRON- play mini golf , too bad i have breakfast amp meet amp greet in tyson 's so cute\"\n",
            " 'jscrinc -PRON- do not mess up'\n",
            " 'jennny -PRON- be go to be jealous of -PRON- new iphone theme'\n",
            " 'billharper yes , -PRON- be there be nothing like fresh fruit for lunch']\n"
          ],
          "name": "stdout"
        }
      ]
    },
    {
      "cell_type": "markdown",
      "metadata": {
        "id": "butnokpbGBO9",
        "colab_type": "text"
      },
      "source": [
        "## Label Encoding"
      ]
    },
    {
      "cell_type": "code",
      "metadata": {
        "id": "HuTudlIewVSo",
        "colab_type": "code",
        "outputId": "f4fae9c6-cacd-422d-fbbb-e15ae7871852",
        "colab": {
          "base_uri": "https://localhost:8080/",
          "height": 34
        }
      },
      "source": [
        "label_encoder = LabelEncoder()\n",
        "y_train = label_encoder.fit_transform(y_train)\n",
        "y_test = label_encoder.fit_transform(y_test)                     \n",
        "y_train[:5]"
      ],
      "execution_count": 303,
      "outputs": [
        {
          "output_type": "execute_result",
          "data": {
            "text/plain": [
              "array([0, 0, 0, 1, 1])"
            ]
          },
          "metadata": {
            "tags": []
          },
          "execution_count": 303
        }
      ]
    },
    {
      "cell_type": "code",
      "metadata": {
        "id": "OkLtyT19wVSq",
        "colab_type": "code",
        "colab": {}
      },
      "source": [
        "y_train = keras.utils.to_categorical(y_train)"
      ],
      "execution_count": 0,
      "outputs": []
    },
    {
      "cell_type": "code",
      "metadata": {
        "id": "DLu9IpLLwVSs",
        "colab_type": "code",
        "colab": {}
      },
      "source": [
        "y_test = keras.utils.to_categorical(y_test)"
      ],
      "execution_count": 0,
      "outputs": []
    },
    {
      "cell_type": "code",
      "metadata": {
        "id": "MBo-eAZ-wVSt",
        "colab_type": "code",
        "outputId": "2fe22351-4520-4521-cf1f-090b56fce163",
        "colab": {
          "base_uri": "https://localhost:8080/",
          "height": 102
        }
      },
      "source": [
        "y_train[0:5]"
      ],
      "execution_count": 306,
      "outputs": [
        {
          "output_type": "execute_result",
          "data": {
            "text/plain": [
              "array([[1., 0.],\n",
              "       [1., 0.],\n",
              "       [1., 0.],\n",
              "       [0., 1.],\n",
              "       [0., 1.]], dtype=float32)"
            ]
          },
          "metadata": {
            "tags": []
          },
          "execution_count": 306
        }
      ]
    },
    {
      "cell_type": "code",
      "metadata": {
        "id": "SldLFIxFhPlv",
        "colab_type": "code",
        "outputId": "324171eb-43d8-408e-83c6-bc01426cac6f",
        "colab": {
          "base_uri": "https://localhost:8080/",
          "height": 34
        }
      },
      "source": [
        "X_train.shape\n",
        "# Should be (nb_of_records, )"
      ],
      "execution_count": 307,
      "outputs": [
        {
          "output_type": "execute_result",
          "data": {
            "text/plain": [
              "(80000,)"
            ]
          },
          "metadata": {
            "tags": []
          },
          "execution_count": 307
        }
      ]
    },
    {
      "cell_type": "markdown",
      "metadata": {
        "id": "EXdr4rpvGorw",
        "colab_type": "text"
      },
      "source": [
        "# Model nnlm-en-dim128"
      ]
    },
    {
      "cell_type": "markdown",
      "metadata": {
        "id": "mzWKbfihwVTC",
        "colab_type": "text"
      },
      "source": [
        "## Create Model using tf.hub: nnlm-en-dim128"
      ]
    },
    {
      "cell_type": "code",
      "metadata": {
        "id": "hmUfMnhmNLMW",
        "colab_type": "code",
        "outputId": "4bded6b9-b7e2-47f0-88bb-bb0d2e69f515",
        "colab": {
          "base_uri": "https://localhost:8080/",
          "height": 34
        }
      },
      "source": [
        "MODEL = \"nnlm-en-dim128\"\n",
        "VERSION = 2\n",
        "URL = \"https://tfhub.dev/google/\"+MODEL+\"/\"+str(VERSION)\n",
        "print (URL)"
      ],
      "execution_count": 138,
      "outputs": [
        {
          "output_type": "stream",
          "text": [
            "https://tfhub.dev/google/nnlm-en-dim128/2\n"
          ],
          "name": "stdout"
        }
      ]
    },
    {
      "cell_type": "code",
      "metadata": {
        "id": "th0drHQrwVTC",
        "colab_type": "code",
        "outputId": "b35ccdc7-a673-4676-dc3b-1d1d27a57f6a",
        "colab": {
          "base_uri": "https://localhost:8080/",
          "height": 289
        }
      },
      "source": [
        "# Define the modle using Sequential api\n",
        "hub_layer1 = hub.KerasLayer(URL, output_shape=[128], \n",
        "                           input_shape=[], \n",
        "                           dtype=tf.string\n",
        "                          )\n",
        "model = keras.Sequential()\n",
        "model.add(hub_layer1)\n",
        "model.add(keras.layers.Dense(64, activation='relu'))\n",
        "model.add(keras.layers.Dropout(0.5))\n",
        "model.add(keras.layers.Dense(2, activation='softmax'))\n",
        "\n",
        "model.summary()"
      ],
      "execution_count": 139,
      "outputs": [
        {
          "output_type": "stream",
          "text": [
            "Model: \"sequential_5\"\n",
            "_________________________________________________________________\n",
            "Layer (type)                 Output Shape              Param #   \n",
            "=================================================================\n",
            "keras_layer_10 (KerasLayer)  (None, 128)               124642688 \n",
            "_________________________________________________________________\n",
            "dense_10 (Dense)             (None, 64)                8256      \n",
            "_________________________________________________________________\n",
            "dropout_5 (Dropout)          (None, 64)                0         \n",
            "_________________________________________________________________\n",
            "dense_11 (Dense)             (None, 2)                 130       \n",
            "=================================================================\n",
            "Total params: 124,651,074\n",
            "Trainable params: 8,386\n",
            "Non-trainable params: 124,642,688\n",
            "_________________________________________________________________\n"
          ],
          "name": "stdout"
        }
      ]
    },
    {
      "cell_type": "code",
      "metadata": {
        "id": "tjVitF9_wVTE",
        "colab_type": "code",
        "colab": {}
      },
      "source": [
        "model.compile(loss='binary_crossentropy', optimizer='adam', metrics=['accuracy'])"
      ],
      "execution_count": 0,
      "outputs": []
    },
    {
      "cell_type": "code",
      "metadata": {
        "id": "bxPDNeKxwVTG",
        "colab_type": "code",
        "outputId": "2d6b1a68-1a74-4747-be0a-33b132e133dc",
        "colab": {
          "base_uri": "https://localhost:8080/",
          "height": 176
        }
      },
      "source": [
        "keras.utils.plot_model(model, \n",
        "                       #to_file='model.png',\n",
        "                      show_shapes=True, show_layer_names=True, rankdir='LR', expand_nested=False, dpi=128)"
      ],
      "execution_count": 141,
      "outputs": [
        {
          "output_type": "execute_result",
          "data": {
            "image/png": "[encoded data removed]",
            "text/plain": [
              "<IPython.core.display.Image object>"
            ]
          },
          "metadata": {
            "tags": []
          },
          "execution_count": 141
        }
      ]
    },
    {
      "cell_type": "markdown",
      "metadata": {
        "id": "SvDqk7O9wVTH",
        "colab_type": "text"
      },
      "source": [
        "## Execute Model"
      ]
    },
    {
      "cell_type": "code",
      "metadata": {
        "id": "Bz6ZbkvcwVTH",
        "colab_type": "code",
        "outputId": "8a8687b6-cd10-4d90-cc94-65c8d42b078c",
        "colab": {
          "base_uri": "https://localhost:8080/",
          "height": 1000
        }
      },
      "source": [
        "%%time\n",
        "hist = model.fit(X_train, \n",
        "                 y_train, \n",
        "                 epochs=30,\n",
        "                 batch_size=64, \n",
        "                 verbose = 1)\n",
        "# Benchmark time: 2 min per 10 epochs for 50 000 records/batch 32\n",
        "# Benchmark time: 6 min per 25 epochs for 80 000 records/batch 32\n",
        "# Benchmark time: 1.5 min per 15 epochs for 50 000 records/batch 64\n",
        "# Benchmark time: 1.5 min per 15 epochs for 80 000 records/64 nodes/batch 64\n",
        "# Benchmark time: 1.5 min per 20 epochs for 80 000 records/64 nodes/batch 64\n",
        "# Benchmark time: 2 min per 30 epochs for 80 000 records/64 nodes/batch 64"
      ],
      "execution_count": 142,
      "outputs": [
        {
          "output_type": "stream",
          "text": [
            "Train on 80000 samples\n",
            "Epoch 1/30\n",
            "80000/80000 [==============================] - 5s 64us/sample - loss: 0.5745 - accuracy: 0.7023\n",
            "Epoch 2/30\n",
            "80000/80000 [==============================] - 5s 57us/sample - loss: 0.5460 - accuracy: 0.7256\n",
            "Epoch 3/30\n",
            "80000/80000 [==============================] - 5s 58us/sample - loss: 0.5409 - accuracy: 0.7289\n",
            "Epoch 4/30\n",
            "80000/80000 [==============================] - 5s 57us/sample - loss: 0.5368 - accuracy: 0.7307\n",
            "Epoch 5/30\n",
            "80000/80000 [==============================] - 5s 59us/sample - loss: 0.5344 - accuracy: 0.7330\n",
            "Epoch 6/30\n",
            "80000/80000 [==============================] - 5s 57us/sample - loss: 0.5327 - accuracy: 0.7348\n",
            "Epoch 7/30\n",
            "80000/80000 [==============================] - 5s 57us/sample - loss: 0.5308 - accuracy: 0.7372\n",
            "Epoch 8/30\n",
            "80000/80000 [==============================] - 5s 57us/sample - loss: 0.5284 - accuracy: 0.7397\n",
            "Epoch 9/30\n",
            "80000/80000 [==============================] - 4s 56us/sample - loss: 0.5277 - accuracy: 0.7387\n",
            "Epoch 10/30\n",
            "80000/80000 [==============================] - 5s 56us/sample - loss: 0.5252 - accuracy: 0.7403\n",
            "Epoch 11/30\n",
            "80000/80000 [==============================] - 5s 57us/sample - loss: 0.5248 - accuracy: 0.7411\n",
            "Epoch 12/30\n",
            "80000/80000 [==============================] - 5s 57us/sample - loss: 0.5233 - accuracy: 0.7427\n",
            "Epoch 13/30\n",
            "80000/80000 [==============================] - 5s 57us/sample - loss: 0.5213 - accuracy: 0.7430\n",
            "Epoch 14/30\n",
            "80000/80000 [==============================] - 5s 57us/sample - loss: 0.5216 - accuracy: 0.7433\n",
            "Epoch 15/30\n",
            "80000/80000 [==============================] - 5s 57us/sample - loss: 0.5208 - accuracy: 0.7433\n",
            "Epoch 16/30\n",
            "80000/80000 [==============================] - 5s 57us/sample - loss: 0.5198 - accuracy: 0.7451\n",
            "Epoch 17/30\n",
            "80000/80000 [==============================] - 5s 57us/sample - loss: 0.5196 - accuracy: 0.7454\n",
            "Epoch 18/30\n",
            "80000/80000 [==============================] - 5s 57us/sample - loss: 0.5188 - accuracy: 0.7447\n",
            "Epoch 19/30\n",
            "80000/80000 [==============================] - 5s 57us/sample - loss: 0.5194 - accuracy: 0.7466\n",
            "Epoch 20/30\n",
            "80000/80000 [==============================] - 4s 56us/sample - loss: 0.5166 - accuracy: 0.7462\n",
            "Epoch 21/30\n",
            "80000/80000 [==============================] - 4s 56us/sample - loss: 0.5185 - accuracy: 0.7470\n",
            "Epoch 22/30\n",
            "80000/80000 [==============================] - 5s 58us/sample - loss: 0.5153 - accuracy: 0.7474\n",
            "Epoch 23/30\n",
            "80000/80000 [==============================] - 5s 59us/sample - loss: 0.5147 - accuracy: 0.7492\n",
            "Epoch 24/30\n",
            "80000/80000 [==============================] - 5s 57us/sample - loss: 0.5144 - accuracy: 0.7492\n",
            "Epoch 25/30\n",
            "80000/80000 [==============================] - 5s 56us/sample - loss: 0.5153 - accuracy: 0.7498\n",
            "Epoch 26/30\n",
            "80000/80000 [==============================] - 4s 55us/sample - loss: 0.5145 - accuracy: 0.7493\n",
            "Epoch 27/30\n",
            "80000/80000 [==============================] - 4s 55us/sample - loss: 0.5134 - accuracy: 0.7497\n",
            "Epoch 28/30\n",
            "80000/80000 [==============================] - 4s 55us/sample - loss: 0.5129 - accuracy: 0.7497\n",
            "Epoch 29/30\n",
            "80000/80000 [==============================] - 4s 56us/sample - loss: 0.5126 - accuracy: 0.7518\n",
            "Epoch 30/30\n",
            "80000/80000 [==============================] - 5s 57us/sample - loss: 0.5118 - accuracy: 0.7506\n",
            "CPU times: user 2min 56s, sys: 14.7 s, total: 3min 11s\n",
            "Wall time: 2min 16s\n"
          ],
          "name": "stdout"
        }
      ]
    },
    {
      "cell_type": "code",
      "metadata": {
        "id": "N7ntRSvVwVTI",
        "colab_type": "code",
        "outputId": "223f4fe2-4a78-4e4a-ebd3-e2d608ab62b4",
        "colab": {
          "base_uri": "https://localhost:8080/",
          "height": 612
        }
      },
      "source": [
        "pd.DataFrame(hist.history).plot(figsize=(10,10))\n",
        "plt.grid(True)\n",
        "plt.show"
      ],
      "execution_count": 143,
      "outputs": [
        {
          "output_type": "execute_result",
          "data": {
            "text/plain": [
              "<function matplotlib.pyplot.show>"
            ]
          },
          "metadata": {
            "tags": []
          },
          "execution_count": 143
        },
        {
          "output_type": "display_data",
          "data": {
            "image/png": "[encoded data removed]",
            "text/plain": [
              "<Figure size 720x720 with 1 Axes>"
            ]
          },
          "metadata": {
            "tags": []
          }
        }
      ]
    },
    {
      "cell_type": "markdown",
      "metadata": {
        "id": "tBxcEWI0wVTK",
        "colab_type": "text"
      },
      "source": [
        "## Evaluate Model"
      ]
    },
    {
      "cell_type": "code",
      "metadata": {
        "id": "CkCDpk9UwVTK",
        "colab_type": "code",
        "outputId": "fe8f8cdf-ae3f-499e-e104-991e46f5f129",
        "colab": {
          "base_uri": "https://localhost:8080/",
          "height": 51
        }
      },
      "source": [
        "accuracy_test = model.evaluate(X_test, y_test, verbose=2)\n",
        "print(accuracy_test)"
      ],
      "execution_count": 144,
      "outputs": [
        {
          "output_type": "stream",
          "text": [
            "4000/1 - 0s - loss: 0.4721 - accuracy: 0.7545\n",
            "[0.5050608222484588, 0.7545]\n"
          ],
          "name": "stdout"
        }
      ]
    },
    {
      "cell_type": "code",
      "metadata": {
        "id": "9Z-cB2bFwVTL",
        "colab_type": "code",
        "outputId": "5e4ccb16-80f9-4886-88ee-cfaf8b5b2b82",
        "colab": {
          "base_uri": "https://localhost:8080/",
          "height": 187
        }
      },
      "source": [
        "print(X_train[0:10])"
      ],
      "execution_count": 145,
      "outputs": [
        {
          "output_type": "stream",
          "text": [
            "['iluvshinything no be not -PRON- . i be wear a pink tank top , black pant and big teal sunglass . close though ha'\n",
            " \"-PRON- year old nephew just email -PRON- ask join -PRON- play mini golf , too bad i have breakfast amp meet amp greet in tyson 's so cute\"\n",
            " 'jscrinc -PRON- do not mess up'\n",
            " 'jennny -PRON- be go to be jealous of -PRON- new iphone theme'\n",
            " 'billharper yes , -PRON- be there be nothing like fresh fruit for lunch'\n",
            " 'back from church , soooooo cold outside even though -PRON- look lovely and warm , instal manga studio now'\n",
            " 'youngq yesterday be ice cream day .. awww'\n",
            " 'i love jamie camille antonio happy year and month'\n",
            " 'iremember ... gun n rose . omg -PRON- be the shit especially slash'\n",
            " 'still rain , and there be a torrent of water from the roof right outside -PRON- bedroom window sound like an elephant have a pee']\n"
          ],
          "name": "stdout"
        }
      ]
    },
    {
      "cell_type": "code",
      "metadata": {
        "id": "XEuBNR25wVTM",
        "colab_type": "code",
        "outputId": "35a9d00d-471c-4797-faad-64cc1774d71b",
        "colab": {
          "base_uri": "https://localhost:8080/",
          "height": 187
        }
      },
      "source": [
        "predictions = model.predict(X_train[:10], batch_size=None, verbose=0)\n",
        "print(predictions.round(0))"
      ],
      "execution_count": 146,
      "outputs": [
        {
          "output_type": "stream",
          "text": [
            "[[1. 0.]\n",
            " [0. 1.]\n",
            " [1. 0.]\n",
            " [0. 1.]\n",
            " [0. 1.]\n",
            " [0. 1.]\n",
            " [0. 1.]\n",
            " [0. 1.]\n",
            " [1. 0.]\n",
            " [1. 0.]]\n"
          ],
          "name": "stdout"
        }
      ]
    },
    {
      "cell_type": "code",
      "metadata": {
        "id": "3uQbWTA6wVTO",
        "colab_type": "code",
        "outputId": "68876f9f-7945-4f8f-a7d2-30fa75a68ea2",
        "colab": {
          "base_uri": "https://localhost:8080/",
          "height": 187
        }
      },
      "source": [
        "print(y_train[:10])"
      ],
      "execution_count": 147,
      "outputs": [
        {
          "output_type": "stream",
          "text": [
            "[[1. 0.]\n",
            " [1. 0.]\n",
            " [1. 0.]\n",
            " [0. 1.]\n",
            " [0. 1.]\n",
            " [0. 1.]\n",
            " [1. 0.]\n",
            " [0. 1.]\n",
            " [0. 1.]\n",
            " [0. 1.]]\n"
          ],
          "name": "stdout"
        }
      ]
    },
    {
      "cell_type": "markdown",
      "metadata": {
        "id": "j2ESaAjdwVTQ",
        "colab_type": "text"
      },
      "source": [
        "## Confusion Matrix"
      ]
    },
    {
      "cell_type": "code",
      "metadata": {
        "id": "Zq8q6kxYwVTQ",
        "colab_type": "code",
        "colab": {}
      },
      "source": [
        "def plot_confusion_matrix(cm, \n",
        "                          classes, \n",
        "                          normalize=False,\n",
        "                          title='CM', \n",
        "                          cmap=plt.cm.Greens):\n",
        "# This function prints and plots the confusion matrix. Normalization can be applied by setting `normalize=True`\n",
        "\n",
        "    if normalize:\n",
        "        cm = cm.astype('float') / cm.sum(axis=1)[:, np.newaxis]\n",
        "        # print(\"Normalized confusion matrix\") # print(cm)\n",
        "\n",
        "    plt.imshow(cm, interpolation='nearest', cmap=cmap) \n",
        "    plt.title(title)\n",
        "    plt.colorbar()\n",
        "\n",
        "    tick_marks = np.arange(len(classes)) \n",
        "    plt.xticks(tick_marks, classes, rotation=45) \n",
        "    plt.yticks(tick_marks, classes)\n",
        "\n",
        "    fmt = '.2f' if normalize else 'd'\n",
        "    thresh = cm.max() / 2.\n",
        "    for i, j in itertools.product(range(cm.shape[0]), range(cm.shape[1])):\n",
        "        plt.text(j, i, format(cm[i, j], fmt), \n",
        "                 horizontalalignment=\"center\",\n",
        "                 color=\"white\" if cm[i, j] > thresh else \"black\")\n",
        "        plt.tight_layout() \n",
        "        plt.ylabel('True label') \n",
        "        plt.xlabel('Predicted label')"
      ],
      "execution_count": 0,
      "outputs": []
    },
    {
      "cell_type": "code",
      "metadata": {
        "id": "Bo1pj-tewVTS",
        "colab_type": "code",
        "colab": {}
      },
      "source": [
        "# np.argmax Returns the indices of the maximum values along an axis. \n",
        "y_test_rounded = np.argmax(y_test, axis=1)\n",
        "y_train_rounded = np.argmax(y_train, axis=1)"
      ],
      "execution_count": 0,
      "outputs": []
    },
    {
      "cell_type": "code",
      "metadata": {
        "id": "AZqJ1ZgKwVTT",
        "colab_type": "code",
        "colab": {}
      },
      "source": [
        "y_pred = model.predict(X_train)\n",
        "y_pred_rounded = np.argmax(y_pred, axis=1)"
      ],
      "execution_count": 0,
      "outputs": []
    },
    {
      "cell_type": "code",
      "metadata": {
        "id": "t1VSl2LEwVTV",
        "colab_type": "code",
        "colab": {}
      },
      "source": [
        "cmResults = confusion_matrix(y_train_rounded, y_pred_rounded) \n",
        "accuracy = accuracy_score(y_train_rounded, y_pred_rounded)"
      ],
      "execution_count": 0,
      "outputs": []
    },
    {
      "cell_type": "code",
      "metadata": {
        "id": "UWc_zkA9wVTW",
        "colab_type": "code",
        "outputId": "99eec411-7dc3-4c92-e294-88aced6bb265",
        "colab": {
          "base_uri": "https://localhost:8080/",
          "height": 513
        }
      },
      "source": [
        "# Plot non-normalized confusion matrix \n",
        "class_names = ['Negative', 'Positive']\n",
        "plt.figure(figsize=(7,7));\n",
        "plot_confusion_matrix(cmResults, classes=class_names, title=str(MODEL)+ \"\\n\" +\"Accuracy: \" + str((accuracy*100).round(1)) + \"%\" +\"\\n\"+\"Train Data\");"
      ],
      "execution_count": 153,
      "outputs": [
        {
          "output_type": "display_data",
          "data": {
            "image/png": "[encoded data removed]",
            "text/plain": [
              "<Figure size 504x504 with 2 Axes>"
            ]
          },
          "metadata": {
            "tags": []
          }
        }
      ]
    },
    {
      "cell_type": "code",
      "metadata": {
        "id": "m1cbFmOSwVTX",
        "colab_type": "code",
        "colab": {}
      },
      "source": [
        "y_pred = model.predict(X_test)\n",
        "y_pred_rounded = np.argmax(y_pred, axis=1)\n",
        "cmResults = confusion_matrix(y_test_rounded, y_pred_rounded)\n",
        "accuracy = accuracy_score(y_test_rounded, y_pred_rounded)"
      ],
      "execution_count": 0,
      "outputs": []
    },
    {
      "cell_type": "code",
      "metadata": {
        "id": "j__4lgy1wVTY",
        "colab_type": "code",
        "outputId": "c5ebf6e3-49a4-4c01-d8d4-c555a6ef2769",
        "colab": {
          "base_uri": "https://localhost:8080/",
          "height": 513
        }
      },
      "source": [
        "# Plot non-normalized confusion matrix \n",
        "plt.figure(figsize=(7,7));\n",
        "plot_confusion_matrix(cmResults, classes=class_names, \n",
        "                      title=str(MODEL)+ \"\\n\" +\"Accuracy: \" + str((accuracy*100).round(1)) + \"%\" +\"\\n\"+\"Test Data\",\n",
        "                      cmap=plt.cm.Blues);"
      ],
      "execution_count": 155,
      "outputs": [
        {
          "output_type": "display_data",
          "data": {
            "image/png": "[encoded data removed]",
            "text/plain": [
              "<Figure size 504x504 with 2 Axes>"
            ]
          },
          "metadata": {
            "tags": []
          }
        }
      ]
    },
    {
      "cell_type": "markdown",
      "metadata": {
        "id": "8YECZ6SbwVTa",
        "colab_type": "text"
      },
      "source": [
        "## Test the Model with some sentences"
      ]
    },
    {
      "cell_type": "code",
      "metadata": {
        "id": "tiKcBX81wVTa",
        "colab_type": "code",
        "colab": {}
      },
      "source": [
        "# Create input tweets for testing the sentiment model \n",
        "tweets = {'tweet':['Montreal is a nice city in the summer!!!',\n",
        "                    'I have a good feeling about this team#11212',\n",
        "                    'The show was not funny...',\n",
        "                    'The dog is angry',\n",
        "                    'The food at the restaurant could be better',\n",
        "                    'The flight is a long one',\n",
        "                    'It would be nice if the weather was better in Montreal *&&%&*&##!1',\n",
        "                    'The Montreal hockey team will be making the playoffs',\n",
        "                    'The weather in Montreal is very nice in the summer'\n",
        "                   ],\n",
        "          'sentiments':[4,\n",
        "                       4,\n",
        "                       0,\n",
        "                       0,\n",
        "                       0,\n",
        "                       0,\n",
        "                       0,\n",
        "                       4,\n",
        "                       4\n",
        "                      ]\n",
        "         } \n",
        "  \n",
        "# Create DataFrame \n",
        "df_test = pd.DataFrame(tweets)"
      ],
      "execution_count": 0,
      "outputs": []
    },
    {
      "cell_type": "code",
      "metadata": {
        "id": "J085ZWQIwVTc",
        "colab_type": "code",
        "colab": {}
      },
      "source": [
        "df_test['clean_tweet'] = df_test['tweet'].apply(lambda x: text_processing(x))"
      ],
      "execution_count": 0,
      "outputs": []
    },
    {
      "cell_type": "code",
      "metadata": {
        "id": "0NtrQdUawVTc",
        "colab_type": "code",
        "colab": {}
      },
      "source": [
        "df_test[\"clean_tweet\"] = lemmatization(df_test[\"clean_tweet\"])"
      ],
      "execution_count": 0,
      "outputs": []
    },
    {
      "cell_type": "code",
      "metadata": {
        "id": "m5KV_aL4wVTd",
        "colab_type": "code",
        "outputId": "61d41335-3d5e-428f-ee74-d7e18ee98ec3",
        "colab": {
          "base_uri": "https://localhost:8080/",
          "height": 328
        }
      },
      "source": [
        "df_test"
      ],
      "execution_count": 198,
      "outputs": [
        {
          "output_type": "execute_result",
          "data": {
            "text/html": [
              "<div>\n",
              "<style scoped>\n",
              "    .dataframe tbody tr th:only-of-type {\n",
              "        vertical-align: middle;\n",
              "    }\n",
              "\n",
              "    .dataframe tbody tr th {\n",
              "        vertical-align: top;\n",
              "    }\n",
              "\n",
              "    .dataframe thead th {\n",
              "        text-align: right;\n",
              "    }\n",
              "</style>\n",
              "<table border=\"1\" class=\"dataframe\">\n",
              "  <thead>\n",
              "    <tr style=\"text-align: right;\">\n",
              "      <th></th>\n",
              "      <th>tweet</th>\n",
              "      <th>sentiments</th>\n",
              "      <th>clean_tweet</th>\n",
              "    </tr>\n",
              "  </thead>\n",
              "  <tbody>\n",
              "    <tr>\n",
              "      <th>0</th>\n",
              "      <td>Montreal is a nice city in the summer!!!</td>\n",
              "      <td>4</td>\n",
              "      <td>montreal be a nice city in the summer</td>\n",
              "    </tr>\n",
              "    <tr>\n",
              "      <th>1</th>\n",
              "      <td>I have a good feeling about this team#11212</td>\n",
              "      <td>4</td>\n",
              "      <td>i have a good feeling about this team</td>\n",
              "    </tr>\n",
              "    <tr>\n",
              "      <th>2</th>\n",
              "      <td>The show was not funny...</td>\n",
              "      <td>0</td>\n",
              "      <td>the show be not funny ...</td>\n",
              "    </tr>\n",
              "    <tr>\n",
              "      <th>3</th>\n",
              "      <td>The dog is angry</td>\n",
              "      <td>0</td>\n",
              "      <td>the dog be angry</td>\n",
              "    </tr>\n",
              "    <tr>\n",
              "      <th>4</th>\n",
              "      <td>The food at the restaurant could be better</td>\n",
              "      <td>0</td>\n",
              "      <td>the food at the restaurant could be well</td>\n",
              "    </tr>\n",
              "    <tr>\n",
              "      <th>5</th>\n",
              "      <td>The flight is a long one</td>\n",
              "      <td>0</td>\n",
              "      <td>the flight be a long one</td>\n",
              "    </tr>\n",
              "    <tr>\n",
              "      <th>6</th>\n",
              "      <td>It would be nice if the weather was better in ...</td>\n",
              "      <td>0</td>\n",
              "      <td>-PRON- would be nice if the weather be well in...</td>\n",
              "    </tr>\n",
              "    <tr>\n",
              "      <th>7</th>\n",
              "      <td>The Montreal hockey team will be making the pl...</td>\n",
              "      <td>4</td>\n",
              "      <td>the montreal hockey team will be make the playoff</td>\n",
              "    </tr>\n",
              "    <tr>\n",
              "      <th>8</th>\n",
              "      <td>The weather in Montreal is very nice in the su...</td>\n",
              "      <td>4</td>\n",
              "      <td>the weather in montreal be very nice in the su...</td>\n",
              "    </tr>\n",
              "  </tbody>\n",
              "</table>\n",
              "</div>"
            ],
            "text/plain": [
              "                                               tweet  ...                                        clean_tweet\n",
              "0           Montreal is a nice city in the summer!!!  ...              montreal be a nice city in the summer\n",
              "1        I have a good feeling about this team#11212  ...              i have a good feeling about this team\n",
              "2                          The show was not funny...  ...                          the show be not funny ...\n",
              "3                                   The dog is angry  ...                                   the dog be angry\n",
              "4         The food at the restaurant could be better  ...           the food at the restaurant could be well\n",
              "5                           The flight is a long one  ...                           the flight be a long one\n",
              "6  It would be nice if the weather was better in ...  ...  -PRON- would be nice if the weather be well in...\n",
              "7  The Montreal hockey team will be making the pl...  ...  the montreal hockey team will be make the playoff\n",
              "8  The weather in Montreal is very nice in the su...  ...  the weather in montreal be very nice in the su...\n",
              "\n",
              "[9 rows x 3 columns]"
            ]
          },
          "metadata": {
            "tags": []
          },
          "execution_count": 198
        }
      ]
    },
    {
      "cell_type": "code",
      "metadata": {
        "id": "44ZxvVVswVTe",
        "colab_type": "code",
        "colab": {}
      },
      "source": [
        "sentiments = df_test[\"sentiments\"].copy()\n",
        "label_encoder = LabelEncoder()\n",
        "sentiments = label_encoder.fit_transform(sentiments)\n",
        "sentiments = keras.utils.to_categorical(sentiments)"
      ],
      "execution_count": 0,
      "outputs": []
    },
    {
      "cell_type": "code",
      "metadata": {
        "id": "q_bCfTOewVTf",
        "colab_type": "code",
        "colab": {}
      },
      "source": [
        "X_input = df_test[\"clean_tweet\"].values"
      ],
      "execution_count": 0,
      "outputs": []
    },
    {
      "cell_type": "code",
      "metadata": {
        "id": "_PXVPhPzwVTg",
        "colab_type": "code",
        "outputId": "795cbcd1-ba36-48d7-8238-b2f3ddd122df",
        "colab": {
          "base_uri": "https://localhost:8080/",
          "height": 170
        }
      },
      "source": [
        "print(model.predict(X_input).round(0))"
      ],
      "execution_count": 162,
      "outputs": [
        {
          "output_type": "stream",
          "text": [
            "[[0. 1.]\n",
            " [1. 0.]\n",
            " [1. 0.]\n",
            " [1. 0.]\n",
            " [1. 0.]\n",
            " [1. 0.]\n",
            " [0. 1.]\n",
            " [1. 0.]\n",
            " [0. 1.]]\n"
          ],
          "name": "stdout"
        }
      ]
    },
    {
      "cell_type": "code",
      "metadata": {
        "id": "QtvJ2563wVTh",
        "colab_type": "code",
        "outputId": "3e696bb7-d8d7-4d3f-a8d5-dbc6d951f807",
        "colab": {
          "base_uri": "https://localhost:8080/",
          "height": 170
        }
      },
      "source": [
        "print(sentiments)"
      ],
      "execution_count": 163,
      "outputs": [
        {
          "output_type": "stream",
          "text": [
            "[[0. 1.]\n",
            " [0. 1.]\n",
            " [1. 0.]\n",
            " [1. 0.]\n",
            " [0. 1.]\n",
            " [1. 0.]\n",
            " [1. 0.]\n",
            " [0. 1.]\n",
            " [0. 1.]]\n"
          ],
          "name": "stdout"
        }
      ]
    },
    {
      "cell_type": "markdown",
      "metadata": {
        "id": "EHRuGMHMwVTj",
        "colab_type": "text"
      },
      "source": [
        "# Model Universal Sentence Encoder\n",
        "\n"
      ]
    },
    {
      "cell_type": "markdown",
      "metadata": {
        "id": "HDTMDRHr24Ix",
        "colab_type": "text"
      },
      "source": [
        "## Create Model"
      ]
    },
    {
      "cell_type": "code",
      "metadata": {
        "id": "fSAKNePtU6Ki",
        "colab_type": "code",
        "outputId": "fd0ab8e8-3931-412a-fe46-cc3a8bb7aa02",
        "colab": {
          "base_uri": "https://localhost:8080/",
          "height": 34
        }
      },
      "source": [
        "MODEL = \"universal-sentence-encoder\"\n",
        "VERSION = 4\n",
        "URL = \"https://tfhub.dev/google/\"+MODEL+\"/\"+str(VERSION)\n",
        "print (URL)"
      ],
      "execution_count": 308,
      "outputs": [
        {
          "output_type": "stream",
          "text": [
            "https://tfhub.dev/google/universal-sentence-encoder/4\n"
          ],
          "name": "stdout"
        }
      ]
    },
    {
      "cell_type": "code",
      "metadata": {
        "id": "-l4YwXqGwVTk",
        "colab_type": "code",
        "outputId": "beac727d-9a6d-439c-de6c-7710a96fc11e",
        "colab": {
          "base_uri": "https://localhost:8080/",
          "height": 289
        }
      },
      "source": [
        "hub_layer2 = hub.KerasLayer(URL, \n",
        "                           output_shape=[512], \n",
        "                           input_shape=[], \n",
        "                           dtype=tf.string\n",
        "                          )\n",
        "model = keras.Sequential()\n",
        "model.add(hub_layer2)\n",
        "model.add(keras.layers.Dense(64, activation='relu'))\n",
        "model.add(keras.layers.Dropout(0.5))\n",
        "model.add(keras.layers.Dense(2, activation='softmax'))\n",
        "\n",
        "model.summary()"
      ],
      "execution_count": 309,
      "outputs": [
        {
          "output_type": "stream",
          "text": [
            "Model: \"sequential_7\"\n",
            "_________________________________________________________________\n",
            "Layer (type)                 Output Shape              Param #   \n",
            "=================================================================\n",
            "keras_layer_12 (KerasLayer)  (None, 512)               256797824 \n",
            "_________________________________________________________________\n",
            "dense_14 (Dense)             (None, 64)                32832     \n",
            "_________________________________________________________________\n",
            "dropout_7 (Dropout)          (None, 64)                0         \n",
            "_________________________________________________________________\n",
            "dense_15 (Dense)             (None, 2)                 130       \n",
            "=================================================================\n",
            "Total params: 256,830,786\n",
            "Trainable params: 32,962\n",
            "Non-trainable params: 256,797,824\n",
            "_________________________________________________________________\n"
          ],
          "name": "stdout"
        }
      ]
    },
    {
      "cell_type": "code",
      "metadata": {
        "id": "JoAp8MhnwVTm",
        "colab_type": "code",
        "colab": {}
      },
      "source": [
        "model.compile(loss='categorical_crossentropy', optimizer='adam', metrics=['accuracy'])"
      ],
      "execution_count": 0,
      "outputs": []
    },
    {
      "cell_type": "code",
      "metadata": {
        "id": "JMAyz11pwVTn",
        "colab_type": "code",
        "outputId": "c66b8878-3c91-4995-a1ca-8fe6937f10ff",
        "colab": {
          "base_uri": "https://localhost:8080/",
          "height": 176
        }
      },
      "source": [
        "keras.utils.plot_model(model, \n",
        "                       #to_file='model.png',\n",
        "                       show_shapes=True, show_layer_names=True, rankdir='LR', expand_nested=False, dpi=128)"
      ],
      "execution_count": 167,
      "outputs": [
        {
          "output_type": "execute_result",
          "data": {
            "image/png": "[encoded data removed]",
            "text/plain": [
              "<IPython.core.display.Image object>"
            ]
          },
          "metadata": {
            "tags": []
          },
          "execution_count": 167
        }
      ]
    },
    {
      "cell_type": "markdown",
      "metadata": {
        "id": "EKnzwyoQwVTo",
        "colab_type": "text"
      },
      "source": [
        "## Execute Model"
      ]
    },
    {
      "cell_type": "code",
      "metadata": {
        "id": "Zj38BoZ5wVTo",
        "colab_type": "code",
        "outputId": "49ae6e4e-ba3d-406f-c617-7d3642cd7943",
        "colab": {
          "base_uri": "https://localhost:8080/",
          "height": 1000
        }
      },
      "source": [
        "%%time\n",
        "hist = model.fit(X_train, \n",
        "                 y_train, \n",
        "                 epochs=30, \n",
        "                 batch_size=64, \n",
        "                 verbose = 1)\n",
        "# Benchmark time: 21 min for 25 epochs/80 000 records/32 nodes/batch 32\n",
        "# Benchmark time: 10 min for 12 epochs/80 000 records/32 nodes/batch 32\n",
        "# Benchmark time: 6 min for 20 epochs/50 000 records/64 nodes/batch 64\n",
        "# Benchmark time: 10 min for 30 epochs/80 000 records/64 nodes/batch 64"
      ],
      "execution_count": 311,
      "outputs": [
        {
          "output_type": "stream",
          "text": [
            "Train on 80000 samples\n",
            "Epoch 1/30\n",
            "80000/80000 [==============================] - 16s 197us/sample - loss: 0.5153 - accuracy: 0.7472\n",
            "Epoch 2/30\n",
            "80000/80000 [==============================] - 15s 182us/sample - loss: 0.4921 - accuracy: 0.7623\n",
            "Epoch 3/30\n",
            "80000/80000 [==============================] - 15s 181us/sample - loss: 0.4865 - accuracy: 0.7657\n",
            "Epoch 4/30\n",
            "80000/80000 [==============================] - 15s 182us/sample - loss: 0.4815 - accuracy: 0.7689\n",
            "Epoch 5/30\n",
            "80000/80000 [==============================] - 15s 183us/sample - loss: 0.4782 - accuracy: 0.7704\n",
            "Epoch 6/30\n",
            "80000/80000 [==============================] - 15s 185us/sample - loss: 0.4752 - accuracy: 0.7734\n",
            "Epoch 7/30\n",
            "80000/80000 [==============================] - 15s 183us/sample - loss: 0.4719 - accuracy: 0.7763\n",
            "Epoch 8/30\n",
            "80000/80000 [==============================] - 14s 180us/sample - loss: 0.4705 - accuracy: 0.7779\n",
            "Epoch 9/30\n",
            "80000/80000 [==============================] - 15s 187us/sample - loss: 0.4663 - accuracy: 0.7784\n",
            "Epoch 10/30\n",
            "80000/80000 [==============================] - 14s 180us/sample - loss: 0.4639 - accuracy: 0.7805\n",
            "Epoch 11/30\n",
            "80000/80000 [==============================] - 14s 180us/sample - loss: 0.4621 - accuracy: 0.7827\n",
            "Epoch 12/30\n",
            "80000/80000 [==============================] - 15s 182us/sample - loss: 0.4597 - accuracy: 0.7835\n",
            "Epoch 13/30\n",
            "80000/80000 [==============================] - 14s 181us/sample - loss: 0.4575 - accuracy: 0.7843\n",
            "Epoch 14/30\n",
            "80000/80000 [==============================] - 14s 179us/sample - loss: 0.4566 - accuracy: 0.7863\n",
            "Epoch 15/30\n",
            "80000/80000 [==============================] - 14s 180us/sample - loss: 0.4556 - accuracy: 0.7860\n",
            "Epoch 16/30\n",
            "80000/80000 [==============================] - 14s 179us/sample - loss: 0.4536 - accuracy: 0.7883\n",
            "Epoch 17/30\n",
            "80000/80000 [==============================] - 15s 184us/sample - loss: 0.4526 - accuracy: 0.7875\n",
            "Epoch 18/30\n",
            "80000/80000 [==============================] - 14s 180us/sample - loss: 0.4505 - accuracy: 0.7890\n",
            "Epoch 19/30\n",
            "80000/80000 [==============================] - 14s 180us/sample - loss: 0.4491 - accuracy: 0.7898\n",
            "Epoch 20/30\n",
            "80000/80000 [==============================] - 14s 178us/sample - loss: 0.4469 - accuracy: 0.7912\n",
            "Epoch 21/30\n",
            "80000/80000 [==============================] - 14s 179us/sample - loss: 0.4466 - accuracy: 0.7908\n",
            "Epoch 22/30\n",
            "80000/80000 [==============================] - 14s 179us/sample - loss: 0.4451 - accuracy: 0.7920\n",
            "Epoch 23/30\n",
            "80000/80000 [==============================] - 15s 183us/sample - loss: 0.4439 - accuracy: 0.7929\n",
            "Epoch 24/30\n",
            "80000/80000 [==============================] - 14s 179us/sample - loss: 0.4423 - accuracy: 0.7927\n",
            "Epoch 25/30\n",
            "80000/80000 [==============================] - 14s 179us/sample - loss: 0.4415 - accuracy: 0.7940\n",
            "Epoch 26/30\n",
            "80000/80000 [==============================] - 14s 179us/sample - loss: 0.4392 - accuracy: 0.7945\n",
            "Epoch 27/30\n",
            "80000/80000 [==============================] - 14s 179us/sample - loss: 0.4395 - accuracy: 0.7954\n",
            "Epoch 28/30\n",
            "80000/80000 [==============================] - 14s 178us/sample - loss: 0.4381 - accuracy: 0.7966\n",
            "Epoch 29/30\n",
            "80000/80000 [==============================] - 14s 179us/sample - loss: 0.4366 - accuracy: 0.7964\n",
            "Epoch 30/30\n",
            "80000/80000 [==============================] - 15s 181us/sample - loss: 0.4364 - accuracy: 0.7983\n",
            "CPU times: user 10min 11s, sys: 46.6 s, total: 10min 57s\n",
            "Wall time: 7min 15s\n"
          ],
          "name": "stdout"
        }
      ]
    },
    {
      "cell_type": "code",
      "metadata": {
        "id": "XyxfWSFHwVTp",
        "colab_type": "code",
        "outputId": "144b9471-f493-49e4-f8da-f66da968bb51",
        "colab": {
          "base_uri": "https://localhost:8080/",
          "height": 612
        }
      },
      "source": [
        "pd.DataFrame(hist.history).plot(figsize=(10,10))\n",
        "plt.grid(True)\n",
        "plt.show"
      ],
      "execution_count": 328,
      "outputs": [
        {
          "output_type": "execute_result",
          "data": {
            "text/plain": [
              "<function matplotlib.pyplot.show>"
            ]
          },
          "metadata": {
            "tags": []
          },
          "execution_count": 328
        },
        {
          "output_type": "display_data",
          "data": {
            "image/png": "[encoded data removed]",
            "text/plain": [
              "<Figure size 720x720 with 1 Axes>"
            ]
          },
          "metadata": {
            "tags": []
          }
        }
      ]
    },
    {
      "cell_type": "markdown",
      "metadata": {
        "id": "RnBTXA2NwVTq",
        "colab_type": "text"
      },
      "source": [
        "## Evaluate Model Universal Sentence Encoder"
      ]
    },
    {
      "cell_type": "code",
      "metadata": {
        "id": "2pbRjk8zwVTq",
        "colab_type": "code",
        "outputId": "645866a5-76c1-4782-dbe2-90be60291673",
        "colab": {
          "base_uri": "https://localhost:8080/",
          "height": 51
        }
      },
      "source": [
        "accuracy_test = model.evaluate(X_test, y_test, verbose=2)\n",
        "print(accuracy_test)"
      ],
      "execution_count": 329,
      "outputs": [
        {
          "output_type": "stream",
          "text": [
            "4000/1 - 1s - loss: 0.3646 - accuracy: 0.7845\n",
            "[0.4594993982315064, 0.7845]\n"
          ],
          "name": "stdout"
        }
      ]
    },
    {
      "cell_type": "code",
      "metadata": {
        "id": "jROGDIqxwVTr",
        "colab_type": "code",
        "outputId": "c2ded443-a502-4a42-c5b8-c0ed3e054411",
        "colab": {
          "base_uri": "https://localhost:8080/",
          "height": 187
        }
      },
      "source": [
        "print(X_train[0:10])"
      ],
      "execution_count": 330,
      "outputs": [
        {
          "output_type": "stream",
          "text": [
            "['iluvshinything no be not -PRON- . i be wear a pink tank top , black pant and big teal sunglass . close though ha'\n",
            " \"-PRON- year old nephew just email -PRON- ask join -PRON- play mini golf , too bad i have breakfast amp meet amp greet in tyson 's so cute\"\n",
            " 'jscrinc -PRON- do not mess up'\n",
            " 'jennny -PRON- be go to be jealous of -PRON- new iphone theme'\n",
            " 'billharper yes , -PRON- be there be nothing like fresh fruit for lunch'\n",
            " 'back from church , soooooo cold outside even though -PRON- look lovely and warm , instal manga studio now'\n",
            " 'youngq yesterday be ice cream day .. awww'\n",
            " 'i love jamie camille antonio happy year and month'\n",
            " 'iremember ... gun n rose . omg -PRON- be the shit especially slash'\n",
            " 'still rain , and there be a torrent of water from the roof right outside -PRON- bedroom window sound like an elephant have a pee']\n"
          ],
          "name": "stdout"
        }
      ]
    },
    {
      "cell_type": "code",
      "metadata": {
        "id": "C_Ai3OhtwVTu",
        "colab_type": "code",
        "outputId": "31779e20-2ba8-4e50-802f-0e11353bdd48",
        "colab": {
          "base_uri": "https://localhost:8080/",
          "height": 187
        }
      },
      "source": [
        "predictions = model.predict(X_train[:10], batch_size=None, verbose=0)\n",
        "print(predictions.round(0))"
      ],
      "execution_count": 331,
      "outputs": [
        {
          "output_type": "stream",
          "text": [
            "[[0. 1.]\n",
            " [0. 1.]\n",
            " [1. 0.]\n",
            " [1. 0.]\n",
            " [0. 1.]\n",
            " [0. 1.]\n",
            " [0. 1.]\n",
            " [0. 1.]\n",
            " [0. 1.]\n",
            " [1. 0.]]\n"
          ],
          "name": "stdout"
        }
      ]
    },
    {
      "cell_type": "code",
      "metadata": {
        "id": "lIruo6CmwVTv",
        "colab_type": "code",
        "outputId": "7c67ed92-8eb3-466b-f5a3-b6e2eb36c055",
        "colab": {
          "base_uri": "https://localhost:8080/",
          "height": 187
        }
      },
      "source": [
        "y_train[:10]"
      ],
      "execution_count": 332,
      "outputs": [
        {
          "output_type": "execute_result",
          "data": {
            "text/plain": [
              "array([[1., 0.],\n",
              "       [1., 0.],\n",
              "       [1., 0.],\n",
              "       [0., 1.],\n",
              "       [0., 1.],\n",
              "       [0., 1.],\n",
              "       [1., 0.],\n",
              "       [0., 1.],\n",
              "       [0., 1.],\n",
              "       [0., 1.]], dtype=float32)"
            ]
          },
          "metadata": {
            "tags": []
          },
          "execution_count": 332
        }
      ]
    },
    {
      "cell_type": "markdown",
      "metadata": {
        "id": "E2GeFPxdwVTw",
        "colab_type": "text"
      },
      "source": [
        "## Confusion Matrix"
      ]
    },
    {
      "cell_type": "code",
      "metadata": {
        "id": "ZP0LixJSwVTx",
        "colab_type": "code",
        "colab": {}
      },
      "source": [
        "# np.argmax Returns the indices of the maximum values along an axis. \n",
        "y_test_rounded = np.argmax(y_test, axis=1)\n",
        "y_train_rounded = np.argmax(y_train, axis=1)"
      ],
      "execution_count": 0,
      "outputs": []
    },
    {
      "cell_type": "code",
      "metadata": {
        "id": "xssbLrSUwVTy",
        "colab_type": "code",
        "colab": {}
      },
      "source": [
        "y_pred = model.predict(X_train)\n",
        "y_pred_rounded = np.argmax(y_pred, axis=1)"
      ],
      "execution_count": 0,
      "outputs": []
    },
    {
      "cell_type": "code",
      "metadata": {
        "id": "JqeV6GmbwVTz",
        "colab_type": "code",
        "colab": {}
      },
      "source": [
        "cmResults = confusion_matrix(y_train_rounded, y_pred_rounded)\n",
        "accuracy = accuracy_score(y_train_rounded, y_pred_rounded)"
      ],
      "execution_count": 0,
      "outputs": []
    },
    {
      "cell_type": "code",
      "metadata": {
        "id": "ta9T2r9cwVT0",
        "colab_type": "code",
        "outputId": "92e8986f-62ef-448f-baf4-0d52c2fafdf1",
        "colab": {
          "base_uri": "https://localhost:8080/",
          "height": 513
        }
      },
      "source": [
        "# Plot non-normalized confusion matrix \n",
        "class_names = ['Negative', 'Positive']\n",
        "plt.figure(figsize=(7,7));\n",
        "plot_confusion_matrix(cmResults, classes=class_names, \n",
        "                      title=str(MODEL)+ \"\\n\" +\"Accuracy: \" + str((accuracy*100).round(1)) + \"%\" +\"\\n\"+\"Train Data\",\n",
        "                      cmap=plt.cm.Greens);"
      ],
      "execution_count": 337,
      "outputs": [
        {
          "output_type": "display_data",
          "data": {
            "image/png": "[encoded data removed]",
            "text/plain": [
              "<Figure size 504x504 with 2 Axes>"
            ]
          },
          "metadata": {
            "tags": []
          }
        }
      ]
    },
    {
      "cell_type": "code",
      "metadata": {
        "id": "BOfpg65gwVT1",
        "colab_type": "code",
        "colab": {}
      },
      "source": [
        "y_pred = model.predict(X_test)\n",
        "y_pred_rounded = np.argmax(y_pred, axis=1)\n",
        "cmResults = confusion_matrix(y_test_rounded, y_pred_rounded)\n",
        "accuracy = accuracy_score(y_test_rounded, y_pred_rounded)"
      ],
      "execution_count": 0,
      "outputs": []
    },
    {
      "cell_type": "code",
      "metadata": {
        "id": "_2o0dI_twVT2",
        "colab_type": "code",
        "outputId": "b365606a-e7b2-40f8-ef2f-7f79ba647edb",
        "colab": {
          "base_uri": "https://localhost:8080/",
          "height": 513
        }
      },
      "source": [
        "# Plot non-normalized confusion matrix \n",
        "plt.figure(figsize=(7,7));\n",
        "plot_confusion_matrix(cmResults, classes=class_names, \n",
        "                      title=str(MODEL)+ \"\\n\" +\"Accuracy: \" + str((accuracy*100).round(1)) + \"%\" +\"\\n\"+\"Test Data\",\n",
        "                      cmap=plt.cm.Blues);"
      ],
      "execution_count": 339,
      "outputs": [
        {
          "output_type": "display_data",
          "data": {
            "image/png": "[encoded data removed]",
            "text/plain": [
              "<Figure size 504x504 with 2 Axes>"
            ]
          },
          "metadata": {
            "tags": []
          }
        }
      ]
    },
    {
      "cell_type": "markdown",
      "metadata": {
        "id": "TsAOmDKmwVT3",
        "colab_type": "text"
      },
      "source": [
        "## Test the Model with some sentences"
      ]
    },
    {
      "cell_type": "code",
      "metadata": {
        "id": "-3Fp7cmVZ7HA",
        "colab_type": "code",
        "colab": {
          "base_uri": "https://localhost:8080/",
          "height": 153
        },
        "outputId": "1df37be0-20c5-4c0b-edcc-8b1663df3b67"
      },
      "source": [
        "X_input"
      ],
      "execution_count": 323,
      "outputs": [
        {
          "output_type": "execute_result",
          "data": {
            "text/plain": [
              "array(['montreal be a nice city in the summer',\n",
              "       'i have a good feeling about this team',\n",
              "       'the show be not funny ...', 'the dog be angry',\n",
              "       'the food at the restaurant could be well',\n",
              "       'the flight be a long one',\n",
              "       '-PRON- would be nice if the weather be well in montreal',\n",
              "       'the montreal hockey team will be make the playoff',\n",
              "       'the weather in montreal be very nice in the summer'], dtype=object)"
            ]
          },
          "metadata": {
            "tags": []
          },
          "execution_count": 323
        }
      ]
    },
    {
      "cell_type": "code",
      "metadata": {
        "id": "9jsUOcSkwVT4",
        "colab_type": "code",
        "outputId": "859c4011-c6d8-48b0-e5a0-50a72a2d4f12",
        "colab": {
          "base_uri": "https://localhost:8080/",
          "height": 170
        }
      },
      "source": [
        "print(model.predict(X_input).round(0))"
      ],
      "execution_count": 324,
      "outputs": [
        {
          "output_type": "stream",
          "text": [
            "[[1. 0.]\n",
            " [0. 1.]\n",
            " [1. 0.]\n",
            " [1. 0.]\n",
            " [0. 1.]\n",
            " [1. 0.]\n",
            " [1. 0.]\n",
            " [0. 1.]\n",
            " [0. 1.]]\n"
          ],
          "name": "stdout"
        }
      ]
    },
    {
      "cell_type": "code",
      "metadata": {
        "id": "NGgRfbNYZrK6",
        "colab_type": "code",
        "colab": {
          "base_uri": "https://localhost:8080/",
          "height": 34
        },
        "outputId": "75cefbdf-4bc2-4d5e-ea46-ebfe47badcbd"
      },
      "source": [
        "model.predict([\"It would be fun if the weather was nicer\"])"
      ],
      "execution_count": 326,
      "outputs": [
        {
          "output_type": "execute_result",
          "data": {
            "text/plain": [
              "array([[0.34651932, 0.6534807 ]], dtype=float32)"
            ]
          },
          "metadata": {
            "tags": []
          },
          "execution_count": 326
        }
      ]
    },
    {
      "cell_type": "code",
      "metadata": {
        "id": "vPicFHLFwVT5",
        "colab_type": "code",
        "outputId": "3e3c6569-b827-46bf-8b15-84d95c700a1a",
        "colab": {
          "base_uri": "https://localhost:8080/",
          "height": 170
        }
      },
      "source": [
        "print(sentiments)"
      ],
      "execution_count": 327,
      "outputs": [
        {
          "output_type": "stream",
          "text": [
            "[[0. 1.]\n",
            " [0. 1.]\n",
            " [1. 0.]\n",
            " [1. 0.]\n",
            " [1. 0.]\n",
            " [1. 0.]\n",
            " [1. 0.]\n",
            " [0. 1.]\n",
            " [0. 1.]]\n"
          ],
          "name": "stdout"
        }
      ]
    },
    {
      "cell_type": "markdown",
      "metadata": {
        "id": "Mb_-zRmIgLB-",
        "colab_type": "text"
      },
      "source": [
        "# Execute Model without Text Preprocessing"
      ]
    },
    {
      "cell_type": "code",
      "metadata": {
        "colab_type": "code",
        "id": "tTiKoZ7BgoxL",
        "colab": {}
      },
      "source": [
        "X_train = train_set.drop(\"polarity\", axis=1) # drop labels for training set\n",
        "y_train = train_set[\"polarity\"].copy()"
      ],
      "execution_count": 0,
      "outputs": []
    },
    {
      "cell_type": "code",
      "metadata": {
        "colab_type": "code",
        "id": "A4zEhaDIgoxN",
        "colab": {}
      },
      "source": [
        "X_test = test_set.drop(\"polarity\", axis=1) # drop labels for testing datasset\n",
        "y_test = test_set[\"polarity\"].copy()"
      ],
      "execution_count": 0,
      "outputs": []
    },
    {
      "cell_type": "code",
      "metadata": {
        "colab_type": "code",
        "id": "FNe6i2SsggBC",
        "colab": {}
      },
      "source": [
        "# take the first num records for development purposes\n",
        "NUMTRAIN = 80000\n",
        "NUMTEST = 4000\n",
        "X_train = X_train[:NUMTRAIN]\n",
        "X_test = X_test[:NUMTEST]\n",
        "y_train = y_train[:NUMTRAIN]\n",
        "y_test = y_test[:NUMTEST]"
      ],
      "execution_count": 0,
      "outputs": []
    },
    {
      "cell_type": "code",
      "metadata": {
        "colab_type": "code",
        "outputId": "b235475f-157c-45b9-bb2f-e70be101005a",
        "id": "2d3-r2akggBG",
        "colab": {
          "base_uri": "https://localhost:8080/",
          "height": 51
        }
      },
      "source": [
        "print(\"X_train: \" + str(X_train.shape) + str(type(X_train)))\n",
        "print(\"X_test: \"+ str(X_test.shape))"
      ],
      "execution_count": 266,
      "outputs": [
        {
          "output_type": "stream",
          "text": [
            "X_train: (80000, 2)<class 'pandas.core.frame.DataFrame'>\n",
            "X_test: (4000, 2)\n"
          ],
          "name": "stdout"
        }
      ]
    },
    {
      "cell_type": "code",
      "metadata": {
        "colab_type": "code",
        "id": "PTbss0z2gx2n",
        "colab": {}
      },
      "source": [
        "X_train['clean_tweet'] = X_train['tweet']\n",
        "X_test['clean_tweet'] = X_test['tweet']"
      ],
      "execution_count": 0,
      "outputs": []
    },
    {
      "cell_type": "code",
      "metadata": {
        "id": "XeWlNz0NhjQ0",
        "colab_type": "code",
        "colab": {
          "base_uri": "https://localhost:8080/",
          "height": 204
        },
        "outputId": "e0c9e7df-e671-4ae8-d196-42e40127ac0d"
      },
      "source": [
        "X_train.head()"
      ],
      "execution_count": 268,
      "outputs": [
        {
          "output_type": "execute_result",
          "data": {
            "text/html": [
              "<div>\n",
              "<style scoped>\n",
              "    .dataframe tbody tr th:only-of-type {\n",
              "        vertical-align: middle;\n",
              "    }\n",
              "\n",
              "    .dataframe tbody tr th {\n",
              "        vertical-align: top;\n",
              "    }\n",
              "\n",
              "    .dataframe thead th {\n",
              "        text-align: right;\n",
              "    }\n",
              "</style>\n",
              "<table border=\"1\" class=\"dataframe\">\n",
              "  <thead>\n",
              "    <tr style=\"text-align: right;\">\n",
              "      <th></th>\n",
              "      <th>id</th>\n",
              "      <th>tweet</th>\n",
              "      <th>clean_tweet</th>\n",
              "    </tr>\n",
              "  </thead>\n",
              "  <tbody>\n",
              "    <tr>\n",
              "      <th>519968</th>\n",
              "      <td>2191957974</td>\n",
              "      <td>@iluvshinythings no  wasn't me.  I was wearing...</td>\n",
              "      <td>@iluvshinythings no  wasn't me.  I was wearing...</td>\n",
              "    </tr>\n",
              "    <tr>\n",
              "      <th>387493</th>\n",
              "      <td>2054025452</td>\n",
              "      <td>My 9 year old nephew just emailed me asking 2 ...</td>\n",
              "      <td>My 9 year old nephew just emailed me asking 2 ...</td>\n",
              "    </tr>\n",
              "    <tr>\n",
              "      <th>208291</th>\n",
              "      <td>1973686973</td>\n",
              "      <td>@jscrinc she didnt mess up</td>\n",
              "      <td>@jscrinc she didnt mess up</td>\n",
              "    </tr>\n",
              "    <tr>\n",
              "      <th>945933</th>\n",
              "      <td>1822502879</td>\n",
              "      <td>@Jennny0601 you're going to be jealous of my n...</td>\n",
              "      <td>@Jennny0601 you're going to be jealous of my n...</td>\n",
              "    </tr>\n",
              "    <tr>\n",
              "      <th>1328534</th>\n",
              "      <td>2015529570</td>\n",
              "      <td>@BillHarper Yes, they are - there's nothing li...</td>\n",
              "      <td>@BillHarper Yes, they are - there's nothing li...</td>\n",
              "    </tr>\n",
              "  </tbody>\n",
              "</table>\n",
              "</div>"
            ],
            "text/plain": [
              "                 id  ...                                        clean_tweet\n",
              "519968   2191957974  ...  @iluvshinythings no  wasn't me.  I was wearing...\n",
              "387493   2054025452  ...  My 9 year old nephew just emailed me asking 2 ...\n",
              "208291   1973686973  ...                        @jscrinc she didnt mess up \n",
              "945933   1822502879  ...  @Jennny0601 you're going to be jealous of my n...\n",
              "1328534  2015529570  ...  @BillHarper Yes, they are - there's nothing li...\n",
              "\n",
              "[5 rows x 3 columns]"
            ]
          },
          "metadata": {
            "tags": []
          },
          "execution_count": 268
        }
      ]
    },
    {
      "cell_type": "code",
      "metadata": {
        "colab_type": "code",
        "id": "xjStBtRsg_oG",
        "colab": {}
      },
      "source": [
        "X_train = X_train[\"clean_tweet\"].values\n",
        "X_test = X_test[\"clean_tweet\"].values"
      ],
      "execution_count": 0,
      "outputs": []
    },
    {
      "cell_type": "code",
      "metadata": {
        "id": "zk3a-wnnh1wj",
        "colab_type": "code",
        "colab": {
          "base_uri": "https://localhost:8080/",
          "height": 34
        },
        "outputId": "6485c9fc-730e-46b5-84e5-7ccc35bedf4b"
      },
      "source": [
        "X_train.shape"
      ],
      "execution_count": 270,
      "outputs": [
        {
          "output_type": "execute_result",
          "data": {
            "text/plain": [
              "(80000,)"
            ]
          },
          "metadata": {
            "tags": []
          },
          "execution_count": 270
        }
      ]
    },
    {
      "cell_type": "code",
      "metadata": {
        "colab_type": "code",
        "outputId": "fdffba6b-35e4-48d9-b653-c0f19584b0b2",
        "id": "54OwDS1Ri1nh",
        "colab": {
          "base_uri": "https://localhost:8080/",
          "height": 34
        }
      },
      "source": [
        "label_encoder = LabelEncoder()\n",
        "y_train = label_encoder.fit_transform(y_train)\n",
        "y_test = label_encoder.fit_transform(y_test)                     \n",
        "y_train[:5]"
      ],
      "execution_count": 271,
      "outputs": [
        {
          "output_type": "execute_result",
          "data": {
            "text/plain": [
              "array([0, 0, 0, 1, 1])"
            ]
          },
          "metadata": {
            "tags": []
          },
          "execution_count": 271
        }
      ]
    },
    {
      "cell_type": "code",
      "metadata": {
        "colab_type": "code",
        "id": "8WqdWQYbi1nm",
        "colab": {}
      },
      "source": [
        "y_train = keras.utils.to_categorical(y_train)"
      ],
      "execution_count": 0,
      "outputs": []
    },
    {
      "cell_type": "code",
      "metadata": {
        "colab_type": "code",
        "id": "2mM2bVrti1no",
        "colab": {}
      },
      "source": [
        "y_test = keras.utils.to_categorical(y_test)"
      ],
      "execution_count": 0,
      "outputs": []
    },
    {
      "cell_type": "code",
      "metadata": {
        "id": "a92mtxQjh49_",
        "colab_type": "code",
        "colab": {
          "base_uri": "https://localhost:8080/",
          "height": 136
        },
        "outputId": "1e3528ae-d349-4d01-a10e-a0454553720f"
      },
      "source": [
        "y_train"
      ],
      "execution_count": 274,
      "outputs": [
        {
          "output_type": "execute_result",
          "data": {
            "text/plain": [
              "array([[1., 0.],\n",
              "       [1., 0.],\n",
              "       [1., 0.],\n",
              "       ...,\n",
              "       [1., 0.],\n",
              "       [1., 0.],\n",
              "       [0., 1.]], dtype=float32)"
            ]
          },
          "metadata": {
            "tags": []
          },
          "execution_count": 274
        }
      ]
    },
    {
      "cell_type": "code",
      "metadata": {
        "colab_type": "code",
        "outputId": "2bd14128-57e9-473f-e512-9165f7b2da9f",
        "id": "5AsKGH90hMmw",
        "colab": {
          "base_uri": "https://localhost:8080/",
          "height": 1000
        }
      },
      "source": [
        "%%time\n",
        "hist = model.fit(X_train, \n",
        "                 y_train, \n",
        "                 epochs=30, \n",
        "                 batch_size=64, \n",
        "                 verbose = 1)\n",
        "# Benchmark time: 8 min for 30 epochs/80 000 records/64 nodes/batch 64"
      ],
      "execution_count": 275,
      "outputs": [
        {
          "output_type": "stream",
          "text": [
            "Train on 80000 samples\n",
            "Epoch 1/30\n",
            "80000/80000 [==============================] - 15s 184us/sample - loss: 0.4475 - accuracy: 0.7908\n",
            "Epoch 2/30\n",
            "80000/80000 [==============================] - 15s 184us/sample - loss: 0.4386 - accuracy: 0.7966\n",
            "Epoch 3/30\n",
            "80000/80000 [==============================] - 15s 186us/sample - loss: 0.4341 - accuracy: 0.7986\n",
            "Epoch 4/30\n",
            "80000/80000 [==============================] - 15s 183us/sample - loss: 0.4310 - accuracy: 0.8005\n",
            "Epoch 5/30\n",
            "80000/80000 [==============================] - 15s 182us/sample - loss: 0.4266 - accuracy: 0.8022\n",
            "Epoch 6/30\n",
            "80000/80000 [==============================] - 15s 182us/sample - loss: 0.4249 - accuracy: 0.8032\n",
            "Epoch 7/30\n",
            "80000/80000 [==============================] - 15s 183us/sample - loss: 0.4238 - accuracy: 0.8038\n",
            "Epoch 8/30\n",
            "80000/80000 [==============================] - 15s 181us/sample - loss: 0.4216 - accuracy: 0.8048\n",
            "Epoch 9/30\n",
            "80000/80000 [==============================] - 15s 185us/sample - loss: 0.4196 - accuracy: 0.8066\n",
            "Epoch 10/30\n",
            "80000/80000 [==============================] - 15s 183us/sample - loss: 0.4188 - accuracy: 0.8075\n",
            "Epoch 11/30\n",
            "80000/80000 [==============================] - 14s 181us/sample - loss: 0.4172 - accuracy: 0.8076\n",
            "Epoch 12/30\n",
            "80000/80000 [==============================] - 14s 181us/sample - loss: 0.4151 - accuracy: 0.8098\n",
            "Epoch 13/30\n",
            "80000/80000 [==============================] - 14s 179us/sample - loss: 0.4122 - accuracy: 0.8114\n",
            "Epoch 14/30\n",
            "80000/80000 [==============================] - 15s 182us/sample - loss: 0.4124 - accuracy: 0.8118\n",
            "Epoch 15/30\n",
            "80000/80000 [==============================] - 14s 180us/sample - loss: 0.4115 - accuracy: 0.8115\n",
            "Epoch 16/30\n",
            "80000/80000 [==============================] - 14s 181us/sample - loss: 0.4113 - accuracy: 0.8123\n",
            "Epoch 17/30\n",
            "80000/80000 [==============================] - 14s 181us/sample - loss: 0.4074 - accuracy: 0.8140\n",
            "Epoch 18/30\n",
            "80000/80000 [==============================] - 15s 182us/sample - loss: 0.4069 - accuracy: 0.8141\n",
            "Epoch 19/30\n",
            "80000/80000 [==============================] - 15s 183us/sample - loss: 0.4039 - accuracy: 0.8141\n",
            "Epoch 20/30\n",
            "80000/80000 [==============================] - 15s 187us/sample - loss: 0.4030 - accuracy: 0.8149\n",
            "Epoch 21/30\n",
            "80000/80000 [==============================] - 15s 187us/sample - loss: 0.4037 - accuracy: 0.8155\n",
            "Epoch 22/30\n",
            "80000/80000 [==============================] - 15s 183us/sample - loss: 0.4040 - accuracy: 0.8148\n",
            "Epoch 23/30\n",
            "80000/80000 [==============================] - 14s 181us/sample - loss: 0.4004 - accuracy: 0.8175\n",
            "Epoch 24/30\n",
            "80000/80000 [==============================] - 15s 182us/sample - loss: 0.3995 - accuracy: 0.8166\n",
            "Epoch 25/30\n",
            "80000/80000 [==============================] - 15s 184us/sample - loss: 0.3971 - accuracy: 0.8179\n",
            "Epoch 26/30\n",
            "80000/80000 [==============================] - 15s 184us/sample - loss: 0.3987 - accuracy: 0.8171\n",
            "Epoch 27/30\n",
            "80000/80000 [==============================] - 15s 182us/sample - loss: 0.3968 - accuracy: 0.8191\n",
            "Epoch 28/30\n",
            "80000/80000 [==============================] - 15s 182us/sample - loss: 0.3988 - accuracy: 0.8175\n",
            "Epoch 29/30\n",
            "80000/80000 [==============================] - 15s 181us/sample - loss: 0.3958 - accuracy: 0.8199\n",
            "Epoch 30/30\n",
            "80000/80000 [==============================] - 15s 182us/sample - loss: 0.3945 - accuracy: 0.8198\n",
            "CPU times: user 10min 16s, sys: 46.7 s, total: 11min 3s\n",
            "Wall time: 7min 18s\n"
          ],
          "name": "stdout"
        }
      ]
    },
    {
      "cell_type": "code",
      "metadata": {
        "id": "t7jKFStlk05Z",
        "colab_type": "code",
        "colab": {
          "base_uri": "https://localhost:8080/",
          "height": 51
        },
        "outputId": "5538dd0d-9803-45ee-8950-243e370db1eb"
      },
      "source": [
        "accuracy_test = model.evaluate(X_test, y_test, verbose=2)\n",
        "print(accuracy_test)"
      ],
      "execution_count": 276,
      "outputs": [
        {
          "output_type": "stream",
          "text": [
            "4000/1 - 1s - loss: 0.3558 - accuracy: 0.8048\n",
            "[0.4372045520544052, 0.80475]\n"
          ],
          "name": "stdout"
        }
      ]
    },
    {
      "cell_type": "code",
      "metadata": {
        "colab_type": "code",
        "outputId": "9081d641-116f-4334-a03f-c9e0d62ea53a",
        "id": "NZ4N7PCAlDHa",
        "colab": {
          "base_uri": "https://localhost:8080/",
          "height": 170
        }
      },
      "source": [
        "print(model.predict(X_input).round(0))"
      ],
      "execution_count": 277,
      "outputs": [
        {
          "output_type": "stream",
          "text": [
            "[[0. 1.]\n",
            " [0. 1.]\n",
            " [1. 0.]\n",
            " [1. 0.]\n",
            " [0. 1.]\n",
            " [1. 0.]\n",
            " [0. 1.]\n",
            " [0. 1.]\n",
            " [0. 1.]]\n"
          ],
          "name": "stdout"
        }
      ]
    },
    {
      "cell_type": "code",
      "metadata": {
        "colab_type": "code",
        "outputId": "6f1580a7-cbd7-411c-90a7-04e5763954ac",
        "id": "hDJxjJrPlDHf",
        "colab": {
          "base_uri": "https://localhost:8080/",
          "height": 34
        }
      },
      "source": [
        "model.predict([\"It would be bad if the drink be not good\"])"
      ],
      "execution_count": 285,
      "outputs": [
        {
          "output_type": "execute_result",
          "data": {
            "text/plain": [
              "array([[0.71672434, 0.28327566]], dtype=float32)"
            ]
          },
          "metadata": {
            "tags": []
          },
          "execution_count": 285
        }
      ]
    },
    {
      "cell_type": "code",
      "metadata": {
        "colab_type": "code",
        "outputId": "462bcbd6-b61e-4dd3-93d9-b14b79eab6b6",
        "id": "uBcX_j7vlDHh",
        "colab": {
          "base_uri": "https://localhost:8080/",
          "height": 170
        }
      },
      "source": [
        "print(sentiments)"
      ],
      "execution_count": 279,
      "outputs": [
        {
          "output_type": "stream",
          "text": [
            "[[0. 1.]\n",
            " [0. 1.]\n",
            " [1. 0.]\n",
            " [1. 0.]\n",
            " [1. 0.]\n",
            " [1. 0.]\n",
            " [1. 0.]\n",
            " [0. 1.]\n",
            " [0. 1.]]\n"
          ],
          "name": "stdout"
        }
      ]
    },
    {
      "cell_type": "markdown",
      "metadata": {
        "id": "ZTERun3KwVT6",
        "colab_type": "text"
      },
      "source": [
        "# Save Keras Model"
      ]
    },
    {
      "cell_type": "code",
      "metadata": {
        "id": "Zy3jsEnGwVT7",
        "colab_type": "code",
        "outputId": "f4c16548-2229-4d3e-a045-89860f3eba4a",
        "colab": {
          "base_uri": "https://localhost:8080/",
          "height": 190
        }
      },
      "source": [
        "# save model and architecture to single file\n",
        "model_version = \"0001\"\n",
        "model_name = \"JP_sentiment_analysis_service\"\n",
        "model_path = os.path.join(model_name, model_version)\n",
        "tf.saved_model.save(model, model_path)\n",
        "print(\"Saved model to disk\")"
      ],
      "execution_count": 204,
      "outputs": [
        {
          "output_type": "stream",
          "text": [
            "WARNING:tensorflow:From /usr/local/lib/python3.6/dist-packages/tensorflow_core/python/ops/resource_variable_ops.py:1781: calling BaseResourceVariable.__init__ (from tensorflow.python.ops.resource_variable_ops) with constraint is deprecated and will be removed in a future version.\n",
            "Instructions for updating:\n",
            "If using Keras pass *_constraint arguments to layers.\n"
          ],
          "name": "stdout"
        },
        {
          "output_type": "stream",
          "text": [
            "WARNING:tensorflow:From /usr/local/lib/python3.6/dist-packages/tensorflow_core/python/ops/resource_variable_ops.py:1781: calling BaseResourceVariable.__init__ (from tensorflow.python.ops.resource_variable_ops) with constraint is deprecated and will be removed in a future version.\n",
            "Instructions for updating:\n",
            "If using Keras pass *_constraint arguments to layers.\n"
          ],
          "name": "stderr"
        },
        {
          "output_type": "stream",
          "text": [
            "INFO:tensorflow:Assets written to: JP_sentiment_analysis_service/0001/assets\n"
          ],
          "name": "stdout"
        },
        {
          "output_type": "stream",
          "text": [
            "INFO:tensorflow:Assets written to: JP_sentiment_analysis_service/0001/assets\n"
          ],
          "name": "stderr"
        },
        {
          "output_type": "stream",
          "text": [
            "Saved model to disk\n"
          ],
          "name": "stdout"
        }
      ]
    },
    {
      "cell_type": "code",
      "metadata": {
        "id": "2gA2ZkdAwVT8",
        "colab_type": "code",
        "outputId": "efa91507-e7ee-491c-e7d9-a53a63469e8d",
        "colab": {
          "base_uri": "https://localhost:8080/",
          "height": 51
        }
      },
      "source": [
        "!saved_model_cli show --dir {model_path}"
      ],
      "execution_count": 205,
      "outputs": [
        {
          "output_type": "stream",
          "text": [
            "The given SavedModel contains the following tag-sets:\n",
            "serve\n"
          ],
          "name": "stdout"
        }
      ]
    },
    {
      "cell_type": "code",
      "metadata": {
        "id": "PZ0Ad5yWwVT9",
        "colab_type": "code",
        "outputId": "869adb53-c2f0-464e-82bf-3451a30979ee",
        "colab": {
          "base_uri": "https://localhost:8080/",
          "height": 68
        }
      },
      "source": [
        "!saved_model_cli show --dir {model_path} --tag_set serve"
      ],
      "execution_count": 206,
      "outputs": [
        {
          "output_type": "stream",
          "text": [
            "The given SavedModel MetaGraphDef contains SignatureDefs with the following keys:\n",
            "SignatureDef key: \"__saved_model_init_op\"\n",
            "SignatureDef key: \"serving_default\"\n"
          ],
          "name": "stdout"
        }
      ]
    },
    {
      "cell_type": "code",
      "metadata": {
        "id": "78epyp--wVT_",
        "colab_type": "code",
        "outputId": "015f3083-779f-46bc-aed5-74ab34bbd5d3",
        "colab": {
          "base_uri": "https://localhost:8080/",
          "height": 204
        }
      },
      "source": [
        "!saved_model_cli show --dir {model_path} --tag_set serve \\\n",
        "                      --signature_def serving_default"
      ],
      "execution_count": 207,
      "outputs": [
        {
          "output_type": "stream",
          "text": [
            "The given SavedModel SignatureDef contains the following input(s):\n",
            "  inputs['keras_layer_11_input'] tensor_info:\n",
            "      dtype: DT_STRING\n",
            "      shape: (-1)\n",
            "      name: serving_default_keras_layer_11_input:0\n",
            "The given SavedModel SignatureDef contains the following output(s):\n",
            "  outputs['dense_13'] tensor_info:\n",
            "      dtype: DT_FLOAT\n",
            "      shape: (-1, 2)\n",
            "      name: StatefulPartitionedCall_1:0\n",
            "Method name is: tensorflow/serving/predict\n"
          ],
          "name": "stdout"
        }
      ]
    },
    {
      "cell_type": "code",
      "metadata": {
        "id": "7iqZcvzrwVUA",
        "colab_type": "code",
        "outputId": "09f0488a-df94-467d-8f45-139fb2ec3559",
        "colab": {
          "base_uri": "https://localhost:8080/",
          "height": 425
        }
      },
      "source": [
        "!saved_model_cli show --dir {model_path} --all"
      ],
      "execution_count": 208,
      "outputs": [
        {
          "output_type": "stream",
          "text": [
            "\n",
            "MetaGraphDef with tag-set: 'serve' contains the following SignatureDefs:\n",
            "\n",
            "signature_def['__saved_model_init_op']:\n",
            "  The given SavedModel SignatureDef contains the following input(s):\n",
            "  The given SavedModel SignatureDef contains the following output(s):\n",
            "    outputs['__saved_model_init_op'] tensor_info:\n",
            "        dtype: DT_INVALID\n",
            "        shape: unknown_rank\n",
            "        name: NoOp\n",
            "  Method name is: \n",
            "\n",
            "signature_def['serving_default']:\n",
            "  The given SavedModel SignatureDef contains the following input(s):\n",
            "    inputs['keras_layer_11_input'] tensor_info:\n",
            "        dtype: DT_STRING\n",
            "        shape: (-1)\n",
            "        name: serving_default_keras_layer_11_input:0\n",
            "  The given SavedModel SignatureDef contains the following output(s):\n",
            "    outputs['dense_13'] tensor_info:\n",
            "        dtype: DT_FLOAT\n",
            "        shape: (-1, 2)\n",
            "        name: StatefulPartitionedCall_1:0\n",
            "  Method name is: tensorflow/serving/predict\n"
          ],
          "name": "stdout"
        }
      ]
    },
    {
      "cell_type": "markdown",
      "metadata": {
        "id": "Wbj6HAAhwVUE",
        "colab_type": "text"
      },
      "source": [
        "# Copy Model to Google Storage (Bucket)"
      ]
    },
    {
      "cell_type": "code",
      "metadata": {
        "id": "broxbvYDwVUE",
        "colab_type": "code",
        "colab": {}
      },
      "source": [
        "import sys\n",
        "\n",
        "if 'google.colab' in sys.modules:\n",
        "  from google.colab import auth as google_auth\n",
        "  google_auth.authenticate_user()\n",
        "else:\n",
        "  %env GOOGLE_APPLICATION_CREDENTIALS ''"
      ],
      "execution_count": 0,
      "outputs": []
    },
    {
      "cell_type": "code",
      "metadata": {
        "id": "LrsFpD37wVUF",
        "colab_type": "code",
        "outputId": "6537bda4-cf1f-4711-8219-286ebb234b49",
        "colab": {
          "base_uri": "https://localhost:8080/",
          "height": 51
        }
      },
      "source": [
        "PROJECT_ID = \"utopian-rush-255612\" #@param {type:\"string\"}\n",
        "\n",
        "# This must absolutely be a GLOBALLY UNIQUE name\n",
        "BUCKET_NAME = \"utopian-rush-255612-bucket_ml2\" #@param {type:\"string\"}\n",
        "REGION = \"us-east1\" #@param {type:\"string\"}\n",
        "\n",
        "! gcloud config set project $PROJECT_ID\n",
        "! echo $PROJECT_ID"
      ],
      "execution_count": 210,
      "outputs": [
        {
          "output_type": "stream",
          "text": [
            "Updated property [core/project].\n",
            "utopian-rush-255612\n"
          ],
          "name": "stdout"
        }
      ]
    },
    {
      "cell_type": "code",
      "metadata": {
        "id": "nt_w-t7twVUG",
        "colab_type": "code",
        "outputId": "6291ec89-7a1e-4e14-c50c-04075d6b6fa1",
        "colab": {
          "base_uri": "https://localhost:8080/",
          "height": 34
        }
      },
      "source": [
        "# Create Bucket\n",
        "\n",
        "! gsutil mb -p $PROJECT_ID -l $REGION gs://$BUCKET_NAME\n",
        "# Display what is in the bucket\n",
        "!gsutil ls -al gs://$BUCKET_NAME"
      ],
      "execution_count": 211,
      "outputs": [
        {
          "output_type": "stream",
          "text": [
            "Creating gs://utopian-rush-255612-bucket_ml2/...\n"
          ],
          "name": "stdout"
        }
      ]
    },
    {
      "cell_type": "code",
      "metadata": {
        "id": "1Mvp5It7wVUH",
        "colab_type": "code",
        "colab": {}
      },
      "source": [
        "JOB_DIR = 'gs://' + BUCKET_NAME + '/my_sentiment_analysis_model'"
      ],
      "execution_count": 0,
      "outputs": []
    },
    {
      "cell_type": "code",
      "metadata": {
        "id": "voqIjnDtwVUK",
        "colab_type": "code",
        "colab": {
          "base_uri": "https://localhost:8080/",
          "height": 68
        },
        "outputId": "08b3ddb6-e0c3-406b-8246-f2199178d1f0"
      },
      "source": [
        "# Export the model to a local SavedModel directory \n",
        "# export_path = tf.contrib.saved_model.save_keras_model(model, 'keras_export')\n",
        "# print(\"Model exported to: \", export_path)\n",
        "\n",
        "# Export the model to a SavedModel directory in Cloud Storage\n",
        "export_path = tf.saved_model.save(model, JOB_DIR + '/0001')\n",
        "print(\"Model exported to: \", export_path)"
      ],
      "execution_count": 213,
      "outputs": [
        {
          "output_type": "stream",
          "text": [
            "INFO:tensorflow:Assets written to: gs://utopian-rush-255612-bucket_ml2/my_sentiment_analysis_model/0001/assets\n"
          ],
          "name": "stdout"
        },
        {
          "output_type": "stream",
          "text": [
            "INFO:tensorflow:Assets written to: gs://utopian-rush-255612-bucket_ml2/my_sentiment_analysis_model/0001/assets\n"
          ],
          "name": "stderr"
        },
        {
          "output_type": "stream",
          "text": [
            "Model exported to:  None\n"
          ],
          "name": "stdout"
        }
      ]
    },
    {
      "cell_type": "markdown",
      "metadata": {
        "id": "K7QgHPaYwVUP",
        "colab_type": "text"
      },
      "source": [
        "# Create the Model in the AI Platform"
      ]
    },
    {
      "cell_type": "code",
      "metadata": {
        "id": "fkqC3Yj7wVUP",
        "colab_type": "code",
        "outputId": "4506a7a1-8d74-4614-f076-495ca6555ba1",
        "colab": {
          "base_uri": "https://localhost:8080/",
          "height": 34
        }
      },
      "source": [
        "MODEL_NAME = \"sa_final_project\"\n",
        "\n",
        "! gcloud ai-platform models create $MODEL_NAME --regions $REGION"
      ],
      "execution_count": 214,
      "outputs": [
        {
          "output_type": "stream",
          "text": [
            "Created ml engine model [projects/utopian-rush-255612/models/sa_final_project].\n"
          ],
          "name": "stdout"
        }
      ]
    },
    {
      "cell_type": "markdown",
      "metadata": {
        "id": "5nSXSaiXwVUQ",
        "colab_type": "text"
      },
      "source": [
        "# Create the Version of the Model in AI Platform"
      ]
    },
    {
      "cell_type": "code",
      "metadata": {
        "id": "mwupoV50fBlj",
        "colab_type": "code",
        "colab": {
          "base_uri": "https://localhost:8080/",
          "height": 139
        },
        "outputId": "c8ad1f5b-3f08-4778-aec8-5eaa7ece2a12"
      },
      "source": [
        "! gcloud ai-platform versions create v1 \\\n",
        "  --model $MODEL_NAME \\\n",
        "  --runtime-version 1.14 \\\n",
        "  --python-version 3.5 \\\n",
        "  --framework tensorflow \\\n",
        "  --origin gs://utopian-rush-255612-bucket_ml2/my_sentiment_analysis_model/0001/"
      ],
      "execution_count": 215,
      "outputs": [
        {
          "output_type": "stream",
          "text": [
            "\u001b[1;31mERROR:\u001b[0m (gcloud.ai-platform.versions.create) FAILED_PRECONDITION: Field: version.deployment_uri Error: The total size of files in gs://utopian-rush-255612-bucket_ml2/my_sentiment_analysis_model/0001/ is 1036419276 bytes, which exceeds the allowed maximum of 524288000 bytes.\n",
            "- '@type': type.googleapis.com/google.rpc.BadRequest\n",
            "  fieldViolations:\n",
            "  - description: The total size of files in gs://utopian-rush-255612-bucket_ml2/my_sentiment_analysis_model/0001/\n",
            "      is 1036419276 bytes, which exceeds the allowed maximum of 524288000 bytes.\n",
            "    field: version.deployment_uri\n"
          ],
          "name": "stdout"
        }
      ]
    }
  ]
}